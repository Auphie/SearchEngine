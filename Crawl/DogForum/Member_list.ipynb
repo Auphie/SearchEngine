{
 "cells": [
  {
   "cell_type": "code",
   "execution_count": 13,
   "metadata": {
    "collapsed": true
   },
   "outputs": [],
   "source": [
    "import rethinkdb as r\n",
    "conn = r.connect(db='Dogforum')"
   ]
  },
  {
   "cell_type": "code",
   "execution_count": 14,
   "metadata": {
    "scrolled": false
   },
   "outputs": [
    {
     "data": {
      "text/plain": [
       "['Breeds',\n",
       " 'DogDetail',\n",
       " 'Dog_Health',\n",
       " 'Food',\n",
       " 'Gear_supplies',\n",
       " 'General_Discussion',\n",
       " 'Grooming',\n",
       " 'Introductions',\n",
       " 'Memorials',\n",
       " 'New_Additions',\n",
       " 'Perform_sports',\n",
       " 'Train_Behavior']"
      ]
     },
     "execution_count": 14,
     "metadata": {},
     "output_type": "execute_result"
    }
   ],
   "source": [
    "tables = r.table_list().run(conn)\n",
    "tables"
   ]
  },
  {
   "cell_type": "code",
   "execution_count": 15,
   "metadata": {
    "collapsed": true
   },
   "outputs": [],
   "source": [
    "combine_url = []"
   ]
  },
  {
   "cell_type": "code",
   "execution_count": 16,
   "metadata": {
    "collapsed": true
   },
   "outputs": [],
   "source": [
    "for table_num in range(0, len(tables)):\n",
    "    cursor = r.table(tables[table_num]).pluck('author_url').distinct().run(conn)\n",
    "    for num in range(0, len(cursor)):\n",
    "        for url in cursor[num].values():\n",
    "            combine_url.append(url)\n",
    "    "
   ]
  },
  {
   "cell_type": "code",
   "execution_count": 17,
   "metadata": {},
   "outputs": [
    {
     "data": {
      "text/plain": [
       "37520"
      ]
     },
     "execution_count": 17,
     "metadata": {},
     "output_type": "execute_result"
    }
   ],
   "source": [
    "len(combine_url)"
   ]
  },
  {
   "cell_type": "code",
   "execution_count": 18,
   "metadata": {},
   "outputs": [
    {
     "data": {
      "text/plain": [
       "20504"
      ]
     },
     "execution_count": 18,
     "metadata": {},
     "output_type": "execute_result"
    }
   ],
   "source": [
    "member_url = set(combine_url)\n",
    "len(member_url)"
   ]
  },
  {
   "cell_type": "code",
   "execution_count": 19,
   "metadata": {},
   "outputs": [
    {
     "data": {
      "text/plain": [
       "['http://www.dogforum.com/members/128001/',\n",
       " 'http://www.dogforum.com/members/166050/',\n",
       " 'http://www.dogforum.com/members/16644/',\n",
       " 'http://www.dogforum.com/members/186714/',\n",
       " 'http://www.dogforum.com/members/165089/',\n",
       " 'http://www.dogforum.com/members/154641/',\n",
       " 'http://www.dogforum.com/members/11268/',\n",
       " 'http://www.dogforum.com/members/11329/',\n",
       " 'http://www.dogforum.com/members/112842/',\n",
       " 'http://www.dogforum.com/members/76306/']"
      ]
     },
     "execution_count": 19,
     "metadata": {},
     "output_type": "execute_result"
    }
   ],
   "source": [
    "list(member_url)[:10]"
   ]
  }
 ],
 "metadata": {
  "kernelspec": {
   "display_name": "Python 3",
   "language": "python",
   "name": "python3"
  },
  "language_info": {
   "codemirror_mode": {
    "name": "ipython",
    "version": 3
   },
   "file_extension": ".py",
   "mimetype": "text/x-python",
   "name": "python",
   "nbconvert_exporter": "python",
   "pygments_lexer": "ipython3",
   "version": "3.6.3"
  }
 },
 "nbformat": 4,
 "nbformat_minor": 2
}
