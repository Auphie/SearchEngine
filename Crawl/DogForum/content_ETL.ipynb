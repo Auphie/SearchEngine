{
 "cells": [
  {
   "cell_type": "code",
   "execution_count": 2,
   "metadata": {
    "collapsed": true
   },
   "outputs": [],
   "source": [
    "import re\n",
    "import json\n",
    "import pytz\n",
    "import time\n",
    "import requests\n",
    "import random\n",
    "from fake_useragent import UserAgent\n",
    "from celery import Celery\n",
    "from bs4 import BeautifulSoup\n",
    "from fake_useragent import UserAgent\n",
    "import rethinkdb as r\n",
    "from pymongo import MongoClient\n",
    "from bson.objectid import ObjectId"
   ]
  },
  {
   "cell_type": "code",
   "execution_count": 3,
   "metadata": {
    "collapsed": true
   },
   "outputs": [],
   "source": [
    "def random_header(url):\n",
    "    ua = UserAgent()\n",
    "    random_header = json.loads(r'''{\n",
    "    \"Cache-Control\": \"max-age=0\",\n",
    "    \"Connection\": \"keep-alive\",\n",
    "    \"Host\": \"www.dogforum.com\",\n",
    "    \"Upgrade-Insecure-Requests\": \"1\",\n",
    "    \"User-Agent\":\"%s\"\n",
    "    }'''%ua.random)\n",
    "    random_header[\"Referer\"] = url\n",
    "    return random_header"
   ]
  },
  {
   "cell_type": "code",
   "execution_count": null,
   "metadata": {
    "collapsed": true
   },
   "outputs": [],
   "source": [
    "title_url = 'http://www.dogforum.com/dog-health/ladybugs-339090/'\n",
    "page = 2\n",
    "title = 'test'\n",
    "resp = requests.get(title_url, headers=random_header(title_url))\n",
    "resp.encoding = 'cp1252'\n",
    "soup = BeautifulSoup(resp.text, 'lxml')"
   ]
  },
  {
   "cell_type": "code",
   "execution_count": null,
   "metadata": {
    "collapsed": true
   },
   "outputs": [],
   "source": [
    "soup.select('meta')"
   ]
  },
  {
   "cell_type": "code",
   "execution_count": null,
   "metadata": {
    "collapsed": true
   },
   "outputs": [],
   "source": [
    "soup.select('.tborder.vbseo_like_postbit')"
   ]
  },
  {
   "cell_type": "code",
   "execution_count": null,
   "metadata": {
    "collapsed": true
   },
   "outputs": [],
   "source": [
    "re.findall('http://www.dogforum.com/(.*)',title_url)[0]"
   ]
  },
  {
   "cell_type": "code",
   "execution_count": null,
   "metadata": {
    "collapsed": true,
    "scrolled": true
   },
   "outputs": [],
   "source": [
    "len(soup.select('.tborder.vbseo_like_postbit'))"
   ]
  },
  {
   "cell_type": "markdown",
   "metadata": {},
   "source": [
    "# Deal with quotation"
   ]
  },
  {
   "cell_type": "code",
   "execution_count": null,
   "metadata": {
    "collapsed": true
   },
   "outputs": [],
   "source": [
    "[x.extract() for x in soup.select_one('.jobname_title').select('span')]"
   ]
  },
  {
   "cell_type": "code",
   "execution_count": null,
   "metadata": {
    "collapsed": true,
    "scrolled": true
   },
   "outputs": [],
   "source": [
    "# method 1\n",
    "quotation = []\n",
    "quote = soup.select('.tborder.vbseo_like_postbit')[6].findAll(id=re.compile(\"^post_message_\"))[0].select('td.alt2')\n",
    "for qno in range(0,len(quote)):\n",
    "    quotation.append(quote[qno].text.strip())\n",
    "quotation"
   ]
  },
  {
   "cell_type": "code",
   "execution_count": null,
   "metadata": {
    "collapsed": true,
    "scrolled": true
   },
   "outputs": [],
   "source": [
    "# method 2\n",
    "quotation = [y.text.strip() for y in soup.select('.tborder.vbseo_like_postbit')[6].findAll(id=re.compile(\"^post_message_\"))[0].select('td.alt2')]\n",
    "quotation"
   ]
  },
  {
   "cell_type": "markdown",
   "metadata": {},
   "source": [
    "# Method 2: quicky way to deal with content"
   ]
  },
  {
   "cell_type": "code",
   "execution_count": null,
   "metadata": {
    "collapsed": true,
    "scrolled": true
   },
   "outputs": [],
   "source": [
    "# extract quotations\n",
    "[quo.extract() for quo in soup.select('.tborder.vbseo_like_postbit')[0].findAll(id=re.compile(\"^post_message_\"))[0].select('td.alt2')]\n",
    "soup.select('.tborder.vbseo_like_postbit')[0].findAll(id=re.compile(\"^post_message_\"))[0].text.strip().replace('Quote: ','[...quotation...]')"
   ]
  },
  {
   "cell_type": "markdown",
   "metadata": {},
   "source": [
    "### Something dirty in tag that can't be removed via extract quotation only. Must do extraction of div then."
   ]
  },
  {
   "cell_type": "code",
   "execution_count": null,
   "metadata": {
    "collapsed": true
   },
   "outputs": [],
   "source": [
    "[quo.extract() for quo in soup.select('.tborder.vbseo_like_postbit')[0].findAll(id=re.compile(\"^post_message_\"))[0].select('td.alt2')]\n",
    "div = soup.select('.tborder.vbseo_like_postbit')[0].findAll(id=re.compile(\"^post_message_\"))[0]\n",
    "[a.extract() for a in div.select('div')]\n",
    "soup.select('.tborder.vbseo_like_postbit')[0].findAll(id=re.compile(\"^post_message_\"))[0].text"
   ]
  },
  {
   "cell_type": "code",
   "execution_count": null,
   "metadata": {
    "collapsed": true
   },
   "outputs": [],
   "source": [
    "[quo.extract() for quo in soup.select('.tborder.vbseo_like_postbit')[6].findAll(id=re.compile(\"^post_message_\"))[0].select('td.alt2')]\n",
    "soup.select('.tborder.vbseo_like_postbit')[6].findAll(id=re.compile(\"^post_message_\"))[0].text.strip().replace('Quote: ','[...quotation...]')"
   ]
  },
  {
   "cell_type": "markdown",
   "metadata": {
    "scrolled": false
   },
   "source": [
    "###  However, [...quotation...] will be eliminated after extract div... sigh"
   ]
  },
  {
   "cell_type": "code",
   "execution_count": null,
   "metadata": {
    "collapsed": true
   },
   "outputs": [],
   "source": [
    "[quo.extract() for quo in soup.select('.tborder.vbseo_like_postbit')[0].findAll(id=re.compile(\"^post_message_\"))[0].select('td.alt2')]\n",
    "div = soup.select('.tborder.vbseo_like_postbit')[6].findAll(id=re.compile(\"^post_message_\"))[0]\n",
    "[a.extract() for a in div.select('div')]\n",
    "soup.select('.tborder.vbseo_like_postbit')[6].findAll(id=re.compile(\"^post_message_\"))[0].text"
   ]
  },
  {
   "cell_type": "markdown",
   "metadata": {},
   "source": [
    "# practice method 1 (but not necessary)"
   ]
  },
  {
   "cell_type": "code",
   "execution_count": null,
   "metadata": {
    "collapsed": true
   },
   "outputs": [],
   "source": [
    "title_url = 'http://www.dogforum.com/dog-health/what-parvo-5256/page2/'\n",
    "resp = requests.get(title_url, headers=random_header(title_url))\n",
    "resp.encoding = 'cp1252'\n",
    "soup = BeautifulSoup(resp.text, 'lxml')"
   ]
  },
  {
   "cell_type": "code",
   "execution_count": null,
   "metadata": {
    "collapsed": true
   },
   "outputs": [],
   "source": [
    "quote = soup.select('.tborder.vbseo_like_postbit')[6].findAll(id=re.compile(\"^post_message_\"))[0].select('td.alt2')\n",
    "quotation = []\n",
    "for qno in range(0,len(quote)):\n",
    "    quotation.append(quote[qno].text.strip())\n",
    "quotation"
   ]
  },
  {
   "cell_type": "code",
   "execution_count": null,
   "metadata": {
    "collapsed": true
   },
   "outputs": [],
   "source": [
    "a = soup.select('.tborder.vbseo_like_postbit')[6].find(\"div\", id=re.compile(\"^post_message_\"))\n",
    "quote = soup.select('.tborder.vbseo_like_postbit')[6].findAll(id=re.compile(\"^post_message_\"))[0].select('td.alt2')\n",
    "quotation = []\n",
    "\n",
    "if len(quote) > 0:\n",
    "    for quo_no in range(0, len(quote)):\n",
    "        a.select('td.alt2')[0].extract()\n",
    "    print(a.text)\n",
    "else:\n",
    "    print(a.text)"
   ]
  },
  {
   "cell_type": "code",
   "execution_count": null,
   "metadata": {
    "collapsed": true
   },
   "outputs": [],
   "source": [
    "a = soup.select('.tborder.vbseo_like_postbit')[6].find(\"div\", id=re.compile(\"^post_message_\"))\n",
    "quote = soup.select('.tborder.vbseo_like_postbit')[6].findAll(id=re.compile(\"^post_message_\"))[0].select('td.alt2')\n",
    "quotation = []\n",
    "\n",
    "if len(quote) > 0:\n",
    "    for qno in range(0,len(quote)):\n",
    "        quotation.append(quote[qno].text.strip())\n",
    "    for quo_no in range(0, len(quote)):\n",
    "        a.select('td.alt2')[0].extract()\n",
    "    print(a.text)\n",
    "else:\n",
    "    print(a.text)"
   ]
  },
  {
   "cell_type": "code",
   "execution_count": null,
   "metadata": {
    "collapsed": true
   },
   "outputs": [],
   "source": [
    "quotation"
   ]
  },
  {
   "cell_type": "markdown",
   "metadata": {},
   "source": [
    "## For method 1: Handle with content, etract div & quotation"
   ]
  },
  {
   "cell_type": "code",
   "execution_count": null,
   "metadata": {
    "collapsed": true
   },
   "outputs": [],
   "source": [
    "title_url = 'http://www.dogforum.com/dog-health/what-parvo-5256/page2/'\n",
    "resp = requests.get(title_url, headers=random_header(title_url))\n",
    "resp.encoding = 'cp1252'\n",
    "soup = BeautifulSoup(resp.text, 'lxml')"
   ]
  },
  {
   "cell_type": "code",
   "execution_count": null,
   "metadata": {
    "collapsed": true
   },
   "outputs": [],
   "source": [
    "a = soup.select('.tborder.vbseo_like_postbit')[8].find(\"div\", id=re.compile(\"^post_message_\"))\n",
    "quote = soup.select('.tborder.vbseo_like_postbit')[8].findAll(id=re.compile(\"^post_message_\"))[0].select('td.alt2')\n",
    "\n",
    "if len(quote) > 0:\n",
    "    quotation = []\n",
    "    for qno in range(0,len(quote)):\n",
    "        quotation.append(quote[qno].text.strip())\n",
    "    block['quotation'] = quotation\n",
    "    for quo_no in range(0, len(quote)):\n",
    "        a.select('td.alt2')[0].extract()\n",
    "        if len(a.select('div')) > 0:\n",
    "            a.select('div')[0].extract()\n",
    "else:\n",
    "    if len(a.select('div')) > 0:\n",
    "        a.select('div')[0].extract()\n",
    "block['content'] = a.text.strip().replace('Quote:','[...quotation...]').replace(\"\\r\",\"\").replace(\"\\n\",\"\").replace('\\t','')\n",
    "print(block['content'])"
   ]
  },
  {
   "cell_type": "code",
   "execution_count": null,
   "metadata": {
    "collapsed": true,
    "scrolled": true
   },
   "outputs": [],
   "source": [
    "quotation"
   ]
  },
  {
   "cell_type": "markdown",
   "metadata": {},
   "source": [
    "## For method 1: Combine Together"
   ]
  },
  {
   "cell_type": "code",
   "execution_count": null,
   "metadata": {
    "collapsed": true,
    "scrolled": true
   },
   "outputs": [],
   "source": [
    "# Method 1 (only remove div one times)\n",
    "title_url = 'http://www.dogforum.com/dog-health/what-parvo-5256/page2/'\n",
    "resp = requests.get(title_url, headers=random_header(title_url))\n",
    "resp.encoding = 'cp1252'\n",
    "soup = BeautifulSoup(resp.text, 'lxml')\n",
    "\n",
    "block = {}\n",
    "\n",
    "for num in range(0,len(soup.select('.tborder.vbseo_like_postbit'))):\n",
    "    post_date = {}\n",
    "    quotation = []\n",
    "    \n",
    "    block['url'] = title_url\n",
    "    block['page'] = 'page %s'%page\n",
    "    block['title'] = title\n",
    "    block['story'] = soup.select('.tborder.vbseo_like_postbit')[num].findAll(id=re.compile(\"^postcount\"))[0].get('name')\n",
    "    block['author_url'] = soup.select('.tborder.vbseo_like_postbit')[num].select('a.bigusername')[0]['href']\n",
    "    block['author_name'] = soup.select('.tborder.vbseo_like_postbit')[num].select('a.bigusername')[0].text\n",
    "\n",
    "    data = {}\n",
    "    data['date'] = soup.select('.tborder.vbseo_like_postbit')[num].find('td').text.split()[0].replace(',','')\n",
    "    data['time'] = soup.select('.tborder.vbseo_like_postbit')[num].find('td').text.split()[1]\n",
    "    data['ampm'] = soup.select('.tborder.vbseo_like_postbit')[num].find('td').text.split()[2]\n",
    "    block['post_date'] = data\n",
    "\n",
    "    author = {}\n",
    "    try:\n",
    "        author['member_type'] = soup.select('.tborder.vbseo_like_postbit')[num].select('div.smallfont')[0].text\n",
    "    except IndexError:\n",
    "        pass\n",
    "    try:\n",
    "        author['location'] = re.findall('Location: (.*).', soup.select('.tborder.vbseo_like_postbit')[num].text)[0].strip()\n",
    "    except IndexError:\n",
    "        pass\n",
    "    try:\n",
    "        author['join_date'] = re.findall('Join Date:(.*) Location', soup.select('.tborder.vbseo_like_postbit')[num].text)[0].strip()\n",
    "    except IndexError:\n",
    "        pass\n",
    "    try:\n",
    "        author['posts'] = re.findall('Posts: (.*)', soup.select('.tborder.vbseo_like_postbit')[num].text)[0].strip()\n",
    "    except IndexError:\n",
    "        pass\n",
    "    try:\n",
    "        author['mentioned'] = re.findall('Mentioned: (.*)Tag', soup.select('.tborder.vbseo_like_postbit')[num].text)[0].strip()\n",
    "    except IndexError:\n",
    "        pass\n",
    "    try:\n",
    "        author['tagged'] = re.findall('Tagged: (\\d*)', soup.select('.tborder.vbseo_like_postbit')[num].text)[0].strip() + ' thread(s)'\n",
    "    except IndexError:\n",
    "        pass\n",
    "    block['author_info'] = author\n",
    "\n",
    "    a = soup.select('.tborder.vbseo_like_postbit')[num].find(\"div\", id=re.compile(\"^post_message_\"))\n",
    "    quote = soup.select('.tborder.vbseo_like_postbit')[num].findAll(id=re.compile(\"^post_message_\"))[0].select('td.alt2')\n",
    "    if len(quote) > 0:\n",
    "        for qno in range(0,len(quote)):\n",
    "            quotation.append(quote[qno].text.strip())\n",
    "        for quo_no in range(0, len(quote)):\n",
    "            a.select('td.alt2')[0].extract()\n",
    "            if len(a.select('div')) > 0:\n",
    "                a.select('div')[0].extract()\n",
    "    else:\n",
    "        if len(a.select('div')) > 0:\n",
    "            a.select('div')[0].extract()\n",
    "    block['content'] = a.text.strip().replace('Quote:','[...quotation...]').replace(\"\\r\",\"\").replace(\"\\n\",\"\").replace('\\t','')\n",
    "    block['quotation'] = quotation\n",
    "    print(block)"
   ]
  },
  {
   "cell_type": "code",
   "execution_count": 64,
   "metadata": {
    "collapsed": true
   },
   "outputs": [],
   "source": [
    "def to_mongoDB(section):\n",
    "    conn = MongoClient('localhost', 27017)\n",
    "    db = conn.Dogforum\n",
    "    collection = db.Dog_health\n",
    "    results = collection.insert_many(section)\n",
    "    conn.close()"
   ]
  },
  {
   "cell_type": "code",
   "execution_count": 65,
   "metadata": {
    "collapsed": true
   },
   "outputs": [],
   "source": [
    "def to_rethinkdb(section):\n",
    "    conn = r.connect()\n",
    "    res = r.db('Dogforum').table('test').insert(section).run(conn)\n",
    "    conn.close()"
   ]
  },
  {
   "cell_type": "code",
   "execution_count": 14,
   "metadata": {
    "scrolled": false
   },
   "outputs": [
    {
     "data": {
      "text/plain": [
       "[{'_id': 'Page2Floor11/dog-health/what-parvo-5256/page2/',\n",
       "  'author_info': {'member_type': 'Senior Member',\n",
       "   'mentioned': '0 Post(s)',\n",
       "   'posts': '12,135',\n",
       "   'tagged': '0 thread(s)'},\n",
       "  'author_name': 'pawzaddict',\n",
       "  'author_url': 'http://www.dogforum.com/members/737/',\n",
       "  'content': \"  Its different per dog. Some dogs have actually never showed severe symptoms but that's rare Posted via Mobile Device \",\n",
       "  'floor': 11,\n",
       "  'id': 'Page2Floor11/dog-health/what-parvo-5256/page2/',\n",
       "  'page': 'page 2',\n",
       "  'post_date': {'ampm': 'PM', 'date': '08-10-2010', 'time': '04:12'},\n",
       "  'quotation': [],\n",
       "  'title': 'test',\n",
       "  'url': 'http://www.dogforum.com/dog-health/what-parvo-5256/page2/'},\n",
       " {'_id': 'Page2Floor12/dog-health/what-parvo-5256/page2/',\n",
       "  'author_info': {'join_date': 'Jun 2010',\n",
       "   'location': 'At a desk, in a chair, in front of a monitor and keyboard',\n",
       "   'member_type': 'Senior Member',\n",
       "   'mentioned': '0 Post(s)',\n",
       "   'posts': '152',\n",
       "   'tagged': '0 thread(s)'},\n",
       "  'author_name': 'MorningGlory',\n",
       "  'author_url': 'http://www.dogforum.com/members/2946/',\n",
       "  'content': ' paws, I know you know best, but back last month when I was ultra-super parvo paranoid (and every hiccup she had, let alone her tummy might be upset because she decided people hair was tastier than steak or because I fed her junk food all day , was an \"OMG must scrub apartment,\" moment) I thought I had read that on average the symptoms appear 7 to 10 days after exposure which is why you wait 2 weeks until after the last shot cycle before releasing the little guys to the big big world. 1 week for the shot to kick in, and then another week in the case parvo symptoms appear (since during the week or so it takes for the shot to kick in they can theoretically still catch the virus and it wouldn\\'t appear until 7 to 10 days after the last day of which their immune system has built up). Does it differ between dogs and breeds?  \\nI mean  that could be total hog-wash (why I ask...tee-hee), I also remember reading in places that vaccines do not guarantee safety against it and so never *ever* take your dog around animals you don\\'t know (which may or may not be true (I mean  I was vaccinated against measles as a kid, caught them when I was 29...remote things happen but they\\'re so remote that it makes it sort of absurd to keep pets (or people) in a sterile bubble all of their lives) and if you do be very very scared (scare tactics for vaccinated doggies...yay ). I also remember reading that like black and tan breeds are more susceptible to catching it too, which seemed a bit off base and perhaps far fetched to me \\'cause, well, like doxies, they have black and tan variations but it\\'s the same breed of dog, heck two colors could be from the same litter. I have no clue if that was accurate or not though since it didn\\'t really apply to me. ',\n",
       "  'floor': 12,\n",
       "  'id': 'Page2Floor12/dog-health/what-parvo-5256/page2/',\n",
       "  'page': 'page 2',\n",
       "  'post_date': {'ampm': 'PM', 'date': '08-10-2010', 'time': '06:44'},\n",
       "  'quotation': [],\n",
       "  'title': 'test',\n",
       "  'url': 'http://www.dogforum.com/dog-health/what-parvo-5256/page2/'},\n",
       " {'_id': 'Page2Floor13/dog-health/what-parvo-5256/page2/',\n",
       "  'author_info': {'member_type': 'Senior Member',\n",
       "   'mentioned': '0 Post(s)',\n",
       "   'posts': '12,135',\n",
       "   'tagged': '0 thread(s)'},\n",
       "  'author_name': 'pawzaddict',\n",
       "  'author_url': 'http://www.dogforum.com/members/737/',\n",
       "  'content': ' Everything I put on here is from personal experience only, by no means have I been to vet school nor training school   This is not set in stone. I have always recommended people wait 3-4 weeks, not 2. The vets I work for of course tell owners the average on when symptoms occur, but the average is not always correct either  I worked at clinic where a dog was tested for Parvo because one of the neighbors dogs who was in their yard came down with it, the dog tested positive for parvo but NEVER showed a symptom, this is rare, but its always worth mentioning.  I dont know how valid this is anymore, but yes it used to be that black dogs were more susceptible to parvo and I think there were breeds that were listed, but I think the breed thing is b/c of those types of people who own that breed...if you get my drift. ',\n",
       "  'floor': 13,\n",
       "  'id': 'Page2Floor13/dog-health/what-parvo-5256/page2/',\n",
       "  'page': 'page 2',\n",
       "  'post_date': {'ampm': 'PM', 'date': '08-10-2010', 'time': '07:16'},\n",
       "  'quotation': ['I know you know best',\n",
       "   'I thought I had read that on average the symptoms appear 7 to 10 days after exposure which is why you wait 2 weeks until after the last shot cycle before releasing the little guys to the big big world. 1 week for the shot to kick in, and then another week in the case parvo symptoms appear',\n",
       "   'Does it differ between dogs and breeds?'],\n",
       "  'title': 'test',\n",
       "  'url': 'http://www.dogforum.com/dog-health/what-parvo-5256/page2/'},\n",
       " {'_id': 'Page2Floor14/dog-health/what-parvo-5256/page2/',\n",
       "  'author_info': {'member_type': 'Senior Member',\n",
       "   'mentioned': '0 Post(s)',\n",
       "   'posts': '171',\n",
       "   'tagged': '0 thread(s)'},\n",
       "  'author_name': 'gershepsmyfav',\n",
       "  'author_url': 'http://www.dogforum.com/members/681/',\n",
       "  'content': \" We got a puppy that had Parvo already, when we got it. We didn't know anything about Parvo. We had never had any dogs that had it or had been around anybody that had experienced it. So when our puppy got sick. We took it to the vet. Because I use the BARF diet she said it was Salmonella. She did not give our puppy the Parvo test. She gave me meds for Salmonella. We went home. He didn't seem to improve. Then he got sicker. We rushed him to the emergency night vet, a different vet. The first thing she did was to  take a Parvo test and said he had Parvo. Our puppy fought for his life for almost a week, but ended up dying. I'm telling this so that people will be sure to have their vets  take a Parvo test when your puppy gets sick. I have since learned a lot about Parvo. I wished I had known about it before our sweet little puppy died. Thank you for telling everybody about it. Yes the cost is a lot and we are still paying on the bill, but that doesn't matter, we wish our puppy had survived. \",\n",
       "  'floor': 14,\n",
       "  'id': 'Page2Floor14/dog-health/what-parvo-5256/page2/',\n",
       "  'page': 'page 2',\n",
       "  'post_date': {'ampm': 'PM', 'date': '09-07-2010', 'time': '11:44'},\n",
       "  'quotation': [],\n",
       "  'title': 'test',\n",
       "  'url': 'http://www.dogforum.com/dog-health/what-parvo-5256/page2/'},\n",
       " {'_id': 'Page2Floor15/dog-health/what-parvo-5256/page2/',\n",
       "  'author_info': {'member_type': 'Senior Member',\n",
       "   'mentioned': '0 Post(s)',\n",
       "   'posts': '12,135',\n",
       "   'tagged': '0 thread(s)'},\n",
       "  'author_name': 'pawzaddict',\n",
       "  'author_url': 'http://www.dogforum.com/members/737/',\n",
       "  'content': ' I am so sorry for your loss  I hope you called the original vet and told her a little somethin somethin that cannot be repeated here. Its so prominent where I live and it breaks my heart. Thank you for sharing your story and ty for doing your best (and please know you did!) The second your pup became ill Posted via Mobile Device ',\n",
       "  'floor': 15,\n",
       "  'id': 'Page2Floor15/dog-health/what-parvo-5256/page2/',\n",
       "  'page': 'page 2',\n",
       "  'post_date': {'ampm': 'PM', 'date': '09-07-2010', 'time': '11:49'},\n",
       "  'quotation': [],\n",
       "  'title': 'test',\n",
       "  'url': 'http://www.dogforum.com/dog-health/what-parvo-5256/page2/'},\n",
       " {'_id': 'Page2Floor16/dog-health/what-parvo-5256/page2/',\n",
       "  'author_info': {'member_type': 'Senior Member',\n",
       "   'mentioned': '0 Post(s)',\n",
       "   'posts': '171',\n",
       "   'tagged': '0 thread(s)'},\n",
       "  'author_name': 'gershepsmyfav',\n",
       "  'author_url': 'http://www.dogforum.com/members/681/',\n",
       "  'content': \" We did and we complained to the administrator  and told him we weren't satisfied with her care of our puppy and wanted another vet to take over. They wouldn't do that. So we refused to pay the $45. that she charged us for the initial examination. They didn't make us pay that. We were thinking of going to the state board. But that wouldn't bring our puppy back. \",\n",
       "  'floor': 16,\n",
       "  'id': 'Page2Floor16/dog-health/what-parvo-5256/page2/',\n",
       "  'page': 'page 2',\n",
       "  'post_date': {'ampm': 'AM', 'date': '09-08-2010', 'time': '12:28'},\n",
       "  'quotation': [],\n",
       "  'title': 'test',\n",
       "  'url': 'http://www.dogforum.com/dog-health/what-parvo-5256/page2/'},\n",
       " {'_id': 'Page2Floor17/dog-health/what-parvo-5256/page2/',\n",
       "  'author_info': {'join_date': 'Jun 2009',\n",
       "   'location': 'California...in the mountains',\n",
       "   'member_type': 'Senior Member',\n",
       "   'mentioned': '38 Post(s)',\n",
       "   'posts': '22,639',\n",
       "   'tagged': '0 thread(s)'},\n",
       "  'author_name': 'fawkese1',\n",
       "  'author_url': 'http://www.dogforum.com/members/805/',\n",
       "  'content': \"  so sorry for your loss... that is a terrible story...   \\nthank you for sharing it with us tho, hopefully someone will learn from it...  i agree, that wouldn't bring your puppy back, but it may help prevent this from happening again... just something to think about... \",\n",
       "  'floor': 17,\n",
       "  'id': 'Page2Floor17/dog-health/what-parvo-5256/page2/',\n",
       "  'page': 'page 2',\n",
       "  'post_date': {'ampm': 'AM', 'date': '09-08-2010', 'time': '12:42'},\n",
       "  'quotation': [\"We were thinking of going to the state board. But that wouldn't bring  our puppy back.\"],\n",
       "  'title': 'test',\n",
       "  'url': 'http://www.dogforum.com/dog-health/what-parvo-5256/page2/'},\n",
       " {'_id': 'Page2Floor18/dog-health/what-parvo-5256/page2/',\n",
       "  'author_info': {'member_type': 'Senior Member',\n",
       "   'mentioned': '0 Post(s)',\n",
       "   'posts': '171',\n",
       "   'tagged': '0 thread(s)'},\n",
       "  'author_name': 'gershepsmyfav',\n",
       "  'author_url': 'http://www.dogforum.com/members/681/',\n",
       "  'content': \" We did think about that.We thought a long time on it.  But we are on limited income and knew we couldn't afford an attorney. So we tell everybody we know that has a dog to always get a Parvo test. We hope we can help that way at least \",\n",
       "  'floor': 18,\n",
       "  'id': 'Page2Floor18/dog-health/what-parvo-5256/page2/',\n",
       "  'page': 'page 2',\n",
       "  'post_date': {'ampm': 'AM', 'date': '09-08-2010', 'time': '12:57'},\n",
       "  'quotation': [],\n",
       "  'title': 'test',\n",
       "  'url': 'http://www.dogforum.com/dog-health/what-parvo-5256/page2/'},\n",
       " {'_id': 'Page2Floor19/dog-health/what-parvo-5256/page2/',\n",
       "  'author_info': {'join_date': 'Jun 2009',\n",
       "   'location': 'California...in the mountains',\n",
       "   'member_type': 'Senior Member',\n",
       "   'mentioned': '38 Post(s)',\n",
       "   'posts': '22,639',\n",
       "   'tagged': '0 thread(s)'},\n",
       "  'author_name': 'fawkese1',\n",
       "  'author_url': 'http://www.dogforum.com/members/805/',\n",
       "  'content': \" ah... i didn't realize that it was as complicated as that, i thought it was just making a complaint... i totally understand, and thank you again for sharing your experience here... \",\n",
       "  'floor': 19,\n",
       "  'id': 'Page2Floor19/dog-health/what-parvo-5256/page2/',\n",
       "  'page': 'page 2',\n",
       "  'post_date': {'ampm': 'AM', 'date': '09-08-2010', 'time': '01:19'},\n",
       "  'quotation': [\"Originally Posted by gershepsmyfav   We did think about that.We thought a long time on it.  But we are on limited income and knew we couldn't afford an attorney. So we tell everybody we know that has a dog to always get a Parvo test. We hope we can help that way at least\"],\n",
       "  'title': 'test',\n",
       "  'url': 'http://www.dogforum.com/dog-health/what-parvo-5256/page2/'},\n",
       " {'_id': 'Page2Floor20/dog-health/what-parvo-5256/page2/',\n",
       "  'author_info': {'join_date': 'May 2010',\n",
       "   'location': 'Arizona',\n",
       "   'member_type': 'Senior Member',\n",
       "   'mentioned': '0 Post(s)',\n",
       "   'posts': '1,936',\n",
       "   'tagged': '0 thread(s)'},\n",
       "  'author_name': 'TonkaTruckJK',\n",
       "  'author_url': 'http://www.dogforum.com/members/2663/',\n",
       "  'content': \" Actually, the state board would be VERY happy to hear your complaint, and you don't need an attorney to file one - this is not a lawsuit, just a formal complaint that will be investigated.  I deal with both pharmacy and medical boards on a daily basis, and believe me (I'm on the defendant side), they will investigate your complaint.  If they find something out of whack (malpractice, negligence, etc), they will act accordingly of their own behalf.   \\nThe complaint is merely an indicator for them to do their own research. \\nNot trying to push for it, but I'd hate to see you walk away with a feeling of helplessness or a feeling that the vet is not practicing appropriately and not think you have any recourse. \\nHappy to talk further about it if you'd like...not sure if you're in the states or not, but that's my professional experience here (I deal with all 50 state Boards of Pharmacy regularly) \",\n",
       "  'floor': 20,\n",
       "  'id': 'Page2Floor20/dog-health/what-parvo-5256/page2/',\n",
       "  'page': 'page 2',\n",
       "  'post_date': {'ampm': 'PM', 'date': '09-08-2010', 'time': '09:34'},\n",
       "  'quotation': [],\n",
       "  'title': 'test',\n",
       "  'url': 'http://www.dogforum.com/dog-health/what-parvo-5256/page2/'}]"
      ]
     },
     "execution_count": 14,
     "metadata": {},
     "output_type": "execute_result"
    }
   ],
   "source": [
    "# Method 2 (remove div without content)\n",
    "title_url = 'http://www.dogforum.com/dog-health/what-parvo-5256/page2/'\n",
    "resp = requests.get(title_url, headers=random_header(title_url))\n",
    "resp.encoding = 'utf-8'\n",
    "soup = BeautifulSoup(resp.text, 'lxml')\n",
    "page = 2\n",
    "title = 'test'\n",
    "\n",
    "post = []\n",
    "\n",
    "for num in range(0,len(soup.select('.tborder.vbseo_like_postbit'))):\n",
    "    block = {}\n",
    "    post_date = {}\n",
    "    quotation = []\n",
    "    \n",
    "    block['url'] = title_url\n",
    "    block['page'] = 'page %s'%page\n",
    "    block['title'] = title\n",
    "    floor = soup.select('.tborder.vbseo_like_postbit')[num].findAll(id=re.compile(\"^postcount\"))[0].get('name')\n",
    "    block['floor'] = int(floor)\n",
    "    block['author_url'] = soup.select('.tborder.vbseo_like_postbit')[num].select('a.bigusername')[0]['href']\n",
    "    block['author_name'] = soup.select('.tborder.vbseo_like_postbit')[num].select('a.bigusername')[0].text\n",
    "\n",
    "    data = {}\n",
    "    data['date'] = soup.select('.tborder.vbseo_like_postbit')[num].find('td').text.split()[0].replace(',','')\n",
    "    data['time'] = soup.select('.tborder.vbseo_like_postbit')[num].find('td').text.split()[1]\n",
    "    data['ampm'] = soup.select('.tborder.vbseo_like_postbit')[num].find('td').text.split()[2]\n",
    "    block['post_date'] = data\n",
    "\n",
    "    author = {}\n",
    "    try:\n",
    "        author['member_type'] = soup.select('.tborder.vbseo_like_postbit')[num].select('div.smallfont')[0].text\n",
    "    except IndexError:\n",
    "        pass\n",
    "    try:\n",
    "        author['location'] = re.findall('Location: (.*).', soup.select('.tborder.vbseo_like_postbit')[num].text)[0].strip()\n",
    "    except IndexError:\n",
    "        pass\n",
    "    try:\n",
    "        author['join_date'] = re.findall('Join Date:(.*) Location', soup.select('.tborder.vbseo_like_postbit')[num].text)[0].strip()\n",
    "    except IndexError:\n",
    "        pass\n",
    "    try:\n",
    "        author['posts'] = re.findall('Posts: (.*)', soup.select('.tborder.vbseo_like_postbit')[num].text)[0].strip()\n",
    "    except IndexError:\n",
    "        pass\n",
    "    try:\n",
    "        author['mentioned'] = re.findall('Mentioned: (.*)Tag', soup.select('.tborder.vbseo_like_postbit')[num].text)[0].strip()\n",
    "    except IndexError:\n",
    "        pass\n",
    "    try:\n",
    "        author['tagged'] = re.findall('Tagged: (\\d*)', soup.select('.tborder.vbseo_like_postbit')[num].text)[0].strip() + ' thread(s)'\n",
    "    except IndexError:\n",
    "        pass\n",
    "    block['author_info'] = author\n",
    "    block['_id'] = 'Page%s'%page + 'Floor%s'%floor + re.findall('http://www.dogforum.com(.*)', title_url)[0]\n",
    "    block['id'] = 'Page%s'%page + 'Floor%s'%floor + re.findall('http://www.dogforum.com(.*)', title_url)[0]\n",
    "\n",
    "    quotation = [y.text.strip() for y in soup.select('.tborder.vbseo_like_postbit')[num].findAll(id=re.compile(\"^post_message_\"))[0].select('td.alt2')]\n",
    "    [div.extract() for div in soup.select('.tborder.vbseo_like_postbit')[num].find(\"div\", id=re.compile(\"^post_message_\")).select('div')]\n",
    "    [quo.extract() for quo in soup.select('.tborder.vbseo_like_postbit')[num].findAll(id=re.compile(\"^post_message_\"))[0].select('td.alt2')]\n",
    "    a = soup.select('.tborder.vbseo_like_postbit')[num].find(\"div\", id=re.compile(\"^post_message_\")).text\n",
    "    a.replace('Sent from my iPad using Tapatalk','').replace('Quote: ','[...quotation...]').replace(\"\\r\",\"\").replace('\\t','').strip()\n",
    "    block['content'] = a\n",
    "    block['quotation'] = quotation\n",
    "    post.append(block)\n",
    "post\n",
    "#to_rethinkdb(post)\n",
    "#to_mongoDB(post)"
   ]
  }
 ],
 "metadata": {
  "kernelspec": {
   "display_name": "Python 3",
   "language": "python",
   "name": "python3"
  },
  "language_info": {
   "codemirror_mode": {
    "name": "ipython",
    "version": 3
   },
   "file_extension": ".py",
   "mimetype": "text/x-python",
   "name": "python",
   "nbconvert_exporter": "python",
   "pygments_lexer": "ipython3",
   "version": "3.6.3"
  }
 },
 "nbformat": 4,
 "nbformat_minor": 2
}
