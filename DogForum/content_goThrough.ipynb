{
 "cells": [
  {
   "cell_type": "code",
   "execution_count": 79,
   "metadata": {
    "collapsed": true
   },
   "outputs": [],
   "source": [
    "import re\n",
    "import json\n",
    "import requests\n",
    "from bs4 import BeautifulSoup"
   ]
  },
  {
   "cell_type": "code",
   "execution_count": 80,
   "metadata": {
    "collapsed": true
   },
   "outputs": [],
   "source": [
    "headers = json.loads(r'''{\n",
    "    \"Accept\": \"text/html,application/xhtml+xml,application/xml;q=0.9,image/webp,image/apng,*/*;q=0.8\",\n",
    "    \"Accept-Encoding\": \"gzip, deflate\",\n",
    "    \"Accept-Language\": \"en-US,en;q=0.9\",\n",
    "    \"Connection\": \"keep-alive\",\n",
    "    \"Cookie\": \"trctestcookie=ok; trctestcookie=ok; bblastvisit=1517316262; bblastactivity=0; __utmz=60066354.1517316266.1.1.utmcsr=(direct)|utmccn=(direct)|utmcmd=(none); __gads=ID=0150c2db39515748:T=1517316267:S=ALNI_MaDEROky928259c08-Wiv9vdVzIMA; trc_cookie_storage=taboola%2520global%253Auser-id%3D9fb09c65-d038-47cc-aca3-9186c0df7852-tuct1686a87; __utma=60066354.2080145337.1517316266.1519810697.1519820804.11; __utmc=60066354; __utmt=1; __utmb=60066354.123.0.1519822641336\",\n",
    "    \"Host\": \"www.dogforum.com\",\n",
    "    \"Upgrade-Insecure-Requests\": \"1\",\n",
    "    \"User-Agent\": \"Mozilla/5.0 (X11; Linux x86_64) AppleWebKit/537.36 (KHTML, like Gecko) Chrome/64.0.3282.186 Safari/537.36\"\n",
    "}''')"
   ]
  },
  {
   "cell_type": "markdown",
   "metadata": {},
   "source": [
    "### 試做某一頁，並用Dictionary來儲存list達到去重(sticky每頁都重複)的效果"
   ]
  },
  {
   "cell_type": "code",
   "execution_count": 3,
   "metadata": {
    "collapsed": true
   },
   "outputs": [],
   "source": [
    "url = \"http://www.dogforum.com/dog-health/3/\""
   ]
  },
  {
   "cell_type": "code",
   "execution_count": 4,
   "metadata": {
    "collapsed": true
   },
   "outputs": [],
   "source": [
    "resp = requests.get(url, headers=headers)\n",
    "soup = BeautifulSoup(resp.text, 'lxml')"
   ]
  },
  {
   "cell_type": "code",
   "execution_count": 5,
   "metadata": {},
   "outputs": [
    {
     "data": {
      "text/plain": [
       "<a href=\"http://www.dogforum.com/dog-health/potential-pyometra-331474/\" id=\"thread_title_331474\">Potential Pyometra</a>"
      ]
     },
     "execution_count": 5,
     "metadata": {},
     "output_type": "execute_result"
    }
   ],
   "source": [
    "soup.select('table')[11].select('#thread_title_331474')[0]"
   ]
  },
  {
   "cell_type": "code",
   "execution_count": 6,
   "metadata": {
    "scrolled": true
   },
   "outputs": [
    {
     "data": {
      "text/plain": [
       "'Members - READ BEFORE POSTING IN HEALTH'"
      ]
     },
     "execution_count": 6,
     "metadata": {},
     "output_type": "execute_result"
    }
   ],
   "source": [
    "soup.select('table')[11].findAll(\"a\", id=re.compile(\"^thread_title_\"))[0].text"
   ]
  },
  {
   "cell_type": "code",
   "execution_count": 7,
   "metadata": {},
   "outputs": [
    {
     "data": {
      "text/plain": [
       "'http://www.dogforum.com/dog-health/members-read-before-posting-health-321786/'"
      ]
     },
     "execution_count": 7,
     "metadata": {},
     "output_type": "execute_result"
    }
   ],
   "source": [
    "soup.select('table')[11].findAll(\"a\", id=re.compile(\"^thread_title_\"))[0]['href']"
   ]
  },
  {
   "cell_type": "code",
   "execution_count": 8,
   "metadata": {
    "collapsed": true
   },
   "outputs": [],
   "source": [
    "thread = {}\n",
    "for num in range(1,250):\n",
    "    try:\n",
    "        key = soup.select('table')[11].findAll(\"a\", id=re.compile(\"^thread_title_\"))[num].text\n",
    "        value = soup.select('table')[11].findAll(\"a\", id=re.compile(\"^thread_title_\"))[num]['href']\n",
    "        thread[key] = value\n",
    "    except IndexError:\n",
    "        break"
   ]
  },
  {
   "cell_type": "code",
   "execution_count": 10,
   "metadata": {},
   "outputs": [
    {
     "data": {
      "text/plain": [
       "{'\"What is Parvo?\"': 'http://www.dogforum.com/dog-health/what-parvo-5256/',\n",
       " '$700 Tab For A Normal De-Scaling': 'http://www.dogforum.com/dog-health/700-tab-normal-de-scaling-325529/',\n",
       " '10 days old puppy bloated?': 'http://www.dogforum.com/dog-health/10-days-old-puppy-bloated-331522/',\n",
       " '16+ yr old dog with nipple growth': 'http://www.dogforum.com/dog-health/16-yr-old-dog-nipple-growth-328617/',\n",
       " '2 weeks of diarrhea with puppy!': 'http://www.dogforum.com/dog-health/2-weeks-diarrhea-puppy-312289/',\n",
       " '20 Crate Rest Activities': 'http://www.dogforum.com/dog-health/20-crate-rest-activities-51130/',\n",
       " '4-Month Old Rhodesian with Unknown Skin Issue': 'http://www.dogforum.com/dog-health/4-month-old-rhodesian-unknown-skin-327249/',\n",
       " '5 year old toy poodle shaking and constantly running away': 'http://www.dogforum.com/dog-health/5-year-old-toy-poodle-shaking-329761/',\n",
       " '7mo female dog seizures while licking herself??': 'http://www.dogforum.com/dog-health/7mo-female-dog-seizures-while-licking-328153/',\n",
       " 'Abscess on leg/paw?': 'http://www.dogforum.com/dog-health/abscess-leg-paw-322154/',\n",
       " 'Accidental breeding, possibly?': 'http://www.dogforum.com/dog-health/accidental-breeding-possibly-325513/',\n",
       " 'Adopting and early spay is concerning': 'http://www.dogforum.com/dog-health/adopting-early-spay-concerning-326929/',\n",
       " 'Adult/senior dog joint health (arthritis)?': 'http://www.dogforum.com/dog-health/adult-senior-dog-joint-health-arthritis-324065/',\n",
       " 'Advice for Canine Teeth Extractions': 'http://www.dogforum.com/dog-health/advice-canine-teeth-extractions-324609/',\n",
       " \"Allergies? Yeast? Need help for my puggle's skin\": 'http://www.dogforum.com/dog-health/allergies-yeast-need-help-my-puggles-331178/',\n",
       " 'Antifreeze poisoning': 'http://www.dogforum.com/dog-health/antifreeze-poisoning-7636/',\n",
       " 'Antlers for small dogs ok?': 'http://www.dogforum.com/dog-health/antlers-small-dogs-ok-323618/',\n",
       " 'Any idea what this black pimple-like bump is?': 'http://www.dogforum.com/dog-health/any-idea-what-black-pimple-like-328337/',\n",
       " 'Are his rear legs underdeveloped?': 'http://www.dogforum.com/dog-health/his-rear-legs-underdeveloped-324297/',\n",
       " 'Arthritic/rheumatic type problems': 'http://www.dogforum.com/dog-health/arthritic-rheumatic-type-problems-328905/',\n",
       " 'At Home Remedies for Runny, Itchy and Swollen eyes': 'http://www.dogforum.com/dog-health/home-remedies-runny-itchy-swollen-eyes-327113/',\n",
       " 'Australian Cattle Dog - Multiple Health Problems': 'http://www.dogforum.com/dog-health/australian-cattle-dog-multiple-health-problems-327769/',\n",
       " 'Beagle with severe itching and scratching': 'http://www.dogforum.com/dog-health/beagle-severe-itching-scratching-6810/',\n",
       " 'Black Lab Skin Bumps / Licking & Scratching': 'http://www.dogforum.com/dog-health/black-lab-skin-bumps-licking-scratching-327633/',\n",
       " 'Black Pimple Like bumps on 9 week old pup': 'http://www.dogforum.com/dog-health/black-pimple-like-bumps-9-week-327985/',\n",
       " 'Blocked tear duct in young dog': 'http://www.dogforum.com/dog-health/blocked-tear-duct-young-dog-323794/',\n",
       " 'Blood in urine': 'http://www.dogforum.com/dog-health/blood-urine-322666/',\n",
       " 'Bug Bites?': 'http://www.dogforum.com/dog-health/bug-bites-12072/',\n",
       " 'Bump on dogs skin...help!!!': 'http://www.dogforum.com/dog-health/bump-dogs-skin-help-326641/',\n",
       " \"CBD to relieve dog's pain ?\": 'http://www.dogforum.com/dog-health/cbd-relieve-dogs-pain-329137/',\n",
       " 'Calcium level above normal in my dog': 'http://www.dogforum.com/dog-health/calcium-level-above-normal-my-dog-323842/',\n",
       " 'Can I Trim the Cone of Shame?': 'http://www.dogforum.com/dog-health/can-i-trim-cone-shame-328497/',\n",
       " \"Can't figure out if Dog is Pregnant\": 'http://www.dogforum.com/dog-health/cant-figure-out-if-dog-pregnant-328169/',\n",
       " \"Can't tell if its ringworm or not\": 'http://www.dogforum.com/dog-health/cant-tell-if-its-ringworm-not-328249/',\n",
       " 'Care Credit': 'http://www.dogforum.com/dog-health/care-credit-23726/',\n",
       " 'Cataracts - Eye Drops with Lanosterol': 'http://www.dogforum.com/dog-health/cataracts-eye-drops-lanosterol-310858/',\n",
       " 'Chewing too hard on bone?': 'http://www.dogforum.com/dog-health/chewing-too-hard-bone-330049/',\n",
       " 'Collapsed Trachea': 'http://www.dogforum.com/dog-health/collapsed-trachea-323866/',\n",
       " 'Complications after nueter': 'http://www.dogforum.com/dog-health/complications-after-nueter-322642/',\n",
       " 'Concerning bowels': 'http://www.dogforum.com/dog-health/concerning-bowels-328641/',\n",
       " 'Crying while trying to poop': 'http://www.dogforum.com/dog-health/crying-while-trying-poop-322578/',\n",
       " 'Cyst on her toe- breed is a maltese': 'http://www.dogforum.com/dog-health/cyst-her-toe-breed-maltese-325753/',\n",
       " 'Cytopoint injections for itching?': 'http://www.dogforum.com/dog-health/cytopoint-injections-itching-328769/',\n",
       " 'Dachshund undgergoing spinal surgery. Feeling helpless': 'http://www.dogforum.com/dog-health/dachshund-undgergoing-spinal-surgery-feeling-helpless-325225/',\n",
       " 'Desperate for information on Meningitis': 'http://www.dogforum.com/dog-health/desperate-information-meningitis-329337/',\n",
       " 'Diarrhea': 'http://www.dogforum.com/dog-health/diarrhea-331378/',\n",
       " 'Dog Ate and Passed Sock, Still Seems Sick?': 'http://www.dogforum.com/dog-health/dog-ate-passed-sock-still-seems-328521/',\n",
       " 'Dog Flu H3N2': 'http://www.dogforum.com/dog-health/dog-flu-h3n2-322602/',\n",
       " 'Dog Gulping episode (occasional hacking)': 'http://www.dogforum.com/dog-health/dog-gulping-episode-occasional-hacking-328601/',\n",
       " 'Dog acting uncharacteristic': 'http://www.dogforum.com/dog-health/dog-acting-uncharacteristic-326049/',\n",
       " 'Dog ate half a pistachio shell': 'http://www.dogforum.com/dog-health/dog-ate-half-pistachio-shell-324465/',\n",
       " 'Dog breathing weird / possibly got something stuck ?': 'http://www.dogforum.com/dog-health/dog-breathing-weird-possibly-got-something-327833/',\n",
       " 'Dog eats a bite at a time then leaves': 'http://www.dogforum.com/dog-health/dog-eats-bite-time-then-leaves-324945/',\n",
       " 'Dog has bumps on top of his head': 'http://www.dogforum.com/dog-health/dog-has-bumps-top-his-head-323466/',\n",
       " 'Dog has some sort of scab/wound on his front left leg, not sure what it is!': 'http://www.dogforum.com/dog-health/dog-has-some-sort-scab-wound-327841/',\n",
       " \"Dog having mucus from anus and can't poop\": 'http://www.dogforum.com/dog-health/dog-having-mucus-anus-cant-poop-322714/',\n",
       " \"Dog just threw up and I don't know if contents should concern me\": 'http://www.dogforum.com/dog-health/dog-just-threw-up-i-dont-322978/',\n",
       " 'Dog picked up injured chipmunk': 'http://www.dogforum.com/dog-health/dog-picked-up-injured-chipmunk-325057/',\n",
       " 'Dog scratching ears recently w/pic': 'http://www.dogforum.com/dog-health/dog-scratching-ears-recently-w-pic-320698/',\n",
       " 'Dog sprained elbow': 'http://www.dogforum.com/dog-health/dog-sprained-elbow-323834/',\n",
       " 'Dog teeth care advice from pet veterinarian': 'http://www.dogforum.com/dog-health/dog-teeth-care-advice-pet-veterinarian-327057/',\n",
       " 'Dog throwing up brown and white stuff?': 'http://www.dogforum.com/dog-health/dog-throwing-up-brown-white-stuff-327073/',\n",
       " 'Dog throws up every other day': 'http://www.dogforum.com/dog-health/dog-throws-up-every-other-day-321297/',\n",
       " 'Dog toothpaste?': 'http://www.dogforum.com/dog-health/dog-toothpaste-326753/',\n",
       " 'Dog twitches and sits down when he eats': 'http://www.dogforum.com/dog-health/dog-twitches-sits-down-when-he-331330/',\n",
       " 'Dog vomit specs of blood weekly and in stool': 'http://www.dogforum.com/dog-health/dog-vomit-specs-blood-weekly-stool-148162/',\n",
       " 'Ear infection? Mites??': 'http://www.dogforum.com/dog-health/ear-infection-mites-329129/',\n",
       " 'Explosive Diarrhea Causes? Solutions?': 'http://www.dogforum.com/dog-health/explosive-diarrhea-causes-solutions-323202/',\n",
       " 'External parasites and their treatments': 'http://www.dogforum.com/dog-health/external-parasites-their-treatments-330697/',\n",
       " 'Feeding my 1 yr old Pug Max': 'http://www.dogforum.com/dog-health/feeding-my-1-yr-old-pug-327825/',\n",
       " 'First Aid Kit': 'http://www.dogforum.com/dog-health/first-aid-kit-1518/',\n",
       " 'First nail injury': 'http://www.dogforum.com/dog-health/first-nail-injury-325889/',\n",
       " 'First time fleas!!!': 'http://www.dogforum.com/dog-health/first-time-fleas-329369/',\n",
       " 'Getting cheaper treatment for dry eye for Japanese chin with online medicine?': 'http://www.dogforum.com/dog-health/getting-cheaper-treatment-dry-eye-japanese-325129/',\n",
       " \"Got my puppy's canine tooth extracted.\": 'http://www.dogforum.com/dog-health/got-my-puppys-canine-tooth-extracted-329233/',\n",
       " 'Growth': 'http://www.dogforum.com/dog-health/growth-330089/',\n",
       " 'HELP - Dog paralysed what to do :(': 'http://www.dogforum.com/dog-health/help-dog-paralysed-what-do-326737/',\n",
       " 'Hard crust around mouth of shih tzu': 'http://www.dogforum.com/dog-health/hard-crust-around-mouth-shih-tzu-330593/',\n",
       " \"Has anyone's dog ever had spinal meningitis? My 4lb chihuahua was dx w/ it a week agp\": 'http://www.dogforum.com/dog-health/has-anyones-dog-ever-had-spinal-322866/',\n",
       " 'Head Bobbing': 'http://www.dogforum.com/dog-health/head-bobbing-324089/',\n",
       " 'Healthy body weight guide and info': 'http://www.dogforum.com/dog-health/healthy-body-weight-guide-info-16880/',\n",
       " 'Help with an Overweight/Obese Dog': 'http://www.dogforum.com/dog-health/help-overweight-obese-dog-327201/',\n",
       " 'Help with my dogs skin': 'http://www.dogforum.com/dog-health/help-my-dogs-skin-327033/',\n",
       " 'Help!': 'http://www.dogforum.com/dog-health/help-316474/',\n",
       " \"Help! I don't know why my puppy is bloated!\": 'http://www.dogforum.com/dog-health/help-i-dont-know-why-my-329353/',\n",
       " 'Help! Is this mange or FAD?': 'http://www.dogforum.com/dog-health/help-mange-fad-330449/',\n",
       " 'Hemorrhagic Gastroenteritis - Anyone dealt with this?': 'http://www.dogforum.com/dog-health/hemorrhagic-gastroenteritis-anyone-dealt-324969/',\n",
       " 'Hip Dysplasia Treatment Help': 'http://www.dogforum.com/dog-health/hip-dysplasia-treatment-help-326129/',\n",
       " \"How long after he's been dewormed can he contract parasites again?\": 'http://www.dogforum.com/dog-health/how-long-after-hes-been-dewormed-327657/',\n",
       " 'How much sleep is too much?': 'http://www.dogforum.com/dog-health/how-much-sleep-too-much-331066/',\n",
       " 'How often does my dog NEED to eat': 'http://www.dogforum.com/dog-health/how-often-does-my-dog-need-327241/',\n",
       " 'How to care for my dog during winter?': 'http://www.dogforum.com/dog-health/how-care-my-dog-during-winter-323682/',\n",
       " \"If/when you can't afford vet care (solutions, not shaming)\": 'http://www.dogforum.com/dog-health/if-when-you-cant-afford-vet-26920/',\n",
       " 'Infected Incision?': 'http://www.dogforum.com/dog-health/infected-incision-322210/',\n",
       " 'Is coccidia common in puppies?': 'http://www.dogforum.com/dog-health/coccidia-common-puppies-326673/',\n",
       " 'Is this Normal?  They rescheduled me and lied about the phone call?': 'http://www.dogforum.com/dog-health/normal-they-rescheduled-me-lied-about-322634/',\n",
       " 'Itchy Ears.': 'http://www.dogforum.com/dog-health/itchy-ears-328889/',\n",
       " 'Ketoconazole / fungus / licking': 'http://www.dogforum.com/dog-health/ketoconazole-fungus-licking-326577/',\n",
       " 'Lameness in front leg.': 'http://www.dogforum.com/dog-health/lameness-front-leg-324337/',\n",
       " 'Loss of Hair?': 'http://www.dogforum.com/dog-health/loss-hair-328857/',\n",
       " 'Lost and Found: I found a stray/lost my dog, what do I do?': 'http://www.dogforum.com/dog-health/lost-found-i-found-stray-lost-80377/',\n",
       " 'Lump/Bubble?': 'http://www.dogforum.com/dog-health/lump-bubble-323154/',\n",
       " 'Lyme Disease': 'http://www.dogforum.com/dog-health/lyme-disease-317642/',\n",
       " 'Lymphangiectasia/IBD': 'http://www.dogforum.com/dog-health/lymphangiectasia-ibd-25113/',\n",
       " 'MDR1 and heartworm prevention only Collies?': 'http://www.dogforum.com/dog-health/mdr1-heartworm-prevention-only-collies-322546/',\n",
       " 'Memory Foam Orthopedic dog beds?': 'http://www.dogforum.com/dog-health/memory-foam-orthopedic-dog-beds-328097/',\n",
       " 'Min pin with heart murmer.': 'http://www.dogforum.com/dog-health/min-pin-heart-murmer-323274/',\n",
       " 'Multi-pet Itching Mystery': 'http://www.dogforum.com/dog-health/multi-pet-itching-mystery-330025/',\n",
       " 'My Dog Ate Sock a Week Ago': 'http://www.dogforum.com/dog-health/my-dog-ate-sock-week-ago-330257/',\n",
       " 'My Dog has toe nail issues': 'http://www.dogforum.com/dog-health/my-dog-has-toe-nail-issues-324249/',\n",
       " 'My bulldog wont stop having diarrhea': 'http://www.dogforum.com/dog-health/my-bulldog-wont-stop-having-diarrhea-326265/',\n",
       " 'My dog has a big balding spot and behavior change issue': 'http://www.dogforum.com/dog-health/my-dog-has-big-balding-spot-324185/',\n",
       " 'My dog has these sores on her nose': 'http://www.dogforum.com/dog-health/my-dog-has-these-sores-her-322890/',\n",
       " 'My dog is acting weird': 'http://www.dogforum.com/dog-health/my-dog-acting-weird-329961/',\n",
       " 'My dog stopped eating ad has blood in his poop': 'http://www.dogforum.com/dog-health/my-dog-stopped-eating-ad-has-323442/',\n",
       " 'My dog was scratched by a cat with rabies': 'http://www.dogforum.com/dog-health/my-dog-scratched-cat-rabies-325305/',\n",
       " 'My dogs scabs are green? Am I overreacting?': 'http://www.dogforum.com/dog-health/my-dogs-scabs-green-am-i-322530/',\n",
       " 'My puppy has weak front paws': 'http://www.dogforum.com/dog-health/my-puppy-has-weak-front-paws-329569/',\n",
       " 'Mystery Illness': 'http://www.dogforum.com/dog-health/mystery-illness-327945/',\n",
       " 'Need Advice:  Lipoma': 'http://www.dogforum.com/dog-health/need-advice-lipoma-329209/',\n",
       " 'Need Info On Renal Dysplasia': 'http://www.dogforum.com/dog-health/need-info-renal-dysplasia-329257/',\n",
       " 'Need Possible Informative Info Please!! Maybe your dog Experienced this??': 'http://www.dogforum.com/dog-health/need-possible-informative-info-please-maybe-323522/',\n",
       " 'Need advice about my puppy who fell.': 'http://www.dogforum.com/dog-health/need-advice-about-my-puppy-who-331650/',\n",
       " 'Need advice for older dog?': 'http://www.dogforum.com/dog-health/need-advice-older-dog-323810/',\n",
       " 'Need help with holistic approach to pet health care': 'http://www.dogforum.com/dog-health/need-help-holistic-approach-pet-health-322490/',\n",
       " 'Need help with my Alaskan Malamute puppy': 'http://www.dogforum.com/dog-health/need-help-my-alaskan-malamute-puppy-322570/',\n",
       " 'Need some advice on what these bumps are on my dog': 'http://www.dogforum.com/dog-health/need-some-advice-what-these-bumps-323874/',\n",
       " 'Neuter incision healing normally???': 'http://www.dogforum.com/dog-health/neuter-incision-healing-normally-324745/',\n",
       " 'Newly adopted dog not eating': 'http://www.dogforum.com/dog-health/newly-adopted-dog-not-eating-326601/',\n",
       " 'Nexgard severe reactions': 'http://www.dogforum.com/dog-health/nexgard-severe-reactions-280137/',\n",
       " 'OFA/Hip X-ray': 'http://www.dogforum.com/dog-health/ofa-hip-x-ray-327017/',\n",
       " 'Obsessive Licking': 'http://www.dogforum.com/dog-health/obsessive-licking-327529/',\n",
       " 'One-page Dog Safety PDF -- Contributions Anyone?': 'http://www.dogforum.com/dog-health/one-page-dog-safety-pdf-contributions-325761/',\n",
       " 'Onion': 'http://www.dogforum.com/dog-health/onion-331234/',\n",
       " 'PRINTABLE POSTER: Normal range of temp / pulse / resp in cats & dogs': 'http://www.dogforum.com/dog-health/printable-poster-normal-range-temp-pulse-331058/',\n",
       " \"Parents won't let dog inside, how do I give him the best care possible?\": 'http://www.dogforum.com/dog-health/parents-wont-let-dog-inside-how-327577/',\n",
       " 'Parvo infection risk': 'http://www.dogforum.com/dog-health/parvo-infection-risk-324593/',\n",
       " 'Pet Hero program for vet savings? Any thoughts?': 'http://www.dogforum.com/dog-health/pet-hero-program-vet-savings-any-328281/',\n",
       " 'Please HELP': 'http://www.dogforum.com/dog-health/please-help-329273/',\n",
       " 'Please Help Strange(And I mean STRANGE) issue with our pup!': 'http://www.dogforum.com/dog-health/please-help-strange-i-mean-strange-331706/',\n",
       " 'Please Help! Chipom just diagnosed with tracheal collapse.': 'http://www.dogforum.com/dog-health/please-help-chipom-just-diagnosed-tracheal-330033/',\n",
       " \"Please help I'm really worried, what does this poop color mean?\": 'http://www.dogforum.com/dog-health/please-help-im-really-worried-what-324321/',\n",
       " 'Possible Mange': 'http://www.dogforum.com/dog-health/possible-mange-328305/',\n",
       " 'Possible broken nail': 'http://www.dogforum.com/dog-health/possible-broken-nail-327889/',\n",
       " 'Potential Pyometra': 'http://www.dogforum.com/dog-health/potential-pyometra-331474/',\n",
       " 'Prednisone or old age? (incontinence)': 'http://www.dogforum.com/dog-health/prednisone-old-age-incontinence-326961/',\n",
       " 'Pup has been tired all day. help': 'http://www.dogforum.com/dog-health/pup-has-been-tired-all-day-328833/',\n",
       " 'Puppies': 'http://www.dogforum.com/dog-health/puppies-326257/',\n",
       " 'Puppy is terribly itchy and upset about it': 'http://www.dogforum.com/dog-health/puppy-terribly-itchy-upset-about-323738/',\n",
       " 'Puppy sleeps on the floor': 'http://www.dogforum.com/dog-health/puppy-sleeps-floor-327585/',\n",
       " 'Puppy with hypoglycemia': 'http://www.dogforum.com/dog-health/puppy-hypoglycemia-324409/',\n",
       " 'Rapid sniffling almost trying to catch breath, please help': 'http://www.dogforum.com/dog-health/rapid-sniffling-almost-trying-catch-breath-330273/',\n",
       " 'Rash Under Belly': 'http://www.dogforum.com/dog-health/rash-under-belly-326233/',\n",
       " 'Really concerning symptoms after exercise in dog w/ congenital heart murmur': 'http://www.dogforum.com/dog-health/really-concerning-symptoms-after-exercise-dog-330817/',\n",
       " 'Red belly': 'http://www.dogforum.com/dog-health/red-belly-327785/',\n",
       " 'Ringworm?': 'http://www.dogforum.com/dog-health/ringworm-330393/',\n",
       " 'Sad stuff....': 'http://www.dogforum.com/dog-health/sad-stuff-328225/',\n",
       " 'Safe, non-drowsy med for reverse sneezing (maybe allergy)?': 'http://www.dogforum.com/dog-health/safe-non-drowsy-med-reverse-sneezing-330513/',\n",
       " 'Senior dog with multiple health problems, need advice!': 'http://www.dogforum.com/dog-health/senior-dog-multiple-health-problems-need-324513/',\n",
       " 'Shihtzu Blind and Renal failure': 'http://www.dogforum.com/dog-health/shihtzu-blind-renal-failure-324689/',\n",
       " 'Sick 6week old shih tzu puppy': 'http://www.dogforum.com/dog-health/sick-6week-old-shih-tzu-puppy-331562/',\n",
       " 'Sick Yorkie - Any help appreciated': 'http://www.dogforum.com/dog-health/sick-yorkie-any-help-appreciated-323210/',\n",
       " 'Socialization versus parvo versus being able to control the environment': 'http://www.dogforum.com/dog-health/socialization-versus-parvo-versus-being-able-322314/',\n",
       " 'Sore muscles?': 'http://www.dogforum.com/dog-health/sore-muscles-325873/',\n",
       " 'Sore rear leg': 'http://www.dogforum.com/dog-health/sore-rear-leg-325481/',\n",
       " 'Spots on Dog?s Tail?': 'http://www.dogforum.com/dog-health/spots-dog-s-tail-329729/',\n",
       " 'Staggered Puppy Vaccine Schedules': 'http://www.dogforum.com/dog-health/staggered-puppy-vaccine-schedules-327857/',\n",
       " \"Strange lump on dog's ear\": 'http://www.dogforum.com/dog-health/strange-lump-dogs-ear-324849/',\n",
       " 'Supplements/Medication for Arthritis': 'http://www.dogforum.com/dog-health/supplements-medication-arthritis-317490/',\n",
       " \"Surgery, It's Happening!\": 'http://www.dogforum.com/dog-health/surgery-its-happening-321129/',\n",
       " 'Taking a puppy home at 6 weeks': 'http://www.dogforum.com/dog-health/taking-puppy-home-6-weeks-323178/',\n",
       " \"Terminally I'll dog\": 'http://www.dogforum.com/dog-health/terminally-ill-dog-328313/',\n",
       " 'The DogForum.com Rules': 'http://www.dogforum.com/dog-health/dogforum-com-rules-103538/',\n",
       " 'Tick bite help please': 'http://www.dogforum.com/dog-health/tick-bite-help-please-323858/',\n",
       " 'Tired on Lasix for CHF': 'http://www.dogforum.com/dog-health/tired-lasix-chf-322474/',\n",
       " 'To operate or not on older dog': 'http://www.dogforum.com/dog-health/operate-not-older-dog-331578/',\n",
       " 'To spay or partial spay a buhund': 'http://www.dogforum.com/dog-health/spay-partial-spay-buhund-322186/',\n",
       " 'UTI or just being a puppy?': 'http://www.dogforum.com/dog-health/uti-just-being-puppy-330249/',\n",
       " 'Unknown cause of death, need insight': 'http://www.dogforum.com/dog-health/unknown-cause-death-need-insight-331194/',\n",
       " 'Unknown type of tick/flea/myte': 'http://www.dogforum.com/dog-health/unknown-type-tick-flea-myte-331154/',\n",
       " 'Unusual living situation vs recovery after neutering': 'http://www.dogforum.com/dog-health/unusual-living-situation-vs-recovery-after-328025/',\n",
       " 'Urgent help! Dog gotten a stroke': 'http://www.dogforum.com/dog-health/urgent-help-dog-gotten-stroke-330409/',\n",
       " 'Urgent need help': 'http://www.dogforum.com/dog-health/urgent-need-help-330105/',\n",
       " 'Vaccination Schedule': 'http://www.dogforum.com/dog-health/vaccination-schedule-329713/',\n",
       " 'Vaccination on older dog': 'http://www.dogforum.com/dog-health/vaccination-older-dog-323642/',\n",
       " 'Vaccinations and current illness': 'http://www.dogforum.com/dog-health/vaccinations-current-illness-330521/',\n",
       " 'Vaccines': 'http://www.dogforum.com/dog-health/vaccines-330625/',\n",
       " 'Vaginal Discharge': 'http://www.dogforum.com/dog-health/vaginal-discharge-330017/',\n",
       " 'Vastectomy vs Castration': 'http://www.dogforum.com/dog-health/vastectomy-vs-castration-327849/',\n",
       " 'Weird skin issue on 15 month old Pekingese': 'http://www.dogforum.com/dog-health/weird-skin-issue-15-month-old-324417/',\n",
       " 'Weird spot after neutering': 'http://www.dogforum.com/dog-health/weird-spot-after-neutering-331042/',\n",
       " 'Westie character change': 'http://www.dogforum.com/dog-health/westie-character-change-329289/',\n",
       " 'What do you do?': 'http://www.dogforum.com/dog-health/what-do-you-do-326777/',\n",
       " \"What is this thing on my dog's head? *pics included\": 'http://www.dogforum.com/dog-health/what-thing-my-dogs-head-pics-328265/',\n",
       " 'What is this thing on my dogs skin?': 'http://www.dogforum.com/dog-health/what-thing-my-dogs-skin-326905/',\n",
       " 'What is wrong with my Blue Heeler?': 'http://www.dogforum.com/dog-health/what-wrong-my-blue-heeler-325945/',\n",
       " 'Worms??': 'http://www.dogforum.com/dog-health/worms-326137/',\n",
       " 'Yelping no pain': 'http://www.dogforum.com/dog-health/yelping-no-pain-325617/',\n",
       " 'belly grooming question': 'http://www.dogforum.com/dog-health/belly-grooming-question-327689/',\n",
       " 'bump right by elbow??': 'http://www.dogforum.com/dog-health/bump-right-elbow-329393/',\n",
       " 'dog may have been stung in mouth': 'http://www.dogforum.com/dog-health/dog-may-have-been-stung-mouth-329193/',\n",
       " 'dog vomiting': 'http://www.dogforum.com/dog-health/dog-vomiting-326433/',\n",
       " 'flea and ticks help': 'http://www.dogforum.com/dog-health/flea-ticks-help-328569/',\n",
       " 'fleas after Frontline': 'http://www.dogforum.com/dog-health/fleas-after-frontline-330937/',\n",
       " 'gabapentin': 'http://www.dogforum.com/dog-health/gabapentin-324833/',\n",
       " 'is wiping floor with tick control safe for human': 'http://www.dogforum.com/dog-health/wiping-floor-tick-control-safe-human-329281/',\n",
       " 'my 8 year old pug suddly died in sleep can anyone help with a bit of info': 'http://www.dogforum.com/dog-health/my-8-year-old-pug-suddly-329953/',\n",
       " 'my dog has mushy yellow stool': 'http://www.dogforum.com/dog-health/my-dog-has-mushy-yellow-stool-327425/',\n",
       " 'possible allergy and food change': 'http://www.dogforum.com/dog-health/possible-allergy-food-change-324681/',\n",
       " 'successful vet visits': 'http://www.dogforum.com/dog-health/successful-vet-visits-9982/'}"
      ]
     },
     "execution_count": 10,
     "metadata": {},
     "output_type": "execute_result"
    }
   ],
   "source": [
    "thread"
   ]
  },
  {
   "cell_type": "markdown",
   "metadata": {
    "scrolled": false
   },
   "source": [
    "### 求方便，先手動設定頁數範圍，之後再參考Mobile 01的作法"
   ]
  },
  {
   "cell_type": "code",
   "execution_count": 81,
   "metadata": {
    "collapsed": true
   },
   "outputs": [],
   "source": [
    "def board_urls(board_name,last_page):\n",
    "    thread = {}\n",
    "    for page in range(1,last_page+1):\n",
    "        url = \"http://www.dogforum.com/{}/{}/\".format(board_name, page)\n",
    "        resp = requests.get(url, headers=headers)\n",
    "        soup = BeautifulSoup(resp.text, 'lxml')\n",
    "        for num in range(1,250):\n",
    "            try:\n",
    "                key = soup.select('table')[11].findAll(\"a\", id=re.compile(\"^thread_title_\"))[num].text\n",
    "                value = soup.select('table')[11].findAll(\"a\", id=re.compile(\"^thread_title_\"))[num]['href']\n",
    "                thread[key] = value\n",
    "            except IndexError:\n",
    "                break\n",
    "    return thread"
   ]
  },
  {
   "cell_type": "code",
   "execution_count": 82,
   "metadata": {},
   "outputs": [
    {
     "data": {
      "text/plain": [
       "{'\"Indoor dogs can\\'t get heartworm\" - MYTH': 'http://www.dogforum.com/dog-health/indoor-dogs-cant-get-heartworm-myth-334434/',\n",
       " '\"What is Parvo?\"': 'http://www.dogforum.com/dog-health/what-parvo-5256/',\n",
       " '(Pics) Pitbull seasonal allergies, food allergies, or mites?': 'http://www.dogforum.com/dog-health/pics-pitbull-seasonal-allergies-food-allergies-331874/',\n",
       " '1 ear drooping': 'http://www.dogforum.com/dog-health/1-ear-drooping-349130/',\n",
       " '10 Week Old Toy Poodle Fur Concern': 'http://www.dogforum.com/dog-health/10-week-old-toy-poodle-fur-336338/',\n",
       " '11 week old puppy, allergies?': 'http://www.dogforum.com/dog-health/11-week-old-puppy-allergies-349170/',\n",
       " '11 y/o large mammary mass -running out of options': 'http://www.dogforum.com/dog-health/11-y-o-large-mammary-mass-350042/',\n",
       " '12 year old Shih Tzu will be getting Spay': 'http://www.dogforum.com/dog-health/12-year-old-shih-tzu-will-339178/',\n",
       " '12 yr old English lab...is it time?': 'http://www.dogforum.com/dog-health/12-yr-old-english-lab-time-350666/',\n",
       " '13 year old with very soft stool': 'http://www.dogforum.com/dog-health/13-year-old-very-soft-stool-350402/',\n",
       " \"17 year old Cockapoo won't stop dry hacking / coughing\": 'http://www.dogforum.com/dog-health/17-year-old-cockapoo-wont-stop-348722/',\n",
       " '18 month Lab skin problems and weight loss': 'http://www.dogforum.com/dog-health/18-month-lab-skin-problems-weight-342138/',\n",
       " '2 Months old puppy': 'http://www.dogforum.com/dog-health/2-months-old-puppy-331970/',\n",
       " '20 Crate Rest Activities': 'http://www.dogforum.com/dog-health/20-crate-rest-activities-51130/',\n",
       " '5 mo puppy spay incision': 'http://www.dogforum.com/dog-health/5-mo-puppy-spay-incision-341898/',\n",
       " '5 week old litter throwing up!': 'http://www.dogforum.com/dog-health/5-week-old-litter-throwing-up-344281/',\n",
       " '6 month old Goldendoodle with chronic diarrhea': 'http://www.dogforum.com/dog-health/6-month-old-goldendoodle-chronic-diarrhea-348738/',\n",
       " '6 year old Pittie constantly scratching same spot': 'http://www.dogforum.com/dog-health/6-year-old-pittie-constantly-scratching-337114/',\n",
       " '6-Month, Neutered Male with Excessive Urination': 'http://www.dogforum.com/dog-health/6-month-neutered-male-excessive-urination-345025/',\n",
       " '8-week old Belgian Shepherd/Tervuren too smalll?': 'http://www.dogforum.com/dog-health/8-week-old-belgian-shepherd-tervuren-345825/',\n",
       " '?: Your opinion on anesthesia for 12 yr. old greyhound': 'http://www.dogforum.com/dog-health/your-opinion-anesthesia-12-yr-old-336562/',\n",
       " 'ALLERGIES - Help!': 'http://www.dogforum.com/dog-health/allergies-help-343889/',\n",
       " 'Adopted Dog With Shaky Legs': 'http://www.dogforum.com/dog-health/adopted-dog-shaky-legs-333202/',\n",
       " 'Advanced heart disease and weather': 'http://www.dogforum.com/dog-health/advanced-heart-disease-weather-339585/',\n",
       " 'Advice on giving new joint supplements': 'http://www.dogforum.com/dog-health/advice-giving-new-joint-supplements-348521/',\n",
       " 'Advice on how to treat difficult-to-treat hotspots?': 'http://www.dogforum.com/dog-health/advice-how-treat-difficult-treat-hotspots-340498/',\n",
       " 'Advice re: preventing dog licking paw pads?': 'http://www.dogforum.com/dog-health/advice-re-preventing-dog-licking-paw-335106/',\n",
       " 'After Bladder Surgery Treatment Help': 'http://www.dogforum.com/dog-health/after-bladder-surgery-treatment-help-342473/',\n",
       " 'Allergies': 'http://www.dogforum.com/dog-health/allergies-343161/',\n",
       " 'Am I giving my dogs too many bones?': 'http://www.dogforum.com/dog-health/am-i-giving-my-dogs-too-348225/',\n",
       " 'Anal Fissure': 'http://www.dogforum.com/dog-health/anal-fissure-341402/',\n",
       " 'Anal Gland support??': 'http://www.dogforum.com/dog-health/anal-gland-support-347121/',\n",
       " 'Antifreeze poisoning': 'http://www.dogforum.com/dog-health/antifreeze-poisoning-7636/',\n",
       " 'Anxiety in 11 year old': 'http://www.dogforum.com/dog-health/anxiety-11-year-old-349898/',\n",
       " \"Any dog paw wrap strategies my dog won't chew off?  Also, hot spot remedies?\": 'http://www.dogforum.com/dog-health/any-dog-paw-wrap-strategies-my-343177/',\n",
       " 'Any idea the type of rash on the tip of my dogs ear?': 'http://www.dogforum.com/dog-health/any-idea-type-rash-tip-my-350866/',\n",
       " 'Any idea what this bump could be?': 'http://www.dogforum.com/dog-health/any-idea-what-bump-could-337578/',\n",
       " 'Anybody else?': 'http://www.dogforum.com/dog-health/anybody-else-345401/',\n",
       " 'Apoquel vs benadryl': 'http://www.dogforum.com/dog-health/apoquel-vs-benadryl-344505/',\n",
       " 'Are all these vaccinations really necessary?': 'http://www.dogforum.com/dog-health/all-these-vaccinations-really-necessary-349258/',\n",
       " 'Are dog flea collars bad for dogs?': 'http://www.dogforum.com/dog-health/dog-flea-collars-bad-dogs-348842/',\n",
       " 'Arthritis in old dog?': 'http://www.dogforum.com/dog-health/arthritis-old-dog-350122/',\n",
       " 'Back leg problems': 'http://www.dogforum.com/dog-health/back-leg-problems-333978/',\n",
       " 'Bad breath since young age.': 'http://www.dogforum.com/dog-health/bad-breath-since-young-age-335634/',\n",
       " 'Ben ate a small bit of plastic.': 'http://www.dogforum.com/dog-health/ben-ate-small-bit-plastic-342186/',\n",
       " 'Black flaky skin on my yorkiepoos chin??? Please help': 'http://www.dogforum.com/dog-health/black-flaky-skin-my-yorkiepoos-chin-334130/',\n",
       " \"Black line and redness in my dog's eye?\": 'http://www.dogforum.com/dog-health/black-line-redness-my-dogs-eye-350738/',\n",
       " 'Bladder stones': 'http://www.dogforum.com/dog-health/bladder-stones-334818/',\n",
       " 'Blaze has started a limp when outside': 'http://www.dogforum.com/dog-health/blaze-has-started-limp-when-outside-340170/',\n",
       " 'Body-wt vs \"Condition\" - fit isn\\'t a number...': 'http://www.dogforum.com/dog-health/body-wt-vs-condition-fit-isnt-331962/',\n",
       " 'Bordadella - She blew most of it out': 'http://www.dogforum.com/dog-health/bordadella-she-blew-most-out-335362/',\n",
       " 'Brown vomits with white eggs by ship´s dog': 'http://www.dogforum.com/dog-health/brown-vomits-white-eggs-ship-s-334290/',\n",
       " 'Bump on dogs tail': 'http://www.dogforum.com/dog-health/bump-dogs-tail-335930/',\n",
       " 'Bump on neck?': 'http://www.dogforum.com/dog-health/bump-neck-334258/',\n",
       " 'Bumpy Scabs on 6 month old lab/pit mix': 'http://www.dogforum.com/dog-health/bumpy-scabs-6-month-old-lab-333698/',\n",
       " 'Can bones fracture puppy\\x92s teeth?': 'http://www.dogforum.com/dog-health/can-bones-fracture-puppy-s-teeth-344217/',\n",
       " 'Can someone please help': 'http://www.dogforum.com/dog-health/can-someone-please-help-336442/',\n",
       " \"Can't Tell if This is a Tumour or Not\": 'http://www.dogforum.com/dog-health/cant-tell-if-tumour-not-345185/',\n",
       " 'Canine Flu': 'http://www.dogforum.com/dog-health/canine-flu-338986/',\n",
       " 'Canine Osteosarcoma Survey': 'http://www.dogforum.com/dog-health/canine-osteosarcoma-survey-345849/',\n",
       " 'Care Credit': 'http://www.dogforum.com/dog-health/care-credit-23726/',\n",
       " 'Caring for cut paws at home?': 'http://www.dogforum.com/dog-health/caring-cut-paws-home-349874/',\n",
       " 'Castration yesterday. Technique? Convalescence?': 'http://www.dogforum.com/dog-health/castration-yesterday-technique-convalescence-343569/',\n",
       " 'Caved/Dented head': 'http://www.dogforum.com/dog-health/caved-dented-head-336802/',\n",
       " 'Chihuahua with physical and possibly mental disorders': 'http://www.dogforum.com/dog-health/chihuahua-physical-possibly-mental-disorders-332530/',\n",
       " 'Chocolate Overload': 'http://www.dogforum.com/dog-health/chocolate-overload-333386/',\n",
       " 'Claw half torn off/visible quick(pink thing)': 'http://www.dogforum.com/dog-health/claw-half-torn-off-visible-quick-331850/',\n",
       " 'Clear Liquid from Anus (anal glands already extracted)': 'http://www.dogforum.com/dog-health/clear-liquid-anus-anal-glands-already-349706/',\n",
       " 'Concerns about puppy\\x92s pee.': 'http://www.dogforum.com/dog-health/concerns-about-puppy-s-pee-347881/',\n",
       " 'Corgi puppy repeated diarrhea/soft stool': 'http://www.dogforum.com/dog-health/corgi-puppy-repeated-diarrhea-soft-stool-335914/',\n",
       " 'Creatinine and BUN level': 'http://www.dogforum.com/dog-health/creatinine-bun-level-348081/',\n",
       " 'Creative Solutions to Persistent Skin Infections from Allergies?': 'http://www.dogforum.com/dog-health/creative-solutions-persistent-skin-infections-allergies-343049/',\n",
       " 'Crying Dog, Opinions Please': 'http://www.dogforum.com/dog-health/crying-dog-opinions-please-343385/',\n",
       " 'DOG has FLAKY SKIN and LOSING HAIR what is it ?': 'http://www.dogforum.com/dog-health/dog-has-flaky-skin-losing-hair-342545/',\n",
       " 'Dark Spot on Puppies Belly': 'http://www.dogforum.com/dog-health/dark-spot-puppies-belly-335018/',\n",
       " 'Dew Claw Removal': 'http://www.dogforum.com/dog-health/dew-claw-removal-349018/',\n",
       " 'Dewormer/Advantix': 'http://www.dogforum.com/dog-health/dewormer-advantix-344841/',\n",
       " 'Diabetes': 'http://www.dogforum.com/dog-health/diabetes-349914/',\n",
       " 'Diarrhea mystery - new yard': 'http://www.dogforum.com/dog-health/diarrhea-mystery-new-yard-332098/',\n",
       " 'Do You Know About Nexgard': 'http://www.dogforum.com/dog-health/do-you-know-about-nexgard-322786/',\n",
       " 'Does anyone know what these bumps are?': 'http://www.dogforum.com/dog-health/does-anyone-know-what-these-bumps-337642/',\n",
       " 'Does the dog have a cold or what is it': 'http://www.dogforum.com/dog-health/does-dog-have-cold-what-350458/',\n",
       " 'Does this spay incision look infected?': 'http://www.dogforum.com/dog-health/does-spay-incision-look-infected-350842/',\n",
       " 'Dog 45 days pregnant with a low temp': 'http://www.dogforum.com/dog-health/dog-45-days-pregnant-low-temp-351522/',\n",
       " 'Dog Allergies?': 'http://www.dogforum.com/dog-health/dog-allergies-336194/',\n",
       " 'Dog Behavior After Recovery': 'http://www.dogforum.com/dog-health/dog-behavior-after-recovery-350834/',\n",
       " 'Dog Chafing': 'http://www.dogforum.com/dog-health/dog-chafing-346505/',\n",
       " 'Dog Flu 2018': 'http://www.dogforum.com/dog-health/dog-flu-2018-a-348529/',\n",
       " 'Dog With Heart Disease Needs Surgery': 'http://www.dogforum.com/dog-health/dog-heart-disease-needs-surgery-342977/',\n",
       " 'Dog allergies 9week old help.': 'http://www.dogforum.com/dog-health/dog-allergies-9week-old-help-347457/',\n",
       " 'Dog ate a little leather, should I worry?': 'http://www.dogforum.com/dog-health/dog-ate-little-leather-should-i-343497/',\n",
       " 'Dog ate pizza D:': 'http://www.dogforum.com/dog-health/dog-ate-pizza-d-334322/',\n",
       " 'Dog back problem or something else?': 'http://www.dogforum.com/dog-health/dog-back-problem-something-else-340354/',\n",
       " 'Dog behaving in a conrcerning manner licking his nose and carpet': 'http://www.dogforum.com/dog-health/dog-behaving-conrcerning-manner-licking-his-344249/',\n",
       " 'Dog behavior change after being sick': 'http://www.dogforum.com/dog-health/dog-behavior-change-after-being-sick-340554/',\n",
       " 'Dog getting sores all over body': 'http://www.dogforum.com/dog-health/dog-getting-sores-all-over-body-335330/',\n",
       " \"Dog got spayed three days ago, hasn't peed.\": 'http://www.dogforum.com/dog-health/dog-got-spayed-three-days-ago-339362/',\n",
       " 'Dog had hives and now vomiting': 'http://www.dogforum.com/dog-health/dog-had-hives-now-vomiting-341458/',\n",
       " 'Dog has Pancreatitis': 'http://www.dogforum.com/dog-health/dog-has-pancreatitis-343793/',\n",
       " 'Dog has a 360° ring around paw': 'http://www.dogforum.com/dog-health/dog-has-360-ring-around-paw-338002/',\n",
       " 'Dog heaving up white foamy mucus': 'http://www.dogforum.com/dog-health/dog-heaving-up-white-foamy-mucus-338514/',\n",
       " 'Dog is starting to get grey hair': 'http://www.dogforum.com/dog-health/dog-starting-get-grey-hair-344777/',\n",
       " 'Dog just diagnosed with cancer': 'http://www.dogforum.com/dog-health/dog-just-diagnosed-cancer-346945/',\n",
       " 'Dog open-cyst not going away for roughly 6 months': 'http://www.dogforum.com/dog-health/dog-open-cyst-not-going-away-332106/',\n",
       " 'Dog pees/poops only once per day': 'http://www.dogforum.com/dog-health/dog-pees-poops-only-once-per-350762/',\n",
       " 'Dog slipping': 'http://www.dogforum.com/dog-health/dog-slipping-336490/',\n",
       " 'Dog toothpaste v.2': 'http://www.dogforum.com/dog-health/dog-toothpaste-v-2-a-343153/',\n",
       " 'Dog will gag after getting up?': 'http://www.dogforum.com/dog-health/dog-will-gag-after-getting-up-341586/',\n",
       " 'Dog with bad hips': 'http://www.dogforum.com/dog-health/dog-bad-hips-347857/',\n",
       " \"Dog's toes swelling, need help\": 'http://www.dogforum.com/dog-health/dogs-toes-swelling-need-help-337858/',\n",
       " 'Dogs Tail': 'http://www.dogforum.com/dog-health/dogs-tail-344329/',\n",
       " 'Dogs eye bulging out and swollen': 'http://www.dogforum.com/dog-health/dogs-eye-bulging-out-swollen-350562/',\n",
       " 'Eight year old dog getting raw spots on her feet': 'http://www.dogforum.com/dog-health/eight-year-old-dog-getting-raw-339930/',\n",
       " 'Elbow surgery recovery experiences?': 'http://www.dogforum.com/dog-health/elbow-surgery-recovery-experiences-341746/',\n",
       " 'Elderly Lab mix, digestion issues, weight loss.': 'http://www.dogforum.com/dog-health/elderly-lab-mix-digestion-issues-weight-350354/',\n",
       " 'English Bulldog Bald Spots': 'http://www.dogforum.com/dog-health/english-bulldog-bald-spots-345585/',\n",
       " 'Euthanasia for Allergies': 'http://www.dogforum.com/dog-health/euthanasia-allergies-342889/',\n",
       " 'Extra Dose of Frontline Plus Topical': 'http://www.dogforum.com/dog-health/extra-dose-frontline-plus-topical-332402/',\n",
       " 'Eyes : Puppy showing differences in eyes': 'http://www.dogforum.com/dog-health/eyes-puppy-showing-differences-eyes-337826/',\n",
       " 'Fast Kill vs Slow Kill Heartworm Treatment - which is better?': 'http://www.dogforum.com/dog-health/fast-kill-vs-slow-kill-heartworm-333626/',\n",
       " 'Female in heat still?': 'http://www.dogforum.com/dog-health/female-heat-still-349250/',\n",
       " 'First Aid Kit': 'http://www.dogforum.com/dog-health/first-aid-kit-1518/',\n",
       " 'Flea problem': 'http://www.dogforum.com/dog-health/flea-problem-335874/',\n",
       " 'Fleas': 'http://www.dogforum.com/dog-health/fleas-1/',\n",
       " 'Fleas Vs CO2': 'http://www.dogforum.com/dog-health/fleas-vs-co2-336450/',\n",
       " 'Fleas or Yeast Infection?': 'http://www.dogforum.com/dog-health/fleas-yeast-infection-343705/',\n",
       " 'Fleas, mites and other parasites': 'http://www.dogforum.com/dog-health/fleas-mites-other-parasites-334194/',\n",
       " 'Food Suggestions for Dog With No Appetite': 'http://www.dogforum.com/dog-health/food-suggestions-dog-no-appetite-332250/',\n",
       " 'Frequent Urination': 'http://www.dogforum.com/dog-health/frequent-urination-341594/',\n",
       " 'German shepherd neuter': 'http://www.dogforum.com/dog-health/german-shepherd-neuter-331282/',\n",
       " 'Glucosamine & Joint Health?': 'http://www.dogforum.com/dog-health/glucosamine-joint-health-350506/',\n",
       " 'Good and Bad Herbs for Dogs \\x96 Every Pet Owner Must Know It': 'http://www.dogforum.com/dog-health/good-bad-herbs-dogs-every-pet-347969/',\n",
       " 'Great vet visit': 'http://www.dogforum.com/dog-health/great-vet-visit-350786/',\n",
       " 'Growth on dogs eye': 'http://www.dogforum.com/dog-health/growth-dogs-eye-349362/',\n",
       " 'Gurgling Tummy and Mucus/Slimy Poops': 'http://www.dogforum.com/dog-health/gurgling-tummy-mucus-slimy-poops-333154/',\n",
       " \"HELP NEEDED - our dog is very sick and the Vet doesn't know what it is\": 'http://www.dogforum.com/dog-health/help-needed-our-dog-very-sick-347409/',\n",
       " 'Head tremors? Desperately need advice...': 'http://www.dogforum.com/dog-health/head-tremors-desperately-need-advice-347369/',\n",
       " 'Health deteriorating quickly, and the quality of life, long trip to the vet questions': 'http://www.dogforum.com/dog-health/health-deteriorating-quickly-quality-life-long-345097/',\n",
       " 'Healthy body weight guide and info': 'http://www.dogforum.com/dog-health/healthy-body-weight-guide-info-16880/',\n",
       " 'Heartgard Side Effects': 'http://www.dogforum.com/dog-health/heartgard-side-effects-350642/',\n",
       " 'Heavy duty flea prevention': 'http://www.dogforum.com/dog-health/heavy-duty-flea-prevention-259977/',\n",
       " 'Help Remembering Vet Appointments': 'http://www.dogforum.com/dog-health/help-remembering-vet-appointments-342393/',\n",
       " 'Help diagnose my dog!': 'http://www.dogforum.com/dog-health/help-diagnose-my-dog-334426/',\n",
       " 'Help my puppy si not eating dry food': 'http://www.dogforum.com/dog-health/help-my-puppy-si-not-eating-332242/',\n",
       " 'Help please': 'http://www.dogforum.com/dog-health/help-please-336106/',\n",
       " 'Help!': 'http://www.dogforum.com/dog-health/help-339457/',\n",
       " \"Help! After exploratory surgery dog still sick, vet doesn't know what is wrong\": 'http://www.dogforum.com/dog-health/help-after-exploratory-surgery-dog-still-337066/',\n",
       " 'Help! Poorly Jack Russel': 'http://www.dogforum.com/dog-health/help-poorly-jack-russel-297010/',\n",
       " 'Help! Puppy too fat??': 'http://www.dogforum.com/dog-health/help-puppy-too-fat-338122/',\n",
       " 'Help! There is a spot and I am worried': 'http://www.dogforum.com/dog-health/help-there-spot-i-am-worried-351306/',\n",
       " 'Help, not sure what this dog has on it.': 'http://www.dogforum.com/dog-health/help-not-sure-what-dog-has-348433/',\n",
       " 'Hemangiosarcoma & Natural Supplements': 'http://www.dogforum.com/dog-health/hemangiosarcoma-natural-supplements-339826/',\n",
       " 'Hemorrhagic Gastroenteritis is a Nightmare': 'http://www.dogforum.com/dog-health/hemorrhagic-gastroenteritis-nightmare-339698/',\n",
       " 'Hives appearing constantly': 'http://www.dogforum.com/dog-health/hives-appearing-constantly-333586/',\n",
       " 'Hookworms and Coccidia...again.': 'http://www.dogforum.com/dog-health/hookworms-coccidia-again-334826/',\n",
       " 'Horrible rash - German Shepard': 'http://www.dogforum.com/dog-health/horrible-rash-german-shepard-333578/',\n",
       " 'How do you deal?': 'http://www.dogforum.com/dog-health/how-do-you-deal-338674/',\n",
       " 'How much did your dogs luxating Patella surgery cost??': 'http://www.dogforum.com/dog-health/how-much-did-your-dogs-luxating-336482/',\n",
       " 'Husky not eating': 'http://www.dogforum.com/dog-health/husky-not-eating-331746/',\n",
       " 'Hydrotherapy / water exercise or games / wading or swimming': 'http://www.dogforum.com/dog-health/hydrotherapy-water-exercise-games-wading-swimming-334098/',\n",
       " 'I Found a growth on my dogs neck?': 'http://www.dogforum.com/dog-health/i-found-growth-my-dogs-neck-332226/',\n",
       " 'I have a chicken pox and my dog licked me': 'http://www.dogforum.com/dog-health/i-have-chicken-pox-my-dog-348177/',\n",
       " 'I need advice please ( My dog has liver cancer)': 'http://www.dogforum.com/dog-health/i-need-advice-please-my-dog-345769/',\n",
       " 'I think my dog has been misdiagnosed..': 'http://www.dogforum.com/dog-health/i-think-my-dog-has-been-346089/',\n",
       " 'I think my dog is sick': 'http://www.dogforum.com/dog-health/i-think-my-dog-sick-345913/',\n",
       " \"If/when you can't afford vet care (solutions, not shaming)\": 'http://www.dogforum.com/dog-health/if-when-you-cant-afford-vet-26920/',\n",
       " 'Input Wanted-Dog Health': 'http://www.dogforum.com/dog-health/input-wanted-dog-health-335570/',\n",
       " 'Insurance vs Savings': 'http://www.dogforum.com/dog-health/insurance-vs-savings-331402/',\n",
       " 'Is 2 rounds of vaccinations enough?': 'http://www.dogforum.com/dog-health/2-rounds-vaccinations-enough-341938/',\n",
       " 'Is it safe to bring Kobe with me??': 'http://www.dogforum.com/dog-health/safe-bring-kobe-me-336618/',\n",
       " 'Is jasmine green tea safe for dogs?': 'http://www.dogforum.com/dog-health/jasmine-green-tea-safe-dogs-339682/',\n",
       " 'Is my dog overweight?': 'http://www.dogforum.com/dog-health/my-dog-overweight-342050/',\n",
       " 'Is my dog unusual??': 'http://www.dogforum.com/dog-health/my-dog-unusual-331778/',\n",
       " \"Is my dog's incision healing properly ?\": 'http://www.dogforum.com/dog-health/my-dogs-incision-healing-properly-348193/',\n",
       " 'Is my dog?s eye okay?!': 'http://www.dogforum.com/dog-health/my-dog-s-eye-okay-339394/',\n",
       " 'Is this Kennel Cough or Reverse Sneezing? (Video)': 'http://www.dogforum.com/dog-health/kennel-cough-reverse-sneezing-video-336098/',\n",
       " 'Is this a embedded foxtail or a nail infection?': 'http://www.dogforum.com/dog-health/embedded-foxtail-nail-infection-336826/',\n",
       " 'Is this lung cancer?': 'http://www.dogforum.com/dog-health/lung-cancer-351274/',\n",
       " 'Is this tree poisonous to dogs?': 'http://www.dogforum.com/dog-health/tree-poisonous-dogs-337322/',\n",
       " 'Issues with eyes?': 'http://www.dogforum.com/dog-health/issues-eyes-346705/',\n",
       " 'Itching, fungal ear infections & Apoquel': 'http://www.dogforum.com/dog-health/itching-fungal-ear-infections-apoquel-338650/',\n",
       " 'Itchy Dog': 'http://www.dogforum.com/dog-health/itchy-dog-332626/',\n",
       " 'Itchy belly': 'http://www.dogforum.com/dog-health/itchy-belly-346553/',\n",
       " \"Itchy old chihuahua. Vet can't/won't help?\": 'http://www.dogforum.com/dog-health/itchy-old-chihuahua-vet-cant-wont-343001/',\n",
       " 'Joint guard side effects': 'http://www.dogforum.com/dog-health/joint-guard-side-effects-335410/',\n",
       " 'Jumped off of couch - still limping 2 months later': 'http://www.dogforum.com/dog-health/jumped-off-couch-still-limping-2-a-333370/',\n",
       " 'Ladybugs!!': 'http://www.dogforum.com/dog-health/ladybugs-339090/',\n",
       " 'Lipomas?': 'http://www.dogforum.com/dog-health/lipomas-333914/',\n",
       " 'Liver Shunt': 'http://www.dogforum.com/dog-health/liver-shunt-350346/',\n",
       " 'Liver cancer, whines often; pain? difficulty standing?': 'http://www.dogforum.com/dog-health/liver-cancer-whines-often-pain-difficulty-338730/',\n",
       " 'Lola -  Mast Cell Tumor -  Chocolate Lab Mix - 4.5 Years Old': 'http://www.dogforum.com/dog-health/lola-mast-cell-tumor-chocolate-lab-349690/',\n",
       " 'Looking For Advice On Diet': 'http://www.dogforum.com/dog-health/looking-advice-diet-331922/',\n",
       " 'Looking for help/opinions on dealing with my 13 yr old dog': 'http://www.dogforum.com/dog-health/looking-help-opinions-dealing-my-13-a-334474/',\n",
       " 'Loss of Back/Front legs': 'http://www.dogforum.com/dog-health/loss-back-front-legs-345929/',\n",
       " 'Lost and Found: I found a stray/lost my dog, what do I do?': 'http://www.dogforum.com/dog-health/lost-found-i-found-stray-lost-80377/',\n",
       " 'Loud Stomach Noises, Should I be worried?': 'http://www.dogforum.com/dog-health/loud-stomach-noises-should-i-worried-341498/',\n",
       " 'Lump on my dogs leg': 'http://www.dogforum.com/dog-health/lump-my-dogs-leg-335130/',\n",
       " \"Lump on my yorkie's testicle\": 'http://www.dogforum.com/dog-health/lump-my-yorkies-testicle-349546/',\n",
       " 'Lumps on my Malinois nose': 'http://www.dogforum.com/dog-health/lumps-my-malinois-nose-335970/',\n",
       " 'M dog has mast cell tumor': 'http://www.dogforum.com/dog-health/m-dog-has-mast-cell-tumor-344041/',\n",
       " 'Mental exercise for dog on bed rest?': 'http://www.dogforum.com/dog-health/mental-exercise-dog-bed-rest-343561/',\n",
       " 'Monthly prepayment plans for vet care-worth it?': 'http://www.dogforum.com/dog-health/monthly-prepayment-plans-vet-care-worth-345577/',\n",
       " 'Most Read: 7 Dogs Breeds With Sensitive Souls...': 'http://www.dogforum.com/dog-health/most-read-7-dogs-breeds-sensitive-342529/',\n",
       " 'Movalis for hip dysplasia': 'http://www.dogforum.com/dog-health/movalis-hip-dysplasia-350162/',\n",
       " 'Multiple Skin Mast Cell Tumors and Treatment/Prognosis \\x96 no surgery': 'http://www.dogforum.com/dog-health/multiple-skin-mast-cell-tumors-treatment-339042/',\n",
       " 'My 2.5 year old newfie is dying. Pharyngeal paralysis. Any help?': 'http://www.dogforum.com/dog-health/my-2-5-year-old-newfie-345425/',\n",
       " 'My 34 days old retriever : eye problem': 'http://www.dogforum.com/dog-health/my-34-days-old-retriever-eye-351058/',\n",
       " 'My Dog Not Acting Right Post-Surgery!!! :(': 'http://www.dogforum.com/dog-health/my-dog-not-acting-right-post-168754/',\n",
       " 'My Dog is at the emergency vet for piroxicam toxicity': 'http://www.dogforum.com/dog-health/my-dog-emergency-vet-piroxicam-toxicity-335090/',\n",
       " 'My GSD hell': 'http://www.dogforum.com/introductions/help-337850/',\n",
       " 'My Husky has red bumps around mouth': 'http://www.dogforum.com/dog-health/my-husky-has-red-bumps-around-335034/',\n",
       " 'My Puppy\\x92s Paw': 'http://www.dogforum.com/dog-health/my-puppy-s-paw-346905/',\n",
       " 'My Sick Poodle': 'http://www.dogforum.com/dog-health/my-sick-poodle-343401/',\n",
       " 'My beagle pup ate pepperoni pizza': 'http://www.dogforum.com/dog-health/my-beagle-pup-ate-pepperoni-pizza-317418/',\n",
       " 'My dog blind from stroke - is it permanent?': 'http://www.dogforum.com/dog-health/my-dog-blind-stroke-permanent-337970/',\n",
       " 'My dog died after having seizures, and I feel so much guilt': 'http://www.dogforum.com/dog-health/my-dog-died-after-having-seizures-340010/',\n",
       " 'My dog has IBD and food allergies, and hates his special diet': 'http://www.dogforum.com/dog-health/my-dog-has-ibd-food-allergies-350074/',\n",
       " 'My dog has an adrenal gland tumor, and I have some questions': 'http://www.dogforum.com/dog-health/my-dog-has-adrenal-gland-tumor-343033/',\n",
       " 'My dog has cancer, need support, advice, etc.': 'http://www.dogforum.com/dog-health/my-dog-has-cancer-need-support-340618/',\n",
       " 'My dog has hemophilia support group': 'http://www.dogforum.com/dog-health/my-dog-has-hemophilia-support-group-343785/',\n",
       " 'My dog has immunity disease': 'http://www.dogforum.com/dog-health/my-dog-has-immunity-disease-341842/',\n",
       " 'My dog has skin issues and needs your help!': 'http://www.dogforum.com/dog-health/my-dog-has-skin-issues-needs-342825/',\n",
       " 'My dog has started to wet the bed - sometimes!': 'http://www.dogforum.com/dog-health/my-dog-has-started-wet-bed-339962/',\n",
       " 'My dog is having a hard time pooping. Urgent please.': 'http://www.dogforum.com/dog-health/my-dog-having-hard-time-pooping-339234/',\n",
       " 'My dog is panting, shaking and acting strange?': 'http://www.dogforum.com/dog-health/my-dog-panting-shaking-acting-strange-346881/',\n",
       " 'My dog is sick, can anyone tell me if they recognise these symptoms.': 'http://www.dogforum.com/dog-health/my-dog-sick-can-anyone-tell-347849/',\n",
       " 'My dog keeps throwing up every few days': 'http://www.dogforum.com/dog-health/my-dog-keeps-throwing-up-every-339730/',\n",
       " 'My dog looks to have a severe skin problem in her armpit': 'http://www.dogforum.com/dog-health/my-dog-looks-have-severe-skin-342745/',\n",
       " 'My dog might be pregnant help!!!!': 'http://www.dogforum.com/dog-health/my-dog-might-pregnant-help-349962/',\n",
       " 'My dogs health is failing': 'http://www.dogforum.com/dog-health/my-dogs-health-failing-333618/',\n",
       " 'My min pin has two large knots on each side of her body?': 'http://www.dogforum.com/dog-health/my-min-pin-has-two-large-341474/',\n",
       " \"Mysterious Lump on Dog's Hind\": 'http://www.dogforum.com/dog-health/mysterious-lump-dogs-hind-344057/',\n",
       " 'Need Help': 'http://www.dogforum.com/dog-health/need-help-346385/',\n",
       " 'Need advice': 'http://www.dogforum.com/dog-health/need-advice-343441/',\n",
       " 'Need help identifying skin problem on my dog.': 'http://www.dogforum.com/dog-health/need-help-identifying-skin-problem-my-343289/',\n",
       " 'Need help with Yorkie Skin condition': 'http://www.dogforum.com/dog-health/need-help-yorkie-skin-condition-350730/',\n",
       " 'Nervous Dog Momma- Need support': 'http://www.dogforum.com/dog-health/nervous-dog-momma-need-support-341946/',\n",
       " 'New Puppy Has Cherry Eye': 'http://www.dogforum.com/dog-health/new-puppy-has-cherry-eye-334210/',\n",
       " 'New Puppy!': 'http://www.dogforum.com/dog-health/new-puppy-346593/',\n",
       " 'New here. Questions about post surgery': 'http://www.dogforum.com/dog-health/new-here-questions-about-post-surgery-343145/',\n",
       " 'New pup': 'http://www.dogforum.com/dog-health/new-pup-347033/',\n",
       " 'New puppy owner seaking advice.': 'http://www.dogforum.com/dog-health/new-puppy-owner-seaking-advice-336138/',\n",
       " 'New to Flea and Tick Protection, Seresto Advice': 'http://www.dogforum.com/dog-health/new-flea-tick-protection-seresto-advice-331570/',\n",
       " 'Normal neuter healing process?': 'http://www.dogforum.com/dog-health/normal-neuter-healing-process-344969/',\n",
       " 'Nueter 2 days Post Op': 'http://www.dogforum.com/dog-health/nueter-2-days-post-op-347761/',\n",
       " 'Obsessive licking- cause??': 'http://www.dogforum.com/dog-health/obsessive-licking-cause-345793/',\n",
       " \"Odd Injury on Husky/shepherd's lip\": 'http://www.dogforum.com/dog-health/odd-injury-husky-shepherds-lip-349778/',\n",
       " 'Odd behaviour after spay': 'http://www.dogforum.com/dog-health/odd-behaviour-after-spay-337594/',\n",
       " 'Odd mouth behavior in my dog': 'http://www.dogforum.com/dog-health/odd-mouth-behavior-my-dog-346345/',\n",
       " 'Old dog can\\x92t hild on his poop': 'http://www.dogforum.com/dog-health/old-dog-can-t-hild-his-345809/',\n",
       " 'Older dog, constant pyoderma issues': 'http://www.dogforum.com/dog-health/older-dog-constant-pyoderma-issues-337714/',\n",
       " 'Open wound on chest.  Looking for advice': 'http://www.dogforum.com/dog-health/open-wound-chest-looking-advice-337018/',\n",
       " 'Opinions on CCL Tear Conservative Management': 'http://www.dogforum.com/dog-health/opinions-ccl-tear-conservative-management-346649/',\n",
       " 'Oral warts/Papilloma': 'http://www.dogforum.com/dog-health/oral-warts-papilloma-330785/',\n",
       " 'Our Labrador has Valley Fever!!': 'http://www.dogforum.com/dog-health/our-labrador-has-valley-fever-342649/',\n",
       " 'Overgrooming - allergies, stress, both..?': 'http://www.dogforum.com/dog-health/overgrooming-allergies-stress-both-345449/',\n",
       " 'Parvo Recovery': 'http://www.dogforum.com/dog-health/parvo-recovery-345153/',\n",
       " 'Paw Issues': 'http://www.dogforum.com/dog-health/paw-issues-334706/',\n",
       " 'Paw pads turning pink': 'http://www.dogforum.com/dog-health/paw-pads-turning-pink-336930/',\n",
       " 'Permanent Damage from Parvo Years Later': 'http://www.dogforum.com/dog-health/permanent-damage-parvo-years-later-333610/',\n",
       " 'Pet Health Insurance Stories': 'http://www.dogforum.com/dog-health/pet-health-insurance-stories-339818/',\n",
       " 'Picky eater losing weight': 'http://www.dogforum.com/dog-health/picky-eater-losing-weight-343953/',\n",
       " 'Pink spots on lips.': 'http://www.dogforum.com/dog-health/pink-spots-lips-330601/',\n",
       " 'Please Help Identify Unknown Body Rashes/Skin Condition': 'http://www.dogforum.com/dog-health/please-help-identify-unknown-body-rashes-348377/',\n",
       " 'Please help': 'http://www.dogforum.com/dog-health/please-help-335386/',\n",
       " 'Please help me with flea control! Nexgard, Comfortis or Revolution??': 'http://www.dogforum.com/dog-health/please-help-me-flea-control-nexgard-332050/',\n",
       " 'Please help me!!!!!!': 'http://www.dogforum.com/dog-health/please-help-me-333458/',\n",
       " 'Possible Tumor or mass on chihuahuas gums?': 'http://www.dogforum.com/dog-health/possible-tumor-mass-chihuahuas-gums-333746/',\n",
       " 'Possible cancer, what to do?': 'http://www.dogforum.com/dog-health/possible-cancer-what-do-338874/',\n",
       " 'Possibly exposed to parvo': 'http://www.dogforum.com/dog-health/possibly-exposed-parvo-338898/',\n",
       " 'Post abort spay care': 'http://www.dogforum.com/dog-health/post-abort-spay-care-328961/',\n",
       " 'Post-Spay Protocol?': 'http://www.dogforum.com/dog-health/post-spay-protocol-348241/',\n",
       " 'Prepping for Irma, female broke stitches from surgery, need advice please': 'http://www.dogforum.com/dog-health/prepping-irma-female-broke-stitches-surgery-333410/',\n",
       " 'Protecting paws - dog boots and nails': 'http://www.dogforum.com/dog-health/protecting-paws-dog-boots-nails-344849/',\n",
       " 'Psychosis? Dimentia?': 'http://www.dogforum.com/dog-health/psychosis-dimentia-351114/',\n",
       " 'Puppy Teething Problems': 'http://www.dogforum.com/dog-health/puppy-teething-problems-334970/',\n",
       " \"Puppy Won't Eat\": 'http://www.dogforum.com/dog-health/puppy-wont-eat-337450/',\n",
       " 'Puppy in danger! Help fast!': 'http://www.dogforum.com/dog-health/puppy-danger-help-fast-333514/',\n",
       " 'Puppy not eating dinner': 'http://www.dogforum.com/dog-health/puppy-not-eating-dinner-335122/',\n",
       " 'Puppy rescue': 'http://www.dogforum.com/dog-health/puppy-rescue-336250/',\n",
       " 'Puppy suddenly started eating poop': 'http://www.dogforum.com/dog-health/puppy-suddenly-started-eating-poop-340258/',\n",
       " \"Puppy won't lay down after spaying\": 'http://www.dogforum.com/dog-health/puppy-wont-lay-down-after-spaying-350330/',\n",
       " 'Puppys ears are asymetrical': 'http://www.dogforum.com/dog-health/puppys-ears-asymetrical-335578/',\n",
       " 'Quercetin for Dog Allergies': 'http://www.dogforum.com/dog-health/quercetin-dog-allergies-346417/',\n",
       " 'Questions on the laws of dogs well being in Texas': 'http://www.dogforum.com/dog-health/questions-laws-dogs-well-being-texas-333018/',\n",
       " 'Rabies Paranoia for my Dog?': 'http://www.dogforum.com/dog-health/rabies-paranoia-my-dog-345377/',\n",
       " 'Rabies in dogs': 'http://www.dogforum.com/dog-health/rabies-dogs-339657/',\n",
       " 'Rash around mouth': 'http://www.dogforum.com/dog-health/rash-around-mouth-335234/',\n",
       " 'Rash? (Handle harness irritation.)': 'http://www.dogforum.com/dog-health/rash-handle-harness-irritation-338954/',\n",
       " 'Raw paw pads': 'http://www.dogforum.com/dog-health/raw-paw-pads-333650/',\n",
       " \"Recent pink spot under Josie's nose\": 'http://www.dogforum.com/dog-health/recent-pink-spot-under-josies-nose-336410/',\n",
       " 'Recommendations for a rectal dog thermometer?': 'http://www.dogforum.com/dog-health/recommendations-rectal-dog-thermometer-349602/',\n",
       " 'Rectal prolapse. Endless diarrhea. Help?!': 'http://www.dogforum.com/dog-health/rectal-prolapse-endless-diarrhea-help-348938/',\n",
       " \"Red Lump Under Australian Shepherd's Chin\": 'http://www.dogforum.com/dog-health/red-lump-under-australian-shepherds-chin-340090/',\n",
       " 'Red yellow bump on stomach': 'http://www.dogforum.com/dog-health/red-yellow-bump-stomach-350058/',\n",
       " 'Redness between dog toes': 'http://www.dogforum.com/dog-health/redness-between-dog-toes-351498/',\n",
       " 'Requesting advice for my dog who may be pregnant': 'http://www.dogforum.com/dog-health/requesting-advice-my-dog-who-may-349978/',\n",
       " \"SO just told me it's normal our elderly dog has no quality of life & unhappy\": 'http://www.dogforum.com/dog-health/so-just-told-me-its-normal-337930/',\n",
       " 'Sebaceous Adenomas': 'http://www.dogforum.com/dog-health/sebaceous-adenomas-336090/',\n",
       " 'Seizure? Shaking while licking vulva.': 'http://www.dogforum.com/dog-health/seizure-shaking-while-licking-vulva-346833/',\n",
       " 'Shamas ate string': 'http://www.dogforum.com/dog-health/shamas-ate-string-345897/',\n",
       " \"She's chewing up her paws\": 'http://www.dogforum.com/dog-health/shes-chewing-up-her-paws-346801/',\n",
       " 'Should I be freaking out worried about catching rabies from my dog? Incident w/ 3 rac': 'http://www.dogforum.com/dog-health/should-i-freaking-out-worried-about-332506/',\n",
       " 'Should I feel disappointed?': 'http://www.dogforum.com/dog-health/should-i-feel-disappointed-341306/',\n",
       " 'Sisters dogs belly is swollen': 'http://www.dogforum.com/dog-health/sisters-dogs-belly-swollen-333834/',\n",
       " 'Skin Tag?': 'http://www.dogforum.com/dog-health/skin-tag-348497/',\n",
       " 'Skin concerns': 'http://www.dogforum.com/dog-health/skin-concerns-348065/',\n",
       " 'Skin issues': 'http://www.dogforum.com/dog-health/skin-issues-319881/',\n",
       " 'Skin lesions/infection any ideas?': 'http://www.dogforum.com/dog-health/skin-lesions-infection-any-ideas-339842/',\n",
       " 'Sleep Apnea - Pug!! Help': 'http://www.dogforum.com/dog-health/sleep-apnea-pug-help-337178/',\n",
       " 'Small, red, itchy bumps': 'http://www.dogforum.com/dog-health/small-red-itchy-bumps-339762/',\n",
       " 'Snake Safety': 'http://www.dogforum.com/dog-health/snake-safety-349114/',\n",
       " 'Snout Swelling': 'http://www.dogforum.com/dog-health/snout-swelling-339217/',\n",
       " 'Something very odd': 'http://www.dogforum.com/dog-health/something-very-odd-333010/',\n",
       " 'Spay incision healing properly? One week post-op.': 'http://www.dogforum.com/dog-health/spay-incision-healing-properly-one-week-333826/',\n",
       " 'Spay recovery concern/question': 'http://www.dogforum.com/dog-health/spay-recovery-concern-question-336234/',\n",
       " 'Spay surgery incision': 'http://www.dogforum.com/dog-health/spay-surgery-incision-341058/',\n",
       " \"Spots around puppy's groin\": 'http://www.dogforum.com/dog-health/spots-around-puppys-groin-339402/',\n",
       " 'Started smelling good due to dog food?': 'http://www.dogforum.com/dog-health/started-smelling-good-due-dog-food-332074/',\n",
       " \"Starting to regret saving my dog's life.... what should I do?\": 'http://www.dogforum.com/dog-health/starting-regret-saving-my-dogs-life-350378/',\n",
       " 'Sterilization in vet.': 'http://www.dogforum.com/dog-health/sterilization-vet-350098/',\n",
       " 'Stomach rash: Ringworm? Hot Spots? Pyoderma? Fleas?': 'http://www.dogforum.com/dog-health/stomach-rash-ringworm-hot-spots-pyoderma-345513/',\n",
       " 'Strange blister type lump on dogs chin?': 'http://www.dogforum.com/dog-health/strange-blister-type-lump-dogs-chin-341906/',\n",
       " \"Strange lump on dog's front leg\": 'http://www.dogforum.com/dog-health/strange-lump-dogs-front-leg-333970/',\n",
       " 'Strange skin spots on german shepherd': 'http://www.dogforum.com/dog-health/strange-skin-spots-german-shepherd-339290/',\n",
       " 'Stroke?': 'http://www.dogforum.com/dog-health/stroke-351218/',\n",
       " 'Supplementing': 'http://www.dogforum.com/dog-health/supplementing-349538/',\n",
       " 'Surgery Failed?': 'http://www.dogforum.com/dog-health/surgery-failed-333482/',\n",
       " 'Sutures opening up second time': 'http://www.dogforum.com/dog-health/sutures-opening-up-second-time-348345/',\n",
       " \"Suzie's Eye\": 'http://www.dogforum.com/dog-health/suzies-eye-349210/',\n",
       " 'Swelling around dogs snout': 'http://www.dogforum.com/dog-health/swelling-around-dogs-snout-332482/',\n",
       " 'Swelling on neck dog': 'http://www.dogforum.com/dog-health/swelling-neck-dog-332474/',\n",
       " 'Swollen Red Gums on my Dog': 'http://www.dogforum.com/dog-health/swollen-red-gums-my-dog-348481/',\n",
       " 'Tail issue!': 'http://www.dogforum.com/dog-health/tail-issue-338330/',\n",
       " 'Taking Keiko to the vet...need some insights...': 'http://www.dogforum.com/dog-health/taking-keiko-vet-need-some-insights-333842/',\n",
       " 'Talk to me about worms': 'http://www.dogforum.com/dog-health/talk-me-about-worms-335426/',\n",
       " 'The DogForum.com Rules': 'http://www.dogforum.com/dog-health/dogforum-com-rules-103538/',\n",
       " 'The importance of examining your own dog/puppy': 'http://www.dogforum.com/dog-health/importance-examining-your-own-dog-puppy-333282/',\n",
       " 'Throwing Up Issues': 'http://www.dogforum.com/dog-health/throwing-up-issues-334554/',\n",
       " 'Too soon to euthanize? Dealing with guilt and anguish': 'http://www.dogforum.com/dog-health/too-soon-euthanize-dealing-guilt-anguish-247594/',\n",
       " 'Tufts college of Vet-Med: \"Injury care in dogs\"': 'http://www.dogforum.com/dog-health/tufts-college-vet-med-injury-care-335282/',\n",
       " 'URGENT! please help.puppy had contact with a stray dog with possible distemper': 'http://www.dogforum.com/dog-health/urgent-please-help-puppy-had-contact-335170/',\n",
       " 'UTI or in heat': 'http://www.dogforum.com/dog-health/uti-heat-332986/',\n",
       " 'Underweight Chihuahua/Papillon Mix': 'http://www.dogforum.com/dog-health/underweight-chihuahua-papillon-mix-334546/',\n",
       " 'Underweight Collie Pup?': 'http://www.dogforum.com/dog-health/underweight-collie-pup-336522/',\n",
       " 'Unexplained vomiting': 'http://www.dogforum.com/dog-health/unexplained-vomiting-338786/',\n",
       " \"Unsure if she's in heat :/\": 'http://www.dogforum.com/dog-health/unsure-if-shes-heat-335306/',\n",
       " 'Urgent - lethergy, off food and drink and occasional shaking': 'http://www.dogforum.com/dog-health/urgent-lethergy-off-food-drink-occasional-349090/',\n",
       " 'VET says Bean has IVDD': 'http://www.dogforum.com/dog-health/vet-says-bean-has-ivdd-335442/',\n",
       " 'Vaccine overdosing in small dogs': 'http://www.dogforum.com/dog-health/vaccine-overdosing-small-dogs-336458/',\n",
       " 'Very irritable pug puppy': 'http://www.dogforum.com/dog-health/very-irritable-pug-puppy-347553/',\n",
       " \"Vet can't help maybe you guys xan\": 'http://www.dogforum.com/dog-health/vet-cant-help-maybe-you-guys-346465/',\n",
       " 'Vomiting and Diarrhea problems in Senior Dog': 'http://www.dogforum.com/dog-health/vomiting-diarrhea-problems-senior-dog-343041/',\n",
       " 'Walking a GSD puppy': 'http://www.dogforum.com/dog-health/walking-gsd-puppy-331914/',\n",
       " 'Was my dog misdiagnosed?': 'http://www.dogforum.com/dog-health/my-dog-misdiagnosed-347273/',\n",
       " 'Washing off flea treatment and Other questions': 'http://www.dogforum.com/dog-health/washing-off-flea-treatment-other-questions-335994/',\n",
       " 'Water Regurgitation Help': 'http://www.dogforum.com/dog-health/water-regurgitation-help-337034/',\n",
       " 'Week after Neutering... is this normal?': 'http://www.dogforum.com/dog-health/week-after-neutering-normal-348810/',\n",
       " 'Weepy eyes- try ACV, or just call a vet?': 'http://www.dogforum.com/dog-health/weepy-eyes-try-acv-just-call-341634/',\n",
       " 'Weird bump on ear. Have you seen this before?': 'http://www.dogforum.com/dog-health/weird-bump-ear-have-you-seen-335778/',\n",
       " \"Weird pustule near dog's mouth/eye area\": 'http://www.dogforum.com/dog-health/weird-pustule-near-dogs-mouth-eye-331586/',\n",
       " 'Weird rash + dog vomit': 'http://www.dogforum.com/dog-health/weird-rash-dog-vomit-348137/',\n",
       " \"What are the major concerns about a dog's health?\": 'http://www.dogforum.com/dog-health/what-major-concerns-about-dogs-health-350722/',\n",
       " 'What can cause anxiety in dogs?': 'http://www.dogforum.com/dog-health/what-can-cause-anxiety-dogs-347249/',\n",
       " 'What could this be?': 'http://www.dogforum.com/dog-health/what-could-332682/',\n",
       " 'What food to give my dog after kidney stone surgery': 'http://www.dogforum.com/dog-health/what-food-give-my-dog-after-332874/',\n",
       " 'What is wrong with my dog? A skin disorder?': 'http://www.dogforum.com/dog-health/what-wrong-my-dog-skin-disorder-351346/',\n",
       " 'What skin problem does my dog have? Please hurry!': 'http://www.dogforum.com/dog-health/what-skin-problem-does-my-dog-344689/',\n",
       " \"What's wrong with our baby???\": 'http://www.dogforum.com/dog-health/whats-wrong-our-baby-348025/',\n",
       " 'When do you know it\\x92s time?': 'http://www.dogforum.com/dog-health/when-do-you-know-s-time-349402/',\n",
       " 'When should you consider Euthanasia?': 'http://www.dogforum.com/dog-health/when-should-you-consider-euthanasia-332466/',\n",
       " 'When to start puppy shots?': 'http://www.dogforum.com/dog-health/when-start-puppy-shots-334154/',\n",
       " 'White pimples on back': 'http://www.dogforum.com/dog-health/white-pimples-back-347537/',\n",
       " 'White specks! Carpet? WARNING PICTURE OF POOP': 'http://www.dogforum.com/dog-health/white-specks-carpet-warning-picture-poop-341730/',\n",
       " 'White, foamy discharge from nose': 'http://www.dogforum.com/dog-health/white-foamy-discharge-nose-348770/',\n",
       " 'Why does a three year old dog get hypothyroidism?': 'http://www.dogforum.com/dog-health/why-does-three-year-old-dog-351234/',\n",
       " 'Why has my Old dog started peeing and pooping on the rug?': 'http://www.dogforum.com/dog-health/why-has-my-old-dog-started-350826/',\n",
       " 'Will Supplements help my puppy??': 'http://www.dogforum.com/dog-health/will-supplements-help-my-puppy-336386/',\n",
       " 'Will dewormer hurt a dog with no worms?': 'http://www.dogforum.com/dog-health/will-dewormer-hurt-dog-no-worms-335658/',\n",
       " \"Wire stuck in puppy's bum!\": 'http://www.dogforum.com/dog-health/wire-stuck-puppys-bum-337666/',\n",
       " \"Wondering if I'm being crazy or not here\": 'http://www.dogforum.com/dog-health/wondering-if-im-being-crazy-not-347225/',\n",
       " 'Worried about my 8 month old puppy': 'http://www.dogforum.com/dog-health/worried-about-my-8-month-old-350546/',\n",
       " 'Wound appeared on my dogs neck when I came home from work.': 'http://www.dogforum.com/dog-health/wound-appeared-my-dogs-neck-when-349242/',\n",
       " 'Yeast infection without scratching?': 'http://www.dogforum.com/dog-health/yeast-infection-without-scratching-290593/',\n",
       " 'Young 3 month old sick Pomeranian': 'http://www.dogforum.com/dog-health/young-3-month-old-sick-pomeranian-350650/',\n",
       " 'Young Dog with Mystery Illness - possible IVDD': 'http://www.dogforum.com/dog-health/young-dog-mystery-illness-possible-ivdd-333858/',\n",
       " 'adopted abused rescue have a question': 'http://www.dogforum.com/dog-health/adopted-abused-rescue-have-question-351122/',\n",
       " 'another reason to avoid petshop-pups: Contagion': 'http://www.dogforum.com/dog-health/another-reason-avoid-petshop-pups-contagion-333634/',\n",
       " 'bump on dogs tail?': 'http://www.dogforum.com/dog-health/bump-dogs-tail-347945/',\n",
       " 'canine transmissible venereal tumor': 'http://www.dogforum.com/dog-health/canine-transmissible-venereal-tumor-350914/',\n",
       " 'chihuahua with eyelid hair loss': 'http://www.dogforum.com/dog-health/chihuahua-eyelid-hair-loss-332930/',\n",
       " 'confused about my dog': 'http://www.dogforum.com/dog-health/confused-about-my-dog-331954/',\n",
       " 'cryptorchid Neutering 7 days ago': 'http://www.dogforum.com/dog-health/cryptorchid-neutering-7-days-ago-351410/',\n",
       " 'dog is pacing back and forth': 'http://www.dogforum.com/dog-health/dog-pacing-back-forth-337082/',\n",
       " 'ear infection': 'http://www.dogforum.com/dog-health/ear-infection-337786/',\n",
       " 'ear infection?': 'http://www.dogforum.com/dog-health/ear-infection-342433/',\n",
       " 'frontline plus vs gold': 'http://www.dogforum.com/dog-health/frontline-plus-vs-gold-350426/',\n",
       " 'is this vet behavior normal ?': 'http://www.dogforum.com/dog-health/vet-behavior-normal-345937/',\n",
       " 'little bump on dogs ear': 'http://www.dogforum.com/dog-health/little-bump-dogs-ear-335274/',\n",
       " 'mass cell tumor growing.': 'http://www.dogforum.com/dog-health/mass-cell-tumor-growing-342793/',\n",
       " 'my dog suddenly became blind and deaf': 'http://www.dogforum.com/dog-health/my-dog-suddenly-became-blind-deaf-333114/',\n",
       " 'no appetite for a week, a day of full eating, then no appetite again!': 'http://www.dogforum.com/dog-health/no-appetite-week-day-full-eating-337058/',\n",
       " 'not sure if its worms?': 'http://www.dogforum.com/dog-health/not-sure-if-its-worms-339242/',\n",
       " 'renal failure, kidney disease': 'http://www.dogforum.com/dog-health/renal-failure-kidney-disease-341722/',\n",
       " 'sitting symptom': 'http://www.dogforum.com/dog-health/sitting-symptom-334570/',\n",
       " 'strange episodes': 'http://www.dogforum.com/dog-health/strange-episodes-330001/',\n",
       " 'successful vet visits': 'http://www.dogforum.com/dog-health/successful-vet-visits-9982/',\n",
       " 'why Trimming Your Dog\\x92s Nails Is Important': 'http://www.dogforum.com/dog-health/why-trimming-your-dog-s-nails-350658/'}"
      ]
     },
     "execution_count": 82,
     "metadata": {},
     "output_type": "execute_result"
    }
   ],
   "source": [
    "board_urls('dog-health',2)"
   ]
  },
  {
   "cell_type": "markdown",
   "metadata": {},
   "source": [
    "## All urls in certain board has done!!!  開始抓內文"
   ]
  },
  {
   "cell_type": "code",
   "execution_count": 157,
   "metadata": {
    "collapsed": true
   },
   "outputs": [],
   "source": [
    "url = 'http://www.dogforum.com/dog-health/antifreeze-poisoning-7636/'\n",
    "resp = requests.get(url, headers=headers)\n",
    "resp.encoding = 'cp1252'\n",
    "soup = BeautifulSoup(resp.text, 'lxml')"
   ]
  },
  {
   "cell_type": "code",
   "execution_count": 158,
   "metadata": {},
   "outputs": [
    {
     "data": {
      "text/plain": [
       "' Antifreeze poisoning'"
      ]
     },
     "execution_count": 158,
     "metadata": {},
     "output_type": "execute_result"
    }
   ],
   "source": [
    "title = soup.find('title').text\n",
    "title"
   ]
  },
  {
   "cell_type": "code",
   "execution_count": 159,
   "metadata": {},
   "outputs": [
    {
     "data": {
      "text/plain": [
       "<table align=\"center\" border=\"0\" cellpadding=\"6\" cellspacing=\"0\" class=\"tborder vbseo_like_postbit\" id=\"post84846\" width=\"100%\"> <tr> <td class=\"thead\" style=\"font-weight:normal; border: 1px solid #FCF5DD; border-right: 0px\"> <a name=\"post84846\"><img alt=\"Old\" border=\"0\" class=\"inlineimg\" src=\"http://www.dogforum.com/images/litearth/statusicon/post_old.gif\"/></a>\n",
       "\t\t\t10-03-2010, 02:42 PM\n",
       "\t\t\t\n",
       "\t\t\t </td> <td align=\"right\" class=\"thead\" style=\"font-weight:normal; border: 1px solid #FCF5DD; border-left: 0px\"> <div style=\"float:left;\"> <iframe allowtransparency=\"true\" frameborder=\"0\" scrolling=\"no\" src=\"http://www.facebook.com/plugins/like.php?href=http%3A%2F%2Fwww.dogforum.com%2Fshowpost.php%3Fp%3D84846&amp;ref=84846&amp;layout=button_count&amp;show_faces=false&amp;width=300&amp;action=like&amp;font=tahoma&amp;colorscheme=light\" style=\"border:none; overflow:hidden; width:300px; height:23px\"></iframe> </div> \n",
       "\n",
       "\n",
       "\t\t\t \n",
       "\t\t\t#<a href=\"http://www.dogforum.com/dog-health/antifreeze-poisoning-7636/#post84846\" id=\"postcount84846\" name=\"1\" title=\"permalink\"><strong>1</strong></a> </td> </tr> <tr valign=\"top\"> <td class=\"alt2\" style=\"border: 1px solid #FCF5DD; border-top: 0px; border-bottom: 0px\" width=\"160\"> <div id=\"postmenu_84846\"> <a class=\"bigusername\" href=\"http://www.dogforum.com/members/1298/\" rel=\"nofollow\"><!-- google_ad_section_start(weight=ignore) -->ScentHound<!-- google_ad_section_end --></a> </div> <div class=\"smallfont\">Senior Member</div> <ul class=\"shadetabs\" id=\"postBit84846Tabs\"> <li><a class=\"selected\" href=\"http://www.dogforum.com/dog-health/antifreeze-poisoning-7636/#\" rel=\"#default\">User</a></li> <li><a href=\"http://www.dogforum.com/postBitDogs.php?userid=1298\" rel=\"postBitContainer\">Dogs</a></li> </ul> <div id=\"postBitDivContainer84846\" style=\"border:1px solid gray; width:150px; margin-bottom: 0px; padding: 5px\"> <div class=\"smallfont\">\n",
       "\t\t\t\t\t <br/><a href=\"http://www.dogforum.com/members/1298/\" rel=\"nofollow\"><img alt=\"ScentHound's Avatar\" border=\"0\" src=\"http://www.dogforum.com/customavatars/avatar1298_10.gif\" style=\"width:150px;\"/></a> </div> <div class=\"smallfont\">\n",
       "\t\t\t\t <br/> <div>Join Date: Sep 2009</div> <div>\n",
       "\t\t\t\t\tPosts: 11,207\n",
       "\t\t\t\t</div> <div>Mentioned: 116 Post(s)</div> <div>Tagged: 2 Thread(s)</div> <div> </div> </div> </div> </td> <td class=\"alt1\" id=\"td_post_84846\" style=\"border-right: 1px solid #FCF5DD\"> <div class=\"smallfont\"> <strong><!-- google_ad_section_start -->Antifreeze poisoning<!-- google_ad_section_end --></strong> </div> <hr size=\"1\" style=\"color:#FCF5DD; background-color:#FCF5DD\"/> <div id=\"post_message_84846\"> <div style=\"float:right; padding-left:5px; padding-bottom:5px;\"> <script type=\"text/javascript\">\n",
       "GA_googleFillSlot(\"Advertising_300x250\");\n",
       "</script> </div> <!-- google_ad_section_start -->For those that didn't know.<br/> <br/>\n",
       "From: <a href=\"http://www.vetmed.wsu.edu/cliented/antifreeze.aspx\" rel=\"nofollow\" target=\"_blank\">Antifreeze Poisoning</a><br/> <br/> <b>Antifreeze Poisoning</b> <br/> <br/>\n",
       "This information is not meant to be a substitute for veterinary care. Always follow the instructions provided by your veterinarian.  <br/>\n",
       "As winter approaches, many people will \"winterize\" their automobiles, including a change of antifreeze. Take care to keep both new and used antifreeze in a sealed container, out of reach of pets. Clean up any spills of antifreeze on driveways and other hard surfaces. Dogs and cats find antifreeze quite tasty and if they find antifreeze they'll drink it. Antifreeze is extremely toxic causing kidney failure that is often fatal in just a few days. <br/>\n",
       "Very small amounts of antifreeze can be fatal.  If a cat walks through a puddle of antifreeze and then licks its paws, it can ingest enough antifreeze to cause death.  <b>About five tablespoons can kill a medium sized dog.</b> If you see your pet drinking antifreeze, or are at all suspicious that your pet may have had access to antifreeze, contact a veterinarian immediately.  <b>Signs of antifreeze poisoning depend upon the time after ingestion. In the first few hours after ingestion the pet may be depressed and staggering and may have seizures. They may drink lots of water, urinate large amounts and vomit. The pet may appear to feel better but in a day or two get much worse as the kidneys fail. Signs of kidney failure include depression and vomiting. The amount of urine they pass will often decrease to a very small amount.</b> <br/> <br/>\n",
       "The diagnosis of antifreeze poisoning is made by blood and urine tests although some of these tests become negative by the time kidney failure develops. Antifreeze poisoning should be considered in any free-roaming dog or cat with consistent signs. Treatment for antifreeze poisoning needs to be started as soon after ingestion as possible to be effective.  The earlier treatment is started, the greater the chance of survival.  Once kidney failure develops, most animals will die. <br/> <br/>\n",
       "The treatment for antifreeze poisoning depends on when the pet is presented to the veterinarian. If  the pet is seen within a few hours of ingesting antifreeze, vomiting is induced to remove any antifreeze still in the stomach and charcoal is placed in the stomach to bind antifreeze in the intestine.  Antifreeze itself is not very toxic but it is broken down by the liver to other components that cause the damage. If the pet is presented to a veterinarian soon after drinking antifreeze, a drug is given that impairs the liver from converting antifreeze to these toxic products, allowing the unconverted antifreeze to pass in the urine.  These drugs are useful only when given early and are not effective after the pet is already showing signs of kidney damage.  <br/> <br/>\n",
       "Animals who present to a veterinarian in kidney failure due to antifreeze poisoning can occasionally be saved with aggressive treatment. Some specialty veterinary practices offer dialysis which can be used to remove waste products that are not being removed by the diseased kidneys in an effort to keep the pet alive to give the kidneys a chance to repair. Whether the kidneys will repair themselves or not depends on how severely they are injured. Unfortunately the kidney damage caused by antifreeze is usually very severe and irreversible.  Kidney transplantation has been performed in dogs and cats.  There are several sites on the internet that describe transplantation.<!-- google_ad_section_end --> </div> <div class=\"vbseo_buttons\" id=\"lkbtn_1.7636.84846\"> <div class=\"alt2 vbseo_liked\"><a href=\"http://www.dogforum.com/members/57498/\">Hachiko</a> likes this.</div> </div> <span id=\"nointelliTXT\"> <script type=\"text/javascript\"><!--\n",
       "google_ad_client = \"ca-pub-7865546952023728\";\n",
       "google_override_format = true;\n",
       "google_ad_width = 728;\n",
       "google_ad_height = 250;\n",
       "google_ad_type =  'text';\n",
       "google_color_link =  '#434142';\n",
       "google_color_url =  '#000000';\n",
       "google_color_bg = '#fdedab';\n",
       "google_language =  'en';\n",
       "google_ad_region= \"test\";\n",
       "//--> </script> <script src=\"http://pagead2.googlesyndication.com/pagead/show_ads.js\" type=\"text/javascript\"> </script> </span> </td> </tr> <tr> <td class=\"alt2\" style=\"border: 1px solid #FCF5DD; border-top: 0px\"> <img alt=\"ScentHound is offline\" border=\"0\" class=\"inlineimg\" src=\"http://www.dogforum.com/images/litearth/statusicon/user_offline.gif\"/>\n",
       "\n",
       "\n",
       "\t\t\n",
       "\t\t\n",
       "\t\t\n",
       "\t\t\n",
       "\t\t \n",
       "\t</td> <td align=\"right\" class=\"alt1\" style=\"border: 1px solid #FCF5DD; border-left: 0px; border-top: 0px\"> <a href=\"http://www.dogforum.com/newreply.php?do=newreply&amp;p=84846\" rel=\"nofollow\"><img alt=\"Reply With Quote\" border=\"0\" src=\"http://www.dogforum.com/images/litearth/buttons/quote.gif\"/></a> </td> </tr> </table>"
      ]
     },
     "execution_count": 159,
     "metadata": {},
     "output_type": "execute_result"
    }
   ],
   "source": [
    "# id的re寫法\n",
    "soup.findAll(id=re.compile(\"^post\"))[2]"
   ]
  },
  {
   "cell_type": "code",
   "execution_count": 15,
   "metadata": {},
   "outputs": [
    {
     "data": {
      "text/plain": [
       "<table align=\"center\" border=\"0\" cellpadding=\"6\" cellspacing=\"0\" class=\"tborder vbseo_like_postbit\" id=\"post3454482\" width=\"100%\"> <tr> <td class=\"thead\" style=\"font-weight:normal; border: 1px solid #FCF5DD; border-right: 0px\"> <a name=\"post3454482\"><img alt=\"Old\" border=\"0\" class=\"inlineimg\" src=\"http://www.dogforum.com/images/litearth/statusicon/post_old.gif\"/></a>\n",
       "\t\t\t10-27-2017, 06:15 PM\n",
       "\t\t\t\n",
       "\t\t\t </td> <td align=\"right\" class=\"thead\" style=\"font-weight:normal; border: 1px solid #FCF5DD; border-left: 0px\"> <div style=\"float:left;\"> <iframe allowtransparency=\"true\" frameborder=\"0\" scrolling=\"no\" src=\"http://www.facebook.com/plugins/like.php?href=http%3A%2F%2Fwww.dogforum.com%2Fshowpost.php%3Fp%3D3454482&amp;ref=3454482&amp;layout=button_count&amp;show_faces=false&amp;width=300&amp;action=like&amp;font=tahoma&amp;colorscheme=light\" style=\"border:none; overflow:hidden; width:300px; height:23px\"></iframe> </div> \n",
       "\n",
       "\n",
       "\t\t\t \n",
       "\t\t\t#<a href=\"http://www.dogforum.com/dog-health/ladybugs-339090/#post3454482\" id=\"postcount3454482\" name=\"1\" title=\"permalink\"><strong>1</strong></a> </td> </tr> <tr valign=\"top\"> <td class=\"alt2\" style=\"border: 1px solid #FCF5DD; border-top: 0px; border-bottom: 0px\" width=\"160\"> <div id=\"postmenu_3454482\"> <a class=\"bigusername\" href=\"http://www.dogforum.com/members/195898/\" rel=\"nofollow\"><!-- google_ad_section_start(weight=ignore) -->Markie<!-- google_ad_section_end --></a> </div> <div class=\"smallfont\">Senior Member</div> <ul class=\"shadetabs\" id=\"postBit3454482Tabs\"> <li><a class=\"selected\" href=\"http://www.dogforum.com/dog-health/ladybugs-339090/#\" rel=\"#default\">User</a></li> <li><a href=\"http://www.dogforum.com/postBitDogs.php?userid=195898\" rel=\"postBitContainer\">Dogs</a></li> </ul> <div id=\"postBitDivContainer3454482\" style=\"border:1px solid gray; width:150px; margin-bottom: 0px; padding: 5px\"> <div class=\"smallfont\">\n",
       "\t\t\t\t\t <br/><a href=\"http://www.dogforum.com/members/195898/\" rel=\"nofollow\"><img alt=\"Markie's Avatar\" border=\"0\" src=\"http://www.dogforum.com/customavatars/avatar195898_7.gif\" style=\"width:150px;\"/></a> </div> <div class=\"smallfont\">\n",
       "\t\t\t\t <br/> <div>Join Date: Sep 2017</div> <div>\n",
       "\t\t\t\t\tPosts: 1,485\n",
       "\t\t\t\t</div> <div>Mentioned: 74 Post(s)</div> <div>Tagged: 1 Thread(s)</div> <div> </div> </div> </div> </td> <td class=\"alt1\" id=\"td_post_3454482\" style=\"border-right: 1px solid #FCF5DD\"> <div class=\"smallfont\"> <strong><!-- google_ad_section_start -->Ladybugs!!<!-- google_ad_section_end --></strong> </div> <hr size=\"1\" style=\"color:#FCF5DD; background-color:#FCF5DD\"/> <div id=\"post_message_3454482\"> <div style=\"float:right; padding-left:5px; padding-bottom:5px;\"> <script type=\"text/javascript\">\n",
       "GA_googleFillSlot(\"Advertising_300x250\");\n",
       "</script> </div> <!-- google_ad_section_start -->Watch for ladybugs in your dogs mouth. It can cause weird symptoms. Lethargic, foaming at the mouth, and them not eating. It's kind of a gross thing. Check your dogs mouth. A positive it's a very rare thing. :-)<br/> <a href=\"https://www.google.com/amp/s/www.thisdogslife.co/no-its-not-a-hoax-the-photo-of-dozens-of-ladybugs-in-a-dogs-mouth-is-real/amp/#ampshare=https://www.thisdogslife.co/no-its-not-a-hoax-the-photo-of-dozens-of-ladybugs-in-a-dogs-mouth-is-real/\" rel=\"nofollow\" target=\"_blank\">https://www.google.com/amp/s/www.thi...mouth-is-real/</a><br/> <img alt=\"\" border=\"0\" src=\"http://uploads.tapatalk-cdn.com/20171027/c8a506f6cc6ac955ef1586bb781aec7a.jpg\"/><br/> <br/>\n",
       "Sent from my Pixel using Tapatalk<!-- google_ad_section_end --> </div> <div class=\"vbseo_buttons\" id=\"lkbtn_1.339090.3454482\"> <div class=\"alt2 vbseo_liked\" style=\"display:none\"></div> </div> <span id=\"nointelliTXT\"> <script type=\"text/javascript\"><!--\n",
       "google_ad_client = \"ca-pub-7865546952023728\";\n",
       "google_override_format = true;\n",
       "google_ad_width = 728;\n",
       "google_ad_height = 250;\n",
       "google_ad_type =  'text';\n",
       "google_color_link =  '#434142';\n",
       "google_color_url =  '#000000';\n",
       "google_color_bg = '#fdedab';\n",
       "google_language =  'en';\n",
       "google_ad_region= \"test\";\n",
       "//--> </script> <script src=\"http://pagead2.googlesyndication.com/pagead/show_ads.js\" type=\"text/javascript\"> </script> </span> </td> </tr> <tr> <td class=\"alt2\" style=\"border: 1px solid #FCF5DD; border-top: 0px\"> <img alt=\"Markie is offline\" border=\"0\" class=\"inlineimg\" src=\"http://www.dogforum.com/images/litearth/statusicon/user_offline.gif\"/>\n",
       "\n",
       "\n",
       "\t\t\n",
       "\t\t\n",
       "\t\t\n",
       "\t\t\n",
       "\t\t \n",
       "\t</td> <td align=\"right\" class=\"alt1\" style=\"border: 1px solid #FCF5DD; border-left: 0px; border-top: 0px\"> <a href=\"http://www.dogforum.com/newreply.php?do=newreply&amp;p=3454482\" rel=\"nofollow\"><img alt=\"Reply With Quote\" border=\"0\" src=\"http://www.dogforum.com/images/litearth/buttons/quote.gif\"/></a> </td> </tr> </table>"
      ]
     },
     "execution_count": 15,
     "metadata": {},
     "output_type": "execute_result"
    }
   ],
   "source": [
    "soup.select('.tborder.vbseo_like_postbit')[0]"
   ]
  },
  {
   "cell_type": "markdown",
   "metadata": {},
   "source": [
    "### Get post_date "
   ]
  },
  {
   "cell_type": "code",
   "execution_count": 160,
   "metadata": {},
   "outputs": [
    {
     "data": {
      "text/plain": [
       "'10-03-2010,'"
      ]
     },
     "execution_count": 160,
     "metadata": {},
     "output_type": "execute_result"
    }
   ],
   "source": [
    "date = soup.select('.tborder.vbseo_like_postbit')[0].find('td').text.split()[0]\n",
    "date"
   ]
  },
  {
   "cell_type": "code",
   "execution_count": 112,
   "metadata": {},
   "outputs": [
    {
     "data": {
      "text/plain": [
       "'02:42'"
      ]
     },
     "execution_count": 112,
     "metadata": {},
     "output_type": "execute_result"
    }
   ],
   "source": [
    "time = soup.select('.tborder.vbseo_like_postbit')[0].find('td').text.split()[1]\n",
    "time"
   ]
  },
  {
   "cell_type": "code",
   "execution_count": 113,
   "metadata": {},
   "outputs": [
    {
     "data": {
      "text/plain": [
       "'PM'"
      ]
     },
     "execution_count": 113,
     "metadata": {},
     "output_type": "execute_result"
    }
   ],
   "source": [
    "ampm = soup.select('.tborder.vbseo_like_postbit')[0].find('td').text.split()[2]\n",
    "ampm"
   ]
  },
  {
   "cell_type": "code",
   "execution_count": 114,
   "metadata": {},
   "outputs": [
    {
     "data": {
      "text/plain": [
       "{'post_date': {'ampm': 'PM', 'date': '10-03-2010,', 'time': '02:42'}}"
      ]
     },
     "execution_count": 114,
     "metadata": {},
     "output_type": "execute_result"
    }
   ],
   "source": [
    "post_date = {}\n",
    "data = {}\n",
    "data['date'] = soup.select('.tborder.vbseo_like_postbit')[0].find('td').text.split()[0]\n",
    "data['time'] = soup.select('.tborder.vbseo_like_postbit')[0].find('td').text.split()[1]\n",
    "data['ampm'] = soup.select('.tborder.vbseo_like_postbit')[0].find('td').text.split()[2]\n",
    "post_date['post_date'] = data\n",
    "post_date"
   ]
  },
  {
   "cell_type": "markdown",
   "metadata": {},
   "source": [
    "### Get post_stories"
   ]
  },
  {
   "cell_type": "code",
   "execution_count": 115,
   "metadata": {},
   "outputs": [
    {
     "data": {
      "text/plain": [
       "'1'"
      ]
     },
     "execution_count": 115,
     "metadata": {},
     "output_type": "execute_result"
    }
   ],
   "source": [
    "story = soup.select('.tborder.vbseo_like_postbit')[0].findAll(id=re.compile(\"^postcount\"))[0].get('name')\n",
    "story"
   ]
  },
  {
   "cell_type": "markdown",
   "metadata": {},
   "source": [
    "### Find member detail (name, url member_type)"
   ]
  },
  {
   "cell_type": "code",
   "execution_count": 116,
   "metadata": {},
   "outputs": [
    {
     "data": {
      "text/plain": [
       "'http://www.dogforum.com/members/1298/'"
      ]
     },
     "execution_count": 116,
     "metadata": {},
     "output_type": "execute_result"
    }
   ],
   "source": [
    "author_url = soup.select('.tborder.vbseo_like_postbit')[0].select('a.bigusername')[0]['href']\n",
    "author_url"
   ]
  },
  {
   "cell_type": "code",
   "execution_count": 117,
   "metadata": {},
   "outputs": [
    {
     "data": {
      "text/plain": [
       "'ScentHound'"
      ]
     },
     "execution_count": 117,
     "metadata": {},
     "output_type": "execute_result"
    }
   ],
   "source": [
    "author_name = soup.select('.tborder.vbseo_like_postbit')[0].select('a.bigusername')[0].text\n",
    "author_name"
   ]
  },
  {
   "cell_type": "code",
   "execution_count": 118,
   "metadata": {},
   "outputs": [
    {
     "data": {
      "text/plain": [
       "'Senior Member'"
      ]
     },
     "execution_count": 118,
     "metadata": {},
     "output_type": "execute_result"
    }
   ],
   "source": [
    "member_type = soup.select('.tborder.vbseo_like_postbit')[0].select('div.smallfont')[0].text\n",
    "member_type"
   ]
  },
  {
   "cell_type": "code",
   "execution_count": 119,
   "metadata": {},
   "outputs": [
    {
     "data": {
      "text/plain": [
       "'\\r\\n\\t\\t\\t\\t\\xa0 Join Date: Sep 2009 \\r\\n\\t\\t\\t\\t\\tPosts: 11,207\\r\\n\\t\\t\\t\\t Mentioned: 116 Post(s) Tagged: 2 Thread(s)   '"
      ]
     },
     "execution_count": 119,
     "metadata": {},
     "output_type": "execute_result"
    }
   ],
   "source": [
    "soup.select('.tborder.vbseo_like_postbit')[0].select('div.smallfont')[2].text"
   ]
  },
  {
   "cell_type": "code",
   "execution_count": 120,
   "metadata": {},
   "outputs": [
    {
     "data": {
      "text/plain": [
       "'Sep 2009'"
      ]
     },
     "execution_count": 120,
     "metadata": {},
     "output_type": "execute_result"
    }
   ],
   "source": [
    "join_date = re.findall('Join Date:(.*)', soup.select('.tborder.vbseo_like_postbit')[0].text)[0].strip()\n",
    "join_date"
   ]
  },
  {
   "cell_type": "code",
   "execution_count": 121,
   "metadata": {},
   "outputs": [
    {
     "data": {
      "text/plain": [
       "'11,207'"
      ]
     },
     "execution_count": 121,
     "metadata": {},
     "output_type": "execute_result"
    }
   ],
   "source": [
    "posts = re.findall('Posts: (.*)', soup.select('.tborder.vbseo_like_postbit')[0].text)[0].strip()\n",
    "posts"
   ]
  },
  {
   "cell_type": "code",
   "execution_count": 122,
   "metadata": {},
   "outputs": [
    {
     "data": {
      "text/plain": [
       "'116 Post(s)'"
      ]
     },
     "execution_count": 122,
     "metadata": {},
     "output_type": "execute_result"
    }
   ],
   "source": [
    "mentioned = re.findall('Mentioned: (.*)Tag', soup.select('.tborder.vbseo_like_postbit')[0].text)[0].strip()\n",
    "mentioned"
   ]
  },
  {
   "cell_type": "code",
   "execution_count": 123,
   "metadata": {
    "scrolled": true
   },
   "outputs": [
    {
     "data": {
      "text/plain": [
       "'2 thread(s)'"
      ]
     },
     "execution_count": 123,
     "metadata": {},
     "output_type": "execute_result"
    }
   ],
   "source": [
    "tagged = re.findall('Tagged: (\\d*)', soup.select('.tborder.vbseo_like_postbit')[0].text)[0].strip() + ' thread(s)'\n",
    "tagged"
   ]
  },
  {
   "cell_type": "markdown",
   "metadata": {},
   "source": [
    "### Content"
   ]
  },
  {
   "cell_type": "code",
   "execution_count": 124,
   "metadata": {},
   "outputs": [
    {
     "data": {
      "text/plain": [
       "[<div id=\"post_message_84846\"> <div style=\"float:right; padding-left:5px; padding-bottom:5px;\"> <script type=\"text/javascript\">\n",
       " GA_googleFillSlot(\"Advertising_300x250\");\n",
       " </script> </div> <!-- google_ad_section_start -->For those that didn't know.<br/> <br/>\n",
       " From: <a href=\"http://www.vetmed.wsu.edu/cliented/antifreeze.aspx\" rel=\"nofollow\" target=\"_blank\">Antifreeze Poisoning</a><br/> <br/> <b>Antifreeze Poisoning</b> <br/> <br/>\n",
       " This information is not meant to be a substitute for veterinary care. Always follow the instructions provided by your veterinarian.  <br/>\n",
       " As winter approaches, many people will \"winterize\" their automobiles, including a change of antifreeze. Take care to keep both new and used antifreeze in a sealed container, out of reach of pets. Clean up any spills of antifreeze on driveways and other hard surfaces. Dogs and cats find antifreeze quite tasty and if they find antifreeze they'll drink it. Antifreeze is extremely toxic causing kidney failure that is often fatal in just a few days. <br/>\n",
       " Very small amounts of antifreeze can be fatal.  If a cat walks through a puddle of antifreeze and then licks its paws, it can ingest enough antifreeze to cause death.  <b>About five tablespoons can kill a medium sized dog.</b> If you see your pet drinking antifreeze, or are at all suspicious that your pet may have had access to antifreeze, contact a veterinarian immediately.  <b>Signs of antifreeze poisoning depend upon the time after ingestion. In the first few hours after ingestion the pet may be depressed and staggering and may have seizures. They may drink lots of water, urinate large amounts and vomit. The pet may appear to feel better but in a day or two get much worse as the kidneys fail. Signs of kidney failure include depression and vomiting. The amount of urine they pass will often decrease to a very small amount.</b> <br/> <br/>\n",
       " The diagnosis of antifreeze poisoning is made by blood and urine tests although some of these tests become negative by the time kidney failure develops. Antifreeze poisoning should be considered in any free-roaming dog or cat with consistent signs. Treatment for antifreeze poisoning needs to be started as soon after ingestion as possible to be effective.  The earlier treatment is started, the greater the chance of survival.  Once kidney failure develops, most animals will die. <br/> <br/>\n",
       " The treatment for antifreeze poisoning depends on when the pet is presented to the veterinarian. If  the pet is seen within a few hours of ingesting antifreeze, vomiting is induced to remove any antifreeze still in the stomach and charcoal is placed in the stomach to bind antifreeze in the intestine.  Antifreeze itself is not very toxic but it is broken down by the liver to other components that cause the damage. If the pet is presented to a veterinarian soon after drinking antifreeze, a drug is given that impairs the liver from converting antifreeze to these toxic products, allowing the unconverted antifreeze to pass in the urine.  These drugs are useful only when given early and are not effective after the pet is already showing signs of kidney damage.  <br/> <br/>\n",
       " Animals who present to a veterinarian in kidney failure due to antifreeze poisoning can occasionally be saved with aggressive treatment. Some specialty veterinary practices offer dialysis which can be used to remove waste products that are not being removed by the diseased kidneys in an effort to keep the pet alive to give the kidneys a chance to repair. Whether the kidneys will repair themselves or not depends on how severely they are injured. Unfortunately the kidney damage caused by antifreeze is usually very severe and irreversible.  Kidney transplantation has been performed in dogs and cats.  There are several sites on the internet that describe transplantation.<!-- google_ad_section_end --> </div>]"
      ]
     },
     "execution_count": 124,
     "metadata": {},
     "output_type": "execute_result"
    }
   ],
   "source": [
    "soup.select('.tborder.vbseo_like_postbit')[0].findAll(id=re.compile(\"^post_message_\"))"
   ]
  },
  {
   "cell_type": "code",
   "execution_count": 30,
   "metadata": {
    "scrolled": true
   },
   "outputs": [
    {
     "data": {
      "text/plain": [
       "'  \\r\\nGA_googleFillSlot(\"Advertising_300x250\");\\r\\n  Watch for ladybugs in your dogs mouth. It can cause weird symptoms. Lethargic, foaming at the mouth, and them not eating. It\\'s kind of a gross thing. Check your dogs mouth. A positive it\\'s a very rare thing. :-) https://www.google.com/amp/s/www.thi...mouth-is-real/  \\nSent from my Pixel using Tapatalk '"
      ]
     },
     "execution_count": 30,
     "metadata": {},
     "output_type": "execute_result"
    }
   ],
   "source": [
    "soup.select('.tborder.vbseo_like_postbit')[0].findAll(id=re.compile(\"^post_message_\"))[0].text"
   ]
  },
  {
   "cell_type": "code",
   "execution_count": 31,
   "metadata": {
    "scrolled": true
   },
   "outputs": [
    {
     "data": {
      "text/plain": [
       "['Watch for ladybugs in your dogs mouth. It can cause weird symptoms. Lethargic, foaming at the mouth, and them not eating. It\\'s kind of a gross thing. Check your dogs mouth. A positive it\\'s a very rare thing. :-)<br/> <a href=\"https://www.google.com/amp/s/www.thisdogslife.co/no-its-not-a-hoax-the-photo-of-dozens-of-ladybugs-in-a-dogs-mouth-is-real/amp/#ampshare=https://www.thisdogslife.co/no-its-not-a-hoax-the-photo-of-dozens-of-ladybugs-in-a-dogs-mouth-is-real/\" rel=\"nofollow\" target=\"_blank\">https://www.google.com/amp/s/www.thi...mouth-is-real/</a><br/> <img alt=\"\" border=\"0\" src=\"http://uploads.tapatalk-cdn.com/20171027/c8a506f6cc6ac955ef1586bb781aec7a.jpg\"/><br/> <br/>']"
      ]
     },
     "execution_count": 31,
     "metadata": {},
     "output_type": "execute_result"
    }
   ],
   "source": [
    "# use Regex, but still can't purify content\n",
    "re.findall('google_ad_section_start -->(.*)',str(soup.select('.tborder.vbseo_like_postbit')[0].findAll(id=re.compile(\"^post_message_\"))))"
   ]
  },
  {
   "cell_type": "code",
   "execution_count": 153,
   "metadata": {
    "collapsed": true
   },
   "outputs": [],
   "source": [
    "url = 'http://www.dogforum.com/dog-health/i-think-my-dog-sick-345913/'\n",
    "resp = requests.get(url, headers=headers)\n",
    "resp.encoding = 'cp1252'\n",
    "soup = BeautifulSoup(resp.text, 'lxml')"
   ]
  },
  {
   "cell_type": "code",
   "execution_count": 154,
   "metadata": {},
   "outputs": [
    {
     "data": {
      "text/plain": [
       "<div id=\"post_message_3520681\"> <div style=\"float:right; padding-left:5px; padding-bottom:5px;\"> <script type=\"text/javascript\">\n",
       "GA_googleFillSlot(\"Advertising_300x250\");\n",
       "</script> </div> <!-- google_ad_section_start -->I have a bichon/Maltese he’s 10 months and we’ve noticed that he isn’t eating all his food (dry nuts). So we started to give him wet food mixed with dry nuts once a day, the past couple of days he’s had diarrhea. He’s also usually very playful and excited. Constantly! He always wants to play, however the past couple of days he’s quite and not playful, he comes to lie down and cuddle but no playing, barking or licking us as he usually does. Not sure if he’s sick. Should I bring him to the vet?<!-- google_ad_section_end --> </div>"
      ]
     },
     "execution_count": 154,
     "metadata": {},
     "output_type": "execute_result"
    }
   ],
   "source": [
    "# The reason is that two div in this basket, remove first div can reamin main content\n",
    "a = soup.select('.tborder.vbseo_like_postbit')[0].find(\"div\", id=re.compile(\"^post_message_\"))\n",
    "a"
   ]
  },
  {
   "cell_type": "code",
   "execution_count": 134,
   "metadata": {},
   "outputs": [
    {
     "data": {
      "text/plain": [
       "<div style=\"float:right; padding-left:5px; padding-bottom:5px;\"> <script type=\"text/javascript\">\n",
       "GA_googleFillSlot(\"Advertising_300x250\");\n",
       "</script> </div>"
      ]
     },
     "execution_count": 134,
     "metadata": {},
     "output_type": "execute_result"
    }
   ],
   "source": [
    "a.select('div')[0].extract()"
   ]
  },
  {
   "cell_type": "code",
   "execution_count": 155,
   "metadata": {},
   "outputs": [
    {
     "data": {
      "text/plain": [
       "'  \\r\\nGA_googleFillSlot(\"Advertising_300x250\");\\r\\n  I have a bichon/Maltese he’s 10 months and we’ve noticed that he isn’t eating all his food (dry nuts). So we started to give him wet food mixed with dry nuts once a day, the past couple of days he’s had diarrhea. He’s also usually very playful and excited. Constantly! He always wants to play, however the past couple of days he’s quite and not playful, he comes to lie down and cuddle but no playing, barking or licking us as he usually does. Not sure if he’s sick. Should I bring him to the vet? '"
      ]
     },
     "execution_count": 155,
     "metadata": {},
     "output_type": "execute_result"
    }
   ],
   "source": [
    "a.text"
   ]
  },
  {
   "cell_type": "code",
   "execution_count": 151,
   "metadata": {
    "scrolled": true
   },
   "outputs": [
    {
     "ename": "IndexError",
     "evalue": "list index out of range",
     "output_type": "error",
     "traceback": [
      "\u001b[0;31m---------------------------------------------------------------------------\u001b[0m",
      "\u001b[0;31mIndexError\u001b[0m                                Traceback (most recent call last)",
      "\u001b[0;32m<ipython-input-151-5bb616678f12>\u001b[0m in \u001b[0;36m<module>\u001b[0;34m()\u001b[0m\n\u001b[1;32m      1\u001b[0m \u001b[0;31m# remember that other stories could not has this issues. Use try except to deal with it\u001b[0m\u001b[0;34m\u001b[0m\u001b[0;34m\u001b[0m\u001b[0m\n\u001b[1;32m      2\u001b[0m \u001b[0ma\u001b[0m \u001b[0;34m=\u001b[0m \u001b[0msoup\u001b[0m\u001b[0;34m.\u001b[0m\u001b[0mselect\u001b[0m\u001b[0;34m(\u001b[0m\u001b[0;34m'.tborder.vbseo_like_postbit'\u001b[0m\u001b[0;34m)\u001b[0m\u001b[0;34m[\u001b[0m\u001b[0;36m1\u001b[0m\u001b[0;34m]\u001b[0m\u001b[0;34m.\u001b[0m\u001b[0mfind\u001b[0m\u001b[0;34m(\u001b[0m\u001b[0;34m\"div\"\u001b[0m\u001b[0;34m,\u001b[0m \u001b[0mid\u001b[0m\u001b[0;34m=\u001b[0m\u001b[0mre\u001b[0m\u001b[0;34m.\u001b[0m\u001b[0mcompile\u001b[0m\u001b[0;34m(\u001b[0m\u001b[0;34m\"^post_message_\"\u001b[0m\u001b[0;34m)\u001b[0m\u001b[0;34m)\u001b[0m\u001b[0;34m\u001b[0m\u001b[0m\n\u001b[0;32m----> 3\u001b[0;31m \u001b[0ma\u001b[0m\u001b[0;34m.\u001b[0m\u001b[0mselect\u001b[0m\u001b[0;34m(\u001b[0m\u001b[0;34m'div'\u001b[0m\u001b[0;34m)\u001b[0m\u001b[0;34m[\u001b[0m\u001b[0;36m0\u001b[0m\u001b[0;34m]\u001b[0m\u001b[0;34m.\u001b[0m\u001b[0mextract\u001b[0m\u001b[0;34m(\u001b[0m\u001b[0;34m)\u001b[0m\u001b[0;34m\u001b[0m\u001b[0m\n\u001b[0m\u001b[1;32m      4\u001b[0m \u001b[0ma\u001b[0m\u001b[0;34m.\u001b[0m\u001b[0mtext\u001b[0m\u001b[0;34m\u001b[0m\u001b[0m\n",
      "\u001b[0;31mIndexError\u001b[0m: list index out of range"
     ]
    }
   ],
   "source": [
    "# remember that other stories could not has this issues. Use try except to deal with it\n",
    "a = soup.select('.tborder.vbseo_like_postbit')[1].find(\"div\", id=re.compile(\"^post_message_\"))\n",
    "a.select('div')[0].extract()\n",
    "a.text"
   ]
  },
  {
   "cell_type": "code",
   "execution_count": 131,
   "metadata": {},
   "outputs": [
    {
     "data": {
      "text/plain": [
       "' This needs to be a sticky IMO  '"
      ]
     },
     "execution_count": 131,
     "metadata": {},
     "output_type": "execute_result"
    }
   ],
   "source": [
    "try:\n",
    "    content = soup.select('.tborder.vbseo_like_postbit')[2].find(\"div\", id=re.compile(\"^post_message_\"))\n",
    "    content.select('div')[2].extract()\n",
    "    content.text\n",
    "except IndexError:\n",
    "    content = soup.select('.tborder.vbseo_like_postbit')[2].find(\"div\", id=re.compile(\"^post_message_\")).text\n",
    "content"
   ]
  },
  {
   "cell_type": "markdown",
   "metadata": {},
   "source": [
    "### A better way to prevent unnecessary try except behavior --> if else"
   ]
  },
  {
   "cell_type": "code",
   "execution_count": 156,
   "metadata": {
    "scrolled": true
   },
   "outputs": [
    {
     "name": "stdout",
     "output_type": "stream",
     "text": [
      "I have a bichon/Maltese he’s 10 months and we’ve noticed that he isn’t eating all his food (dry nuts). So we started to give him wet food mixed with dry nuts once a day, the past couple of days he’s had diarrhea. He’s also usually very playful and excited. Constantly! He always wants to play, however the past couple of days he’s quite and not playful, he comes to lie down and cuddle but no playing, barking or licking us as he usually does. Not sure if he’s sick. Should I bring him to the vet?\n"
     ]
    }
   ],
   "source": [
    "a = soup.select('.tborder.vbseo_like_postbit')[0].find(\"div\", id=re.compile(\"^post_message_\"))\n",
    "if len(a.select('div')) > 0:\n",
    "    a.select('div')[0].extract()\n",
    "    content = a.text.strip()\n",
    "else:\n",
    "    content = soup.select('.tborder.vbseo_like_postbit')[0].find(\"div\", id=re.compile(\"^post_message_\")).text.strip()\n",
    "print(content)"
   ]
  },
  {
   "cell_type": "code",
   "execution_count": null,
   "metadata": {
    "collapsed": true
   },
   "outputs": [],
   "source": []
  },
  {
   "cell_type": "markdown",
   "metadata": {},
   "source": [
    "## Starting auto-distinguish pages of each title"
   ]
  },
  {
   "cell_type": "code",
   "execution_count": 44,
   "metadata": {},
   "outputs": [
    {
     "data": {
      "text/plain": [
       "'9'"
      ]
     },
     "execution_count": 44,
     "metadata": {},
     "output_type": "execute_result"
    }
   ],
   "source": [
    "url = 'http://www.dogforum.com/dog-health/what-parvo-5256/'\n",
    "resp = requests.get(url, headers=headers)\n",
    "last_page = re.findall(\"Page 1 of (\\d*)\", resp.text)[0]\n",
    "last_page"
   ]
  },
  {
   "cell_type": "code",
   "execution_count": 57,
   "metadata": {},
   "outputs": [
    {
     "data": {
      "text/plain": [
       "3"
      ]
     },
     "execution_count": 57,
     "metadata": {},
     "output_type": "execute_result"
    }
   ],
   "source": [
    "url = 'http://www.dogforum.com/dog-health/ladybugs-339090/'\n",
    "resp = requests.get(url, headers=headers)\n",
    "last_page = int(re.findall(\"Page 1 of (\\d*)\", resp.text)[0])\n",
    "last_page"
   ]
  },
  {
   "cell_type": "code",
   "execution_count": 63,
   "metadata": {},
   "outputs": [
    {
     "name": "stdout",
     "output_type": "stream",
     "text": [
      "http://www.dogforum.com/dog-health/ladybugs-339090/page2/\n",
      "http://www.dogforum.com/dog-health/ladybugs-339090/page3/\n"
     ]
    }
   ],
   "source": [
    "for page in range(2, last_page+1):\n",
    "    urls = url+'page%s/'%page\n",
    "    print(urls)"
   ]
  },
  {
   "cell_type": "code",
   "execution_count": 45,
   "metadata": {},
   "outputs": [
    {
     "ename": "IndexError",
     "evalue": "list index out of range",
     "output_type": "error",
     "traceback": [
      "\u001b[0;31m---------------------------------------------------------------------------\u001b[0m",
      "\u001b[0;31mIndexError\u001b[0m                                Traceback (most recent call last)",
      "\u001b[0;32m<ipython-input-45-04f3b69301ae>\u001b[0m in \u001b[0;36m<module>\u001b[0;34m()\u001b[0m\n\u001b[1;32m      1\u001b[0m \u001b[0murl\u001b[0m \u001b[0;34m=\u001b[0m \u001b[0;34m'http://www.dogforum.com/dog-health/glucosamine-joint-health-350506/'\u001b[0m\u001b[0;34m\u001b[0m\u001b[0m\n\u001b[1;32m      2\u001b[0m \u001b[0mresp\u001b[0m \u001b[0;34m=\u001b[0m \u001b[0mrequests\u001b[0m\u001b[0;34m.\u001b[0m\u001b[0mget\u001b[0m\u001b[0;34m(\u001b[0m\u001b[0murl\u001b[0m\u001b[0;34m,\u001b[0m \u001b[0mheaders\u001b[0m\u001b[0;34m=\u001b[0m\u001b[0mheaders\u001b[0m\u001b[0;34m)\u001b[0m\u001b[0;34m\u001b[0m\u001b[0m\n\u001b[0;32m----> 3\u001b[0;31m \u001b[0mlast_page\u001b[0m \u001b[0;34m=\u001b[0m \u001b[0mre\u001b[0m\u001b[0;34m.\u001b[0m\u001b[0mfindall\u001b[0m\u001b[0;34m(\u001b[0m\u001b[0;34m\"Page 1 of (\\d*)\"\u001b[0m\u001b[0;34m,\u001b[0m \u001b[0mresp\u001b[0m\u001b[0;34m.\u001b[0m\u001b[0mtext\u001b[0m\u001b[0;34m)\u001b[0m\u001b[0;34m[\u001b[0m\u001b[0;36m0\u001b[0m\u001b[0;34m]\u001b[0m\u001b[0;34m\u001b[0m\u001b[0m\n\u001b[0m\u001b[1;32m      4\u001b[0m \u001b[0mlast_page\u001b[0m\u001b[0;34m\u001b[0m\u001b[0m\n",
      "\u001b[0;31mIndexError\u001b[0m: list index out of range"
     ]
    }
   ],
   "source": [
    "# only one page\n",
    "url = 'http://www.dogforum.com/dog-health/glucosamine-joint-health-350506/'\n",
    "resp = requests.get(url, headers=headers)\n",
    "last_page = re.findall(\"Page 1 of (\\d*)\", resp.text)[0]\n",
    "last_page"
   ]
  },
  {
   "cell_type": "code",
   "execution_count": 66,
   "metadata": {},
   "outputs": [
    {
     "name": "stdout",
     "output_type": "stream",
     "text": [
      "http://www.dogforum.com/dog-health/ladybugs-339090/page1/\n",
      "http://www.dogforum.com/dog-health/ladybugs-339090/page2/\n",
      "http://www.dogforum.com/dog-health/ladybugs-339090/page3/\n"
     ]
    }
   ],
   "source": [
    "# 法1\n",
    "url = 'http://www.dogforum.com/dog-health/ladybugs-339090/'\n",
    "resp = requests.get(url, headers=headers)\n",
    "try:\n",
    "    last_page = int(re.findall(\"Page 1 of (\\d*)\", resp.text)[0])\n",
    "    for page in range(1, last_page+1):\n",
    "        urls = url+'page%s/'%page\n",
    "        print(urls)\n",
    "except IndexError:\n",
    "    urls = url\n",
    "    print(urls)"
   ]
  },
  {
   "cell_type": "code",
   "execution_count": 73,
   "metadata": {},
   "outputs": [
    {
     "name": "stdout",
     "output_type": "stream",
     "text": [
      "http://www.dogforum.com/dog-health/ladybugs-339090/page1/\n",
      "http://www.dogforum.com/dog-health/ladybugs-339090/page2/\n",
      "http://www.dogforum.com/dog-health/ladybugs-339090/page3/\n"
     ]
    }
   ],
   "source": [
    "# 法2\n",
    "url = 'http://www.dogforum.com/dog-health/ladybugs-339090/'\n",
    "resp = requests.get(url, headers=headers)\n",
    "if not re.findall(\"Page 1 of (\\d*)\", resp.text):\n",
    "    urls = url\n",
    "    print(urls)\n",
    "else:\n",
    "    last_page = int(re.findall(\"Page 1 of (\\d*)\", resp.text)[0])\n",
    "    for page in range(1, last_page+1):\n",
    "        urls = url+'page%s/'%page\n",
    "        print(urls)"
   ]
  },
  {
   "cell_type": "code",
   "execution_count": 75,
   "metadata": {},
   "outputs": [],
   "source": [
    "def get_content_pgurl(url):\n",
    "    resp = requests.get(url, headers=headers)\n",
    "    if not re.findall(\"Page 1 of (\\d*)\", resp.text):\n",
    "        urls = url\n",
    "        return urls\n",
    "    else:\n",
    "        last_page = int(re.findall(\"Page 1 of (\\d*)\", resp.text)[0])\n",
    "        urls = [url+'page%s/'%page for page in range(1, last_page+1)]\n",
    "        return urls"
   ]
  },
  {
   "cell_type": "code",
   "execution_count": 78,
   "metadata": {},
   "outputs": [
    {
     "data": {
      "text/plain": [
       "['http://www.dogforum.com/dog-health/ladybugs-339090/page1/',\n",
       " 'http://www.dogforum.com/dog-health/ladybugs-339090/page2/',\n",
       " 'http://www.dogforum.com/dog-health/ladybugs-339090/page3/']"
      ]
     },
     "execution_count": 78,
     "metadata": {},
     "output_type": "execute_result"
    }
   ],
   "source": [
    "url = 'http://www.dogforum.com/dog-health/ladybugs-339090/'\n",
    "get_content_pgurl(url)"
   ]
  },
  {
   "cell_type": "markdown",
   "metadata": {},
   "source": [
    "# 開始抓動態樓層數"
   ]
  },
  {
   "cell_type": "code",
   "execution_count": 165,
   "metadata": {},
   "outputs": [
    {
     "name": "stdout",
     "output_type": "stream",
     "text": [
      "{'title': ' Obsessive licking- cause??', 'story': '2', 'author_url': 'http://www.dogforum.com/members/200562/', 'author_name': 'Olympia', 'post_date': {'date': '01-09-2018,', 'time': '05:47', 'ampm': 'AM'}, 'author_info': {'member_type': 'Senior Member', 'join_date': 'Oct 2017', 'posts': '136', 'mentioned': '6 Post(s)', 'tagged': '0 thread(s)'}, 'content': \"Ok, so there could be many reasons why she's obsessively licking and chewing, You really need to call your vet and talk to them about the situation, they will determine whether or not you need to bring her in, just going by what you said about blisters on her face, it sounds really bad!! How much exercise does she get each day?What kind of food do you feed her?When she was allowed on the couch did she have access to a window so she could see outside?Is she on flea and tick meds? if so which one?\"}\n",
      "{'title': ' Obsessive licking- cause??', 'story': '3', 'author_url': 'http://www.dogforum.com/members/16965/', 'author_name': 'naturalfeddogs', 'post_date': {'date': '01-09-2018,', 'time': '09:10', 'ampm': 'AM'}, 'author_info': {'member_type': 'Senior Member', 'join_date': 'Mar 2013 Location: Talladega, Alabama', 'posts': '1,117', 'mentioned': '68 Post(s)', 'tagged': '0 thread(s)'}, 'content': \"There are a number of reasons why, but usually the licking you are describing sounds like allergies. Whether it's food related or environmental can be hard to tell. You can call your vet, and they can do allergy tests, but vets commonly go right to anti itch type meds, to mask the problem rather than actually fix the source. If they will do allergy testing, that would be a start.\"}\n",
      "{'title': ' Obsessive licking- cause??', 'story': '4', 'author_url': 'http://www.dogforum.com/members/136857/', 'author_name': 'Laco', 'post_date': {'date': '01-09-2018,', 'time': '10:12', 'ampm': 'AM'}, 'author_info': {'member_type': 'Senior Member', 'join_date': 'Dec 2015 Location: Southern California', 'posts': '1,502', 'mentioned': '21 Post(s)', 'tagged': '0 thread(s)'}, 'content': 'As already pointed out, allergies are probably the most common cause, but boredom and or stress can cause or contribute too. Your starting point would be your Vet, and that cone may only be frustrating her even more. Most Vets are reluctant to use that cone, unless absolutely necessary, as many, if not most dogs, can become really depressed wearing it.'}\n",
      "{'title': ' Obsessive licking- cause??', 'story': '5', 'author_url': 'http://www.dogforum.com/members/206433/', 'author_name': 'Juls', 'post_date': {'date': '01-09-2018,', 'time': '03:23', 'ampm': 'PM'}, 'author_info': {'member_type': 'Junior Member', 'join_date': 'Jan 2018', 'posts': '2', 'mentioned': '0 Post(s)', 'tagged': '0 thread(s)'}, 'content': 'Thank you all so much for the advice!In response to your questions, olympia: - exercise level is low because its so cold out. She HATES cold and rain. On the nicer days this week we took her out to play frisbee until she was tuckered out. And maybe its wishful thinking again, but it seems like her rash might have gotten somewhat better after that. We go through the winter slump every year, and ive never noticed it before.-We havent changed her food brand in a while. They like purina true instinct so i usually get that. I dont feed them human food. Unless we deer hunt then i usually cook the scraps and bones for them to eat, and i do think she licked less when she had a giant bone to chew on. I could perhaps try buying some bones, but id need an indestructible brand because she can chew through any bone in less than a day.  Any suggestions on brands that actually hold up well? -i liked this question, it made me think outside the box a bit. She did have access to the window, but the blinds are usually closed (we have weird neighbors). My other dog likes to stick his face through the blinds, but she never she has. Can dogs get seasonal affective disorder after no problems for years?? -i give them trifexis that the vet prescribed her and shes been on it for the past year and a half. In the summers i use tick collars but she hasnt had one for several months now.  If it is allergies, why is their such a sudden onset? I dont want to put the cone on her, and im constantly taking it off and putting it on when she has a bout of licking. Its exhausting! And its stressing me out worrying about her!! I know if i see the vet they will want to run blood tests and allergy tests and i cant afford to spend $300+ for them to tell me shes nervous or stressed or something simple like that. But again, i will if all else fails. She had a really rough life before we adopted her and my mother in law thinks shes suddenly acting out like this because of it.. Can i do anything else at home that might help if stress is the cause? Thank you all for playing pet health detective with me  And i truly am thankful for any and all advice. At this point, i would greatly appreciate inventions i can do at home over the next week to see if something helps without meds. If i have no luck with them we will visit the vet.'}\n",
      "{'title': ' Obsessive licking- cause??', 'story': '6', 'author_url': 'http://www.dogforum.com/members/200562/', 'author_name': 'Olympia', 'post_date': {'date': '01-09-2018,', 'time': '03:42', 'ampm': 'PM'}, 'author_info': {'member_type': 'Senior Member', 'join_date': 'Oct 2017', 'posts': '136', 'mentioned': '6 Post(s)', 'tagged': '0 thread(s)'}, 'content': \"It could be allergies, but sounds more like she's bored and anxious she needs some kind of stimulation physical and mental, there are toys you can buy for that, I would skip the bones if she chews through them that quickly and opt for a kong toy, here are some boredom busters that I have for my dogs... Kong extreme https://www.chewy.com/kong-extreme-d...large/dp/38494 Mammoth tirebiter  https://www.chewy.com/mammoth-tirebi...-toy/dp/108595  Starmark treat dispensing ball...This is the one I have but there are others that might be better for her if she's a destructive chewer...  https://www.chewy.com/starmark-treat...-ball/dp/45447 Mammoth monkey fist bar... https://www.chewy.com/mammoth-monkey...olor/dp/108582 Flirt pole  https://www.chewy.com/squishy-face-s...e-v2/dp/140534\"}\n"
     ]
    }
   ],
   "source": [
    "url = 'http://www.dogforum.com/dog-health/obsessive-licking-cause-345793/'\n",
    "resp = requests.get(url, headers=headers)\n",
    "resp.encoding = 'cp1252'\n",
    "soup = BeautifulSoup(resp.text, 'lxml')\n",
    "\n",
    "block = {}\n",
    "post_date = {}\n",
    "\n",
    "for num in range(1,11):\n",
    "    try:\n",
    "        block['title'] = soup.find('title').text\n",
    "        block['story'] = soup.select('.tborder.vbseo_like_postbit')[num].findAll(id=re.compile(\"^postcount\"))[0].get('name')\n",
    "        block['author_url'] = soup.select('.tborder.vbseo_like_postbit')[num].select('a.bigusername')[0]['href']\n",
    "        block['author_name'] = soup.select('.tborder.vbseo_like_postbit')[num].select('a.bigusername')[0].text\n",
    "\n",
    "        data = {}\n",
    "        data['date'] = soup.select('.tborder.vbseo_like_postbit')[num].find('td').text.split()[0]\n",
    "        data['time'] = soup.select('.tborder.vbseo_like_postbit')[num].find('td').text.split()[1]\n",
    "        data['ampm'] = soup.select('.tborder.vbseo_like_postbit')[num].find('td').text.split()[2]\n",
    "        block['post_date'] = data\n",
    "\n",
    "        author = {}\n",
    "        try:\n",
    "            author['member_type'] = soup.select('.tborder.vbseo_like_postbit')[num].select('div.smallfont')[0].text\n",
    "        except IndexError:\n",
    "            pass\n",
    "        try:\n",
    "            author['join_date'] = re.findall('Join Date:(.*)', soup.select('.tborder.vbseo_like_postbit')[num].text)[0].strip()\n",
    "        except IndexError:\n",
    "            pass\n",
    "        try:\n",
    "            author['posts'] = re.findall('Posts: (.*)', soup.select('.tborder.vbseo_like_postbit')[num].text)[0].strip()\n",
    "        except IndexError:\n",
    "            pass\n",
    "        try:\n",
    "            author['mentioned'] = re.findall('Mentioned: (.*)Tag', soup.select('.tborder.vbseo_like_postbit')[num].text)[0].strip()\n",
    "        except IndexError:\n",
    "            pass\n",
    "        try:\n",
    "            author['tagged'] = re.findall('Tagged: (\\d*)', soup.select('.tborder.vbseo_like_postbit')[num].text)[0].strip() + ' thread(s)'\n",
    "        except IndexError:\n",
    "            pass\n",
    "        block['author_info'] = author\n",
    "\n",
    "        a = soup.select('.tborder.vbseo_like_postbit')[num].find(\"div\", id=re.compile(\"^post_message_\"))\n",
    "        if len(a.select('div')) > 0:\n",
    "            a.select('div')[0].extract()\n",
    "            content = a.text.strip()\n",
    "        else:\n",
    "            content = soup.select('.tborder.vbseo_like_postbit')[num].find(\"div\", id=re.compile(\"^post_message_\")).text.strip()\n",
    "        block['content'] = content.replace(\"\\r\",\"\").replace(\"\\n\",\"\")\n",
    "        print(block)\n",
    "    except IndexError:\n",
    "        break"
   ]
  }
 ],
 "metadata": {
  "kernelspec": {
   "display_name": "Python 3",
   "language": "python",
   "name": "python3"
  },
  "language_info": {
   "codemirror_mode": {
    "name": "ipython",
    "version": 3
   },
   "file_extension": ".py",
   "mimetype": "text/x-python",
   "name": "python",
   "nbconvert_exporter": "python",
   "pygments_lexer": "ipython3",
   "version": "3.6.3"
  }
 },
 "nbformat": 4,
 "nbformat_minor": 2
}
