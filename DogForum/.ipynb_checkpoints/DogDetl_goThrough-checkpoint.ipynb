{
 "cells": [
  {
   "cell_type": "code",
   "execution_count": 2,
   "metadata": {
    "collapsed": true
   },
   "outputs": [],
   "source": [
    "import re\n",
    "import json\n",
    "import pytz\n",
    "import time\n",
    "import requests\n",
    "import random\n",
    "from fake_useragent import UserAgent\n",
    "from celery import Celery\n",
    "from bs4 import BeautifulSoup\n",
    "from fake_useragent import UserAgent\n",
    "import rethinkdb as r\n",
    "from pymongo import MongoClient\n",
    "from bson.objectid import ObjectId"
   ]
  },
  {
   "cell_type": "code",
   "execution_count": 2,
   "metadata": {
    "collapsed": true
   },
   "outputs": [],
   "source": [
    "profile = {}"
   ]
  },
  {
   "cell_type": "code",
   "execution_count": 4,
   "metadata": {
    "collapsed": true
   },
   "outputs": [],
   "source": [
    "def random_header():\n",
    "    ua = UserAgent()\n",
    "    random_header = json.loads(r'''{\n",
    "    \"Cache-Control\": \"max-age=0\",\n",
    "    \"Connection\": \"keep-alive\",\n",
    "    \"Host\": \"www.dogforum.com\",\n",
    "    \"Upgrade-Insecure-Requests\": \"1\",\n",
    "    \"User-Agent\":\"%s\"\n",
    "    }'''%ua.random)\n",
    "    return random_header"
   ]
  },
  {
   "cell_type": "code",
   "execution_count": 35,
   "metadata": {
    "collapsed": true
   },
   "outputs": [],
   "source": [
    "def get_dog_list():\n",
    "    url = 'http://www.dogforum.com/dogs/'\n",
    "    resp = requests.get(url, headers=random_header())\n",
    "    hrefs = [href for href in re.findall(\"\"\"<a href=\"(http://www.dogforum.com/dogs/\\S*/)\">\"\"\", resp.text)]\n",
    "    return hrefs[:50]"
   ]
  },
  {
   "cell_type": "code",
   "execution_count": 17,
   "metadata": {
    "scrolled": false
   },
   "outputs": [
    {
     "data": {
      "text/plain": [
       "['http://www.dogforum.com/dogs/nysha_29425/',\n",
       " 'http://www.dogforum.com/dogs/barbie_919/',\n",
       " 'http://www.dogforum.com/dogs/charles_11642/',\n",
       " 'http://www.dogforum.com/dogs/frank_11658/',\n",
       " 'http://www.dogforum.com/dogs/george_11650/',\n",
       " 'http://www.dogforum.com/dogs/james_11634/',\n",
       " 'http://www.dogforum.com/dogs/john_11610/',\n",
       " 'http://www.dogforum.com/dogs/joseph_11666/',\n",
       " 'http://www.dogforum.com/dogs/meda_29705/',\n",
       " 'http://www.dogforum.com/dogs/remy_39426/']"
      ]
     },
     "execution_count": 17,
     "metadata": {},
     "output_type": "execute_result"
    }
   ],
   "source": [
    "get_dog_list()"
   ]
  },
  {
   "cell_type": "code",
   "execution_count": null,
   "metadata": {
    "collapsed": true
   },
   "outputs": [],
   "source": []
  },
  {
   "cell_type": "code",
   "execution_count": 8,
   "metadata": {},
   "outputs": [],
   "source": [
    "url = 'http://www.dogforum.com/dogs/tito_285/'\n",
    "resp = requests.get(url, headers=random_header())\n",
    "soup = BeautifulSoup(resp.text, 'lxml')"
   ]
  },
  {
   "cell_type": "code",
   "execution_count": 9,
   "metadata": {},
   "outputs": [
    {
     "data": {
      "text/plain": [
       "'http://www.dogforum.com/members/972/'"
      ]
     },
     "execution_count": 9,
     "metadata": {},
     "output_type": "execute_result"
    }
   ],
   "source": [
    "soup.select('table')[13].select('td > a')[0]['href']"
   ]
  },
  {
   "cell_type": "code",
   "execution_count": 31,
   "metadata": {},
   "outputs": [
    {
     "ename": "NameError",
     "evalue": "name 'pack' is not defined",
     "output_type": "error",
     "traceback": [
      "\u001b[0;31m---------------------------------------------------------------------------\u001b[0m",
      "\u001b[0;31mNameError\u001b[0m                                 Traceback (most recent call last)",
      "\u001b[0;32m<ipython-input-31-08f36d17e090>\u001b[0m in \u001b[0;36m<module>\u001b[0;34m()\u001b[0m\n\u001b[1;32m      2\u001b[0m     \u001b[0mkey\u001b[0m \u001b[0;34m=\u001b[0m \u001b[0msoup\u001b[0m\u001b[0;34m.\u001b[0m\u001b[0mselect\u001b[0m\u001b[0;34m(\u001b[0m\u001b[0;34m'table'\u001b[0m\u001b[0;34m)\u001b[0m\u001b[0;34m[\u001b[0m\u001b[0;36m14\u001b[0m\u001b[0;34m]\u001b[0m\u001b[0;34m.\u001b[0m\u001b[0mselect\u001b[0m\u001b[0;34m(\u001b[0m\u001b[0;34m'a'\u001b[0m\u001b[0;34m)\u001b[0m\u001b[0;34m[\u001b[0m\u001b[0mnum\u001b[0m\u001b[0;34m]\u001b[0m\u001b[0;34m.\u001b[0m\u001b[0mtext\u001b[0m\u001b[0;34m\u001b[0m\u001b[0m\n\u001b[1;32m      3\u001b[0m     \u001b[0mvalue\u001b[0m \u001b[0;34m=\u001b[0m \u001b[0msoup\u001b[0m\u001b[0;34m.\u001b[0m\u001b[0mselect\u001b[0m\u001b[0;34m(\u001b[0m\u001b[0;34m'table'\u001b[0m\u001b[0;34m)\u001b[0m\u001b[0;34m[\u001b[0m\u001b[0;36m14\u001b[0m\u001b[0;34m]\u001b[0m\u001b[0;34m.\u001b[0m\u001b[0mselect\u001b[0m\u001b[0;34m(\u001b[0m\u001b[0;34m'a'\u001b[0m\u001b[0;34m)\u001b[0m\u001b[0;34m[\u001b[0m\u001b[0mnum\u001b[0m\u001b[0;34m]\u001b[0m\u001b[0;34m[\u001b[0m\u001b[0;34m'href'\u001b[0m\u001b[0;34m]\u001b[0m\u001b[0;34m\u001b[0m\u001b[0m\n\u001b[0;32m----> 4\u001b[0;31m     \u001b[0mpack\u001b[0m\u001b[0;34m[\u001b[0m\u001b[0mkey\u001b[0m\u001b[0;34m]\u001b[0m \u001b[0;34m=\u001b[0m \u001b[0mvalue\u001b[0m\u001b[0;34m\u001b[0m\u001b[0m\n\u001b[0m",
      "\u001b[0;31mNameError\u001b[0m: name 'pack' is not defined"
     ]
    }
   ],
   "source": [
    "for num in range(0,50):\n",
    "    key = soup.select('table')[14].select('a')[num].text\n",
    "    value = soup.select('table')[14].select('a')[num]['href']\n",
    "    pack[key] = value"
   ]
  },
  {
   "cell_type": "code",
   "execution_count": 33,
   "metadata": {
    "collapsed": true
   },
   "outputs": [],
   "source": [
    "def get_dog_detl(url):\n",
    "    resp = requests.get(url, headers=random_header())\n",
    "    soup = BeautifulSoup(resp.text, 'lxml')\n",
    "    data = {}\n",
    "    pack = {} \n",
    "    data['pet_name'] = soup.select_one('#name').text\n",
    "    data['owner_url'] = soup.select('table')[13].select('td > a')[0]['href']\n",
    "    data['owner_name'] = soup.select('table')[13].select('td > a')[0].text\n",
    "    data['pet_name'] = soup.select('table')[13].select('#name')[0].text\n",
    "    data['breed'] = re.findall(\"Breed</h3></td><td>(.{2,30})</td></tr>\",str(soup.select('table')[13]))[0]\n",
    "    try:\n",
    "        data['gender'] = soup.select('table')[13].select('#gender')[0].text\n",
    "    except (IndexError, KeyError):\n",
    "        data['gender'] = \"\"\n",
    "    try:\n",
    "        data['age'] = re.findall(\">Age</h3></td><td>(.{2,30})</td></tr>\",str(soup.select('table')[13]))[0]\n",
    "    except (IndexError, KeyError):\n",
    "        data['age'] = \"\"\n",
    "    try:\n",
    "        data['food'] = soup.select('table')[13].select('#food')[0].text\n",
    "    except (IndexError, KeyError):\n",
    "        data['food'] = \"\"\n",
    "    try:\n",
    "        data['snacks'] = soup.select('table')[13].select('#snakes')[0].text\n",
    "    except (IndexError, KeyError):\n",
    "        data['snacks'] = \"\"\n",
    "    try:\n",
    "        data['toys'] = soup.select('table')[13].select('#toys')[0].text\n",
    "    except (IndexError, KeyError):\n",
    "        data['toys'] = \"\"\n",
    "    try:\n",
    "        data['activities'] = soup.select('table')[13].select('#activities')[0].text\n",
    "    except (IndexError, KeyError):\n",
    "        data['activities'] = \"\"\n",
    "    for num in range(0,20):\n",
    "        try:\n",
    "            key = soup.select('table')[14].select('a')[num].text\n",
    "            value = soup.select('table')[14].select('a')[num]['href']\n",
    "            pack[key] = value\n",
    "        except (AttributeError, IndexError, KeyError):\n",
    "            continue\n",
    "    try:\n",
    "        pack.pop('')\n",
    "        data['pack'] = pack\n",
    "    except KeyError:\n",
    "        data['pack'] = \"\"\n",
    "    return data"
   ]
  },
  {
   "cell_type": "code",
   "execution_count": 36,
   "metadata": {},
   "outputs": [
    {
     "name": "stdout",
     "output_type": "stream",
     "text": [
      "{'pet_name': 'Nysha', 'owner_url': 'http://www.dogforum.com/members/137697/', 'owner_name': 'laceyfaye', 'breed': 'Affenpinscher', 'gender': 'Female', 'age': '13.5 years old.', 'food': '', 'snacks': '', 'toys': 'She never liked playing with toys, she wanted everything to do with you, and only you.', 'activities': 'She loved to run in the backyard with me and go for walks. She also just loved to cuddle and sleep.', 'pack': {'Spunky': 'http://www.dogforum.com/dogs/spunky_29433/'}}\n",
      "{'pet_name': 'Barbie', 'owner_url': 'http://www.dogforum.com/members/487/', 'owner_name': 'animalcraker', 'breed': 'Afghan Hound', 'gender': 'Female', 'age': '8.7 years old.', 'food': '', 'snacks': '', 'toys': '', 'activities': '', 'pack': {'Davy': 'http://www.dogforum.com/dogs/davy_748/', 'McKenzie': 'http://www.dogforum.com/dogs/mckenzie_749/', 'Emily': 'http://www.dogforum.com/dogs/emily_750/'}}\n",
      "{'pet_name': 'Charles', 'owner_url': 'http://www.dogforum.com/members/45937/', 'owner_name': 'OnlyNatural', 'breed': 'Afghan Hound', 'gender': 'Male', 'age': '13.9 years old.', 'food': 'Prey Model Raw', 'snacks': '', 'toys': '', 'activities': '', 'pack': {'John': 'http://www.dogforum.com/dogs/john_11610/', 'William': 'http://www.dogforum.com/dogs/william_11626/', 'James': 'http://www.dogforum.com/dogs/james_11634/', 'George': 'http://www.dogforum.com/dogs/george_11650/', 'Frank': 'http://www.dogforum.com/dogs/frank_11658/', 'Joseph': 'http://www.dogforum.com/dogs/joseph_11666/', 'Thomas': 'http://www.dogforum.com/dogs/thomas_11674/'}}\n",
      "{'pet_name': 'Frank', 'owner_url': 'http://www.dogforum.com/members/45937/', 'owner_name': 'OnlyNatural', 'breed': 'Afghan Hound', 'gender': 'Male', 'age': '11.7 years old.', 'food': 'Prey Model Raw', 'snacks': '', 'toys': '', 'activities': '', 'pack': {'John': 'http://www.dogforum.com/dogs/john_11610/', 'William': 'http://www.dogforum.com/dogs/william_11626/', 'James': 'http://www.dogforum.com/dogs/james_11634/', 'Charles': 'http://www.dogforum.com/dogs/charles_11642/', 'George': 'http://www.dogforum.com/dogs/george_11650/', 'Joseph': 'http://www.dogforum.com/dogs/joseph_11666/', 'Thomas': 'http://www.dogforum.com/dogs/thomas_11674/'}}\n",
      "{'pet_name': 'George', 'owner_url': 'http://www.dogforum.com/members/45937/', 'owner_name': 'OnlyNatural', 'breed': 'Afghan Hound', 'gender': 'Male', 'age': '12.8 years old.', 'food': 'Prey Model Raw', 'snacks': '', 'toys': '', 'activities': '', 'pack': {'John': 'http://www.dogforum.com/dogs/john_11610/', 'William': 'http://www.dogforum.com/dogs/william_11626/', 'James': 'http://www.dogforum.com/dogs/james_11634/', 'Charles': 'http://www.dogforum.com/dogs/charles_11642/', 'Frank': 'http://www.dogforum.com/dogs/frank_11658/', 'Joseph': 'http://www.dogforum.com/dogs/joseph_11666/', 'Thomas': 'http://www.dogforum.com/dogs/thomas_11674/'}}\n",
      "{'pet_name': 'James', 'owner_url': 'http://www.dogforum.com/members/45937/', 'owner_name': 'OnlyNatural', 'breed': 'Afghan Hound', 'gender': 'Male', 'age': '15 years old.', 'food': 'Prey Model Raw', 'snacks': '', 'toys': '', 'activities': '', 'pack': {'John': 'http://www.dogforum.com/dogs/john_11610/', 'William': 'http://www.dogforum.com/dogs/william_11626/', 'Charles': 'http://www.dogforum.com/dogs/charles_11642/', 'George': 'http://www.dogforum.com/dogs/george_11650/', 'Frank': 'http://www.dogforum.com/dogs/frank_11658/', 'Joseph': 'http://www.dogforum.com/dogs/joseph_11666/', 'Thomas': 'http://www.dogforum.com/dogs/thomas_11674/'}}\n",
      "{'pet_name': 'John', 'owner_url': 'http://www.dogforum.com/members/45937/', 'owner_name': 'OnlyNatural', 'breed': 'Afghan Hound', 'gender': 'Male', 'age': '17.2 years old.', 'food': 'Prey Model Raw', 'snacks': '', 'toys': '', 'activities': '', 'pack': {'William': 'http://www.dogforum.com/dogs/william_11626/', 'James': 'http://www.dogforum.com/dogs/james_11634/', 'Charles': 'http://www.dogforum.com/dogs/charles_11642/', 'George': 'http://www.dogforum.com/dogs/george_11650/', 'Frank': 'http://www.dogforum.com/dogs/frank_11658/', 'Joseph': 'http://www.dogforum.com/dogs/joseph_11666/', 'Thomas': 'http://www.dogforum.com/dogs/thomas_11674/'}}\n",
      "{'pet_name': 'Joseph', 'owner_url': 'http://www.dogforum.com/members/45937/', 'owner_name': 'OnlyNatural', 'breed': 'Afghan Hound', 'gender': 'Male', 'age': '10.7 years old.', 'food': 'Prey Model Raw', 'snacks': '', 'toys': '', 'activities': '', 'pack': {'John': 'http://www.dogforum.com/dogs/john_11610/', 'William': 'http://www.dogforum.com/dogs/william_11626/', 'James': 'http://www.dogforum.com/dogs/james_11634/', 'Charles': 'http://www.dogforum.com/dogs/charles_11642/', 'George': 'http://www.dogforum.com/dogs/george_11650/', 'Frank': 'http://www.dogforum.com/dogs/frank_11658/', 'Thomas': 'http://www.dogforum.com/dogs/thomas_11674/'}}\n",
      "{'pet_name': 'Meda', 'owner_url': 'http://www.dogforum.com/members/139601/', 'owner_name': 'Darius', 'breed': 'Afghan Hound', 'gender': 'Female', 'age': '', 'food': '', 'snacks': '', 'toys': '', 'activities': '', 'pack': {'Vera': 'http://www.dogforum.com/dogs/vera_29697/'}}\n",
      "{'pet_name': 'Remy', 'owner_url': 'http://www.dogforum.com/members/199834/', 'owner_name': 'luke04', 'breed': 'Afghan Hound', 'gender': 'Female', 'age': '10.4 years old.', 'food': 'Fromm Dry', 'snacks': '', 'toys': 'Stuffed Pumpkin', 'activities': 'Run in the backyard, chasing birds, chimpmunks, etc.', 'pack': {'Remy': 'http://www.dogforum.com/dogs/remy_39434/'}}\n",
      "{'pet_name': 'Remy', 'owner_url': 'http://www.dogforum.com/members/199834/', 'owner_name': 'luke04', 'breed': 'Afghan Hound', 'gender': 'Female', 'age': '10.4 years old.', 'food': 'Fromm Dry    Whole Earth Farms (Canned)', 'snacks': '', 'toys': 'Stuffed Pumpkin', 'activities': 'Running in the backyard chasing birds, rabbits, etc.', 'pack': {'Remy': 'http://www.dogforum.com/dogs/remy_39426/'}}\n",
      "{'pet_name': 'Scarlet', 'owner_url': 'http://www.dogforum.com/members/49737/', 'owner_name': 'ScarletTheAfghan', 'breed': 'Afghan Hound', 'gender': 'Female', 'age': '4.4 years old.', 'food': '', 'snacks': '', 'toys': '', 'activities': '', 'pack': ''}\n",
      "{'pet_name': 'Thomas', 'owner_url': 'http://www.dogforum.com/members/45937/', 'owner_name': 'OnlyNatural', 'breed': 'Afghan Hound', 'gender': 'Male', 'age': '9.6 years old.', 'food': 'Prey Model Raw', 'snacks': '', 'toys': '', 'activities': '', 'pack': {'John': 'http://www.dogforum.com/dogs/john_11610/', 'William': 'http://www.dogforum.com/dogs/william_11626/', 'James': 'http://www.dogforum.com/dogs/james_11634/', 'Charles': 'http://www.dogforum.com/dogs/charles_11642/', 'George': 'http://www.dogforum.com/dogs/george_11650/', 'Frank': 'http://www.dogforum.com/dogs/frank_11658/', 'Joseph': 'http://www.dogforum.com/dogs/joseph_11666/'}}\n",
      "{'pet_name': 'Vera', 'owner_url': 'http://www.dogforum.com/members/139601/', 'owner_name': 'Darius', 'breed': 'Afghan Hound', 'gender': 'Female', 'age': '', 'food': '', 'snacks': '', 'toys': '', 'activities': '', 'pack': {'Meda': 'http://www.dogforum.com/dogs/meda_29705/'}}\n",
      "{'pet_name': 'William', 'owner_url': 'http://www.dogforum.com/members/45937/', 'owner_name': 'OnlyNatural', 'breed': 'Afghan Hound', 'gender': 'Male', 'age': '16.1 years old.', 'food': 'Prey Model Raw', 'snacks': '', 'toys': '', 'activities': '', 'pack': {'John': 'http://www.dogforum.com/dogs/john_11610/', 'James': 'http://www.dogforum.com/dogs/james_11634/', 'Charles': 'http://www.dogforum.com/dogs/charles_11642/', 'George': 'http://www.dogforum.com/dogs/george_11650/', 'Frank': 'http://www.dogforum.com/dogs/frank_11658/', 'Joseph': 'http://www.dogforum.com/dogs/joseph_11666/', 'Thomas': 'http://www.dogforum.com/dogs/thomas_11674/'}}\n",
      "{'pet_name': 'Zeus', 'owner_url': 'http://www.dogforum.com/members/208153/', 'owner_name': 'dogpedigrees', 'breed': 'Afghan Hound', 'gender': 'Male', 'age': '2.7 years old.', 'food': 'Pedigree', 'snacks': '', 'toys': '', 'activities': '', 'pack': {'Minnie': 'http://www.dogforum.com/dogs/minnie_40761/'}}\n",
      "{'pet_name': ' Brownie', 'owner_url': 'http://www.dogforum.com/members/133066/', 'owner_name': 'jamino007', 'breed': 'Airedale Terrier', 'gender': 'Male', 'age': '2.6 years old.', 'food': 'Purina Excellent Puppy Food', 'snacks': '', 'toys': 'snoop dog toy ', 'activities': 'run at the park , going to the beach , bitting everything', 'pack': ''}\n"
     ]
    },
    {
     "name": "stdout",
     "output_type": "stream",
     "text": [
      "{'pet_name': 'Angus', 'owner_url': 'http://www.dogforum.com/members/55618/', 'owner_name': 'WJM', 'breed': 'Airedale Terrier', 'gender': 'Male', 'age': '11.7 years old.', 'food': 'Victor Professional', 'snacks': '', 'toys': '', 'activities': '', 'pack': {'Kaiah': 'http://www.dogforum.com/dogs/kaiah_27802/', 'Oscar': 'http://www.dogforum.com/dogs/oscar_27810/'}}\n",
      "{'pet_name': 'Fritzy', 'owner_url': 'http://www.dogforum.com/members/115546/', 'owner_name': 'Mdietrich', 'breed': 'Airedale Terrier', 'gender': 'Male', 'age': '3.1 years old.', 'food': 'Puppy food', 'snacks': '', 'toys': 'Kong, my poor plants, Mr. water bottle sock, anything that squeaks. ', 'activities': 'He likes to find random people to prove to the world that everyone loves him and long walks... very long. ', 'pack': ''}\n",
      "{'pet_name': 'Isabella', 'owner_url': 'http://www.dogforum.com/members/47890/', 'owner_name': 'Jan Ensign', 'breed': 'Airedale Terrier', 'gender': 'Female', 'age': '', 'food': 'Grain Free kibble, raw chicken. Isabell supplements her diet with mice and dead bugs off the porch:(', 'snacks': '', 'toys': 'Tree branches (still attached), sticks, rocks, dead mice, Sam (her rescue brother) toys and more toys! chasing the four wheeler!', 'activities': 'She unstacks the wood pile as I stack it.  She chases mice up the down spouts, tells Schultzy, then they chew the ends shut! Plays rough, digs for moles.', 'pack': {'Schultzy': 'http://www.dogforum.com/dogs/schultzy_12162/', 'Sam': 'http://www.dogforum.com/dogs/sam_12178/'}}\n",
      "{'pet_name': 'Lex', 'owner_url': 'http://www.dogforum.com/members/73522/', 'owner_name': 'zatchbell322', 'breed': 'Airedale Terrier', 'gender': 'Male', 'age': '11.2 years old.', 'food': 'Diamond', 'snacks': '', 'toys': 'Tennis balls and nylabones', 'activities': 'Sleeping, chasing tennis balls, running through the woods', 'pack': {'Seka': 'http://www.dogforum.com/dogs/seka_16626/'}}\n",
      "{'pet_name': 'Loki', 'owner_url': 'http://www.dogforum.com/members/205265/', 'owner_name': 'Uncle O', 'breed': 'Airedale Terrier', 'gender': 'Male', 'age': '0.3 years old.', 'food': '', 'snacks': '', 'toys': 'Everything', 'activities': '', 'pack': ''}\n",
      "{'pet_name': 'McKenzie', 'owner_url': 'http://www.dogforum.com/members/16569/', 'owner_name': 'gandy78', 'breed': 'Airedale Terrier', 'gender': 'Female', 'age': '7.8 years old.', 'food': '4Health Salmon and Potatoe', 'snacks': '', 'toys': '', 'activities': '', 'pack': {'McKenzie': 'http://www.dogforum.com/dogs/mckenzie_4304/'}}\n",
      "{'pet_name': 'McKenzie', 'owner_url': 'http://www.dogforum.com/members/16569/', 'owner_name': 'gandy78', 'breed': 'Airedale Terrier', 'gender': 'Female', 'age': '7.8 years old.', 'food': '', 'snacks': '', 'toys': '', 'activities': '', 'pack': {'McKenzie': 'http://www.dogforum.com/dogs/mckenzie_4303/'}}\n",
      "{'pet_name': 'Mona', 'owner_url': 'http://www.dogforum.com/members/32330/', 'owner_name': 'Involute', 'breed': 'Airedale Terrier', 'gender': 'Female', 'age': '', 'food': 'Eukanuba kibble (senior)', 'snacks': '', 'toys': 'Kong', 'activities': 'Walks, fetching, being splashed.', 'pack': ''}\n",
      "{'pet_name': 'Odie', 'owner_url': 'http://www.dogforum.com/members/179186/', 'owner_name': 'mojo8672', 'breed': 'Airedale Terrier', 'gender': 'Male', 'age': '1.2 years old.', 'food': 'Victor', 'snacks': '', 'toys': 'Anything unclaimed on the floor', 'activities': 'Picking on his bigger brother Jax', 'pack': {'Jax': 'http://www.dogforum.com/dogs/jax_36530/'}}\n",
      "{'pet_name': 'Sam', 'owner_url': 'http://www.dogforum.com/members/47890/', 'owner_name': 'Jan Ensign', 'breed': 'Airedale Terrier', 'gender': 'Male', 'age': '', 'food': 'Grain free Kibble, raw chicken. No hunter instincts here.', 'snacks': '', 'toys': 'Nyla bone anything, sticks, tough, tough, nylon duck, double stitched bear (squeaker already dead)', 'activities': \"Stands on his head and roots in the pillows and blankets on the couch.  Plays ferocious dog with sister Isabella, guards us and property (doesn't take kindly to strangers)\", 'pack': {'Schultzy': 'http://www.dogforum.com/dogs/schultzy_12162/', 'Isabella': 'http://www.dogforum.com/dogs/isabella_12170/'}}\n",
      "{'pet_name': 'Schultzy', 'owner_url': 'http://www.dogforum.com/members/47890/', 'owner_name': 'Jan Ensign', 'breed': 'Airedale Terrier', 'gender': 'Male', 'age': '', 'food': 'Grain free and raw chicken.  He supplements his diet with slow squirrels, rabbits, birds, snakes, moles, raccoon etc:( ', 'snacks': '', 'toys': 'Tree limbs,sticks, down spouts off the house, ropes, leaves, anything crossing our yard on four legs, hard rubber toys galore, mud, snow, spiders on the porch.', 'activities': \"Hunting in the barn, hunting in the wood pile, picking tomato's (when I'm not looking) play rough with little sister Isabella and boss Sam (our rescue dog) around.\", 'pack': {'Isabella': 'http://www.dogforum.com/dogs/isabella_12170/', 'Sam': 'http://www.dogforum.com/dogs/sam_12178/'}}\n",
      "{'pet_name': 'Stella', 'owner_url': 'http://www.dogforum.com/members/173482/', 'owner_name': 'StellaBo', 'breed': 'Airedale Terrier', 'gender': 'Female', 'age': '', 'food': '', 'snacks': '', 'toys': '', 'activities': '', 'pack': ''}\n",
      "{'pet_name': 'Sunny', 'owner_url': 'http://www.dogforum.com/members/166705/', 'owner_name': 'Antonio', 'breed': 'Airedale Terrier', 'gender': 'Male', 'age': '2.5 years old.', 'food': '', 'snacks': '', 'toys': '', 'activities': 'Walk/Run ', 'pack': ''}\n",
      "{'pet_name': 'ZIPPY', 'owner_url': 'http://www.dogforum.com/members/147570/', 'owner_name': 'ZIPPY', 'breed': 'Airedale Terrier', 'gender': 'Male', 'age': '', 'food': 'DIAMOND NATURAL LAMB', 'snacks': '', 'toys': 'ROPE TUGS , KONGS CHEW TOYS WATER BUFFALO  HORNS ', 'activities': 'RUN, FETCH , TUG CHEW HUNT  FOR FOOD ', 'pack': ''}\n",
      "{'pet_name': 'Bear', 'owner_url': 'http://www.dogforum.com/members/132602/', 'owner_name': 'squidwanda', 'breed': 'Akita', 'gender': 'Male', 'age': '3.8 years old.', 'food': '', 'snacks': '', 'toys': '', 'activities': '', 'pack': {'Loki': 'http://www.dogforum.com/dogs/loki_29817/'}}\n",
      "{'pet_name': 'Boots', 'owner_url': 'http://www.dogforum.com/members/162041/', 'owner_name': 'greeneyes', 'breed': 'Akita', 'gender': 'Male', 'age': '1.2 years old.', 'food': 'grain free', 'snacks': '', 'toys': 'anything with food or that squeaks', 'activities': 'dig holes in my garden, run and chew', 'pack': ''}\n",
      "{'pet_name': 'Eishun', 'owner_url': 'http://www.dogforum.com/members/149569/', 'owner_name': 'Eishun', 'breed': 'Akita', 'gender': 'Male', 'age': '7.5 years old.', 'food': 'VetConcept  ', 'snacks': '', 'toys': \"A real male Akita doesn't Play ;)\\nPssst, don't say to him, but he loves his big toy pig\", 'activities': 'Sports (Obedience, Rallyes, tracking, little little bit Agility...), go for walks, spend time together...', 'pack': ''}\n",
      "{'pet_name': 'Faolan', 'owner_url': 'http://www.dogforum.com/members/88026/', 'owner_name': 'Meow', 'breed': 'Akita', 'gender': 'Male', 'age': '4.5 years old.', 'food': 'Natural Balance', 'snacks': '', 'toys': 'Anything he can get his teeth in and destroy. Designated toys are less interesting.', 'activities': \"Be Marie's doormat, sit behind the bench when offered free range playing, and pretend that his guarding skill is needed within 12 feet worth of fencing.\", 'pack': {'Marie': 'http://www.dogforum.com/dogs/marie_19866/'}}\n",
      "{'pet_name': 'Kaito', 'owner_url': 'http://www.dogforum.com/members/135322/', 'owner_name': 'marsel86dude', 'breed': 'Akita', 'gender': 'Male', 'age': '2.4 years old.', 'food': '', 'snacks': '', 'toys': '', 'activities': '', 'pack': ''}\n",
      "{'pet_name': 'Keyser Soze', 'owner_url': 'http://www.dogforum.com/members/83874/', 'owner_name': 'Jinah', 'breed': 'Akita', 'gender': 'Male', 'age': '12.7 years old.', 'food': '', 'snacks': '', 'toys': '', 'activities': '', 'pack': {'Gorilla': 'http://www.dogforum.com/dogs/gorilla_18962/'}}\n",
      "{'pet_name': 'Kuma', 'owner_url': 'http://www.dogforum.com/members/3880/', 'owner_name': 'chillismom', 'breed': 'Akita', 'gender': 'Male', 'age': '', 'food': 'Orijen', 'snacks': '', 'toys': 'Bones', 'activities': 'Lying down, chasing squirrells/raccoons, chewing bones', 'pack': {'Chilli': 'http://www.dogforum.com/dogs/chilli_1143/', 'Lambi': 'http://www.dogforum.com/dogs/lambi_1144/'}}\n"
     ]
    },
    {
     "name": "stdout",
     "output_type": "stream",
     "text": [
      "{'pet_name': 'Kuma', 'owner_url': 'http://www.dogforum.com/members/15586/', 'owner_name': 'emmmmly', 'breed': 'Akita', 'gender': 'Female', 'age': '7.4 years old.', 'food': '', 'snacks': '', 'toys': \"Kuma's not really interested in toys yet... but soon!\", 'activities': 'Lazying around, running, hiking.', 'pack': {'Toby': 'http://www.dogforum.com/dogs/toby_3973/'}}\n",
      "{'pet_name': 'lexi', 'owner_url': 'http://www.dogforum.com/members/75498/', 'owner_name': 'josse', 'breed': 'Akita', 'gender': 'Female', 'age': '6.2 years old.', 'food': 'nuts ', 'snacks': '', 'toys': 'a monkey teddy ', 'activities': 'loves footballs ', 'pack': {'keiko': 'http://www.dogforum.com/dogs/keiko_16874/'}}\n",
      "{'pet_name': 'Loki', 'owner_url': 'http://www.dogforum.com/members/132602/', 'owner_name': 'squidwanda', 'breed': 'Akita', 'gender': 'Male', 'age': '2.7 years old.', 'food': '', 'snacks': '', 'toys': '', 'activities': '', 'pack': {'Bear': 'http://www.dogforum.com/dogs/bear_29825/'}}\n",
      "{'pet_name': 'luxy', 'owner_url': 'http://www.dogforum.com/members/9010/', 'owner_name': 'luxyandlunasmama', 'breed': 'Akita', 'gender': 'Female', 'age': '7.8 years old.', 'food': 'Caeser ', 'snacks': '', 'toys': 'Her spider toy', 'activities': 'Bark bark bark.. and lick my face.', 'pack': {'luxy': 'http://www.dogforum.com/dogs/luxy_2409/'}}\n",
      "{'pet_name': 'Makoi', 'owner_url': 'http://www.dogforum.com/members/13284/', 'owner_name': 'diaryofastubborndog', 'breed': 'Akita', 'gender': 'Male', 'age': '6.1 years old.', 'food': 'Now and pets first grain free', 'snacks': '', 'toys': 'Road kill toy', 'activities': 'He loves long hikes in the mountains, oh and of course eating!', 'pack': {'Lucy': 'http://www.dogforum.com/dogs/lucy_3440/'}}\n",
      "{'pet_name': 'Max', 'owner_url': 'http://www.dogforum.com/members/20433/', 'owner_name': 'geeuh86', 'breed': 'Akita', 'gender': 'Male', 'age': '7.2 years old.', 'food': '', 'snacks': '', 'toys': '', 'activities': '', 'pack': ''}\n",
      "{'pet_name': 'Nori', 'owner_url': 'http://www.dogforum.com/members/117706/', 'owner_name': 'youthink', 'breed': 'Akita', 'gender': 'Male', 'age': '3.2 years old.', 'food': 'Taste of the Wild - lamb and sweet potatoes', 'snacks': '', 'toys': 'stuffed animal', 'activities': 'he likes to take long naps, walk, and jump around like a lamb', 'pack': ''}\n",
      "{'pet_name': 'Sable', 'owner_url': 'http://www.dogforum.com/members/79945/', 'owner_name': 'weelittlewitch', 'breed': 'Akita', 'gender': 'Female', 'age': '14.6 years old.', 'food': \"Fromm's Grain Free dry dog food\", 'snacks': '', 'toys': '', 'activities': '', 'pack': {'Cinnamon': 'http://www.dogforum.com/dogs/cinnamon_19466/'}}\n",
      "{'pet_name': 'Samson', 'owner_url': 'http://www.dogforum.com/members/14280/', 'owner_name': 'janeneebouck', 'breed': 'Akita', 'gender': 'Male', 'age': '16.4 years old.', 'food': 'Eukanuba', 'snacks': '', 'toys': 'Anything the other dog has...', 'activities': 'sniffing flowers, peeing on flowers, remembering when he could chase birds, slow walks and belly love.', 'pack': {'Yoshi': 'http://www.dogforum.com/dogs/yoshi_3683/', 'Carson': 'http://www.dogforum.com/dogs/carson_3685/'}}\n",
      "{'pet_name': 'Senshi', 'owner_url': 'http://www.dogforum.com/members/174162/', 'owner_name': 'danigirl', 'breed': 'Akita', 'gender': 'Male', 'age': '2.7 years old.', 'food': 'TOTW Bison/Venison', 'snacks': '', 'toys': 'anything tug of war (ropes) and stuffed squirrels are his favorite', 'activities': 'He loves to be outside, go on long walks and just play', 'pack': ''}\n",
      "{'pet_name': 'Teddy', 'owner_url': 'http://www.dogforum.com/members/16828/', 'owner_name': 'Teddycotter', 'breed': 'Akita', 'gender': 'Female', 'age': '5.7 years old.', 'food': 'Lrg Brd Puppy Arden grange', 'snacks': '', 'toys': 'Monkey teddy bear', 'activities': 'Cuddle up, long walks, go running', 'pack': ''}\n",
      "{'pet_name': 'Bullet', 'owner_url': 'http://www.dogforum.com/members/198066/', 'owner_name': 'bkooiman', 'breed': 'Alaskan Klee Kai', 'gender': 'Male', 'age': '7.5 years old.', 'food': 'dog food', 'snacks': '', 'toys': 'Ropes', 'activities': 'He likes chasing a laser kind of like a cat. lol', 'pack': ''}\n"
     ]
    }
   ],
   "source": [
    "for url in get_dog_list():\n",
    "    profile = get_dog_detl(url)\n",
    "    print(profile)"
   ]
  },
  {
   "cell_type": "code",
   "execution_count": 19,
   "metadata": {},
   "outputs": [
    {
     "data": {
      "text/plain": [
       "{'activities': 'Run in the backyard, chasing birds, chimpmunks, etc.',\n",
       " 'age': '10.4 years old.',\n",
       " 'breed': 'Afghan Hound',\n",
       " 'food': 'Fromm Dry',\n",
       " 'gender': 'Female',\n",
       " 'owner_name': 'luke04',\n",
       " 'owner_url': 'http://www.dogforum.com/members/199834/',\n",
       " 'pack': {'Remy': 'http://www.dogforum.com/dogs/remy_39434/'},\n",
       " 'pet_name': 'Remy',\n",
       " 'snacks': '',\n",
       " 'toys': 'Stuffed Pumpkin'}"
      ]
     },
     "execution_count": 19,
     "metadata": {},
     "output_type": "execute_result"
    }
   ],
   "source": [
    "profile"
   ]
  }
 ],
 "metadata": {
  "kernelspec": {
   "display_name": "Python 3",
   "language": "python",
   "name": "python3"
  },
  "language_info": {
   "codemirror_mode": {
    "name": "ipython",
    "version": 3
   },
   "file_extension": ".py",
   "mimetype": "text/x-python",
   "name": "python",
   "nbconvert_exporter": "python",
   "pygments_lexer": "ipython3",
   "version": "3.6.3"
  }
 },
 "nbformat": 4,
 "nbformat_minor": 2
}
