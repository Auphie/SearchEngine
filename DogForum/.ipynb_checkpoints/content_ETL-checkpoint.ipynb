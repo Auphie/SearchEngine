{
 "cells": [
  {
   "cell_type": "code",
   "execution_count": 49,
   "metadata": {
    "collapsed": true
   },
   "outputs": [],
   "source": [
    "import re\n",
    "import json\n",
    "import pytz\n",
    "import time\n",
    "import requests\n",
    "import random\n",
    "from fake_useragent import UserAgent\n",
    "from celery import Celery\n",
    "from bs4 import BeautifulSoup\n",
    "from fake_useragent import UserAgent\n",
    "import rethinkdb as r\n",
    "from pymongo import MongoClient\n",
    "from bson.objectid import ObjectId"
   ]
  },
  {
   "cell_type": "code",
   "execution_count": 50,
   "metadata": {
    "collapsed": true
   },
   "outputs": [],
   "source": [
    "def random_header(url):\n",
    "    ua = UserAgent()\n",
    "    random_header = json.loads(r'''{\n",
    "    \"Cache-Control\": \"max-age=0\",\n",
    "    \"Connection\": \"keep-alive\",\n",
    "    \"Host\": \"www.dogforum.com\",\n",
    "    \"Upgrade-Insecure-Requests\": \"1\",\n",
    "    \"User-Agent\":\"%s\"\n",
    "    }'''%ua.random)\n",
    "    random_header[\"Referer\"] = url\n",
    "    return random_header"
   ]
  },
  {
   "cell_type": "code",
   "execution_count": null,
   "metadata": {},
   "outputs": [],
   "source": [
    "title_url = 'http://www.dogforum.com/dog-health/ladybugs-339090/'\n",
    "page = 2\n",
    "title = 'test'\n",
    "resp = requests.get(title_url, headers=random_header(title_url))\n",
    "resp.encoding = 'cp1252'\n",
    "soup = BeautifulSoup(resp.text, 'lxml')"
   ]
  },
  {
   "cell_type": "code",
   "execution_count": null,
   "metadata": {},
   "outputs": [],
   "source": [
    "soup.select('meta')"
   ]
  },
  {
   "cell_type": "code",
   "execution_count": null,
   "metadata": {
    "collapsed": true
   },
   "outputs": [],
   "source": [
    "soup.select('.tborder.vbseo_like_postbit')"
   ]
  },
  {
   "cell_type": "code",
   "execution_count": null,
   "metadata": {
    "collapsed": true
   },
   "outputs": [],
   "source": [
    "re.findall('http://www.dogforum.com/(.*)',title_url)[0]"
   ]
  },
  {
   "cell_type": "code",
   "execution_count": null,
   "metadata": {
    "collapsed": true,
    "scrolled": true
   },
   "outputs": [],
   "source": [
    "len(soup.select('.tborder.vbseo_like_postbit'))"
   ]
  },
  {
   "cell_type": "markdown",
   "metadata": {},
   "source": [
    "# Deal with quotation"
   ]
  },
  {
   "cell_type": "code",
   "execution_count": null,
   "metadata": {
    "collapsed": true
   },
   "outputs": [],
   "source": [
    "[x.extract() for x in soup.select_one('.jobname_title').select('span')]"
   ]
  },
  {
   "cell_type": "code",
   "execution_count": null,
   "metadata": {
    "collapsed": true,
    "scrolled": true
   },
   "outputs": [],
   "source": [
    "# method 1\n",
    "quotation = []\n",
    "quote = soup.select('.tborder.vbseo_like_postbit')[6].findAll(id=re.compile(\"^post_message_\"))[0].select('td.alt2')\n",
    "for qno in range(0,len(quote)):\n",
    "    quotation.append(quote[qno].text.strip())\n",
    "quotation"
   ]
  },
  {
   "cell_type": "code",
   "execution_count": null,
   "metadata": {
    "collapsed": true,
    "scrolled": true
   },
   "outputs": [],
   "source": [
    "# method 2\n",
    "quotation = [y.text.strip() for y in soup.select('.tborder.vbseo_like_postbit')[6].findAll(id=re.compile(\"^post_message_\"))[0].select('td.alt2')]\n",
    "quotation"
   ]
  },
  {
   "cell_type": "markdown",
   "metadata": {},
   "source": [
    "# Method 2: quicky way to deal with content"
   ]
  },
  {
   "cell_type": "code",
   "execution_count": null,
   "metadata": {
    "collapsed": true,
    "scrolled": true
   },
   "outputs": [],
   "source": [
    "# extract quotations\n",
    "[quo.extract() for quo in soup.select('.tborder.vbseo_like_postbit')[0].findAll(id=re.compile(\"^post_message_\"))[0].select('td.alt2')]\n",
    "soup.select('.tborder.vbseo_like_postbit')[0].findAll(id=re.compile(\"^post_message_\"))[0].text.strip().replace('Quote: ','[...quotation...]')"
   ]
  },
  {
   "cell_type": "markdown",
   "metadata": {},
   "source": [
    "### Something dirty in tag that can't be removed via extract quotation only. Must do extraction of div then."
   ]
  },
  {
   "cell_type": "code",
   "execution_count": null,
   "metadata": {
    "collapsed": true
   },
   "outputs": [],
   "source": [
    "[quo.extract() for quo in soup.select('.tborder.vbseo_like_postbit')[0].findAll(id=re.compile(\"^post_message_\"))[0].select('td.alt2')]\n",
    "div = soup.select('.tborder.vbseo_like_postbit')[0].findAll(id=re.compile(\"^post_message_\"))[0]\n",
    "[a.extract() for a in div.select('div')]\n",
    "soup.select('.tborder.vbseo_like_postbit')[0].findAll(id=re.compile(\"^post_message_\"))[0].text"
   ]
  },
  {
   "cell_type": "code",
   "execution_count": null,
   "metadata": {
    "collapsed": true
   },
   "outputs": [],
   "source": [
    "[quo.extract() for quo in soup.select('.tborder.vbseo_like_postbit')[6].findAll(id=re.compile(\"^post_message_\"))[0].select('td.alt2')]\n",
    "soup.select('.tborder.vbseo_like_postbit')[6].findAll(id=re.compile(\"^post_message_\"))[0].text.strip().replace('Quote: ','[...quotation...]')"
   ]
  },
  {
   "cell_type": "markdown",
   "metadata": {
    "scrolled": false
   },
   "source": [
    "###  However, [...quotation...] will be eliminated after extract div... sigh"
   ]
  },
  {
   "cell_type": "code",
   "execution_count": null,
   "metadata": {
    "collapsed": true
   },
   "outputs": [],
   "source": [
    "[quo.extract() for quo in soup.select('.tborder.vbseo_like_postbit')[0].findAll(id=re.compile(\"^post_message_\"))[0].select('td.alt2')]\n",
    "div = soup.select('.tborder.vbseo_like_postbit')[6].findAll(id=re.compile(\"^post_message_\"))[0]\n",
    "[a.extract() for a in div.select('div')]\n",
    "soup.select('.tborder.vbseo_like_postbit')[6].findAll(id=re.compile(\"^post_message_\"))[0].text"
   ]
  },
  {
   "cell_type": "markdown",
   "metadata": {},
   "source": [
    "# practice method 1 (but not necessary)"
   ]
  },
  {
   "cell_type": "code",
   "execution_count": null,
   "metadata": {
    "collapsed": true
   },
   "outputs": [],
   "source": [
    "title_url = 'http://www.dogforum.com/dog-health/what-parvo-5256/page2/'\n",
    "resp = requests.get(title_url, headers=random_header(title_url))\n",
    "resp.encoding = 'cp1252'\n",
    "soup = BeautifulSoup(resp.text, 'lxml')"
   ]
  },
  {
   "cell_type": "code",
   "execution_count": null,
   "metadata": {
    "collapsed": true
   },
   "outputs": [],
   "source": [
    "quote = soup.select('.tborder.vbseo_like_postbit')[6].findAll(id=re.compile(\"^post_message_\"))[0].select('td.alt2')\n",
    "quotation = []\n",
    "for qno in range(0,len(quote)):\n",
    "    quotation.append(quote[qno].text.strip())\n",
    "quotation"
   ]
  },
  {
   "cell_type": "code",
   "execution_count": null,
   "metadata": {
    "collapsed": true
   },
   "outputs": [],
   "source": [
    "a = soup.select('.tborder.vbseo_like_postbit')[6].find(\"div\", id=re.compile(\"^post_message_\"))\n",
    "quote = soup.select('.tborder.vbseo_like_postbit')[6].findAll(id=re.compile(\"^post_message_\"))[0].select('td.alt2')\n",
    "quotation = []\n",
    "\n",
    "if len(quote) > 0:\n",
    "    for quo_no in range(0, len(quote)):\n",
    "        a.select('td.alt2')[0].extract()\n",
    "    print(a.text)\n",
    "else:\n",
    "    print(a.text)"
   ]
  },
  {
   "cell_type": "code",
   "execution_count": null,
   "metadata": {
    "collapsed": true
   },
   "outputs": [],
   "source": [
    "a = soup.select('.tborder.vbseo_like_postbit')[6].find(\"div\", id=re.compile(\"^post_message_\"))\n",
    "quote = soup.select('.tborder.vbseo_like_postbit')[6].findAll(id=re.compile(\"^post_message_\"))[0].select('td.alt2')\n",
    "quotation = []\n",
    "\n",
    "if len(quote) > 0:\n",
    "    for qno in range(0,len(quote)):\n",
    "        quotation.append(quote[qno].text.strip())\n",
    "    for quo_no in range(0, len(quote)):\n",
    "        a.select('td.alt2')[0].extract()\n",
    "    print(a.text)\n",
    "else:\n",
    "    print(a.text)"
   ]
  },
  {
   "cell_type": "code",
   "execution_count": null,
   "metadata": {
    "collapsed": true
   },
   "outputs": [],
   "source": [
    "quotation"
   ]
  },
  {
   "cell_type": "markdown",
   "metadata": {},
   "source": [
    "## For method 1: Handle with content, etract div & quotation"
   ]
  },
  {
   "cell_type": "code",
   "execution_count": null,
   "metadata": {
    "collapsed": true
   },
   "outputs": [],
   "source": [
    "title_url = 'http://www.dogforum.com/dog-health/what-parvo-5256/page2/'\n",
    "resp = requests.get(title_url, headers=random_header(title_url))\n",
    "resp.encoding = 'cp1252'\n",
    "soup = BeautifulSoup(resp.text, 'lxml')"
   ]
  },
  {
   "cell_type": "code",
   "execution_count": null,
   "metadata": {
    "collapsed": true
   },
   "outputs": [],
   "source": [
    "a = soup.select('.tborder.vbseo_like_postbit')[8].find(\"div\", id=re.compile(\"^post_message_\"))\n",
    "quote = soup.select('.tborder.vbseo_like_postbit')[8].findAll(id=re.compile(\"^post_message_\"))[0].select('td.alt2')\n",
    "\n",
    "if len(quote) > 0:\n",
    "    quotation = []\n",
    "    for qno in range(0,len(quote)):\n",
    "        quotation.append(quote[qno].text.strip())\n",
    "    block['quotation'] = quotation\n",
    "    for quo_no in range(0, len(quote)):\n",
    "        a.select('td.alt2')[0].extract()\n",
    "        if len(a.select('div')) > 0:\n",
    "            a.select('div')[0].extract()\n",
    "else:\n",
    "    if len(a.select('div')) > 0:\n",
    "        a.select('div')[0].extract()\n",
    "block['content'] = a.text.strip().replace('Quote:','[...quotation...]').replace(\"\\r\",\"\").replace(\"\\n\",\"\").replace('\\t','')\n",
    "print(block['content'])"
   ]
  },
  {
   "cell_type": "code",
   "execution_count": null,
   "metadata": {
    "collapsed": true,
    "scrolled": true
   },
   "outputs": [],
   "source": [
    "quotation"
   ]
  },
  {
   "cell_type": "markdown",
   "metadata": {},
   "source": [
    "## For method 1: Combine Together"
   ]
  },
  {
   "cell_type": "code",
   "execution_count": null,
   "metadata": {
    "collapsed": true,
    "scrolled": true
   },
   "outputs": [],
   "source": [
    "# Method 1 (only remove div one times)\n",
    "title_url = 'http://www.dogforum.com/dog-health/what-parvo-5256/page2/'\n",
    "resp = requests.get(title_url, headers=random_header(title_url))\n",
    "resp.encoding = 'cp1252'\n",
    "soup = BeautifulSoup(resp.text, 'lxml')\n",
    "\n",
    "block = {}\n",
    "\n",
    "for num in range(0,len(soup.select('.tborder.vbseo_like_postbit'))):\n",
    "    post_date = {}\n",
    "    quotation = []\n",
    "    \n",
    "    block['url'] = title_url\n",
    "    block['page'] = 'page %s'%page\n",
    "    block['title'] = title\n",
    "    block['story'] = soup.select('.tborder.vbseo_like_postbit')[num].findAll(id=re.compile(\"^postcount\"))[0].get('name')\n",
    "    block['author_url'] = soup.select('.tborder.vbseo_like_postbit')[num].select('a.bigusername')[0]['href']\n",
    "    block['author_name'] = soup.select('.tborder.vbseo_like_postbit')[num].select('a.bigusername')[0].text\n",
    "\n",
    "    data = {}\n",
    "    data['date'] = soup.select('.tborder.vbseo_like_postbit')[num].find('td').text.split()[0].replace(',','')\n",
    "    data['time'] = soup.select('.tborder.vbseo_like_postbit')[num].find('td').text.split()[1]\n",
    "    data['ampm'] = soup.select('.tborder.vbseo_like_postbit')[num].find('td').text.split()[2]\n",
    "    block['post_date'] = data\n",
    "\n",
    "    author = {}\n",
    "    try:\n",
    "        author['member_type'] = soup.select('.tborder.vbseo_like_postbit')[num].select('div.smallfont')[0].text\n",
    "    except IndexError:\n",
    "        pass\n",
    "    try:\n",
    "        author['location'] = re.findall('Location: (.*).', soup.select('.tborder.vbseo_like_postbit')[num].text)[0].strip()\n",
    "    except IndexError:\n",
    "        pass\n",
    "    try:\n",
    "        author['join_date'] = re.findall('Join Date:(.*) Location', soup.select('.tborder.vbseo_like_postbit')[num].text)[0].strip()\n",
    "    except IndexError:\n",
    "        pass\n",
    "    try:\n",
    "        author['posts'] = re.findall('Posts: (.*)', soup.select('.tborder.vbseo_like_postbit')[num].text)[0].strip()\n",
    "    except IndexError:\n",
    "        pass\n",
    "    try:\n",
    "        author['mentioned'] = re.findall('Mentioned: (.*)Tag', soup.select('.tborder.vbseo_like_postbit')[num].text)[0].strip()\n",
    "    except IndexError:\n",
    "        pass\n",
    "    try:\n",
    "        author['tagged'] = re.findall('Tagged: (\\d*)', soup.select('.tborder.vbseo_like_postbit')[num].text)[0].strip() + ' thread(s)'\n",
    "    except IndexError:\n",
    "        pass\n",
    "    block['author_info'] = author\n",
    "\n",
    "    a = soup.select('.tborder.vbseo_like_postbit')[num].find(\"div\", id=re.compile(\"^post_message_\"))\n",
    "    quote = soup.select('.tborder.vbseo_like_postbit')[num].findAll(id=re.compile(\"^post_message_\"))[0].select('td.alt2')\n",
    "    if len(quote) > 0:\n",
    "        for qno in range(0,len(quote)):\n",
    "            quotation.append(quote[qno].text.strip())\n",
    "        for quo_no in range(0, len(quote)):\n",
    "            a.select('td.alt2')[0].extract()\n",
    "            if len(a.select('div')) > 0:\n",
    "                a.select('div')[0].extract()\n",
    "    else:\n",
    "        if len(a.select('div')) > 0:\n",
    "            a.select('div')[0].extract()\n",
    "    block['content'] = a.text.strip().replace('Quote:','[...quotation...]').replace(\"\\r\",\"\").replace(\"\\n\",\"\").replace('\\t','')\n",
    "    block['quotation'] = quotation\n",
    "    print(block)"
   ]
  },
  {
   "cell_type": "code",
   "execution_count": 64,
   "metadata": {
    "collapsed": true
   },
   "outputs": [],
   "source": [
    "def to_mongoDB(section):\n",
    "    conn = MongoClient('localhost', 27017)\n",
    "    db = conn.Dogforum\n",
    "    collection = db.Dog_health\n",
    "    results = collection.insert_many(section)\n",
    "    conn.close()"
   ]
  },
  {
   "cell_type": "code",
   "execution_count": 65,
   "metadata": {
    "collapsed": true
   },
   "outputs": [],
   "source": [
    "def to_rethinkdb(section):\n",
    "    conn = r.connect()\n",
    "    res = r.db('Dogforum').table('test').insert(section).run(conn)\n",
    "    conn.close()"
   ]
  },
  {
   "cell_type": "code",
   "execution_count": 66,
   "metadata": {
    "scrolled": false
   },
   "outputs": [],
   "source": [
    "# Method 2 (remove div without content)\n",
    "title_url = 'http://www.dogforum.com/dog-health/what-parvo-5256/page2/'\n",
    "resp = requests.get(title_url, headers=random_header(title_url))\n",
    "resp.encoding = 'cp1252'\n",
    "soup = BeautifulSoup(resp.text, 'lxml')\n",
    "page = 2\n",
    "title = 'test'\n",
    "\n",
    "post = []\n",
    "\n",
    "for num in range(0,len(soup.select('.tborder.vbseo_like_postbit'))):\n",
    "    block = {}\n",
    "    post_date = {}\n",
    "    quotation = []\n",
    "    \n",
    "    block['url'] = title_url\n",
    "    block['page'] = 'page %s'%page\n",
    "    block['title'] = title\n",
    "    floor = soup.select('.tborder.vbseo_like_postbit')[num].findAll(id=re.compile(\"^postcount\"))[0].get('name')\n",
    "    block['floor'] = int(floor)\n",
    "    block['author_url'] = soup.select('.tborder.vbseo_like_postbit')[num].select('a.bigusername')[0]['href']\n",
    "    block['author_name'] = soup.select('.tborder.vbseo_like_postbit')[num].select('a.bigusername')[0].text\n",
    "\n",
    "    data = {}\n",
    "    data['date'] = soup.select('.tborder.vbseo_like_postbit')[num].find('td').text.split()[0].replace(',','')\n",
    "    data['time'] = soup.select('.tborder.vbseo_like_postbit')[num].find('td').text.split()[1]\n",
    "    data['ampm'] = soup.select('.tborder.vbseo_like_postbit')[num].find('td').text.split()[2]\n",
    "    block['post_date'] = data\n",
    "\n",
    "    author = {}\n",
    "    try:\n",
    "        author['member_type'] = soup.select('.tborder.vbseo_like_postbit')[num].select('div.smallfont')[0].text\n",
    "    except IndexError:\n",
    "        pass\n",
    "    try:\n",
    "        author['location'] = re.findall('Location: (.*).', soup.select('.tborder.vbseo_like_postbit')[num].text)[0].strip()\n",
    "    except IndexError:\n",
    "        pass\n",
    "    try:\n",
    "        author['join_date'] = re.findall('Join Date:(.*) Location', soup.select('.tborder.vbseo_like_postbit')[num].text)[0].strip()\n",
    "    except IndexError:\n",
    "        pass\n",
    "    try:\n",
    "        author['posts'] = re.findall('Posts: (.*)', soup.select('.tborder.vbseo_like_postbit')[num].text)[0].strip()\n",
    "    except IndexError:\n",
    "        pass\n",
    "    try:\n",
    "        author['mentioned'] = re.findall('Mentioned: (.*)Tag', soup.select('.tborder.vbseo_like_postbit')[num].text)[0].strip()\n",
    "    except IndexError:\n",
    "        pass\n",
    "    try:\n",
    "        author['tagged'] = re.findall('Tagged: (\\d*)', soup.select('.tborder.vbseo_like_postbit')[num].text)[0].strip() + ' thread(s)'\n",
    "    except IndexError:\n",
    "        pass\n",
    "    block['author_info'] = author\n",
    "    block['_id'] = 'Page%s'%page + 'Floor%s'%floor + re.findall('http://www.dogforum.com(.*)', title_url)[0]\n",
    "    block['id'] = 'Page%s'%page + 'Floor%s'%floor + re.findall('http://www.dogforum.com(.*)', title_url)[0]\n",
    "\n",
    "    quotation = [y.text.strip() for y in soup.select('.tborder.vbseo_like_postbit')[num].findAll(id=re.compile(\"^post_message_\"))[0].select('td.alt2')]\n",
    "    [div.extract() for div in soup.select('.tborder.vbseo_like_postbit')[num].find(\"div\", id=re.compile(\"^post_message_\")).select('div')]\n",
    "    [quo.extract() for quo in soup.select('.tborder.vbseo_like_postbit')[num].findAll(id=re.compile(\"^post_message_\"))[0].select('td.alt2')]\n",
    "    a = soup.select('.tborder.vbseo_like_postbit')[num].find(\"div\", id=re.compile(\"^post_message_\")).text\n",
    "    a.replace('Sent from my iPad using Tapatalk','').replace('Quote: ','[...quotation...]').replace(\"\\r\",\"\").replace('\\t','').strip()\n",
    "    block['content'] = a\n",
    "    block['quotation'] = quotation\n",
    "    post.append(block)\n",
    "\n",
    "to_rethinkdb(post)\n",
    "to_mongoDB(post)"
   ]
  }
 ],
 "metadata": {
  "kernelspec": {
   "display_name": "Python 3",
   "language": "python",
   "name": "python3"
  },
  "language_info": {
   "codemirror_mode": {
    "name": "ipython",
    "version": 3
   },
   "file_extension": ".py",
   "mimetype": "text/x-python",
   "name": "python",
   "nbconvert_exporter": "python",
   "pygments_lexer": "ipython3",
   "version": "3.6.3"
  }
 },
 "nbformat": 4,
 "nbformat_minor": 2
}
