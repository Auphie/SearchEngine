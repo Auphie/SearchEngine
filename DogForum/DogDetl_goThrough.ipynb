{
 "cells": [
  {
   "cell_type": "code",
   "execution_count": 4,
   "metadata": {
    "collapsed": true
   },
   "outputs": [],
   "source": [
    "import re\n",
    "import json\n",
    "import pytz\n",
    "import time\n",
    "import requests\n",
    "import random\n",
    "from fake_useragent import UserAgent\n",
    "from celery import Celery\n",
    "from bs4 import BeautifulSoup\n",
    "from fake_useragent import UserAgent\n",
    "import rethinkdb as r\n",
    "from pymongo import MongoClient\n",
    "from bson.objectid import ObjectId"
   ]
  },
  {
   "cell_type": "code",
   "execution_count": 2,
   "metadata": {
    "collapsed": true
   },
   "outputs": [],
   "source": [
    "profile = {}"
   ]
  },
  {
   "cell_type": "code",
   "execution_count": 9,
   "metadata": {
    "collapsed": true
   },
   "outputs": [],
   "source": [
    "def random_header():\n",
    "    ua = UserAgent()\n",
    "    random_header = json.loads(r'''{\n",
    "    \"Cache-Control\": \"max-age=0\",\n",
    "    \"Connection\": \"keep-alive\",\n",
    "    \"Host\": \"www.dogforum.com\",\n",
    "    \"Upgrade-Insecure-Requests\": \"1\",\n",
    "    \"User-Agent\":\"%s\"\n",
    "    }'''%ua.random)\n",
    "    return random_header"
   ]
  },
  {
   "cell_type": "code",
   "execution_count": 16,
   "metadata": {
    "collapsed": true
   },
   "outputs": [],
   "source": [
    "def get_dog_list():\n",
    "    url = 'http://www.dogforum.com/dogs/'\n",
    "    resp = requests.get(url, headers=random_header())\n",
    "    hrefs = [href for href in re.findall(\"\"\"<a href=\"(http://www.dogforum.com/dogs/\\S*/)\">\"\"\", resp.text)]\n",
    "    return hrefs[:10]"
   ]
  },
  {
   "cell_type": "code",
   "execution_count": 17,
   "metadata": {},
   "outputs": [
    {
     "data": {
      "text/plain": [
       "['http://www.dogforum.com/dogs/nysha_29425/',\n",
       " 'http://www.dogforum.com/dogs/barbie_919/',\n",
       " 'http://www.dogforum.com/dogs/charles_11642/',\n",
       " 'http://www.dogforum.com/dogs/frank_11658/',\n",
       " 'http://www.dogforum.com/dogs/george_11650/',\n",
       " 'http://www.dogforum.com/dogs/james_11634/',\n",
       " 'http://www.dogforum.com/dogs/john_11610/',\n",
       " 'http://www.dogforum.com/dogs/joseph_11666/',\n",
       " 'http://www.dogforum.com/dogs/meda_29705/',\n",
       " 'http://www.dogforum.com/dogs/remy_39426/']"
      ]
     },
     "execution_count": 17,
     "metadata": {},
     "output_type": "execute_result"
    }
   ],
   "source": [
    "get_dog_list()"
   ]
  },
  {
   "cell_type": "code",
   "execution_count": 12,
   "metadata": {
    "collapsed": true
   },
   "outputs": [],
   "source": [
    "def get_dog_detl(url):\n",
    "    resp = requests.get(url, headers=random_header())\n",
    "    soup = BeautifulSoup(resp.text, 'lxml')\n",
    "    data = {}\n",
    "    pack = {} \n",
    "    data['pet_name'] = soup.select_one('#name').text\n",
    "    data['owner_url'] = soup.select('table')[13].select('td > a')[0]['href']\n",
    "    data['owner_name'] = soup.select('table')[13].select('td > a')[0].text\n",
    "    data['pet_name'] = soup.select('table')[13].select('#name')[0].text\n",
    "    data['breed'] = re.findall(\"Breed</h3></td><td>(.{2,30})</td></tr>\",str(soup.select('table')[13]))[0]\n",
    "    try:\n",
    "        data['gender'] = soup.select('table')[13].select('#gender')[0].text\n",
    "        except IndexError:\n",
    "        data['gender'] = \"\"\n",
    "    try:\n",
    "        data['age'] = re.findall(\">Age</h3></td><td>(.{2,30})</td></tr>\",str(soup.select('table')[13]))[0]\n",
    "    except IndexError:\n",
    "        data['age'] = \"\"\n",
    "    try:\n",
    "        data['food'] = soup.select('table')[13].select('#food')[0].text\n",
    "    except IndexError:\n",
    "        data['food'] = \"\"\n",
    "    try:\n",
    "        data['snacks'] = soup.select('table')[13].select('#snakes')[0].text\n",
    "    except IndexError:\n",
    "        data['snacks'] = \"\"\n",
    "    try:\n",
    "        data['toys'] = soup.select('table')[13].select('#toys')[0].text\n",
    "    except IndexError:\n",
    "        data['toys'] = \"\"\n",
    "    try:\n",
    "        data['activities'] = soup.select('table')[13].select('#activities')[0].text\n",
    "    except IndexError:\n",
    "        data['activities'] = \"\"\n",
    "    for num in range(0,20):\n",
    "        try:\n",
    "            key = soup.select('table')[14].select('a')[num].text\n",
    "            value = soup.select('table')[14].select('a')[num]['href']\n",
    "            pack[key] = value\n",
    "        except (AttributeError, IndexError):\n",
    "            continue\n",
    "    pack.pop('')\n",
    "    data['pack'] = pack\n",
    "    return data"
   ]
  },
  {
   "cell_type": "code",
   "execution_count": 20,
   "metadata": {},
   "outputs": [
    {
     "name": "stdout",
     "output_type": "stream",
     "text": [
      "{'pet_name': 'Nysha', 'owner_url': 'http://www.dogforum.com/members/137697/', 'owner_name': 'laceyfaye', 'breed': 'Affenpinscher', 'gender': 'Female', 'age': '13.5 years old.', 'food': '', 'snacks': '', 'toys': 'She never liked playing with toys, she wanted everything to do with you, and only you.', 'activities': 'She loved to run in the backyard with me and go for walks. She also just loved to cuddle and sleep.', 'pack': {'Spunky': 'http://www.dogforum.com/dogs/spunky_29433/'}}\n",
      "{'pet_name': 'Barbie', 'owner_url': 'http://www.dogforum.com/members/487/', 'owner_name': 'animalcraker', 'breed': 'Afghan Hound', 'gender': 'Female', 'age': '8.7 years old.', 'food': '', 'snacks': '', 'toys': '', 'activities': '', 'pack': {'Davy': 'http://www.dogforum.com/dogs/davy_748/', 'McKenzie': 'http://www.dogforum.com/dogs/mckenzie_749/', 'Emily': 'http://www.dogforum.com/dogs/emily_750/'}}\n",
      "{'pet_name': 'Charles', 'owner_url': 'http://www.dogforum.com/members/45937/', 'owner_name': 'OnlyNatural', 'breed': 'Afghan Hound', 'gender': 'Male', 'age': '13.9 years old.', 'food': 'Prey Model Raw', 'snacks': '', 'toys': '', 'activities': '', 'pack': {'John': 'http://www.dogforum.com/dogs/john_11610/', 'William': 'http://www.dogforum.com/dogs/william_11626/', 'James': 'http://www.dogforum.com/dogs/james_11634/', 'George': 'http://www.dogforum.com/dogs/george_11650/', 'Frank': 'http://www.dogforum.com/dogs/frank_11658/', 'Joseph': 'http://www.dogforum.com/dogs/joseph_11666/', 'Thomas': 'http://www.dogforum.com/dogs/thomas_11674/'}}\n",
      "{'pet_name': 'Frank', 'owner_url': 'http://www.dogforum.com/members/45937/', 'owner_name': 'OnlyNatural', 'breed': 'Afghan Hound', 'gender': 'Male', 'age': '11.7 years old.', 'food': 'Prey Model Raw', 'snacks': '', 'toys': '', 'activities': '', 'pack': {'John': 'http://www.dogforum.com/dogs/john_11610/', 'William': 'http://www.dogforum.com/dogs/william_11626/', 'James': 'http://www.dogforum.com/dogs/james_11634/', 'Charles': 'http://www.dogforum.com/dogs/charles_11642/', 'George': 'http://www.dogforum.com/dogs/george_11650/', 'Joseph': 'http://www.dogforum.com/dogs/joseph_11666/', 'Thomas': 'http://www.dogforum.com/dogs/thomas_11674/'}}\n",
      "{'pet_name': 'George', 'owner_url': 'http://www.dogforum.com/members/45937/', 'owner_name': 'OnlyNatural', 'breed': 'Afghan Hound', 'gender': 'Male', 'age': '12.8 years old.', 'food': 'Prey Model Raw', 'snacks': '', 'toys': '', 'activities': '', 'pack': {'John': 'http://www.dogforum.com/dogs/john_11610/', 'William': 'http://www.dogforum.com/dogs/william_11626/', 'James': 'http://www.dogforum.com/dogs/james_11634/', 'Charles': 'http://www.dogforum.com/dogs/charles_11642/', 'Frank': 'http://www.dogforum.com/dogs/frank_11658/', 'Joseph': 'http://www.dogforum.com/dogs/joseph_11666/', 'Thomas': 'http://www.dogforum.com/dogs/thomas_11674/'}}\n",
      "{'pet_name': 'James', 'owner_url': 'http://www.dogforum.com/members/45937/', 'owner_name': 'OnlyNatural', 'breed': 'Afghan Hound', 'gender': 'Male', 'age': '15 years old.', 'food': 'Prey Model Raw', 'snacks': '', 'toys': '', 'activities': '', 'pack': {'John': 'http://www.dogforum.com/dogs/john_11610/', 'William': 'http://www.dogforum.com/dogs/william_11626/', 'Charles': 'http://www.dogforum.com/dogs/charles_11642/', 'George': 'http://www.dogforum.com/dogs/george_11650/', 'Frank': 'http://www.dogforum.com/dogs/frank_11658/', 'Joseph': 'http://www.dogforum.com/dogs/joseph_11666/', 'Thomas': 'http://www.dogforum.com/dogs/thomas_11674/'}}\n",
      "{'pet_name': 'John', 'owner_url': 'http://www.dogforum.com/members/45937/', 'owner_name': 'OnlyNatural', 'breed': 'Afghan Hound', 'gender': 'Male', 'age': '17.2 years old.', 'food': 'Prey Model Raw', 'snacks': '', 'toys': '', 'activities': '', 'pack': {'William': 'http://www.dogforum.com/dogs/william_11626/', 'James': 'http://www.dogforum.com/dogs/james_11634/', 'Charles': 'http://www.dogforum.com/dogs/charles_11642/', 'George': 'http://www.dogforum.com/dogs/george_11650/', 'Frank': 'http://www.dogforum.com/dogs/frank_11658/', 'Joseph': 'http://www.dogforum.com/dogs/joseph_11666/', 'Thomas': 'http://www.dogforum.com/dogs/thomas_11674/'}}\n",
      "{'pet_name': 'Joseph', 'owner_url': 'http://www.dogforum.com/members/45937/', 'owner_name': 'OnlyNatural', 'breed': 'Afghan Hound', 'gender': 'Male', 'age': '10.6 years old.', 'food': 'Prey Model Raw', 'snacks': '', 'toys': '', 'activities': '', 'pack': {'John': 'http://www.dogforum.com/dogs/john_11610/', 'William': 'http://www.dogforum.com/dogs/william_11626/', 'James': 'http://www.dogforum.com/dogs/james_11634/', 'Charles': 'http://www.dogforum.com/dogs/charles_11642/', 'George': 'http://www.dogforum.com/dogs/george_11650/', 'Frank': 'http://www.dogforum.com/dogs/frank_11658/', 'Thomas': 'http://www.dogforum.com/dogs/thomas_11674/'}}\n",
      "{'pet_name': 'Meda', 'owner_url': 'http://www.dogforum.com/members/139601/', 'owner_name': 'Darius', 'breed': 'Afghan Hound', 'gender': 'Female', 'age': '', 'food': '', 'snacks': '', 'toys': '', 'activities': '', 'pack': {'Vera': 'http://www.dogforum.com/dogs/vera_29697/'}}\n",
      "{'pet_name': 'Remy', 'owner_url': 'http://www.dogforum.com/members/199834/', 'owner_name': 'luke04', 'breed': 'Afghan Hound', 'gender': 'Female', 'age': '10.4 years old.', 'food': 'Fromm Dry', 'snacks': '', 'toys': 'Stuffed Pumpkin', 'activities': 'Run in the backyard, chasing birds, chimpmunks, etc.', 'pack': {'Remy': 'http://www.dogforum.com/dogs/remy_39434/'}}\n"
     ]
    }
   ],
   "source": [
    "for url in get_dog_list():\n",
    "    profile = get_dog_detl(url)\n",
    "    print(profile)"
   ]
  },
  {
   "cell_type": "code",
   "execution_count": 19,
   "metadata": {},
   "outputs": [
    {
     "data": {
      "text/plain": [
       "{'activities': 'Run in the backyard, chasing birds, chimpmunks, etc.',\n",
       " 'age': '10.4 years old.',\n",
       " 'breed': 'Afghan Hound',\n",
       " 'food': 'Fromm Dry',\n",
       " 'gender': 'Female',\n",
       " 'owner_name': 'luke04',\n",
       " 'owner_url': 'http://www.dogforum.com/members/199834/',\n",
       " 'pack': {'Remy': 'http://www.dogforum.com/dogs/remy_39434/'},\n",
       " 'pet_name': 'Remy',\n",
       " 'snacks': '',\n",
       " 'toys': 'Stuffed Pumpkin'}"
      ]
     },
     "execution_count": 19,
     "metadata": {},
     "output_type": "execute_result"
    }
   ],
   "source": [
    "profile"
   ]
  }
 ],
 "metadata": {
  "kernelspec": {
   "display_name": "Python 3",
   "language": "python",
   "name": "python3"
  },
  "language_info": {
   "codemirror_mode": {
    "name": "ipython",
    "version": 3
   },
   "file_extension": ".py",
   "mimetype": "text/x-python",
   "name": "python",
   "nbconvert_exporter": "python",
   "pygments_lexer": "ipython3",
   "version": "3.6.3"
  }
 },
 "nbformat": 4,
 "nbformat_minor": 2
}
