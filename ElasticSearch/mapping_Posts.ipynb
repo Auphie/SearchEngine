{
 "cells": [
  {
   "cell_type": "code",
   "execution_count": null,
   "metadata": {
    "collapsed": true
   },
   "outputs": [],
   "source": [
    "def index_map(type_name):\n",
    "    \n",
    "    text_mapping = {\n",
    "      \"type\": \"text\",\n",
    "      \"fields\": {\n",
    "        \"keyword\": {\n",
    "          \"type\": \"keyword\",\n",
    "          \"ignore_above\": 256\n",
    "        }\n",
    "      }\n",
    "    }\n",
    "    \n",
    "    n_gram = {\n",
    "      \"type\": \"text\",\n",
    "      \"analyzer\": \"autocomplete\",\n",
    "      \"search_analyzer\": \"autocomplete_search\",\n",
    "      \"fields\": {\n",
    "        \"keyword\": {\n",
    "          \"type\": \"keyword\",\n",
    "          \"ignore_above\": 256\n",
    "        }\n",
    "      }\n",
    "    }\n",
    "    \n",
    "    _index_mappings = {\n",
    "      \"settings\": {\n",
    "        \"analysis\": {\n",
    "          \"analyzer\": {\n",
    "            \"autocomplete\": {\n",
    "              \"tokenizer\": \"autocomplete\",\n",
    "              \"filter\": [\n",
    "                \"lowercase\"\n",
    "              ]\n",
    "            },\n",
    "            \"autocomplete_search\": {\n",
    "              \"tokenizer\": \"lowercase\"\n",
    "            }\n",
    "          },\n",
    "          \"tokenizer\": {\n",
    "            \"autocomplete\": {\n",
    "              \"type\": \"edge_ngram\",\n",
    "              \"min_gram\": 4,\n",
    "              \"max_gram\": 10,\n",
    "              \"token_chars\": [\n",
    "                \"letter\"\n",
    "              ]\n",
    "            }\n",
    "          }\n",
    "        }\n",
    "      },\n",
    "      \"mappings\": {\n",
    "      type_name: {\n",
    "        \"properties\": {\n",
    "          \"author_name\": text_mapping,\n",
    "          \"author_join_date\": {\n",
    "                \"type\": \"date\",\n",
    "                \"format\": \"yyyy-MM-dd\"\n",
    "                },\n",
    "          \"author_location\": text_mapping,\n",
    "          \"author_type\": text_mapping,\n",
    "          \"author_url\": text_mapping,\n",
    "          \"board\": text_mapping,\n",
    "          \"content\": n_gram,\n",
    "          \"floor\": {\n",
    "                \"type\": \"integer\"\n",
    "              },\n",
    "          \"page\": text_mapping,\n",
    "          \"post_date\": {\n",
    "                \"type\": \"date\",\n",
    "                \"format\": \"yyyy-MM-dd\"\n",
    "                },\n",
    "          \"post_time\": {\n",
    "                \"type\": \"date\",\n",
    "                \"format\": \"HH:mm\"\n",
    "              },\n",
    "          \"title\": n_gram,\n",
    "          \"quotation\" : text_mapping,\n",
    "          \"tags\" : n_gram,\n",
    "          \"url\": text_mapping\n",
    "        }\n",
    "       }\n",
    "      }\n",
    "    }\n",
    "    return _index_mappings"
   ]
  },
  {
   "cell_type": "code",
   "execution_count": null,
   "metadata": {
    "collapsed": true
   },
   "outputs": [],
   "source": [
    "import traceback\n",
    "from pymongo import MongoClient\n",
    "from elasticsearch import Elasticsearch"
   ]
  },
  {
   "cell_type": "code",
   "execution_count": null,
   "metadata": {
    "collapsed": true
   },
   "outputs": [],
   "source": [
    "db = MongoClient('mongodb://127.0.0.1:27017')['dogs']"
   ]
  },
  {
   "cell_type": "code",
   "execution_count": null,
   "metadata": {
    "collapsed": true
   },
   "outputs": [],
   "source": [
    "collection = db.post"
   ]
  },
  {
   "cell_type": "code",
   "execution_count": null,
   "metadata": {},
   "outputs": [],
   "source": [
    "es = Elasticsearch()"
   ]
  },
  {
   "cell_type": "code",
   "execution_count": null,
   "metadata": {},
   "outputs": [],
   "source": [
    "if es.indices.exists(index='dogforum') is not True:\n",
    "    es.indices.create(index='dogforum', body=index_map('posts'))"
   ]
  },
  {
   "cell_type": "code",
   "execution_count": null,
   "metadata": {
    "collapsed": true
   },
   "outputs": [],
   "source": [
    "cursor = collection.find({}, projection={'_id':False})"
   ]
  },
  {
   "cell_type": "code",
   "execution_count": null,
   "metadata": {
    "scrolled": true
   },
   "outputs": [],
   "source": [
    "docs = [x for x in cursor]\n",
    "len(docs)"
   ]
  },
  {
   "cell_type": "code",
   "execution_count": null,
   "metadata": {},
   "outputs": [],
   "source": [
    "processed = 0\n",
    "for _doc in docs[:1000]:\n",
    "    try:\n",
    "        es.index(index='dogforum', doc_type='posts', body=_doc)\n",
    "        processed += 1\n",
    "    except:\n",
    "        traceback.print_exc()\n",
    "print('Processed: ' + str(processed))"
   ]
  }
 ],
 "metadata": {
  "kernelspec": {
   "display_name": "Python 3",
   "language": "python",
   "name": "python3"
  },
  "language_info": {
   "codemirror_mode": {
    "name": "ipython",
    "version": 3
   },
   "file_extension": ".py",
   "mimetype": "text/x-python",
   "name": "python",
   "nbconvert_exporter": "python",
   "pygments_lexer": "ipython3",
   "version": "3.6.3"
  }
 },
 "nbformat": 4,
 "nbformat_minor": 2
}
