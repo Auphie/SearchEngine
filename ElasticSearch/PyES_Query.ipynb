{
 "cells": [
  {
   "cell_type": "code",
   "execution_count": 2,
   "metadata": {
    "collapsed": true
   },
   "outputs": [],
   "source": [
    "from elasticsearch import Elasticsearch\n",
    "from elasticsearch_dsl import Search"
   ]
  },
  {
   "cell_type": "code",
   "execution_count": 3,
   "metadata": {
    "collapsed": true
   },
   "outputs": [],
   "source": [
    "client = Elasticsearch()"
   ]
  },
  {
   "cell_type": "code",
   "execution_count": 4,
   "metadata": {
    "collapsed": true
   },
   "outputs": [],
   "source": [
    "s = Search(using=client, index=\"dogforum\")"
   ]
  },
  {
   "cell_type": "code",
   "execution_count": 6,
   "metadata": {
    "collapsed": true
   },
   "outputs": [],
   "source": [
    "response = client.search(\n",
    "    index=\"dogforum\",\n",
    "    body={\n",
    "      \"query\" : {\n",
    "  \"bool\": {\n",
    "      \"should\": [\n",
    "           { \"match\": { \"title\": \"cocker\" }},\n",
    "           { \"match\": { \"content\":  \"cocker sweet\"}}\n",
    "        ],\n",
    "        \"filter\": {\n",
    "        \"range\" : {\n",
    "            \"post_date\" : {\n",
    "                \"gte\": \"01/01/2012\",\n",
    "                \"lte\": \"02/02/2015\",\n",
    "                \"format\": \"dd/MM/yyyy||yyyy\"\n",
    "            }\n",
    "        }\n",
    "    }}\n",
    "},\n",
    "    \"highlight\": {\n",
    "        \"fields\" : {\n",
    "            \"title\" : {},\n",
    "            \"content\" : {}\n",
    "        }\n",
    "    },\n",
    "  \"_source\" : {\n",
    "  \"excludes\" : [\n",
    "  \"id\",\n",
    "  \"_id\",\n",
    "  \"page\",\n",
    "  \"auhtor_info\",\n",
    "  \"author_url\"\n",
    "  ]\n",
    " }\n",
    "    }\n",
    ")"
   ]
  },
  {
   "cell_type": "code",
   "execution_count": 7,
   "metadata": {
    "scrolled": false
   },
   "outputs": [
    {
     "data": {
      "text/plain": [
       "{'_shards': {'failed': 0, 'skipped': 0, 'successful': 5, 'total': 5},\n",
       " 'hits': {'hits': [{'_id': 'WfxCamIB1astbxWncXdr',\n",
       "    '_index': 'dogforum',\n",
       "    '_score': 11.329666,\n",
       "    '_source': {'author_location': 'Saskatchewan',\n",
       "     'author_name': 'shadowkins',\n",
       "     'author_type': 'Senior Member',\n",
       "     'board': 'Breeds',\n",
       "     'content': ' I have a very soft spot for american cocker spaniels. My Shadow was the sweetest, gentlest cocker I have ever seen. Often my vet would comment on how well behaved he was. ',\n",
       "     'floor': 125,\n",
       "     'join_date': '2010-08-27',\n",
       "     'post_date': '2012-08-11',\n",
       "     'post_time': '19:45',\n",
       "     'quotation': [],\n",
       "     'title': 'What breeds are your fav?',\n",
       "     'url': 'http://www.dogforum.com/dog-breeds/what-breeds-your-fav-1800/page13/'},\n",
       "    '_type': 'posts',\n",
       "    'highlight': {'content': ['I have a very soft spot for american <em>cocker</em> spaniels.',\n",
       "      'My Shadow was the <em>sweet</em>est, gentlest <em>cocker</em> I have ever seen.']}},\n",
       "   {'_id': 'WPxCamIB1astbxWng3gm',\n",
       "    '_index': 'dogforum',\n",
       "    '_score': 9.724342,\n",
       "    '_source': {'author_location': 'Ontario, Canada',\n",
       "     'author_name': 'sandipuppy',\n",
       "     'author_type': 'Junior Member',\n",
       "     'board': 'Breeds',\n",
       "     'content': \"  Sandi is one. When I looked through the list of breeds to add her I was surprised there's no listing for the American Cocker Spaniel here...\\nShe was due for a clip in this pic **blush** \",\n",
       "     'floor': 1,\n",
       "     'join_date': '2010-08-27',\n",
       "     'post_date': '2012-12-30',\n",
       "     'post_time': '20:31',\n",
       "     'quotation': [],\n",
       "     'title': 'American Cocker Spaniel?',\n",
       "     'url': 'http://www.dogforum.com/dog-breeds/american-cocker-spaniel-26948/'},\n",
       "    '_type': 'posts',\n",
       "    'highlight': {'content': [\"I looked through the list of breeds to add her I was surprised there's no listing for the American <em>Cocker</em>\"],\n",
       "     'title': ['American <em>Cocker</em> Spaniel?']}},\n",
       "   {'_id': 's_xCamIB1astbxWnZXZC',\n",
       "    '_index': 'dogforum',\n",
       "    '_score': 6.0565634,\n",
       "    '_source': {'author_location': 'Saskatchewan',\n",
       "     'author_name': 'bhaur',\n",
       "     'author_type': 'Banned',\n",
       "     'board': 'Breeds',\n",
       "     'content': ' What a sweetheart. How old is he now? ',\n",
       "     'floor': 104,\n",
       "     'join_date': '2010-08-27',\n",
       "     'post_date': '2013-01-24',\n",
       "     'post_time': '00:39',\n",
       "     'quotation': [],\n",
       "     'title': 'Finally getting my Chessie Puppy!',\n",
       "     'url': 'http://www.dogforum.com/dog-breeds/finally-getting-my-chessie-puppy-19159/page11/'},\n",
       "    '_type': 'posts',\n",
       "    'highlight': {'content': ['What a <em>sweet</em>heart. How old is he now?']}},\n",
       "   {'_id': '8vxCamIB1astbxWne3e9',\n",
       "    '_index': 'dogforum',\n",
       "    '_score': 5.6693735,\n",
       "    '_source': {'author_location': None,\n",
       "     'author_name': 'puplove52',\n",
       "     'author_type': 'Banned',\n",
       "     'board': 'Breeds',\n",
       "     'content': ' yorkies, bichon, mini poodle, cocker spaniel, and lab. my avatar is a yorkie poo. ',\n",
       "     'floor': 135,\n",
       "     'join_date': '2010-08-27',\n",
       "     'post_date': '2013-01-17',\n",
       "     'post_time': '18:05',\n",
       "     'quotation': [],\n",
       "     'title': 'What breeds are your fav?',\n",
       "     'url': 'http://www.dogforum.com/dog-breeds/what-breeds-your-fav-1800/page14/'},\n",
       "    '_type': 'posts',\n",
       "    'highlight': {'content': ['yorkies, bichon, mini poodle, <em>cocker</em> spaniel, and lab. my avatar is a yorkie poo.']}},\n",
       "   {'_id': 'pvxCamIB1astbxWnmXm1',\n",
       "    '_index': 'dogforum',\n",
       "    '_score': 5.641583,\n",
       "    '_source': {'author_location': None,\n",
       "     'author_name': 'outdoorsy85',\n",
       "     'author_type': 'Member',\n",
       "     'board': 'Breeds',\n",
       "     'content': \"  So, I've been told (by animal shelter and vet) he's a cocker spaniel purebred, poorly so, but purebred. However, people often say they see king charles cavalier in him. FYI: he has docked tail, beautiful poises/gait, weighs 20 pounds, and stands 15-16 inches tall, and is uniform in color except for his blaze. Any guesses? \",\n",
       "     'floor': 1,\n",
       "     'join_date': '2010-08-27',\n",
       "     'post_date': '2012-09-05',\n",
       "     'post_time': '13:32',\n",
       "     'quotation': [],\n",
       "     'title': 'Breed guess',\n",
       "     'url': 'http://www.dogforum.com/dog-breeds/breed-guess-23833/'},\n",
       "    '_type': 'posts',\n",
       "    'highlight': {'content': [\"So, I've been told (by animal shelter and vet) he's a <em>cocker</em> spaniel purebred, poorly so, but purebred\"]}},\n",
       "   {'_id': 'sPxCamIB1astbxWniHjs',\n",
       "    '_index': 'dogforum',\n",
       "    '_score': 4.4261847,\n",
       "    '_source': {'author_location': 'Colorado',\n",
       "     'author_name': 'taylerhill',\n",
       "     'author_type': 'Senior Member',\n",
       "     'board': 'Breeds',\n",
       "     'content': \"  This is Peaches, my childhood dog. She passed away when I was about 16. Any guesses as to what breeds she may have been? She was about 1.5 feet tall. I'm not sure about her weight. She had a very sweet personality. When I was little I used to say that she was part Dalmatian because of her black spots lol. Thank you! \",\n",
       "     'floor': 1,\n",
       "     'join_date': '2010-08-27',\n",
       "     'post_date': '2013-11-26',\n",
       "     'post_time': '15:48',\n",
       "     'quotation': [],\n",
       "     'title': 'Any guesses on her breed?',\n",
       "     'url': 'http://www.dogforum.com/dog-breeds/any-guesses-her-breed-95881/'},\n",
       "    '_type': 'posts',\n",
       "    'highlight': {'content': ['She had a very <em>sweet</em> personality.']}},\n",
       "   {'_id': 'kfxCamIB1astbxWnhnjd',\n",
       "    '_index': 'dogforum',\n",
       "    '_score': 4.3372955,\n",
       "    '_source': {'author_location': None,\n",
       "     'author_name': 'Virgo',\n",
       "     'author_type': 'Junior Member',\n",
       "     'board': 'Breeds',\n",
       "     'content': \"  Hi There, \\r\\nMyself and my family are looking for a puppy. I live with my partner and 2 children who are 2 and 7. My 7 year old has High Functioning autism and he has an amazing 'connection' with dogs. I have looked it having a dog that could maybe help him with things. Nothing too serious, but he doesn't socialize well and after years of observing, I can see a dog would be a brilliant addition, not only for the whole family but for him too. \\r\\nWe have looked into breeds and decided the best choices were a Lab or a Cocker Spaniel. We have gone towards a Cocker Spaniel because we live in a 3 bed house (Large garden and backs onto fields and a long bike path walk that goes for 13 miles with no cars!) and thought it would be the best size wise.  \\r\\nThis evening we went to see some puppies, and unfortunately I think it was from a puppy farm. (I don't want to write what happened here...) \\r\\nSince coming home, I have researched more and have seen that the show cockers, can have 'rage syndrome' and I was wondering what this is, and how common it is? Would it be dangerous to have this breed around my children?  \\r\\nAlso, are there other breeds that would be good for us as a family? My partner always had dogs and is very passionate about bringing up dogs, but he grew up in the countryside with labs and collies so its a little bit different. \\r\\nWe did look at a rescue dog. Most were staffys and I'm too wary of those, especially from a rescue centre. The one we walked was an odd mix, of Lakeland Terrier and Huskamute! She was lovely, but they didn't know the background and I didn't want to take her and her to end up not having the temperement we were looking for. \\r\\nAnyway, I've blabbed on here, sorry. I just don't want to be someone who goes out on a whim, with no research or ideas and just gets any dog that looks cute! Could have easily taken the dog this evening (all of them!) but I do have to be sensible. \\r\\nThanks in advance  \",\n",
       "     'floor': 1,\n",
       "     'join_date': '2010-08-27',\n",
       "     'post_date': '2012-08-29',\n",
       "     'post_time': '16:54',\n",
       "     'quotation': [],\n",
       "     'title': 'Advice on family dog breed please :)',\n",
       "     'url': 'http://www.dogforum.com/dog-breeds/advice-family-dog-breed-please-23574/'},\n",
       "    '_type': 'posts',\n",
       "    'highlight': {'content': ['We have looked into breeds and decided the best choices were a Lab or a <em>Cocker</em> Spaniel.',\n",
       "      'We have gone towards a <em>Cocker</em> Spaniel because we live in a 3 bed house (Large garden and backs onto fields',\n",
       "      \"Since coming home, I have researched more and have seen that the show <em>cocker</em>s, can have 'rage syndrome\"]}},\n",
       "   {'_id': 'GfxCamIB1astbxWnkHlb',\n",
       "    '_index': 'dogforum',\n",
       "    '_score': 4.051911,\n",
       "    '_source': {'author_location': None,\n",
       "     'author_name': 'fsumom',\n",
       "     'author_type': 'Member',\n",
       "     'board': 'Breeds',\n",
       "     'content': \"  I am new here as we just adopted a puppy from our local animal shelter.  The shelter has her labeled as a Boston Terrier/Black Mouth Cur which I don't see.  I think she could be part Pitbull or Boxer.  According to the shelter, she's approximately 2 months old, and I'm guessing she weighs around 3-4lbs.  She's an absolute sweetie!     \",\n",
       "     'floor': 1,\n",
       "     'join_date': '2010-08-27',\n",
       "     'post_date': '2013-09-08',\n",
       "     'post_time': '17:27',\n",
       "     'quotation': [],\n",
       "     'title': 'Any idea what breed our new puppy is?',\n",
       "     'url': 'http://www.dogforum.com/dog-breeds/any-idea-what-breed-our-new-74065/'},\n",
       "    '_type': 'posts',\n",
       "    'highlight': {'content': [\"She's an absolute <em>sweet</em>ie!\"]}},\n",
       "   {'_id': 'qfxCamIB1astbxWnmXnn',\n",
       "    '_index': 'dogforum',\n",
       "    '_score': 3.5224826,\n",
       "    '_source': {'author_location': 'Iowa',\n",
       "     'author_name': 'liljodo',\n",
       "     'author_type': 'Junior Member',\n",
       "     'board': 'Breeds',\n",
       "     'content': \"  Any ideas what my Ty might be? He weighs in at 80 lbs and has lots of wavy hair. He has only a little stump of a tail and is very tall and slender. He can put his face on the counter with all 4 paws on the floor. He barks at birds, butterflies, squirrels, leaves, bunnies, gnats- everything! He is sweet and cuddly and loves to sit on feet. He is very smart and loves to please- very easy to train. We were originally told he was part newfie but I don't think that is right at all. Any ideas? \",\n",
       "     'floor': 1,\n",
       "     'join_date': '2010-08-27',\n",
       "     'post_date': '2012-09-19',\n",
       "     'post_time': '13:59',\n",
       "     'quotation': [],\n",
       "     'title': 'bernese/golden/pyrenes/border collie/what??',\n",
       "     'url': 'http://www.dogforum.com/dog-breeds/bernese-golden-pyrenes-border-collie-what-24244/'},\n",
       "    '_type': 'posts',\n",
       "    'highlight': {'content': ['He is <em>sweet</em> and cuddly and loves to sit on feet.']}},\n",
       "   {'_id': 'JfxCamIB1astbxWnkXk1',\n",
       "    '_index': 'dogforum',\n",
       "    '_score': 3.2194195,\n",
       "    '_source': {'author_location': None,\n",
       "     'author_name': 'bravo',\n",
       "     'author_type': 'Junior Member',\n",
       "     'board': 'Breeds',\n",
       "     'content': '  I have had a few ideas from vets and have had random people ask while we are out on a walk \"is she mixed with--\" but I really have no idea. I have always had pit bull suggested which I am fairly certain of.  The other suggestions/guesses I\\'ve had from people are: weimaranar, lab, greyhound and thai ridgeback.  She is very sweet and affectionate which leads me to be almost sure she is pit bull.  She is also super intelligent and insanely hyper. Her coat has no other colors other than the grey/silver you can see in these pics.  Her skin is also very loose and when she was a puppy (before hematoma surgeries) her ears were kinda pointy and stood straight up.   ',\n",
       "     'floor': 1,\n",
       "     'join_date': '2010-08-27',\n",
       "     'post_date': '2014-10-13',\n",
       "     'post_time': '02:51',\n",
       "     'quotation': [],\n",
       "     'title': 'Any ideas on my dogs breed?',\n",
       "     'url': 'http://www.dogforum.com/dog-breeds/any-ideas-my-dogs-breed-182041/'},\n",
       "    '_type': 'posts',\n",
       "    'highlight': {'content': ['She is very <em>sweet</em> and affectionate which leads me to be almost sure she is pit bull.']}}],\n",
       "  'max_score': 11.329666,\n",
       "  'total': 457},\n",
       " 'timed_out': False,\n",
       " 'took': 23}"
      ]
     },
     "execution_count": 7,
     "metadata": {},
     "output_type": "execute_result"
    }
   ],
   "source": [
    "response"
   ]
  },
  {
   "cell_type": "code",
   "execution_count": 13,
   "metadata": {
    "scrolled": false
   },
   "outputs": [
    {
     "data": {
      "text/plain": [
       "{'_id': 'WfxCamIB1astbxWncXdr',\n",
       " '_index': 'dogforum',\n",
       " '_score': 11.329666,\n",
       " '_source': {'author_location': 'Saskatchewan',\n",
       "  'author_name': 'shadowkins',\n",
       "  'author_type': 'Senior Member',\n",
       "  'board': 'Breeds',\n",
       "  'content': ' I have a very soft spot for american cocker spaniels. My Shadow was the sweetest, gentlest cocker I have ever seen. Often my vet would comment on how well behaved he was. ',\n",
       "  'floor': 125,\n",
       "  'join_date': '2010-08-27',\n",
       "  'post_date': '2012-08-11',\n",
       "  'post_time': '19:45',\n",
       "  'quotation': [],\n",
       "  'title': 'What breeds are your fav?',\n",
       "  'url': 'http://www.dogforum.com/dog-breeds/what-breeds-your-fav-1800/page13/'},\n",
       " '_type': 'posts',\n",
       " 'highlight': {'content': ['I have a very soft spot for american <em>cocker</em> spaniels.',\n",
       "   'My Shadow was the <em>sweet</em>est, gentlest <em>cocker</em> I have ever seen.']}}"
      ]
     },
     "execution_count": 13,
     "metadata": {},
     "output_type": "execute_result"
    }
   ],
   "source": [
    "response['hits']['hits'][0]"
   ]
  },
  {
   "cell_type": "code",
   "execution_count": 23,
   "metadata": {},
   "outputs": [
    {
     "data": {
      "text/plain": [
       "{'author_location': 'Saskatchewan',\n",
       " 'author_name': 'shadowkins',\n",
       " 'author_type': 'Senior Member',\n",
       " 'board': 'Breeds',\n",
       " 'content': ' I have a very soft spot for american cocker spaniels. My Shadow was the sweetest, gentlest cocker I have ever seen. Often my vet would comment on how well behaved he was. ',\n",
       " 'floor': 125,\n",
       " 'join_date': '2010-08-27',\n",
       " 'post_date': '2012-08-11',\n",
       " 'post_time': '19:45',\n",
       " 'quotation': [],\n",
       " 'title': 'What breeds are your fav?',\n",
       " 'url': 'http://www.dogforum.com/dog-breeds/what-breeds-your-fav-1800/page13/'}"
      ]
     },
     "execution_count": 23,
     "metadata": {},
     "output_type": "execute_result"
    }
   ],
   "source": [
    "response['hits']['hits'][0]['_source']"
   ]
  },
  {
   "cell_type": "code",
   "execution_count": 18,
   "metadata": {},
   "outputs": [
    {
     "data": {
      "text/plain": [
       "11.329666"
      ]
     },
     "execution_count": 18,
     "metadata": {},
     "output_type": "execute_result"
    }
   ],
   "source": [
    "# Get score\n",
    "response['hits']['hits'][0].get('_score')"
   ]
  },
  {
   "cell_type": "code",
   "execution_count": 22,
   "metadata": {
    "scrolled": true
   },
   "outputs": [
    {
     "data": {
      "text/plain": [
       "'What breeds are your fav?'"
      ]
     },
     "execution_count": 22,
     "metadata": {},
     "output_type": "execute_result"
    }
   ],
   "source": [
    "# Get title\n",
    "response['hits']['hits'][0]['_source'].get('title')"
   ]
  },
  {
   "cell_type": "code",
   "execution_count": 16,
   "metadata": {},
   "outputs": [
    {
     "data": {
      "text/plain": [
       "{'content': ['I have a very soft spot for american <em>cocker</em> spaniels.',\n",
       "  'My Shadow was the <em>sweet</em>est, gentlest <em>cocker</em> I have ever seen.']}"
      ]
     },
     "execution_count": 16,
     "metadata": {},
     "output_type": "execute_result"
    }
   ],
   "source": [
    "# Get Highlight\n",
    "response['hits']['hits'][0].get('highlight')"
   ]
  },
  {
   "cell_type": "code",
   "execution_count": 29,
   "metadata": {},
   "outputs": [
    {
     "data": {
      "text/plain": [
       "457"
      ]
     },
     "execution_count": 29,
     "metadata": {},
     "output_type": "execute_result"
    }
   ],
   "source": [
    "# finding results\n",
    "response['hits']['total']"
   ]
  },
  {
   "cell_type": "markdown",
   "metadata": {},
   "source": [
    "# variables for query"
   ]
  },
  {
   "cell_type": "code",
   "execution_count": 24,
   "metadata": {
    "collapsed": true
   },
   "outputs": [],
   "source": [
    "start_date = '2012-1-1'"
   ]
  },
  {
   "cell_type": "code",
   "execution_count": 25,
   "metadata": {
    "collapsed": true
   },
   "outputs": [],
   "source": [
    "end_date = '2012-1-2'"
   ]
  },
  {
   "cell_type": "code",
   "execution_count": 26,
   "metadata": {
    "collapsed": true
   },
   "outputs": [],
   "source": [
    "response2 = client.search(\n",
    "    index=\"dogforum\",\n",
    "    body={\n",
    "      \"query\" : {\n",
    "  \"bool\": {\n",
    "      \"should\": [\n",
    "           { \"match\": { \"title\": \"cocker\" }},\n",
    "           { \"match\": { \"content\":  \"cocker sweet\"}}\n",
    "        ],\n",
    "        \"filter\": {\n",
    "        \"range\" : {\n",
    "            \"post_date\" : {\n",
    "                \"gte\": start_date,\n",
    "                \"lte\": end_date,\n",
    "                \"format\": \"yyyy-dd-MM||yyyy\"\n",
    "            }\n",
    "        }\n",
    "    }}\n",
    "},\n",
    "    \"highlight\": {\n",
    "        \"fields\" : {\n",
    "            \"title\" : {},\n",
    "            \"content\" : {}\n",
    "        }\n",
    "    },\n",
    "  \"_source\" : {\n",
    "  \"excludes\" : [\n",
    "  \"id\",\n",
    "  \"_id\",\n",
    "  \"page\",\n",
    "  \"auhtor_info\",\n",
    "  \"author_url\"\n",
    "  ]\n",
    " }\n",
    "    }\n",
    ")"
   ]
  },
  {
   "cell_type": "code",
   "execution_count": 27,
   "metadata": {},
   "outputs": [
    {
     "data": {
      "text/plain": [
       "{'_shards': {'failed': 0, 'skipped': 0, 'successful': 5, 'total': 5},\n",
       " 'hits': {'hits': [{'_id': 'WfxCamIB1astbxWncXdr',\n",
       "    '_index': 'dogforum',\n",
       "    '_score': 11.329666,\n",
       "    '_source': {'author_location': 'Saskatchewan',\n",
       "     'author_name': 'shadowkins',\n",
       "     'author_type': 'Senior Member',\n",
       "     'board': 'Breeds',\n",
       "     'content': ' I have a very soft spot for american cocker spaniels. My Shadow was the sweetest, gentlest cocker I have ever seen. Often my vet would comment on how well behaved he was. ',\n",
       "     'floor': 125,\n",
       "     'join_date': '2010-08-27',\n",
       "     'post_date': '2012-08-11',\n",
       "     'post_time': '19:45',\n",
       "     'quotation': [],\n",
       "     'title': 'What breeds are your fav?',\n",
       "     'url': 'http://www.dogforum.com/dog-breeds/what-breeds-your-fav-1800/page13/'},\n",
       "    '_type': 'posts',\n",
       "    'highlight': {'content': ['I have a very soft spot for american <em>cocker</em> spaniels.',\n",
       "      'My Shadow was the <em>sweet</em>est, gentlest <em>cocker</em> I have ever seen.']}},\n",
       "   {'_id': 'WPxCamIB1astbxWng3gm',\n",
       "    '_index': 'dogforum',\n",
       "    '_score': 9.724342,\n",
       "    '_source': {'author_location': 'Ontario, Canada',\n",
       "     'author_name': 'sandipuppy',\n",
       "     'author_type': 'Junior Member',\n",
       "     'board': 'Breeds',\n",
       "     'content': \"  Sandi is one. When I looked through the list of breeds to add her I was surprised there's no listing for the American Cocker Spaniel here...\\nShe was due for a clip in this pic **blush** \",\n",
       "     'floor': 1,\n",
       "     'join_date': '2010-08-27',\n",
       "     'post_date': '2012-12-30',\n",
       "     'post_time': '20:31',\n",
       "     'quotation': [],\n",
       "     'title': 'American Cocker Spaniel?',\n",
       "     'url': 'http://www.dogforum.com/dog-breeds/american-cocker-spaniel-26948/'},\n",
       "    '_type': 'posts',\n",
       "    'highlight': {'content': [\"I looked through the list of breeds to add her I was surprised there's no listing for the American <em>Cocker</em>\"],\n",
       "     'title': ['American <em>Cocker</em> Spaniel?']}},\n",
       "   {'_id': 's_xCamIB1astbxWnZXZC',\n",
       "    '_index': 'dogforum',\n",
       "    '_score': 6.0565634,\n",
       "    '_source': {'author_location': 'Saskatchewan',\n",
       "     'author_name': 'bhaur',\n",
       "     'author_type': 'Banned',\n",
       "     'board': 'Breeds',\n",
       "     'content': ' What a sweetheart. How old is he now? ',\n",
       "     'floor': 104,\n",
       "     'join_date': '2010-08-27',\n",
       "     'post_date': '2013-01-24',\n",
       "     'post_time': '00:39',\n",
       "     'quotation': [],\n",
       "     'title': 'Finally getting my Chessie Puppy!',\n",
       "     'url': 'http://www.dogforum.com/dog-breeds/finally-getting-my-chessie-puppy-19159/page11/'},\n",
       "    '_type': 'posts',\n",
       "    'highlight': {'content': ['What a <em>sweet</em>heart. How old is he now?']}},\n",
       "   {'_id': '8vxCamIB1astbxWne3e9',\n",
       "    '_index': 'dogforum',\n",
       "    '_score': 5.6693735,\n",
       "    '_source': {'author_location': None,\n",
       "     'author_name': 'puplove52',\n",
       "     'author_type': 'Banned',\n",
       "     'board': 'Breeds',\n",
       "     'content': ' yorkies, bichon, mini poodle, cocker spaniel, and lab. my avatar is a yorkie poo. ',\n",
       "     'floor': 135,\n",
       "     'join_date': '2010-08-27',\n",
       "     'post_date': '2013-01-17',\n",
       "     'post_time': '18:05',\n",
       "     'quotation': [],\n",
       "     'title': 'What breeds are your fav?',\n",
       "     'url': 'http://www.dogforum.com/dog-breeds/what-breeds-your-fav-1800/page14/'},\n",
       "    '_type': 'posts',\n",
       "    'highlight': {'content': ['yorkies, bichon, mini poodle, <em>cocker</em> spaniel, and lab. my avatar is a yorkie poo.']}},\n",
       "   {'_id': 'pvxCamIB1astbxWnmXm1',\n",
       "    '_index': 'dogforum',\n",
       "    '_score': 5.641583,\n",
       "    '_source': {'author_location': None,\n",
       "     'author_name': 'outdoorsy85',\n",
       "     'author_type': 'Member',\n",
       "     'board': 'Breeds',\n",
       "     'content': \"  So, I've been told (by animal shelter and vet) he's a cocker spaniel purebred, poorly so, but purebred. However, people often say they see king charles cavalier in him. FYI: he has docked tail, beautiful poises/gait, weighs 20 pounds, and stands 15-16 inches tall, and is uniform in color except for his blaze. Any guesses? \",\n",
       "     'floor': 1,\n",
       "     'join_date': '2010-08-27',\n",
       "     'post_date': '2012-09-05',\n",
       "     'post_time': '13:32',\n",
       "     'quotation': [],\n",
       "     'title': 'Breed guess',\n",
       "     'url': 'http://www.dogforum.com/dog-breeds/breed-guess-23833/'},\n",
       "    '_type': 'posts',\n",
       "    'highlight': {'content': [\"So, I've been told (by animal shelter and vet) he's a <em>cocker</em> spaniel purebred, poorly so, but purebred\"]}},\n",
       "   {'_id': 'sPxCamIB1astbxWniHjs',\n",
       "    '_index': 'dogforum',\n",
       "    '_score': 4.4261847,\n",
       "    '_source': {'author_location': 'Colorado',\n",
       "     'author_name': 'taylerhill',\n",
       "     'author_type': 'Senior Member',\n",
       "     'board': 'Breeds',\n",
       "     'content': \"  This is Peaches, my childhood dog. She passed away when I was about 16. Any guesses as to what breeds she may have been? She was about 1.5 feet tall. I'm not sure about her weight. She had a very sweet personality. When I was little I used to say that she was part Dalmatian because of her black spots lol. Thank you! \",\n",
       "     'floor': 1,\n",
       "     'join_date': '2010-08-27',\n",
       "     'post_date': '2013-11-26',\n",
       "     'post_time': '15:48',\n",
       "     'quotation': [],\n",
       "     'title': 'Any guesses on her breed?',\n",
       "     'url': 'http://www.dogforum.com/dog-breeds/any-guesses-her-breed-95881/'},\n",
       "    '_type': 'posts',\n",
       "    'highlight': {'content': ['She had a very <em>sweet</em> personality.']}},\n",
       "   {'_id': 'kfxCamIB1astbxWnhnjd',\n",
       "    '_index': 'dogforum',\n",
       "    '_score': 4.3372955,\n",
       "    '_source': {'author_location': None,\n",
       "     'author_name': 'Virgo',\n",
       "     'author_type': 'Junior Member',\n",
       "     'board': 'Breeds',\n",
       "     'content': \"  Hi There, \\r\\nMyself and my family are looking for a puppy. I live with my partner and 2 children who are 2 and 7. My 7 year old has High Functioning autism and he has an amazing 'connection' with dogs. I have looked it having a dog that could maybe help him with things. Nothing too serious, but he doesn't socialize well and after years of observing, I can see a dog would be a brilliant addition, not only for the whole family but for him too. \\r\\nWe have looked into breeds and decided the best choices were a Lab or a Cocker Spaniel. We have gone towards a Cocker Spaniel because we live in a 3 bed house (Large garden and backs onto fields and a long bike path walk that goes for 13 miles with no cars!) and thought it would be the best size wise.  \\r\\nThis evening we went to see some puppies, and unfortunately I think it was from a puppy farm. (I don't want to write what happened here...) \\r\\nSince coming home, I have researched more and have seen that the show cockers, can have 'rage syndrome' and I was wondering what this is, and how common it is? Would it be dangerous to have this breed around my children?  \\r\\nAlso, are there other breeds that would be good for us as a family? My partner always had dogs and is very passionate about bringing up dogs, but he grew up in the countryside with labs and collies so its a little bit different. \\r\\nWe did look at a rescue dog. Most were staffys and I'm too wary of those, especially from a rescue centre. The one we walked was an odd mix, of Lakeland Terrier and Huskamute! She was lovely, but they didn't know the background and I didn't want to take her and her to end up not having the temperement we were looking for. \\r\\nAnyway, I've blabbed on here, sorry. I just don't want to be someone who goes out on a whim, with no research or ideas and just gets any dog that looks cute! Could have easily taken the dog this evening (all of them!) but I do have to be sensible. \\r\\nThanks in advance  \",\n",
       "     'floor': 1,\n",
       "     'join_date': '2010-08-27',\n",
       "     'post_date': '2012-08-29',\n",
       "     'post_time': '16:54',\n",
       "     'quotation': [],\n",
       "     'title': 'Advice on family dog breed please :)',\n",
       "     'url': 'http://www.dogforum.com/dog-breeds/advice-family-dog-breed-please-23574/'},\n",
       "    '_type': 'posts',\n",
       "    'highlight': {'content': ['We have looked into breeds and decided the best choices were a Lab or a <em>Cocker</em> Spaniel.',\n",
       "      'We have gone towards a <em>Cocker</em> Spaniel because we live in a 3 bed house (Large garden and backs onto fields',\n",
       "      \"Since coming home, I have researched more and have seen that the show <em>cocker</em>s, can have 'rage syndrome\"]}},\n",
       "   {'_id': 'GfxCamIB1astbxWnkHlb',\n",
       "    '_index': 'dogforum',\n",
       "    '_score': 4.051911,\n",
       "    '_source': {'author_location': None,\n",
       "     'author_name': 'fsumom',\n",
       "     'author_type': 'Member',\n",
       "     'board': 'Breeds',\n",
       "     'content': \"  I am new here as we just adopted a puppy from our local animal shelter.  The shelter has her labeled as a Boston Terrier/Black Mouth Cur which I don't see.  I think she could be part Pitbull or Boxer.  According to the shelter, she's approximately 2 months old, and I'm guessing she weighs around 3-4lbs.  She's an absolute sweetie!     \",\n",
       "     'floor': 1,\n",
       "     'join_date': '2010-08-27',\n",
       "     'post_date': '2013-09-08',\n",
       "     'post_time': '17:27',\n",
       "     'quotation': [],\n",
       "     'title': 'Any idea what breed our new puppy is?',\n",
       "     'url': 'http://www.dogforum.com/dog-breeds/any-idea-what-breed-our-new-74065/'},\n",
       "    '_type': 'posts',\n",
       "    'highlight': {'content': [\"She's an absolute <em>sweet</em>ie!\"]}},\n",
       "   {'_id': 'qfxCamIB1astbxWnmXnn',\n",
       "    '_index': 'dogforum',\n",
       "    '_score': 3.5224826,\n",
       "    '_source': {'author_location': 'Iowa',\n",
       "     'author_name': 'liljodo',\n",
       "     'author_type': 'Junior Member',\n",
       "     'board': 'Breeds',\n",
       "     'content': \"  Any ideas what my Ty might be? He weighs in at 80 lbs and has lots of wavy hair. He has only a little stump of a tail and is very tall and slender. He can put his face on the counter with all 4 paws on the floor. He barks at birds, butterflies, squirrels, leaves, bunnies, gnats- everything! He is sweet and cuddly and loves to sit on feet. He is very smart and loves to please- very easy to train. We were originally told he was part newfie but I don't think that is right at all. Any ideas? \",\n",
       "     'floor': 1,\n",
       "     'join_date': '2010-08-27',\n",
       "     'post_date': '2012-09-19',\n",
       "     'post_time': '13:59',\n",
       "     'quotation': [],\n",
       "     'title': 'bernese/golden/pyrenes/border collie/what??',\n",
       "     'url': 'http://www.dogforum.com/dog-breeds/bernese-golden-pyrenes-border-collie-what-24244/'},\n",
       "    '_type': 'posts',\n",
       "    'highlight': {'content': ['He is <em>sweet</em> and cuddly and loves to sit on feet.']}},\n",
       "   {'_id': 'JfxCamIB1astbxWnkXk1',\n",
       "    '_index': 'dogforum',\n",
       "    '_score': 3.2194195,\n",
       "    '_source': {'author_location': None,\n",
       "     'author_name': 'bravo',\n",
       "     'author_type': 'Junior Member',\n",
       "     'board': 'Breeds',\n",
       "     'content': '  I have had a few ideas from vets and have had random people ask while we are out on a walk \"is she mixed with--\" but I really have no idea. I have always had pit bull suggested which I am fairly certain of.  The other suggestions/guesses I\\'ve had from people are: weimaranar, lab, greyhound and thai ridgeback.  She is very sweet and affectionate which leads me to be almost sure she is pit bull.  She is also super intelligent and insanely hyper. Her coat has no other colors other than the grey/silver you can see in these pics.  Her skin is also very loose and when she was a puppy (before hematoma surgeries) her ears were kinda pointy and stood straight up.   ',\n",
       "     'floor': 1,\n",
       "     'join_date': '2010-08-27',\n",
       "     'post_date': '2014-10-13',\n",
       "     'post_time': '02:51',\n",
       "     'quotation': [],\n",
       "     'title': 'Any ideas on my dogs breed?',\n",
       "     'url': 'http://www.dogforum.com/dog-breeds/any-ideas-my-dogs-breed-182041/'},\n",
       "    '_type': 'posts',\n",
       "    'highlight': {'content': ['She is very <em>sweet</em> and affectionate which leads me to be almost sure she is pit bull.']}}],\n",
       "  'max_score': 11.329666,\n",
       "  'total': 457},\n",
       " 'timed_out': False,\n",
       " 'took': 23}"
      ]
     },
     "execution_count": 27,
     "metadata": {},
     "output_type": "execute_result"
    }
   ],
   "source": [
    "response"
   ]
  }
 ],
 "metadata": {
  "kernelspec": {
   "display_name": "Python 3",
   "language": "python",
   "name": "python3"
  },
  "language_info": {
   "codemirror_mode": {
    "name": "ipython",
    "version": 3
   },
   "file_extension": ".py",
   "mimetype": "text/x-python",
   "name": "python",
   "nbconvert_exporter": "python",
   "pygments_lexer": "ipython3",
   "version": "3.6.3"
  }
 },
 "nbformat": 4,
 "nbformat_minor": 2
}
