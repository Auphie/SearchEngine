{
 "cells": [
  {
   "cell_type": "code",
   "execution_count": 1,
   "metadata": {
    "collapsed": true
   },
   "outputs": [],
   "source": [
    "import traceback\n",
    "from pymongo import MongoClient"
   ]
  },
  {
   "cell_type": "code",
   "execution_count": 2,
   "metadata": {
    "collapsed": true
   },
   "outputs": [],
   "source": [
    "db = MongoClient('mongodb://127.0.0.1:27017')['dogs']"
   ]
  },
  {
   "cell_type": "code",
   "execution_count": 3,
   "metadata": {
    "collapsed": true
   },
   "outputs": [],
   "source": [
    "# \"autho\"可替換成其他collection名稱\n",
    "collection = db.autho"
   ]
  },
  {
   "cell_type": "code",
   "execution_count": 4,
   "metadata": {
    "collapsed": true
   },
   "outputs": [],
   "source": [
    "# 利用cursor將db資料抓下來。projection{裡面指定哪些欄位要哪些不要}\n",
    "cursor = collection.find({}, projection={'_id':False})"
   ]
  },
  {
   "cell_type": "code",
   "execution_count": 5,
   "metadata": {
    "collapsed": true
   },
   "outputs": [],
   "source": [
    "# 利用Python的list功能，將每筆資料存入docs的list內\n",
    "docs = [x for x in cursor]"
   ]
  },
  {
   "cell_type": "code",
   "execution_count": 6,
   "metadata": {},
   "outputs": [
    {
     "data": {
      "text/plain": [
       "20504"
      ]
     },
     "execution_count": 6,
     "metadata": {},
     "output_type": "execute_result"
    }
   ],
   "source": [
    "# 看看有幾筆資料\n",
    "len(docs)"
   ]
  },
  {
   "cell_type": "code",
   "execution_count": 7,
   "metadata": {
    "scrolled": true
   },
   "outputs": [
    {
     "name": "stdout",
     "output_type": "stream",
     "text": [
      "{'author_name': 'Tobydog', 'tot_posts': 2}\n",
      "{'author_name': 'Gingerrrrr', 'tot_posts': 36}\n",
      "{'author_name': 'Administrator', 'tot_posts': 2027}\n",
      "{'author_name': 'sarama', 'tot_posts': 2}\n",
      "{'author_name': 'jamieleigh', 'tot_posts': 3}\n",
      "{'author_name': 'LeatherLori', 'tot_posts': 6}\n",
      "{'author_name': 'Schatten', 'tot_posts': 1}\n",
      "{'author_name': 'kazmoz', 'tot_posts': 6}\n",
      "{'author_name': 'lULUTWIN', 'tot_posts': 1}\n",
      "{'author_name': 'Eve Park', 'tot_posts': 13}\n"
     ]
    }
   ],
   "source": [
    "# 印出前十筆\n",
    "for row in docs[:10]:\n",
    "    print(row)"
   ]
  },
  {
   "cell_type": "code",
   "execution_count": 11,
   "metadata": {},
   "outputs": [
    {
     "data": {
      "text/plain": [
       "'Eve Park'"
      ]
     },
     "execution_count": 11,
     "metadata": {},
     "output_type": "execute_result"
    }
   ],
   "source": [
    "# 取欄位的方式\n",
    "row.get('author_name')"
   ]
  },
  {
   "cell_type": "code",
   "execution_count": 12,
   "metadata": {},
   "outputs": [
    {
     "name": "stdout",
     "output_type": "stream",
     "text": [
      "Tobydog\n",
      "Gingerrrrr\n",
      "Administrator\n",
      "sarama\n",
      "jamieleigh\n",
      "LeatherLori\n",
      "Schatten\n",
      "kazmoz\n",
      "lULUTWIN\n",
      "Eve Park\n"
     ]
    }
   ],
   "source": [
    "# 用迴圈的方式取特定值\n",
    "for row in docs[:10]:\n",
    "    print(row.get('author_name'))"
   ]
  }
 ],
 "metadata": {
  "kernelspec": {
   "display_name": "Python 3",
   "language": "python",
   "name": "python3"
  },
  "language_info": {
   "codemirror_mode": {
    "name": "ipython",
    "version": 3
   },
   "file_extension": ".py",
   "mimetype": "text/x-python",
   "name": "python",
   "nbconvert_exporter": "python",
   "pygments_lexer": "ipython3",
   "version": "3.6.3"
  }
 },
 "nbformat": 4,
 "nbformat_minor": 2
}
