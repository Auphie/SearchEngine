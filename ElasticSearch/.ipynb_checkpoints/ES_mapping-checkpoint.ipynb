{
 "cells": [
  {
   "cell_type": "code",
   "execution_count": 2,
   "metadata": {
    "collapsed": true
   },
   "outputs": [],
   "source": [
    "import traceback\n",
    "from pymongo import MongoClient\n",
    "from elasticsearch import Elasticsearch"
   ]
  },
  {
   "cell_type": "code",
   "execution_count": 3,
   "metadata": {
    "collapsed": true
   },
   "outputs": [],
   "source": [
    "db = MongoClient('mongodb://127.0.0.1:27017')['Dogforum']"
   ]
  },
  {
   "cell_type": "code",
   "execution_count": null,
   "metadata": {
    "collapsed": true
   },
   "outputs": [],
   "source": [
    "es = Elasticsearch()"
   ]
  },
  {
   "cell_type": "code",
   "execution_count": null,
   "metadata": {
    "collapsed": true
   },
   "outputs": [],
   "source": [
    "type_name = 'Breeds'"
   ]
  },
  {
   "cell_type": "code",
   "execution_count": 5,
   "metadata": {},
   "outputs": [
    {
     "name": "stdout",
     "output_type": "stream",
     "text": [
      "Grooming\n",
      "New_Additions\n",
      "Train_Behavior\n",
      "Introductions\n",
      "DogDetail\n",
      "General_Discussion\n",
      "Breeds\n",
      "Perform_sports\n",
      "Dog_health\n",
      "Gear_supplies\n",
      "Food\n",
      "Memorials\n"
     ]
    }
   ],
   "source": [
    "for type_name in db.collection_names():\n",
    "    print(type_name)"
   ]
  },
  {
   "cell_type": "code",
   "execution_count": null,
   "metadata": {
    "collapsed": true
   },
   "outputs": [],
   "source": [
    "text_mapping = {\n",
    "  \"type\": \"text\",\n",
    "  \"fields\": {\n",
    "    \"keyword\": {\n",
    "      \"type\": \"keyword\",\n",
    "      \"ignore_above\": 256\n",
    "    }\n",
    "  }\n",
    "}"
   ]
  },
  {
   "cell_type": "code",
   "execution_count": null,
   "metadata": {
    "collapsed": true
   },
   "outputs": [],
   "source": [
    "n_gram = {\n",
    "  \"type\": \"text\",\n",
    "  \"analyzer\": \"autocomplete\",\n",
    "  \"search_analyzer\": \"autocomplete_search\",\n",
    "  \"fields\": {\n",
    "    \"keyword\": {\n",
    "      \"type\": \"keyword\",\n",
    "      \"ignore_above\": 256\n",
    "    }\n",
    "  }\n",
    "}"
   ]
  },
  {
   "cell_type": "code",
   "execution_count": null,
   "metadata": {
    "collapsed": true
   },
   "outputs": [],
   "source": [
    "def index_map(type_name):\n",
    "    _index_mappings = {\n",
    "      \"settings\": {\n",
    "        \"analysis\": {\n",
    "          \"analyzer\": {\n",
    "            \"autocomplete\": {\n",
    "              \"tokenizer\": \"autocomplete\",\n",
    "              \"filter\": [\n",
    "                \"lowercase\"\n",
    "              ]\n",
    "            },\n",
    "            \"autocomplete_search\": {\n",
    "              \"tokenizer\": \"lowercase\"\n",
    "            }\n",
    "          },\n",
    "          \"tokenizer\": {\n",
    "            \"autocomplete\": {\n",
    "              \"type\": \"edge_ngram\",\n",
    "              \"min_gram\": 3,\n",
    "              \"max_gram\": 10,\n",
    "              \"token_chars\": [\n",
    "                \"letter\"\n",
    "              ]\n",
    "            }\n",
    "          }\n",
    "        }\n",
    "      },\n",
    "      \"mappings\": {\n",
    "         type_name: {\n",
    "          \"properties\": {\n",
    "            \"author_info\": {\n",
    "              \"properties\": {\n",
    "                \"join_date\": text_mapping,\n",
    "                \"location\": text_mapping,\n",
    "                \"member_type\": text_mapping,\n",
    "                \"mentioned\": text_mapping,\n",
    "                \"posts\": text_mapping,\n",
    "                \"tagged\": text_mapping\n",
    "              }\n",
    "            },\n",
    "            \"author_name\": text_mapping,\n",
    "            \"author_url\": text_mapping,\n",
    "            \"content\": n_gram,\n",
    "            \"floor\": {\n",
    "              \"type\": \"integer\"\n",
    "            },\n",
    "            \"id\": text_mapping,\n",
    "            \"page\": text_mapping,\n",
    "            \"post_date\": {\n",
    "              \"properties\": {\n",
    "                \"ampm\": text_mapping,\n",
    "                \"date\": {\n",
    "                  \"type\": \"date\",\n",
    "                  \"format\": \"MM-dd-yyyy||strict_year_month_day\"\n",
    "                },\n",
    "                \"time\": {\n",
    "                  \"type\": \"date\",\n",
    "                  \"format\": \"HH:mm||strict_hour_minute\"\n",
    "                }\n",
    "              }\n",
    "            },\n",
    "            \"p_date\": {\n",
    "            \"type\": \"integer\"\n",
    "            },\n",
    "            \"title\": n_gram,\n",
    "            \"quotation\": n_gram,\n",
    "            \"url\":text_mapping\n",
    "          }\n",
    "        }\n",
    "      }\n",
    "    }\n",
    "    return _index_mappings"
   ]
  },
  {
   "cell_type": "code",
   "execution_count": null,
   "metadata": {
    "collapsed": true
   },
   "outputs": [],
   "source": [
    "if es.indices.exists(index='dogforum') is not True:\n",
    "    es.indices.create(index='dogforum', body=index_map(type_name))"
   ]
  },
  {
   "cell_type": "code",
   "execution_count": null,
   "metadata": {
    "collapsed": true
   },
   "outputs": [],
   "source": [
    "cursor = db[type_name].find({}, projection={'_id':False})"
   ]
  },
  {
   "cell_type": "code",
   "execution_count": null,
   "metadata": {
    "collapsed": true
   },
   "outputs": [],
   "source": [
    "_docs = [x for x in cursor]"
   ]
  },
  {
   "cell_type": "code",
   "execution_count": null,
   "metadata": {
    "collapsed": true,
    "scrolled": true
   },
   "outputs": [],
   "source": [
    "_docs[1].get('id').replace('/','')"
   ]
  },
  {
   "cell_type": "code",
   "execution_count": null,
   "metadata": {
    "collapsed": true,
    "scrolled": true
   },
   "outputs": [],
   "source": [
    "for _doc in _docs[:10]:\n",
    "    print(_doc.get('id').replace('/',''))"
   ]
  },
  {
   "cell_type": "code",
   "execution_count": null,
   "metadata": {
    "scrolled": true
   },
   "outputs": [],
   "source": [
    "processed = 0\n",
    "for _doc in _docs[:100]:\n",
    "    try:\n",
    "        es.index(index='dogforum', doc_type=type_name, id=_doc.get('id').replace('/',''), body=_doc)\n",
    "        processed += 1\n",
    "    except:\n",
    "        traceback.print_exc()\n",
    "print('Processed: ' + str(processed))"
   ]
  }
 ],
 "metadata": {
  "kernelspec": {
   "display_name": "Python 3",
   "language": "python",
   "name": "python3"
  },
  "language_info": {
   "codemirror_mode": {
    "name": "ipython",
    "version": 3
   },
   "file_extension": ".py",
   "mimetype": "text/x-python",
   "name": "python",
   "nbconvert_exporter": "python",
   "pygments_lexer": "ipython3",
   "version": "3.6.3"
  }
 },
 "nbformat": 4,
 "nbformat_minor": 2
}
