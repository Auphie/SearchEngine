{
 "cells": [
  {
   "cell_type": "code",
   "execution_count": 16,
   "metadata": {
    "scrolled": true
   },
   "outputs": [],
   "source": [
    "import pymysql\n",
    "from pymongo import MongoClient\n",
    "from bson.objectid import ObjectId"
   ]
  },
  {
   "cell_type": "code",
   "execution_count": 14,
   "metadata": {},
   "outputs": [],
   "source": [
    "conn = pymysql.connect(host='localhost', port=3306, user='root', password='1234', use_unicode=True, charset='utf8')\n",
    "cur = conn.cursor()"
   ]
  },
  {
   "cell_type": "code",
   "execution_count": 17,
   "metadata": {
    "collapsed": true
   },
   "outputs": [],
   "source": [
    "conn_M = MongoClient('localhost', 27017)\n",
    "db = conn_M.dogs"
   ]
  },
  {
   "cell_type": "code",
   "execution_count": 25,
   "metadata": {
    "collapsed": true
   },
   "outputs": [],
   "source": [
    "cursorM = db['post'].find({})"
   ]
  },
  {
   "cell_type": "code",
   "execution_count": 26,
   "metadata": {
    "collapsed": true
   },
   "outputs": [],
   "source": [
    "info = [a for a in cursorM]"
   ]
  },
  {
   "cell_type": "code",
   "execution_count": 27,
   "metadata": {
    "scrolled": true
   },
   "outputs": [
    {
     "data": {
      "text/plain": [
       "447354"
      ]
     },
     "execution_count": 27,
     "metadata": {},
     "output_type": "execute_result"
    }
   ],
   "source": [
    "len(info)"
   ]
  },
  {
   "cell_type": "code",
   "execution_count": 47,
   "metadata": {},
   "outputs": [
    {
     "data": {
      "text/plain": [
       "'5aba4ae81d41c89fb1d642f1'"
      ]
     },
     "execution_count": 47,
     "metadata": {},
     "output_type": "execute_result"
    }
   ],
   "source": [
    "str(info[0].get('_id'))"
   ]
  },
  {
   "cell_type": "code",
   "execution_count": 49,
   "metadata": {},
   "outputs": [
    {
     "ename": "KeyError",
     "evalue": "\"str(info[0].get('_id'))\"",
     "output_type": "error",
     "traceback": [
      "\u001b[0;31m---------------------------------------------------------------------------\u001b[0m",
      "\u001b[0;31mKeyError\u001b[0m                                  Traceback (most recent call last)",
      "\u001b[0;32m<ipython-input-49-d83af6e1a8ab>\u001b[0m in \u001b[0;36m<module>\u001b[0;34m()\u001b[0m\n\u001b[1;32m      3\u001b[0m     \u001b[0;31m#cur.execute(\"\"\"INSERT INTO tablename VALUES (?, ?, ?, ?, ?)\"\"\", (val1, val2, val3, val4, val5))\u001b[0m\u001b[0;34m\u001b[0m\u001b[0;34m\u001b[0m\u001b[0m\n\u001b[1;32m      4\u001b[0m     cur.execute(\"\"\"INSERT INTO posts VALUES (%s, %s, %s, %s, %s,%s, %s, %s, %s, %s)\"\"\",\n\u001b[0;32m----> 5\u001b[0;31m                          (row[\"str(info[0].get('_id'))\"],\n\u001b[0m\u001b[1;32m      6\u001b[0m                           \u001b[0mrow\u001b[0m\u001b[0;34m[\u001b[0m\u001b[0;34m'author_location'\u001b[0m\u001b[0;34m]\u001b[0m\u001b[0;34m,\u001b[0m\u001b[0;34m\u001b[0m\u001b[0m\n\u001b[1;32m      7\u001b[0m                           \u001b[0mrow\u001b[0m\u001b[0;34m[\u001b[0m\u001b[0;34m'author_name'\u001b[0m\u001b[0;34m]\u001b[0m\u001b[0;34m,\u001b[0m\u001b[0;34m\u001b[0m\u001b[0m\n",
      "\u001b[0;31mKeyError\u001b[0m: \"str(info[0].get('_id'))\""
     ]
    }
   ],
   "source": [
    "for row in info:\n",
    "    #print(row)\n",
    "    #cur.execute(\"\"\"INSERT INTO tablename VALUES (?, ?, ?, ?, ?)\"\"\", (val1, val2, val3, val4, val5))\n",
    "    cur.execute(\"\"\"INSERT INTO posts VALUES (%s, %s, %s, %s, %s,%s, %s, %s, %s, %s)\"\"\",\n",
    "                         (row[\"str(info[0].get('_id'))\"],\n",
    "                          row['author_location'],\n",
    "                          row['author_name'],\n",
    "                          row['author_type'],\n",
    "                          row['board'],\n",
    "                          row['floor'],\n",
    "                          row['join_date'],\n",
    "                          row['page'],\n",
    "                          row['post_date'],\n",
    "                          row['title']\n",
    "                         )\n",
    "                        )\n",
    "conn.commit()"
   ]
  }
 ],
 "metadata": {
  "kernelspec": {
   "display_name": "Python 3",
   "language": "python",
   "name": "python3"
  },
  "language_info": {
   "codemirror_mode": {
    "name": "ipython",
    "version": 3
   },
   "file_extension": ".py",
   "mimetype": "text/x-python",
   "name": "python",
   "nbconvert_exporter": "python",
   "pygments_lexer": "ipython3",
   "version": "3.6.3"
  }
 },
 "nbformat": 4,
 "nbformat_minor": 2
}
