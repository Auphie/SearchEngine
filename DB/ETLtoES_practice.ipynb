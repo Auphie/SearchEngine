{
 "cells": [
  {
   "cell_type": "code",
   "execution_count": 1,
   "metadata": {
    "collapsed": true
   },
   "outputs": [],
   "source": [
    "import traceback\n",
    "from pymongo import MongoClient\n",
    "from elasticsearch import Elasticsearch"
   ]
  },
  {
   "cell_type": "code",
   "execution_count": 2,
   "metadata": {
    "collapsed": true
   },
   "outputs": [],
   "source": [
    "db = MongoClient('mongodb://127.0.0.1:27017')['Dogforum']"
   ]
  },
  {
   "cell_type": "code",
   "execution_count": 3,
   "metadata": {
    "scrolled": true
   },
   "outputs": [
    {
     "name": "stdout",
     "output_type": "stream",
     "text": [
      "dog_stories\n"
     ]
    }
   ],
   "source": [
    "for type_name in db.collection_names():\n",
    "    print(type_name)"
   ]
  },
  {
   "cell_type": "markdown",
   "metadata": {},
   "source": [
    "# Method 1: combine key, value in a dict_list into tuple "
   ]
  },
  {
   "cell_type": "code",
   "execution_count": 4,
   "metadata": {
    "collapsed": true,
    "scrolled": true
   },
   "outputs": [],
   "source": [
    "title_cursor = db[type_name].find({},{'_id':0,'title':1, 'content':1})"
   ]
  },
  {
   "cell_type": "code",
   "execution_count": 5,
   "metadata": {
    "collapsed": true
   },
   "outputs": [],
   "source": [
    "# title = [b.values() for b in title_cursor]\n",
    "# tup_title = [tuple(tup) for tup in title]\n",
    "tup_title = [tuple(tup) for tup in [a.values() for a in title_cursor]]"
   ]
  },
  {
   "cell_type": "code",
   "execution_count": 6,
   "metadata": {
    "scrolled": false
   },
   "outputs": [
    {
     "data": {
      "text/plain": [
       "[(\"Lab thinks she's a lifeguard\",\n",
       "  \" I love those moments, the one's you'll always remember once they're gone \"),\n",
       " (\"Lab thinks she's a lifeguard\",\n",
       "  \" Sounds like she was retrieving something that was special to her and having a blast doing it. Also sounds like she's naturally inclined to water rescue. If she has the typical lab soft mouth grab it sounds like she would be great at water rescue.  \\nAlso your vacation sounds amazing. I am jealous. \")]"
      ]
     },
     "execution_count": 6,
     "metadata": {},
     "output_type": "execute_result"
    }
   ],
   "source": [
    "tup_title[1:3]"
   ]
  },
  {
   "cell_type": "markdown",
   "metadata": {},
   "source": [
    "# Method 2: concatenate values with a key in a dict_list"
   ]
  },
  {
   "cell_type": "code",
   "execution_count": 7,
   "metadata": {
    "collapsed": true
   },
   "outputs": [],
   "source": [
    "tcu_cursor = db[type_name].find({},{'_id':0,'title':1, 'content':1, 'url':1})"
   ]
  },
  {
   "cell_type": "code",
   "execution_count": 8,
   "metadata": {
    "collapsed": true,
    "scrolled": true
   },
   "outputs": [],
   "source": [
    "data = [b for b in tcu_cursor]"
   ]
  },
  {
   "cell_type": "code",
   "execution_count": 9,
   "metadata": {},
   "outputs": [
    {
     "data": {
      "text/plain": [
       "1320"
      ]
     },
     "execution_count": 9,
     "metadata": {},
     "output_type": "execute_result"
    }
   ],
   "source": [
    "len(data)"
   ]
  },
  {
   "cell_type": "code",
   "execution_count": 10,
   "metadata": {
    "collapsed": true
   },
   "outputs": [],
   "source": [
    "articles = []\n",
    "for num in range(0, len(data)):\n",
    "    #block = {}\n",
    "    #block[data[num].get('title')] = data[num].get('content')+ '[ ' + data[num].get('url') + ' ]'\n",
    "    #articles.append(tuple(block))\n",
    "    block = (data[num].get('title'), data[num].get('content')+ '[ ' + data[num].get('url') + ' ]')\n",
    "    articles.append(block)"
   ]
  },
  {
   "cell_type": "code",
   "execution_count": 11,
   "metadata": {},
   "outputs": [
    {
     "data": {
      "text/plain": [
       "list"
      ]
     },
     "execution_count": 11,
     "metadata": {},
     "output_type": "execute_result"
    }
   ],
   "source": [
    "type(articles)"
   ]
  },
  {
   "cell_type": "code",
   "execution_count": 12,
   "metadata": {},
   "outputs": [
    {
     "data": {
      "text/plain": [
       "1320"
      ]
     },
     "execution_count": 12,
     "metadata": {},
     "output_type": "execute_result"
    }
   ],
   "source": [
    "len(articles)"
   ]
  },
  {
   "cell_type": "markdown",
   "metadata": {
    "collapsed": true
   },
   "source": [
    "# Map-Reduce (key: title_name, value: contents)"
   ]
  },
  {
   "cell_type": "code",
   "execution_count": 13,
   "metadata": {
    "collapsed": true
   },
   "outputs": [],
   "source": [
    "import collections as c"
   ]
  },
  {
   "cell_type": "code",
   "execution_count": 14,
   "metadata": {
    "collapsed": true
   },
   "outputs": [],
   "source": [
    "agg_title = c.defaultdict(list)\n",
    "for k, v in articles:\n",
    "    agg_title[k].append(v)"
   ]
  },
  {
   "cell_type": "code",
   "execution_count": 15,
   "metadata": {
    "scrolled": true
   },
   "outputs": [
    {
     "data": {
      "text/plain": [
       "collections.defaultdict"
      ]
     },
     "execution_count": 15,
     "metadata": {},
     "output_type": "execute_result"
    }
   ],
   "source": [
    "type(agg_title)"
   ]
  },
  {
   "cell_type": "code",
   "execution_count": 16,
   "metadata": {
    "scrolled": false
   },
   "outputs": [
    {
     "data": {
      "text/plain": [
       "('Is it bad to have a playful dog?',\n",
       " ['  My Puppy plays alot and likes playing outdoors. \\r\\nis it something to be worried about?   https://www.youtube.com/watch?v=BF6vjKZfXXQ [ http://www.dogforum.com/dog-stories/bad-have-playful-dog-290769/ ]',\n",
       "  ' Why would you worry about that?  Dogs playing seem normal to me. [ http://www.dogforum.com/dog-stories/bad-have-playful-dog-290769/ ]',\n",
       "  \" A a happy chappie.....what's to worry about? [ http://www.dogforum.com/dog-stories/bad-have-playful-dog-290769/ ]\",\n",
       "  \" Play is a good thing. The more happy play the better, as far as I'm concerned! \\nI remember when I was 11 and adopted my Lab mix puppy (who has since passed). Her mother was a border collie and she was from a litter of TEN. When I came in, she was the only one that was awake, and I decided I wanted a playful dog so I chose her.  \\nI don't regret that choice for a second. She was quite the character but overall was an amazing dog. Loving, playful, kind. Perfection. [ http://www.dogforum.com/dog-stories/bad-have-playful-dog-290769/ ]\",\n",
       "  \" Yea, what's there to worry from a playful dog, if you're afraid he might get lost because of too much playing hope his microchipped or is equipped with a dog gps tracker. [ http://www.dogforum.com/dog-stories/bad-have-playful-dog-290769/ ]\",\n",
       "  ' Puppies are just babies - what else do they have to do but play? Wish I had the energy... \\r\\nLynsey [ http://www.dogforum.com/dog-stories/bad-have-playful-dog-290769/ ]',\n",
       "  ' It is MORE than natural for your puppy to play a lot. Be happy and play with him now; when he gets older he might not play as much.  [ http://www.dogforum.com/dog-stories/bad-have-playful-dog-290769/ ]',\n",
       "  ' Very very normal. I have a 9 month old pup now and it\\'s abnormal if he isn\\'t playing and being active. When he isn\\'t that\\'s my cue to see if he feels \"off\". I love the puppy stage..one of my favorites. [ http://www.dogforum.com/dog-stories/bad-have-playful-dog-290769/ ]',\n",
       "  ' Playing is one of the BIG reasons I love my dogs, I have always had VERY PLAYFULL dogs, they play and run for hours,  LOVE EM [ http://www.dogforum.com/dog-stories/bad-have-playful-dog-290769/ ]',\n",
       "  ' Lol a playful puppy is a happy healthy puppy\\nDont lie, you just wanted to post a video of your adorable playing puppy lol [ http://www.dogforum.com/dog-stories/bad-have-playful-dog-290769/ ]'])"
      ]
     },
     "execution_count": 16,
     "metadata": {},
     "output_type": "execute_result"
    }
   ],
   "source": [
    "list(agg_title.items())[3]"
   ]
  },
  {
   "cell_type": "code",
   "execution_count": 17,
   "metadata": {
    "scrolled": true
   },
   "outputs": [
    {
     "data": {
      "text/plain": [
       "184"
      ]
     },
     "execution_count": 17,
     "metadata": {},
     "output_type": "execute_result"
    }
   ],
   "source": [
    "len(agg_title.items())"
   ]
  },
  {
   "cell_type": "code",
   "execution_count": 18,
   "metadata": {},
   "outputs": [
    {
     "data": {
      "text/plain": [
       "2"
      ]
     },
     "execution_count": 18,
     "metadata": {},
     "output_type": "execute_result"
    }
   ],
   "source": [
    "# Title + \"content_url\"\n",
    "len(list(agg_title.items())[3])"
   ]
  },
  {
   "cell_type": "code",
   "execution_count": 19,
   "metadata": {},
   "outputs": [
    {
     "data": {
      "text/plain": [
       "'Is it bad to have a playful dog?'"
      ]
     },
     "execution_count": 19,
     "metadata": {},
     "output_type": "execute_result"
    }
   ],
   "source": [
    "# Title is the key\n",
    "list(agg_title.items())[3][0]"
   ]
  },
  {
   "cell_type": "markdown",
   "metadata": {},
   "source": [
    "## New Challenge!!! ('Board' + 'Title') is key, ('Content' + 'url') is value"
   ]
  },
  {
   "cell_type": "code",
   "execution_count": null,
   "metadata": {
    "collapsed": true
   },
   "outputs": [],
   "source": [
    "\"\"\" Note: Combining two col of tuple into one key can't use DefaultDict to Map-Reduce\n",
    "    all_cursor = db[type_name].find({},{'_id':0,'title':1, 'content':1, 'url':1, 'board':1})\n",
    "    could be useless  \"\"\""
   ]
  },
  {
   "cell_type": "markdown",
   "metadata": {},
   "source": [
    "### Setting group A"
   ]
  },
  {
   "cell_type": "code",
   "execution_count": 29,
   "metadata": {
    "collapsed": true
   },
   "outputs": [],
   "source": [
    "board_cursor = db[type_name].find({},{'_id':0,'title':1,'board':1})"
   ]
  },
  {
   "cell_type": "code",
   "execution_count": 21,
   "metadata": {
    "collapsed": true
   },
   "outputs": [],
   "source": [
    "data1 = [d for d in board_cursor]"
   ]
  },
  {
   "cell_type": "code",
   "execution_count": 22,
   "metadata": {},
   "outputs": [
    {
     "data": {
      "text/plain": [
       "{'board': 'dog-stories', 'title': \"Lab thinks she's a lifeguard\"}"
      ]
     },
     "execution_count": 22,
     "metadata": {},
     "output_type": "execute_result"
    }
   ],
   "source": [
    "# dictionary type can't use set to distinct duplication\n",
    "data1[0]"
   ]
  },
  {
   "cell_type": "code",
   "execution_count": 30,
   "metadata": {
    "collapsed": true
   },
   "outputs": [],
   "source": [
    "tup_board = [tuple(tup) for tup in [e.values() for e in board_cursor]]"
   ]
  },
  {
   "cell_type": "code",
   "execution_count": 33,
   "metadata": {},
   "outputs": [
    {
     "data": {
      "text/plain": [
       "list"
      ]
     },
     "execution_count": 33,
     "metadata": {},
     "output_type": "execute_result"
    }
   ],
   "source": [
    "type(tup_board)"
   ]
  },
  {
   "cell_type": "code",
   "execution_count": 34,
   "metadata": {
    "collapsed": true
   },
   "outputs": [],
   "source": [
    "title_board = set(tup_board)"
   ]
  },
  {
   "cell_type": "code",
   "execution_count": 35,
   "metadata": {
    "collapsed": true
   },
   "outputs": [],
   "source": [
    "t_b_list = list(title_board)"
   ]
  },
  {
   "cell_type": "code",
   "execution_count": 36,
   "metadata": {},
   "outputs": [
    {
     "data": {
      "text/plain": [
       "184"
      ]
     },
     "execution_count": 36,
     "metadata": {},
     "output_type": "execute_result"
    }
   ],
   "source": [
    "len(t_b_list)"
   ]
  },
  {
   "cell_type": "code",
   "execution_count": 37,
   "metadata": {
    "scrolled": true
   },
   "outputs": [
    {
     "data": {
      "text/plain": [
       "('dog-stories', 'Funny Jack Russell youtube video')"
      ]
     },
     "execution_count": 37,
     "metadata": {},
     "output_type": "execute_result"
    }
   ],
   "source": [
    "t_b_list[0]"
   ]
  },
  {
   "cell_type": "code",
   "execution_count": 38,
   "metadata": {
    "scrolled": true
   },
   "outputs": [
    {
     "data": {
      "text/plain": [
       "[('dog-stories', '\"I\\'ll help myself to those treats! Thank you!\"'),\n",
       " ('dog-stories', '*WARNING* Sad story about dog and his owner'),\n",
       " ('dog-stories', '2 years and 1 week, still missing my Shadow'),\n",
       " ('dog-stories', '24 year old Dachshund!'),\n",
       " ('dog-stories', \"A Nerve-racking Journey - Max's Journal\")]"
      ]
     },
     "execution_count": 38,
     "metadata": {},
     "output_type": "execute_result"
    }
   ],
   "source": [
    "sorted_A = sorted(t_b_list, key=lambda x:x[1])\n",
    "sorted_A[:5]"
   ]
  },
  {
   "cell_type": "markdown",
   "metadata": {},
   "source": [
    "### Group B"
   ]
  },
  {
   "cell_type": "code",
   "execution_count": 39,
   "metadata": {
    "collapsed": true
   },
   "outputs": [],
   "source": [
    "b = list(agg_title.items())"
   ]
  },
  {
   "cell_type": "code",
   "execution_count": 40,
   "metadata": {
    "scrolled": false
   },
   "outputs": [
    {
     "data": {
      "text/plain": [
       "\"Lab thinks she's a lifeguard\""
      ]
     },
     "execution_count": 40,
     "metadata": {},
     "output_type": "execute_result"
    }
   ],
   "source": [
    "b[0][0]"
   ]
  },
  {
   "cell_type": "code",
   "execution_count": 41,
   "metadata": {
    "collapsed": true
   },
   "outputs": [],
   "source": [
    "grp_B = []\n",
    "for num in range(0, len(b)):\n",
    "    tup = (b[num][0], b[num][1])\n",
    "    grp_B.append(tup)"
   ]
  },
  {
   "cell_type": "code",
   "execution_count": 42,
   "metadata": {},
   "outputs": [
    {
     "data": {
      "text/plain": [
       "184"
      ]
     },
     "execution_count": 42,
     "metadata": {},
     "output_type": "execute_result"
    }
   ],
   "source": [
    "len(grp_B)"
   ]
  },
  {
   "cell_type": "code",
   "execution_count": 43,
   "metadata": {
    "scrolled": true
   },
   "outputs": [
    {
     "data": {
      "text/plain": [
       "('Is it bad to have a playful dog?',\n",
       " ['  My Puppy plays alot and likes playing outdoors. \\r\\nis it something to be worried about?   https://www.youtube.com/watch?v=BF6vjKZfXXQ [ http://www.dogforum.com/dog-stories/bad-have-playful-dog-290769/ ]',\n",
       "  ' Why would you worry about that?  Dogs playing seem normal to me. [ http://www.dogforum.com/dog-stories/bad-have-playful-dog-290769/ ]',\n",
       "  \" A a happy chappie.....what's to worry about? [ http://www.dogforum.com/dog-stories/bad-have-playful-dog-290769/ ]\",\n",
       "  \" Play is a good thing. The more happy play the better, as far as I'm concerned! \\nI remember when I was 11 and adopted my Lab mix puppy (who has since passed). Her mother was a border collie and she was from a litter of TEN. When I came in, she was the only one that was awake, and I decided I wanted a playful dog so I chose her.  \\nI don't regret that choice for a second. She was quite the character but overall was an amazing dog. Loving, playful, kind. Perfection. [ http://www.dogforum.com/dog-stories/bad-have-playful-dog-290769/ ]\",\n",
       "  \" Yea, what's there to worry from a playful dog, if you're afraid he might get lost because of too much playing hope his microchipped or is equipped with a dog gps tracker. [ http://www.dogforum.com/dog-stories/bad-have-playful-dog-290769/ ]\",\n",
       "  ' Puppies are just babies - what else do they have to do but play? Wish I had the energy... \\r\\nLynsey [ http://www.dogforum.com/dog-stories/bad-have-playful-dog-290769/ ]',\n",
       "  ' It is MORE than natural for your puppy to play a lot. Be happy and play with him now; when he gets older he might not play as much.  [ http://www.dogforum.com/dog-stories/bad-have-playful-dog-290769/ ]',\n",
       "  ' Very very normal. I have a 9 month old pup now and it\\'s abnormal if he isn\\'t playing and being active. When he isn\\'t that\\'s my cue to see if he feels \"off\". I love the puppy stage..one of my favorites. [ http://www.dogforum.com/dog-stories/bad-have-playful-dog-290769/ ]',\n",
       "  ' Playing is one of the BIG reasons I love my dogs, I have always had VERY PLAYFULL dogs, they play and run for hours,  LOVE EM [ http://www.dogforum.com/dog-stories/bad-have-playful-dog-290769/ ]',\n",
       "  ' Lol a playful puppy is a happy healthy puppy\\nDont lie, you just wanted to post a video of your adorable playing puppy lol [ http://www.dogforum.com/dog-stories/bad-have-playful-dog-290769/ ]'])"
      ]
     },
     "execution_count": 43,
     "metadata": {},
     "output_type": "execute_result"
    }
   ],
   "source": [
    "grp_B[3]"
   ]
  },
  {
   "cell_type": "code",
   "execution_count": 44,
   "metadata": {
    "collapsed": true
   },
   "outputs": [],
   "source": [
    "sorted_B = sorted(grp_B, key=lambda x:x[0])"
   ]
  },
  {
   "cell_type": "code",
   "execution_count": 45,
   "metadata": {
    "scrolled": true
   },
   "outputs": [
    {
     "name": "stdout",
     "output_type": "stream",
     "text": [
      "\"I'll help myself to those treats! Thank you!\"\n",
      "*WARNING* Sad story about dog and his owner\n",
      "2 years and 1 week, still missing my Shadow\n",
      "24 year old Dachshund!\n",
      "A Nerve-racking Journey - Max's Journal\n"
     ]
    }
   ],
   "source": [
    "for b in sorted_B[:5]:\n",
    "    print(b[0])"
   ]
  },
  {
   "cell_type": "markdown",
   "metadata": {},
   "source": [
    "### Group by key(title) within two sorted lists to join"
   ]
  },
  {
   "cell_type": "code",
   "execution_count": null,
   "metadata": {},
   "outputs": [],
   "source": [
    "# reference to join in dict\n",
    "import operator\n",
    "sorting_key = operator.itemgetter(\"id\")\n",
    "a = sorted(a, key=sorting_key)\n",
    "b = sorted(b, key=sorting_key)\n",
    "for i, j in zip(sorted(a, key=sorting_key), sorted(b, key=sorting_key)):\n",
    "    i.update(j)"
   ]
  },
  {
   "cell_type": "code",
   "execution_count": 47,
   "metadata": {},
   "outputs": [
    {
     "ename": "AttributeError",
     "evalue": "'tuple' object has no attribute 'append'",
     "output_type": "error",
     "traceback": [
      "\u001b[0;31m---------------------------------------------------------------------------\u001b[0m",
      "\u001b[0;31mAttributeError\u001b[0m                            Traceback (most recent call last)",
      "\u001b[0;32m<ipython-input-47-a9c7bdf55dda>\u001b[0m in \u001b[0;36m<module>\u001b[0;34m()\u001b[0m\n\u001b[1;32m      1\u001b[0m \u001b[0;32mfor\u001b[0m \u001b[0mcomb_res\u001b[0m\u001b[0;34m,\u001b[0m \u001b[0mj\u001b[0m \u001b[0;32min\u001b[0m \u001b[0mzip\u001b[0m\u001b[0;34m(\u001b[0m\u001b[0msorted_B\u001b[0m\u001b[0;34m,\u001b[0m \u001b[0msorted_A\u001b[0m\u001b[0;34m)\u001b[0m\u001b[0;34m:\u001b[0m\u001b[0;34m\u001b[0m\u001b[0m\n\u001b[0;32m----> 2\u001b[0;31m     \u001b[0mcomb_res\u001b[0m\u001b[0;34m.\u001b[0m\u001b[0mappend\u001b[0m\u001b[0;34m(\u001b[0m\u001b[0mj\u001b[0m\u001b[0;34m[\u001b[0m\u001b[0;36m0\u001b[0m\u001b[0;34m]\u001b[0m\u001b[0;34m)\u001b[0m\u001b[0;34m\u001b[0m\u001b[0m\n\u001b[0m",
      "\u001b[0;31mAttributeError\u001b[0m: 'tuple' object has no attribute 'append'"
     ]
    }
   ],
   "source": [
    "# Fail to join two lists in a form of tuple\n",
    "for comb_res, j in zip(sorted_B, sorted_A):\n",
    "    comb_res.append(j[0])"
   ]
  },
  {
   "cell_type": "markdown",
   "metadata": {},
   "source": [
    "## Should  tuple --> dict, too lousy! Try another way..."
   ]
  },
  {
   "cell_type": "code",
   "execution_count": 48,
   "metadata": {
    "collapsed": true
   },
   "outputs": [],
   "source": [
    "all_cursor = db[type_name].find({},{'_id':0,'title':1,'board':1,'content':1,'url':1})"
   ]
  },
  {
   "cell_type": "code",
   "execution_count": 49,
   "metadata": {
    "collapsed": true
   },
   "outputs": [],
   "source": [
    "data2 = [f for f in all_cursor]"
   ]
  },
  {
   "cell_type": "code",
   "execution_count": 50,
   "metadata": {
    "collapsed": true
   },
   "outputs": [],
   "source": [
    "# merge in form of (title + board), (content + url)  \n",
    "articles2 = []\n",
    "for num in range(0, len(data2)):\n",
    "    board = (data2[num].get('board') + \"分\" + data2[num].get('title'), \"分\" + data2[num].get('content') + data2[num].get('url'))\n",
    "    articles2.append(board)"
   ]
  },
  {
   "cell_type": "code",
   "execution_count": 51,
   "metadata": {
    "scrolled": true
   },
   "outputs": [
    {
     "data": {
      "text/plain": [
       "(\"dog-stories分Lab thinks she's a lifeguard\",\n",
       " \"分  So just a little story we think is neat, thought I'd share. \\nMy wifes dog is a black lab, field type, came from good hunting lines, she says, and I believe her\\nAnyway, couple of years ago we went camping on a lake in the mountains. Lake is filled by waterfalls, crystal clear water. Like tap water clear. Just an awesome vacation seeing fall leaf change, hiking, swimming, finding waterfalls by boat etc. \\nI decided to go swimming, and found a nice spot with some sandy bank and a good sized boulder hanging over the lake. Walked to edge of the boulder, and jumped the 10 feet or so into the lake. Still hadnt popped back up when I heard a big kersplash near me. Popped up and theres mad-dog ( what I call the lab, real name maddie ) swimming up to me. Gets to me and starts like trying to scramble up on me like shes trying to drown me lol. So I grabbed her collar to push her away, almost instantly she turns and starts for the sandy part of the bank. So I held on and she pulled me back. Then she ran back up the boulder, stands there looking happy as can be tail wagging. So I went back up, and this time she jumped off alongside me. We hit the water, she swam at me, I grabbed her collar, same thing right back to shore. \\nSo we did this a good dozen times, every time she'd jump with me, swim to me and haul me back to shore. \\nIt was pretty awesome. The dog was in heaven, I couldnt tell if she was just happy having a good time, or proud of herself, or both, or what. \\nSo I still dont know if in her little doggie mind it was all this big grand game, or maybe she thought she was saving me from drowning.  I'll never know. But she was so happy doing it.....exuburently joyful is the best way I can put it. \\nA small thing in the grand scheme of things, but not anything I'd have expected from her, but it really amazed me. http://www.dogforum.com/dog-stories/lab-thinks-shes-lifeguard-338226/\")"
      ]
     },
     "execution_count": 51,
     "metadata": {},
     "output_type": "execute_result"
    }
   ],
   "source": [
    "articles2[0]"
   ]
  },
  {
   "cell_type": "code",
   "execution_count": 52,
   "metadata": {},
   "outputs": [
    {
     "data": {
      "text/plain": [
       "'dog-stories'"
      ]
     },
     "execution_count": 52,
     "metadata": {},
     "output_type": "execute_result"
    }
   ],
   "source": [
    "# Separate Board + Title\n",
    "str(articles2[0]).split('分')[0].replace('(\"',\"\")"
   ]
  },
  {
   "cell_type": "code",
   "execution_count": 53,
   "metadata": {},
   "outputs": [
    {
     "data": {
      "text/plain": [
       "\"Lab thinks she's a lifeguard\""
      ]
     },
     "execution_count": 53,
     "metadata": {},
     "output_type": "execute_result"
    }
   ],
   "source": [
    "str(articles2[0]).split('分')[1].replace('\", \"',\"\")"
   ]
  },
  {
   "cell_type": "code",
   "execution_count": 54,
   "metadata": {
    "scrolled": true
   },
   "outputs": [
    {
     "data": {
      "text/plain": [
       "'  So just a little story we think is neat, thought I\\'d share. \\\\nMy wifes dog is a black lab, field type, came from good hunting lines, she says, and I believe her\\\\nAnyway, couple of years ago we went camping on a lake in the mountains. Lake is filled by waterfalls, crystal clear water. Like tap water clear. Just an awesome vacation seeing fall leaf change, hiking, swimming, finding waterfalls by boat etc. \\\\nI decided to go swimming, and found a nice spot with some sandy bank and a good sized boulder hanging over the lake. Walked to edge of the boulder, and jumped the 10 feet or so into the lake. Still hadnt popped back up when I heard a big kersplash near me. Popped up and theres mad-dog ( what I call the lab, real name maddie ) swimming up to me. Gets to me and starts like trying to scramble up on me like shes trying to drown me lol. So I grabbed her collar to push her away, almost instantly she turns and starts for the sandy part of the bank. So I held on and she pulled me back. Then she ran back up the boulder, stands there looking happy as can be tail wagging. So I went back up, and this time she jumped off alongside me. We hit the water, she swam at me, I grabbed her collar, same thing right back to shore. \\\\nSo we did this a good dozen times, every time she\\'d jump with me, swim to me and haul me back to shore. \\\\nIt was pretty awesome. The dog was in heaven, I couldnt tell if she was just happy having a good time, or proud of herself, or both, or what. \\\\nSo I still dont know if in her little doggie mind it was all this big grand game, or maybe she thought she was saving me from drowning.  I\\'ll never know. But she was so happy doing it.....exuburently joyful is the best way I can put it. \\\\nA small thing in the grand scheme of things, but not anything I\\'d have expected from her, but it really amazed me. http://www.dogforum.com/dog-stories/lab-thinks-shes-lifeguard-338226/\")'"
      ]
     },
     "execution_count": 54,
     "metadata": {},
     "output_type": "execute_result"
    }
   ],
   "source": [
    "str(articles2[0]).split('分')[2]"
   ]
  },
  {
   "cell_type": "markdown",
   "metadata": {},
   "source": [
    "### Stragegy is successful, there we go~"
   ]
  },
  {
   "cell_type": "code",
   "execution_count": 55,
   "metadata": {
    "collapsed": true
   },
   "outputs": [],
   "source": [
    "agg_by_title = c.defaultdict(list)\n",
    "for k, v in articles2:\n",
    "    agg_by_title[k].append(v)"
   ]
  },
  {
   "cell_type": "code",
   "execution_count": 56,
   "metadata": {},
   "outputs": [
    {
     "data": {
      "text/plain": [
       "1320"
      ]
     },
     "execution_count": 56,
     "metadata": {},
     "output_type": "execute_result"
    }
   ],
   "source": [
    "len(articles2)"
   ]
  },
  {
   "cell_type": "code",
   "execution_count": 57,
   "metadata": {},
   "outputs": [
    {
     "data": {
      "text/plain": [
       "184"
      ]
     },
     "execution_count": 57,
     "metadata": {},
     "output_type": "execute_result"
    }
   ],
   "source": [
    "len(agg_by_title)"
   ]
  },
  {
   "cell_type": "code",
   "execution_count": 58,
   "metadata": {
    "scrolled": false
   },
   "outputs": [
    {
     "data": {
      "text/plain": [
       "collections.defaultdict"
      ]
     },
     "execution_count": 58,
     "metadata": {},
     "output_type": "execute_result"
    }
   ],
   "source": [
    "type(agg_by_title)"
   ]
  },
  {
   "cell_type": "markdown",
   "metadata": {},
   "source": [
    "## resolve into 'board', 'title', 'agg_content + url'"
   ]
  },
  {
   "cell_type": "code",
   "execution_count": 59,
   "metadata": {
    "collapsed": true
   },
   "outputs": [],
   "source": [
    "aggs = list(agg_by_title.items())"
   ]
  },
  {
   "cell_type": "code",
   "execution_count": 61,
   "metadata": {},
   "outputs": [
    {
     "data": {
      "text/plain": [
       "184"
      ]
     },
     "execution_count": 61,
     "metadata": {},
     "output_type": "execute_result"
    }
   ],
   "source": [
    "len(aggs)"
   ]
  },
  {
   "cell_type": "code",
   "execution_count": 60,
   "metadata": {
    "scrolled": true
   },
   "outputs": [
    {
     "data": {
      "text/plain": [
       "['dog-stories', 'Leos story']"
      ]
     },
     "execution_count": 60,
     "metadata": {},
     "output_type": "execute_result"
    }
   ],
   "source": [
    "aggs[183][0].split('分')"
   ]
  },
  {
   "cell_type": "code",
   "execution_count": 62,
   "metadata": {
    "collapsed": true,
    "scrolled": true
   },
   "outputs": [],
   "source": [
    "results = []\n",
    "for num in range(0, len(aggs)):\n",
    "    a = {}\n",
    "    a['board'] = aggs[num][0].split('分')[0]\n",
    "    a['title'] = aggs[num][0].split('分')[1]\n",
    "    a['contents'] = \" \".join(str(x) for x in aggs[num][1]).replace('分',\"\")\n",
    "    results.append(a)"
   ]
  },
  {
   "cell_type": "code",
   "execution_count": 63,
   "metadata": {},
   "outputs": [
    {
     "data": {
      "text/plain": [
       "{'board': 'dog-stories',\n",
       " 'contents': \"  This is a story of Leo, a miniature poodle that I sold to a breeder. She no longer wanted him after a year but didnt tell me and gave him to a farmer  I found out what happened to him some time later through someone lying about being a rescuer. I think stories like this need to be out there for others to know what happens to their beloved dogs if you arent careful and desex them.  A Dog I Sold Is Half Dead. - Dogz Online Forums http://www.dogforum.com/dog-stories/leos-story-27/  Leo's story always pulls at my heart strings. \\r\\nPeople can be so cruel and horrible, I couldn't imagine\\r\\none of my dogs ending up in the wrong hands like poor Leo!  \\r\\nWhat is the rest of Leo's story? Did he survive? Did you ever get\\r\\n him back? http://www.dogforum.com/dog-stories/leos-story-27/  Ah thats why the link is on there, you have to read it.  Take you hours though, lots of tears, relief, back to tears, wanting to shoot ppl, back to tears you name it. http://www.dogforum.com/dog-stories/leos-story-27/\",\n",
       " 'title': 'Leos story'}"
      ]
     },
     "execution_count": 63,
     "metadata": {},
     "output_type": "execute_result"
    }
   ],
   "source": [
    "results[183]"
   ]
  }
 ],
 "metadata": {
  "kernelspec": {
   "display_name": "Python 3",
   "language": "python",
   "name": "python3"
  },
  "language_info": {
   "codemirror_mode": {
    "name": "ipython",
    "version": 3
   },
   "file_extension": ".py",
   "mimetype": "text/x-python",
   "name": "python",
   "nbconvert_exporter": "python",
   "pygments_lexer": "ipython3",
   "version": "3.6.3"
  }
 },
 "nbformat": 4,
 "nbformat_minor": 2
}
