{
 "cells": [
  {
   "cell_type": "code",
   "execution_count": 1,
   "metadata": {
    "collapsed": true
   },
   "outputs": [],
   "source": [
    "from datetime import datetime\n",
    "from dateutil import parser\n",
    "import re\n",
    "import rethinkdb as r\n",
    "from pymongo import MongoClient\n",
    "from bson.objectid import ObjectId"
   ]
  },
  {
   "cell_type": "code",
   "execution_count": 2,
   "metadata": {
    "scrolled": true
   },
   "outputs": [
    {
     "data": {
      "text/plain": [
       "['Breeds',\n",
       " 'DogDetail',\n",
       " 'Dog_Health',\n",
       " 'Food',\n",
       " 'Gear_supplies',\n",
       " 'General_Discussion',\n",
       " 'Grooming',\n",
       " 'Introductions',\n",
       " 'Memorials',\n",
       " 'New_Additions',\n",
       " 'Perform_sports',\n",
       " 'Train_Behavior',\n",
       " 'author']"
      ]
     },
     "execution_count": 2,
     "metadata": {},
     "output_type": "execute_result"
    }
   ],
   "source": [
    "conn_R = r.connect(db='Dogforum')\n",
    "tables = r.table_list().run(conn_R)\n",
    "tables"
   ]
  },
  {
   "cell_type": "code",
   "execution_count": null,
   "metadata": {
    "collapsed": true
   },
   "outputs": [],
   "source": [
    "conn_R = r.connect(db='Dogforum')\n",
    "tables = r.table_list().run(conn_R)\n",
    "for board_name in [x for x in tables if x != 'DogDetail']:\n",
    "    cursor = r.table(board_name).run(conn_R)\n",
    "    conn_M = MongoClient('localhost', 27017)\n",
    "    db = conn_M.dog\n",
    "    collection = db['post']\n",
    "    posts = []\n",
    "    info = [i for i in cursor]\n",
    "    for num in range(0, len(info)):\n",
    "        detl = {}\n",
    "        detl['board'] = board_name\n",
    "        detl['join_date'] = info[num].get('author_info').get('join_date')\n",
    "        detl['author_location'] = info[num].get('author_info').get('location')\n",
    "        detl['author_type'] = info[num].get('author_info').get('member_type')\n",
    "        detl['author_name'] = info[num].get('author_name')\n",
    "        detl['author_url'] = info[num].get('author_url')\n",
    "        detl['content'] = info[num].get('content')\n",
    "        detl['floor'] = int(info[num].get('floor'))\n",
    "        detl['page'] = info[num].get('page')\n",
    "        try:\n",
    "            detl['post_date'] = parser.parse(info[num].get('post_date').get('date')).strftime(\"%Y-%m-%d\")\n",
    "        except ValueError:\n",
    "            detl['post_date'] = info[num].get('post_date').get('date')\n",
    "        try:\n",
    "            detl['post_time'] = parser.parse(info[num].get('post_date').get('time')+ ', ' +info[num].get('post_date').get('ampm')).strftime(\"%H:%M\")\n",
    "        except ValueError:\n",
    "            detl['post_time'] = info[num].get('post_date').get('time')+ ', ' +info[num].get('post_date').get('ampm')\n",
    "        detl['quotation'] = info[num].get('quotation')\n",
    "        detl['title'] = info[num].get('title')\n",
    "        detl['url'] = info[num].get('url')\n",
    "        posts.append(detl)\n",
    "    collection.insert_many(posts)\n",
    "    conn_M.close()\n",
    "conn_R.close()"
   ]
  },
  {
   "cell_type": "code",
   "execution_count": 30,
   "metadata": {
    "collapsed": true,
    "scrolled": true
   },
   "outputs": [],
   "source": [
    "conn_R = r.connect(db='Dogforum')\n",
    "tables = r.table_list().run(conn_R)\n",
    "for board_name in [x for x in tables if x != 'DogDetail']:\n",
    "    cursor = r.table(board_name).run(conn_R)\n",
    "    conn_M = MongoClient('localhost', 27017)\n",
    "    db = conn_M.dogs\n",
    "    collection = db['post']\n",
    "    posts = []\n",
    "    info = [i for i in cursor]\n",
    "    for num in range(0, len(info)):\n",
    "        detl = {}\n",
    "        detl['board'] = board_name\n",
    "        try:\n",
    "            detl['join_date'] = parser.parse(info[0].get('author_info').get('join_date')).strftime(\"%Y-%m-%d\")\n",
    "        except TypeError:\n",
    "            detl['join_date'] = ''\n",
    "        detl['author_location'] = info[num].get('author_info').get('location')\n",
    "        detl['author_type'] = info[num].get('author_info').get('member_type')\n",
    "        detl['author_name'] = info[num].get('author_name')\n",
    "        detl['author_url'] = info[num].get('author_url')\n",
    "        detl['content'] = info[num].get('content')\n",
    "        detl['floor'] = int(info[num].get('floor'))\n",
    "        detl['page'] = info[num].get('page')\n",
    "        try:\n",
    "            detl['post_date'] = parser.parse(info[num].get('post_date').get('date')).strftime(\"%Y-%m-%d\")\n",
    "        except ValueError:\n",
    "            detl['post_date'] = info[num].get('post_date').get('date')\n",
    "        try:\n",
    "            detl['post_time'] = parser.parse(info[num].get('post_date').get('time')+ ', ' +info[num].get('post_date').get('ampm')).strftime(\"%H:%M\")\n",
    "        except ValueError:\n",
    "            detl['post_time'] = info[num].get('post_date').get('time')+ ', ' +info[num].get('post_date').get('ampm')\n",
    "        detl['quotation'] = info[num].get('quotation')\n",
    "        detl['title'] = info[num].get('title')\n",
    "        detl['url'] = info[num].get('url')\n",
    "        posts.append(detl)\n",
    "    collection.insert_many(posts)\n",
    "    conn_M.close()\n",
    "conn_R.close()"
   ]
  },
  {
   "cell_type": "markdown",
   "metadata": {},
   "source": [
    "# Table Author"
   ]
  },
  {
   "cell_type": "code",
   "execution_count": 1,
   "metadata": {
    "collapsed": true
   },
   "outputs": [],
   "source": [
    "from datetime import datetime\n",
    "from dateutil import parser\n",
    "import re\n",
    "import rethinkdb as r\n",
    "from pymongo import MongoClient\n",
    "from bson.objectid import ObjectId"
   ]
  },
  {
   "cell_type": "code",
   "execution_count": 22,
   "metadata": {},
   "outputs": [],
   "source": [
    "conn_R = r.connect()\n",
    "cursor = r.db('Dogforum').table('DogDetail').run(conn_R)"
   ]
  },
  {
   "cell_type": "code",
   "execution_count": 23,
   "metadata": {},
   "outputs": [],
   "source": [
    "info = [i for i in cursor]"
   ]
  },
  {
   "cell_type": "code",
   "execution_count": 24,
   "metadata": {},
   "outputs": [
    {
     "data": {
      "text/plain": [
       "8517"
      ]
     },
     "execution_count": 24,
     "metadata": {},
     "output_type": "execute_result"
    }
   ],
   "source": [
    "len(info)"
   ]
  },
  {
   "cell_type": "code",
   "execution_count": 25,
   "metadata": {
    "scrolled": true
   },
   "outputs": [
    {
     "data": {
      "text/plain": [
       "{'activities': '',\n",
       " 'age': '6.1 years old.',\n",
       " 'breed': 'Dalmatian',\n",
       " 'food': '',\n",
       " 'gender': 'Male',\n",
       " 'id': '001966a2-3b1a-4833-81d1-9b3d489eaeaa',\n",
       " 'owner_name': 'lobos82',\n",
       " 'owner_url': 'http://www.dogforum.com/members/19537/',\n",
       " 'pack': {'Lola': 'http://www.dogforum.com/dogs/lola_4905/'},\n",
       " 'pet_name': 'Oliver (Olley)',\n",
       " 'snacks': '',\n",
       " 'toys': ''}"
      ]
     },
     "execution_count": 25,
     "metadata": {},
     "output_type": "execute_result"
    }
   ],
   "source": [
    "info[0]"
   ]
  },
  {
   "cell_type": "code",
   "execution_count": 13,
   "metadata": {},
   "outputs": [
    {
     "data": {
      "text/plain": [
       "2"
      ]
     },
     "execution_count": 13,
     "metadata": {},
     "output_type": "execute_result"
    }
   ],
   "source": [
    "info[0].get('content').get('TotalPosts')"
   ]
  },
  {
   "cell_type": "code",
   "execution_count": 15,
   "metadata": {},
   "outputs": [
    {
     "data": {
      "text/plain": [
       "'100026'"
      ]
     },
     "execution_count": 15,
     "metadata": {},
     "output_type": "execute_result"
    }
   ],
   "source": [
    "info[0].get('id')"
   ]
  },
  {
   "cell_type": "code",
   "execution_count": 16,
   "metadata": {},
   "outputs": [
    {
     "data": {
      "text/plain": [
       "'Tobydog'"
      ]
     },
     "execution_count": 16,
     "metadata": {},
     "output_type": "execute_result"
    }
   ],
   "source": [
    "info[0].get('name')"
   ]
  },
  {
   "cell_type": "code",
   "execution_count": null,
   "metadata": {
    "collapsed": true
   },
   "outputs": [],
   "source": [
    "conn_R = r.connect(db='Dogforum')\n",
    "tables = r.table_list().run(conn_R)"
   ]
  },
  {
   "cell_type": "code",
   "execution_count": 21,
   "metadata": {},
   "outputs": [],
   "source": [
    "conn_M = MongoClient('localhost', 27017)\n",
    "db = conn_M.dogs\n",
    "collection = db['autho']\n",
    "for num in range(0, len(info)):\n",
    "    detl = {}\n",
    "    detl['author_name'] = info[num].get('name')\n",
    "    detl['_id'] = info[num].get('id')\n",
    "    detl['tot_posts'] = info[num].get('content').get('TotalPosts')\n",
    "    collection.insert_one(detl)\n",
    "conn_M.close()"
   ]
  },
  {
   "cell_type": "code",
   "execution_count": 20,
   "metadata": {
    "collapsed": true
   },
   "outputs": [],
   "source": [
    "conn_R.close()"
   ]
  },
  {
   "cell_type": "markdown",
   "metadata": {},
   "source": [
    "# Dog detail"
   ]
  },
  {
   "cell_type": "code",
   "execution_count": 30,
   "metadata": {},
   "outputs": [],
   "source": [
    "conn_R = r.connect()\n",
    "cursor = r.db('Dogforum').table('DogDetail').without('pack').run(conn_R)"
   ]
  },
  {
   "cell_type": "code",
   "execution_count": 31,
   "metadata": {
    "collapsed": true
   },
   "outputs": [],
   "source": [
    "info = [i for i in cursor]"
   ]
  },
  {
   "cell_type": "code",
   "execution_count": 32,
   "metadata": {},
   "outputs": [
    {
     "data": {
      "text/plain": [
       "{'activities': '',\n",
       " 'age': '6.1 years old.',\n",
       " 'breed': 'Dalmatian',\n",
       " 'food': '',\n",
       " 'gender': 'Male',\n",
       " 'id': '001966a2-3b1a-4833-81d1-9b3d489eaeaa',\n",
       " 'owner_name': 'lobos82',\n",
       " 'owner_url': 'http://www.dogforum.com/members/19537/',\n",
       " 'pet_name': 'Oliver (Olley)',\n",
       " 'snacks': '',\n",
       " 'toys': ''}"
      ]
     },
     "execution_count": 32,
     "metadata": {},
     "output_type": "execute_result"
    }
   ],
   "source": [
    "info[0]"
   ]
  },
  {
   "cell_type": "code",
   "execution_count": 33,
   "metadata": {},
   "outputs": [],
   "source": [
    "conn_M = MongoClient('localhost', 27017)\n",
    "db = conn_M.dogs\n",
    "collection = db['dogDetl']\n",
    "for data in info:\n",
    "    collection.insert_one(data)\n",
    "conn_M.close()"
   ]
  }
 ],
 "metadata": {
  "kernelspec": {
   "display_name": "Python 3",
   "language": "python",
   "name": "python3"
  },
  "language_info": {
   "codemirror_mode": {
    "name": "ipython",
    "version": 3
   },
   "file_extension": ".py",
   "mimetype": "text/x-python",
   "name": "python",
   "nbconvert_exporter": "python",
   "pygments_lexer": "ipython3",
   "version": "3.6.3"
  }
 },
 "nbformat": 4,
 "nbformat_minor": 2
}
