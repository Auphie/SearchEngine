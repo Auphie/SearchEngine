{
 "cells": [
  {
   "cell_type": "code",
   "execution_count": 28,
   "metadata": {
    "collapsed": true
   },
   "outputs": [],
   "source": [
    "from datetime import datetime\n",
    "from dateutil import parser\n",
    "import re\n",
    "import rethinkdb as r\n",
    "from pymongo import MongoClient\n",
    "from bson.objectid import ObjectId"
   ]
  },
  {
   "cell_type": "code",
   "execution_count": 29,
   "metadata": {
    "scrolled": true
   },
   "outputs": [
    {
     "data": {
      "text/plain": [
       "['Breeds',\n",
       " 'DogDetail',\n",
       " 'Dog_Health',\n",
       " 'Food',\n",
       " 'Gear_supplies',\n",
       " 'General_Discussion',\n",
       " 'Grooming',\n",
       " 'Introductions',\n",
       " 'Memorials',\n",
       " 'New_Additions',\n",
       " 'Perform_sports',\n",
       " 'Train_Behavior']"
      ]
     },
     "execution_count": 29,
     "metadata": {},
     "output_type": "execute_result"
    }
   ],
   "source": [
    "conn_R = r.connect(db='Dogforum')\n",
    "tables = r.table_list().run(conn_R)\n",
    "tables"
   ]
  },
  {
   "cell_type": "code",
   "execution_count": null,
   "metadata": {
    "collapsed": true
   },
   "outputs": [],
   "source": [
    "conn_R = r.connect(db='Dogforum')\n",
    "tables = r.table_list().run(conn_R)\n",
    "for board_name in [x for x in tables if x != 'DogDetail']:\n",
    "    cursor = r.table(board_name).run(conn_R)\n",
    "    conn_M = MongoClient('localhost', 27017)\n",
    "    db = conn_M.dog\n",
    "    collection = db['post']\n",
    "    posts = []\n",
    "    info = [i for i in cursor]\n",
    "    for num in range(0, len(info)):\n",
    "        detl = {}\n",
    "        detl['board'] = board_name\n",
    "        detl['join_date'] = info[num].get('author_info').get('join_date')\n",
    "        detl['author_location'] = info[num].get('author_info').get('location')\n",
    "        detl['author_type'] = info[num].get('author_info').get('member_type')\n",
    "        detl['author_name'] = info[num].get('author_name')\n",
    "        detl['author_url'] = info[num].get('author_url')\n",
    "        detl['content'] = info[num].get('content')\n",
    "        detl['floor'] = int(info[num].get('floor'))\n",
    "        detl['page'] = info[num].get('page')\n",
    "        try:\n",
    "            detl['post_date'] = parser.parse(info[num].get('post_date').get('date')).strftime(\"%Y-%m-%d\")\n",
    "        except ValueError:\n",
    "            detl['post_date'] = info[num].get('post_date').get('date')\n",
    "        try:\n",
    "            detl['post_time'] = parser.parse(info[num].get('post_date').get('time')+ ', ' +info[num].get('post_date').get('ampm')).strftime(\"%H:%M\")\n",
    "        except ValueError:\n",
    "            detl['post_time'] = info[num].get('post_date').get('time')+ ', ' +info[num].get('post_date').get('ampm')\n",
    "        detl['quotation'] = info[num].get('quotation')\n",
    "        detl['title'] = info[num].get('title')\n",
    "        detl['url'] = info[num].get('url')\n",
    "        posts.append(detl)\n",
    "    collection.insert_many(posts)\n",
    "    conn_M.close()\n",
    "conn_R.close()"
   ]
  },
  {
   "cell_type": "code",
   "execution_count": 30,
   "metadata": {
    "scrolled": true
   },
   "outputs": [],
   "source": [
    "conn_R = r.connect(db='Dogforum')\n",
    "tables = r.table_list().run(conn_R)\n",
    "for board_name in [x for x in tables if x != 'DogDetail']:\n",
    "    cursor = r.table(board_name).run(conn_R)\n",
    "    conn_M = MongoClient('localhost', 27017)\n",
    "    db = conn_M.dogs\n",
    "    collection = db['post']\n",
    "    posts = []\n",
    "    info = [i for i in cursor]\n",
    "    for num in range(0, len(info)):\n",
    "        detl = {}\n",
    "        detl['board'] = board_name\n",
    "        try:\n",
    "            detl['join_date'] = parser.parse(info[0].get('author_info').get('join_date')).strftime(\"%Y-%m-%d\")\n",
    "        except TypeError:\n",
    "            detl['join_date'] = ''\n",
    "        detl['author_location'] = info[num].get('author_info').get('location')\n",
    "        detl['author_type'] = info[num].get('author_info').get('member_type')\n",
    "        detl['author_name'] = info[num].get('author_name')\n",
    "        detl['author_url'] = info[num].get('author_url')\n",
    "        detl['content'] = info[num].get('content')\n",
    "        detl['floor'] = int(info[num].get('floor'))\n",
    "        detl['page'] = info[num].get('page')\n",
    "        try:\n",
    "            detl['post_date'] = parser.parse(info[num].get('post_date').get('date')).strftime(\"%Y-%m-%d\")\n",
    "        except ValueError:\n",
    "            detl['post_date'] = info[num].get('post_date').get('date')\n",
    "        try:\n",
    "            detl['post_time'] = parser.parse(info[num].get('post_date').get('time')+ ', ' +info[num].get('post_date').get('ampm')).strftime(\"%H:%M\")\n",
    "        except ValueError:\n",
    "            detl['post_time'] = info[num].get('post_date').get('time')+ ', ' +info[num].get('post_date').get('ampm')\n",
    "        detl['quotation'] = info[num].get('quotation')\n",
    "        detl['title'] = info[num].get('title')\n",
    "        detl['url'] = info[num].get('url')\n",
    "        posts.append(detl)\n",
    "    collection.insert_many(posts)\n",
    "    conn_M.close()\n",
    "conn_R.close()"
   ]
  }
 ],
 "metadata": {
  "kernelspec": {
   "display_name": "Python 3",
   "language": "python",
   "name": "python3"
  },
  "language_info": {
   "codemirror_mode": {
    "name": "ipython",
    "version": 3
   },
   "file_extension": ".py",
   "mimetype": "text/x-python",
   "name": "python",
   "nbconvert_exporter": "python",
   "pygments_lexer": "ipython3",
   "version": "3.6.3"
  }
 },
 "nbformat": 4,
 "nbformat_minor": 2
}
