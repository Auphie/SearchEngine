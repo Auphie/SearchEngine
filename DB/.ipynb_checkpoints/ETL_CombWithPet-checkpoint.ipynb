{
 "cells": [
  {
   "cell_type": "code",
   "execution_count": 62,
   "metadata": {
    "collapsed": true
   },
   "outputs": [],
   "source": [
    "from pymongo import MongoClient\n",
    "from bson.objectid import ObjectId"
   ]
  },
  {
   "cell_type": "code",
   "execution_count": 63,
   "metadata": {
    "collapsed": true
   },
   "outputs": [],
   "source": [
    "conn_M = MongoClient('localhost', 27017)\n",
    "db = conn_M.dogs"
   ]
  },
  {
   "cell_type": "code",
   "execution_count": 64,
   "metadata": {
    "collapsed": true
   },
   "outputs": [],
   "source": [
    "collection = db['member_dog']"
   ]
  },
  {
   "cell_type": "code",
   "execution_count": 65,
   "metadata": {
    "collapsed": true
   },
   "outputs": [],
   "source": [
    "cursor = db['member_dog'].find({})"
   ]
  },
  {
   "cell_type": "code",
   "execution_count": 66,
   "metadata": {
    "collapsed": true
   },
   "outputs": [],
   "source": [
    "info = [a for a in cursor]"
   ]
  },
  {
   "cell_type": "code",
   "execution_count": 67,
   "metadata": {},
   "outputs": [
    {
     "data": {
      "text/plain": [
       "dict_items([('_id', '100026'), ('author_name', 'Tobydog'), ('tot_posts', 2), ('breed', [])])"
      ]
     },
     "execution_count": 67,
     "metadata": {},
     "output_type": "execute_result"
    }
   ],
   "source": [
    "info[0].items()"
   ]
  },
  {
   "cell_type": "code",
   "execution_count": 68,
   "metadata": {},
   "outputs": [
    {
     "data": {
      "text/plain": [
       "20504"
      ]
     },
     "execution_count": 68,
     "metadata": {},
     "output_type": "execute_result"
    }
   ],
   "source": [
    "len(info)"
   ]
  },
  {
   "cell_type": "code",
   "execution_count": 69,
   "metadata": {
    "scrolled": true
   },
   "outputs": [
    {
     "data": {
      "text/plain": [
       "'Tobydog'"
      ]
     },
     "execution_count": 69,
     "metadata": {},
     "output_type": "execute_result"
    }
   ],
   "source": [
    "info[0].get('author_name')"
   ]
  },
  {
   "cell_type": "code",
   "execution_count": 70,
   "metadata": {},
   "outputs": [
    {
     "data": {
      "text/plain": [
       "['English Springer Spaniel', 'English Springer Spaniel']"
      ]
     },
     "execution_count": 70,
     "metadata": {},
     "output_type": "execute_result"
    }
   ],
   "source": [
    "info[7].get('breed')"
   ]
  },
  {
   "cell_type": "code",
   "execution_count": 73,
   "metadata": {
    "collapsed": true
   },
   "outputs": [],
   "source": [
    "conn_M = MongoClient('localhost', 27017)\n",
    "db = conn_M.dogs\n",
    "collection = db['member_pet']\n",
    "for num in range(0, len(info)):\n",
    "    detl = {}\n",
    "    detl['member_name'] = info[num].get('author_name')\n",
    "    detl['_id'] = info[num].get('_id')\n",
    "    detl['tot_posts'] = info[num].get('TotalPosts')\n",
    "    if info[num].get('breed') is not None:\n",
    "        detl['pet'] = list(set(info[num].get('breed')))\n",
    "    collection.insert_one(detl)\n",
    "conn_M.close()"
   ]
  },
  {
   "cell_type": "markdown",
   "metadata": {},
   "source": [
    "# set(tit_dog)"
   ]
  },
  {
   "cell_type": "code",
   "execution_count": 1,
   "metadata": {
    "collapsed": true
   },
   "outputs": [],
   "source": [
    "from pymongo import MongoClient\n",
    "from bson.objectid import ObjectId"
   ]
  },
  {
   "cell_type": "code",
   "execution_count": 2,
   "metadata": {
    "collapsed": true
   },
   "outputs": [],
   "source": [
    "conn_M = MongoClient('localhost', 27017)\n",
    "db = conn_M.dogs"
   ]
  },
  {
   "cell_type": "code",
   "execution_count": 3,
   "metadata": {
    "collapsed": true
   },
   "outputs": [],
   "source": [
    "collection = db['tit_dog']"
   ]
  },
  {
   "cell_type": "code",
   "execution_count": 5,
   "metadata": {
    "collapsed": true
   },
   "outputs": [],
   "source": [
    "cursor2 = db['tit_dog'].find({})"
   ]
  },
  {
   "cell_type": "code",
   "execution_count": 6,
   "metadata": {
    "collapsed": true
   },
   "outputs": [],
   "source": [
    "info2 = [b for b in cursor2]"
   ]
  },
  {
   "cell_type": "code",
   "execution_count": 9,
   "metadata": {},
   "outputs": [
    {
     "data": {
      "text/plain": [
       "43842"
      ]
     },
     "execution_count": 9,
     "metadata": {},
     "output_type": "execute_result"
    }
   ],
   "source": [
    "len(info2)"
   ]
  },
  {
   "cell_type": "code",
   "execution_count": 11,
   "metadata": {},
   "outputs": [
    {
     "data": {
      "text/plain": [
       "'Breeds'"
      ]
     },
     "execution_count": 11,
     "metadata": {},
     "output_type": "execute_result"
    }
   ],
   "source": [
    "info2[0].get('board')"
   ]
  },
  {
   "cell_type": "code",
   "execution_count": 12,
   "metadata": {},
   "outputs": [
    {
     "data": {
      "text/plain": [
       "'\"Aggressive Breeds\" Whats your opinion?'"
      ]
     },
     "execution_count": 12,
     "metadata": {},
     "output_type": "execute_result"
    }
   ],
   "source": [
    "info2[0].get('title')"
   ]
  },
  {
   "cell_type": "code",
   "execution_count": 13,
   "metadata": {},
   "outputs": [
    {
     "data": {
      "text/plain": [
       "'http://www.dogforum.com/dog-breeds/aggressive-breeds-whats-your-opinion-7572/page10/'"
      ]
     },
     "execution_count": 13,
     "metadata": {},
     "output_type": "execute_result"
    }
   ],
   "source": [
    "info2[0].get('url')"
   ]
  },
  {
   "cell_type": "code",
   "execution_count": 26,
   "metadata": {},
   "outputs": [
    {
     "ename": "AttributeError",
     "evalue": "'list' object has no attribute 'split'",
     "output_type": "error",
     "traceback": [
      "\u001b[0;31m---------------------------------------------------------------------------\u001b[0m",
      "\u001b[0;31mAttributeError\u001b[0m                            Traceback (most recent call last)",
      "\u001b[0;32m<ipython-input-26-e8c585d3c6f1>\u001b[0m in \u001b[0;36m<module>\u001b[0;34m()\u001b[0m\n\u001b[0;32m----> 1\u001b[0;31m \u001b[0minfo2\u001b[0m\u001b[0;34m[\u001b[0m\u001b[0;36m0\u001b[0m\u001b[0;34m]\u001b[0m\u001b[0;34m.\u001b[0m\u001b[0mget\u001b[0m\u001b[0;34m(\u001b[0m\u001b[0;34m'pets'\u001b[0m\u001b[0;34m)\u001b[0m\u001b[0;34m.\u001b[0m\u001b[0msplit\u001b[0m\u001b[0;34m(\u001b[0m\u001b[0;34m)\u001b[0m\u001b[0;34m\u001b[0m\u001b[0m\n\u001b[0m",
      "\u001b[0;31mAttributeError\u001b[0m: 'list' object has no attribute 'split'"
     ]
    }
   ],
   "source": [
    "info2[0].get('pets').split()"
   ]
  },
  {
   "cell_type": "code",
   "execution_count": 23,
   "metadata": {},
   "outputs": [
    {
     "data": {
      "text/plain": [
       "[['Miniature Pinscher', 'Rottweiler', 'Pomeranian'],\n",
       " [],\n",
       " ['American Bulldog', 'American Staffordshire Terrier'],\n",
       " ['American Bulldog', 'Basset Hound', 'American Pit Bull Terrier', 'Poodle'],\n",
       " ['Mixed'],\n",
       " ['Mixed'],\n",
       " ['Mixed'],\n",
       " ['German Shepherd Dog'],\n",
       " [],\n",
       " ['Labrador Retriever'],\n",
       " ['American Staffordshire Terrier'],\n",
       " ['Mixed', 'Poodle'],\n",
       " ['Mixed'],\n",
       " ['Irish Setter'],\n",
       " ['Rottweiler', 'Pomeranian'],\n",
       " ['Irish Setter'],\n",
       " ['Redbone Coonhound', 'Beagle', 'English Bulldog', 'Bloodhound'],\n",
       " ['Mixed', 'Poodle'],\n",
       " ['American Pit Bull Terrier', 'Mixed'],\n",
       " ['Mixed', 'Poodle'],\n",
       " ['American Pit Bull Terrier', 'Mixed'],\n",
       " ['Miniature Schnauzer'],\n",
       " ['Mixed'],\n",
       " ['Mixed'],\n",
       " ['Miniature Schnauzer'],\n",
       " ['Redbone Coonhound', 'Beagle', 'English Bulldog', 'Bloodhound'],\n",
       " [],\n",
       " [],\n",
       " ['Great Dane'],\n",
       " ['Mixed', 'Boxer', 'Miniature Schnauzer', 'Chow Chow', 'Pomeranian'],\n",
       " ['German Shepherd Dog'],\n",
       " ['Wire Fox Terrier', 'Kelpie', 'Mixed'],\n",
       " [],\n",
       " ['Staffordshire Bull Terrier'],\n",
       " ['Yorkshire Terrier'],\n",
       " [],\n",
       " ['American Pit Bull Terrier', 'Mixed', 'Papillon'],\n",
       " [],\n",
       " ['Dachshund', 'Miniature American Shepherd'],\n",
       " ['Mixed'],\n",
       " [],\n",
       " ['Miniature Pinscher',\n",
       "  'Mixed',\n",
       "  'Pug',\n",
       "  'Doberman Pinscher',\n",
       "  'Jack Russell Terrier',\n",
       "  'Pekingese'],\n",
       " ['Miniature Pinscher',\n",
       "  'Mixed',\n",
       "  'Pug',\n",
       "  'Doberman Pinscher',\n",
       "  'Jack Russell Terrier',\n",
       "  'Pekingese'],\n",
       " ['Mixed'],\n",
       " ['Dogue de Bordeaux', 'German Shepherd Dog'],\n",
       " ['Miniature Pinscher',\n",
       "  'Mixed',\n",
       "  'Pug',\n",
       "  'Doberman Pinscher',\n",
       "  'Jack Russell Terrier',\n",
       "  'Pekingese'],\n",
       " ['Great Pyrenees', 'Weimaraner', 'Saint Bernard', 'Vizsla'],\n",
       " ['Rottweiler'],\n",
       " ['Miniature Pinscher',\n",
       "  'Mixed',\n",
       "  'Pug',\n",
       "  'Doberman Pinscher',\n",
       "  'Jack Russell Terrier',\n",
       "  'Pekingese'],\n",
       " ['Labrador Retriever'],\n",
       " ['American Pit Bull Terrier'],\n",
       " [],\n",
       " ['Cavalier King Charles Spaniel'],\n",
       " ['American Pit Bull Terrier'],\n",
       " ['Dachshund', 'Miniature American Shepherd'],\n",
       " ['Leonberger'],\n",
       " ['Pug', 'Miniature Schnauzer'],\n",
       " ['Dachshund', 'Miniature American Shepherd'],\n",
       " ['Border Collie', 'Mixed'],\n",
       " [],\n",
       " [],\n",
       " ['American Pit Bull Terrier'],\n",
       " [],\n",
       " [],\n",
       " [],\n",
       " ['German Shepherd Dog', 'Australian Shepherd'],\n",
       " [],\n",
       " ['German Shepherd Dog'],\n",
       " ['Miniature Pinscher',\n",
       "  'Mixed',\n",
       "  'Pug',\n",
       "  'Doberman Pinscher',\n",
       "  'Jack Russell Terrier',\n",
       "  'Pekingese'],\n",
       " ['German Shepherd Dog', 'Australian Shepherd'],\n",
       " ['Cavalier King Charles Spaniel'],\n",
       " ['American Pit Bull Terrier'],\n",
       " [],\n",
       " ['Miniature Pinscher',\n",
       "  'Mixed',\n",
       "  'Pug',\n",
       "  'Doberman Pinscher',\n",
       "  'Jack Russell Terrier',\n",
       "  'Pekingese'],\n",
       " ['Australian Shepherd'],\n",
       " ['Miniature Pinscher',\n",
       "  'Mixed',\n",
       "  'Pug',\n",
       "  'Doberman Pinscher',\n",
       "  'Jack Russell Terrier',\n",
       "  'Pekingese'],\n",
       " [],\n",
       " ['Miniature Pinscher',\n",
       "  'Mixed',\n",
       "  'Pug',\n",
       "  'Doberman Pinscher',\n",
       "  'Jack Russell Terrier',\n",
       "  'Pekingese'],\n",
       " ['Rat Terrier', 'Mixed'],\n",
       " ['American Bulldog', 'Basset Hound', 'American Pit Bull Terrier', 'Poodle'],\n",
       " [],\n",
       " ['Labrador Retriever'],\n",
       " [],\n",
       " [],\n",
       " [],\n",
       " ['American Bulldog', 'Basset Hound', 'American Pit Bull Terrier', 'Poodle'],\n",
       " [],\n",
       " ['American Bulldog', 'Basset Hound', 'American Pit Bull Terrier', 'Poodle'],\n",
       " [],\n",
       " [],\n",
       " ['American Pit Bull Terrier'],\n",
       " ['Cavalier King Charles Spaniel'],\n",
       " ['Shetland Sheepdog'],\n",
       " ['American Pit Bull Terrier'],\n",
       " ['American Pit Bull Terrier'],\n",
       " ['Border Collie', 'Mixed'],\n",
       " ['Miniature Pinscher',\n",
       "  'Mixed',\n",
       "  'Pug',\n",
       "  'Doberman Pinscher',\n",
       "  'Jack Russell Terrier',\n",
       "  'Pekingese'],\n",
       " ['Staffordshire Bull Terrier'],\n",
       " ['Rat Terrier', 'Mixed'],\n",
       " ['Mixed'],\n",
       " ['American Pit Bull Terrier']]"
      ]
     },
     "execution_count": 23,
     "metadata": {},
     "output_type": "execute_result"
    }
   ],
   "source": [
    "pack = []\n",
    "for bb in info2[0].get('pets'):\n",
    "    pack.append(bb)\n",
    "pack"
   ]
  },
  {
   "cell_type": "code",
   "execution_count": 15,
   "metadata": {},
   "outputs": [
    {
     "ename": "TypeError",
     "evalue": "unhashable type: 'list'",
     "output_type": "error",
     "traceback": [
      "\u001b[0;31m---------------------------------------------------------------------------\u001b[0m",
      "\u001b[0;31mTypeError\u001b[0m                                 Traceback (most recent call last)",
      "\u001b[0;32m<ipython-input-15-10cf4cb769e4>\u001b[0m in \u001b[0;36m<module>\u001b[0;34m()\u001b[0m\n\u001b[1;32m      9\u001b[0m     \u001b[0mdetl\u001b[0m\u001b[0;34m[\u001b[0m\u001b[0;34m'contents'\u001b[0m\u001b[0;34m]\u001b[0m \u001b[0;34m=\u001b[0m \u001b[0minfo2\u001b[0m\u001b[0;34m[\u001b[0m\u001b[0mnum\u001b[0m\u001b[0;34m]\u001b[0m\u001b[0;34m.\u001b[0m\u001b[0mget\u001b[0m\u001b[0;34m(\u001b[0m\u001b[0;34m'contents'\u001b[0m\u001b[0;34m)\u001b[0m\u001b[0;34m\u001b[0m\u001b[0m\n\u001b[1;32m     10\u001b[0m     \u001b[0;32mif\u001b[0m \u001b[0minfo2\u001b[0m\u001b[0;34m[\u001b[0m\u001b[0mnum\u001b[0m\u001b[0;34m]\u001b[0m\u001b[0;34m.\u001b[0m\u001b[0mget\u001b[0m\u001b[0;34m(\u001b[0m\u001b[0;34m'pets'\u001b[0m\u001b[0;34m)\u001b[0m \u001b[0;32mis\u001b[0m \u001b[0;32mnot\u001b[0m \u001b[0;32mNone\u001b[0m\u001b[0;34m:\u001b[0m\u001b[0;34m\u001b[0m\u001b[0m\n\u001b[0;32m---> 11\u001b[0;31m         \u001b[0mdetl\u001b[0m\u001b[0;34m[\u001b[0m\u001b[0;34m'pets'\u001b[0m\u001b[0;34m]\u001b[0m \u001b[0;34m=\u001b[0m \u001b[0mlist\u001b[0m\u001b[0;34m(\u001b[0m\u001b[0mset\u001b[0m\u001b[0;34m(\u001b[0m\u001b[0minfo2\u001b[0m\u001b[0;34m[\u001b[0m\u001b[0mnum\u001b[0m\u001b[0;34m]\u001b[0m\u001b[0;34m.\u001b[0m\u001b[0mget\u001b[0m\u001b[0;34m(\u001b[0m\u001b[0;34m'pets'\u001b[0m\u001b[0;34m)\u001b[0m\u001b[0;34m)\u001b[0m\u001b[0;34m)\u001b[0m\u001b[0;34m\u001b[0m\u001b[0m\n\u001b[0m\u001b[1;32m     12\u001b[0m     \u001b[0mcollection\u001b[0m\u001b[0;34m.\u001b[0m\u001b[0minsert_one\u001b[0m\u001b[0;34m(\u001b[0m\u001b[0mdetl\u001b[0m\u001b[0;34m)\u001b[0m\u001b[0;34m\u001b[0m\u001b[0m\n\u001b[1;32m     13\u001b[0m \u001b[0mconn_M\u001b[0m\u001b[0;34m.\u001b[0m\u001b[0mclose\u001b[0m\u001b[0;34m(\u001b[0m\u001b[0;34m)\u001b[0m\u001b[0;34m\u001b[0m\u001b[0m\n",
      "\u001b[0;31mTypeError\u001b[0m: unhashable type: 'list'"
     ]
    }
   ],
   "source": [
    "conn_M = MongoClient('localhost', 27017)\n",
    "db = conn_M.dogs\n",
    "collection = db['title_dog']\n",
    "for num in range(0, len(info2)):\n",
    "    detl = {}\n",
    "    detl['board'] = info2[num].get('board')\n",
    "    detl['title'] = info2[num].get('title')\n",
    "    detl['url'] = info2[num].get('url')\n",
    "    detl['contents'] = info2[num].get('contents')\n",
    "    if info2[num].get('pets') is not None:\n",
    "        detl['pets'] = list(set(info2[num].get('pets')))\n",
    "    collection.insert_one(detl)\n",
    "conn_M.close()"
   ]
  }
 ],
 "metadata": {
  "kernelspec": {
   "display_name": "Python 3",
   "language": "python",
   "name": "python3"
  },
  "language_info": {
   "codemirror_mode": {
    "name": "ipython",
    "version": 3
   },
   "file_extension": ".py",
   "mimetype": "text/x-python",
   "name": "python",
   "nbconvert_exporter": "python",
   "pygments_lexer": "ipython3",
   "version": "3.6.3"
  }
 },
 "nbformat": 4,
 "nbformat_minor": 2
}
