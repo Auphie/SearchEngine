{
 "cells": [
  {
   "cell_type": "code",
   "execution_count": 256,
   "metadata": {
    "collapsed": true
   },
   "outputs": [],
   "source": [
    "import traceback\n",
    "from pymongo import MongoClient\n",
    "from elasticsearch import Elasticsearch"
   ]
  },
  {
   "cell_type": "code",
   "execution_count": 257,
   "metadata": {
    "collapsed": true
   },
   "outputs": [],
   "source": [
    "db = MongoClient('mongodb://127.0.0.1:27017')['Dogforum']"
   ]
  },
  {
   "cell_type": "code",
   "execution_count": null,
   "metadata": {
    "scrolled": true
   },
   "outputs": [],
   "source": [
    "for type_name in db.collection_names():\n",
    "    print(type_name)"
   ]
  },
  {
   "cell_type": "markdown",
   "metadata": {},
   "source": [
    "# Method 1: combine key, value in a dict_list into tuple "
   ]
  },
  {
   "cell_type": "code",
   "execution_count": 280,
   "metadata": {
    "scrolled": true
   },
   "outputs": [],
   "source": [
    "title_cursor = db[type_name].find({},{'_id':0,'title':1, 'content':1})"
   ]
  },
  {
   "cell_type": "code",
   "execution_count": 281,
   "metadata": {
    "collapsed": true
   },
   "outputs": [],
   "source": [
    "# title = [b.values() for b in title_cursor]\n",
    "# tup_title = [tuple(tup) for tup in title]\n",
    "tup_title = [tuple(tup) for tup in [b.values() for b in title_cursor]]"
   ]
  },
  {
   "cell_type": "code",
   "execution_count": 282,
   "metadata": {
    "scrolled": false
   },
   "outputs": [
    {
     "data": {
      "text/plain": [
       "[(\"Lab thinks she's a lifeguard\",\n",
       "  \" I love those moments, the one's you'll always remember once they're gone \"),\n",
       " (\"Lab thinks she's a lifeguard\",\n",
       "  \" Sounds like she was retrieving something that was special to her and having a blast doing it. Also sounds like she's naturally inclined to water rescue. If she has the typical lab soft mouth grab it sounds like she would be great at water rescue.  \\nAlso your vacation sounds amazing. I am jealous. \")]"
      ]
     },
     "execution_count": 282,
     "metadata": {},
     "output_type": "execute_result"
    }
   ],
   "source": [
    "tup_title[1:3]"
   ]
  },
  {
   "cell_type": "markdown",
   "metadata": {},
   "source": [
    "# Method 2: concatenate values with a key in a dict_list"
   ]
  },
  {
   "cell_type": "code",
   "execution_count": 306,
   "metadata": {
    "collapsed": true
   },
   "outputs": [],
   "source": [
    "cursor = db[type_name].find({},{'_id':0,'title':1, 'content':1, 'url':1})"
   ]
  },
  {
   "cell_type": "code",
   "execution_count": 307,
   "metadata": {
    "scrolled": true
   },
   "outputs": [],
   "source": [
    "data = [c for c in cursor]"
   ]
  },
  {
   "cell_type": "code",
   "execution_count": 313,
   "metadata": {},
   "outputs": [],
   "source": [
    "articles = []\n",
    "for num in range(0, len(data)):\n",
    "    #block = {}\n",
    "    #block[data[num].get('title')] = data[num].get('content')+ '[ ' + data[num].get('url') + ' ]'\n",
    "    #articles.append(tuple(block))\n",
    "    block = (data[num].get('title'), data[num].get('content')+ '[ ' + data[num].get('url') + ' ]')\n",
    "    articles.append(block)\n",
    "    "
   ]
  },
  {
   "cell_type": "code",
   "execution_count": 315,
   "metadata": {},
   "outputs": [
    {
     "data": {
      "text/plain": [
       "1320"
      ]
     },
     "execution_count": 315,
     "metadata": {},
     "output_type": "execute_result"
    }
   ],
   "source": [
    "len(articles)"
   ]
  },
  {
   "cell_type": "code",
   "execution_count": 319,
   "metadata": {},
   "outputs": [
    {
     "name": "stdout",
     "output_type": "stream",
     "text": [
      "(\"Lab thinks she's a lifeguard\", \"  So just a little story we think is neat, thought I'd share. \\nMy wifes dog is a black lab, field type, came from good hunting lines, she says, and I believe her\\nAnyway, couple of years ago we went camping on a lake in the mountains. Lake is filled by waterfalls, crystal clear water. Like tap water clear. Just an awesome vacation seeing fall leaf change, hiking, swimming, finding waterfalls by boat etc. \\nI decided to go swimming, and found a nice spot with some sandy bank and a good sized boulder hanging over the lake. Walked to edge of the boulder, and jumped the 10 feet or so into the lake. Still hadnt popped back up when I heard a big kersplash near me. Popped up and theres mad-dog ( what I call the lab, real name maddie ) swimming up to me. Gets to me and starts like trying to scramble up on me like shes trying to drown me lol. So I grabbed her collar to push her away, almost instantly she turns and starts for the sandy part of the bank. So I held on and she pulled me back. Then she ran back up the boulder, stands there looking happy as can be tail wagging. So I went back up, and this time she jumped off alongside me. We hit the water, she swam at me, I grabbed her collar, same thing right back to shore. \\nSo we did this a good dozen times, every time she'd jump with me, swim to me and haul me back to shore. \\nIt was pretty awesome. The dog was in heaven, I couldnt tell if she was just happy having a good time, or proud of herself, or both, or what. \\nSo I still dont know if in her little doggie mind it was all this big grand game, or maybe she thought she was saving me from drowning.  I'll never know. But she was so happy doing it.....exuburently joyful is the best way I can put it. \\nA small thing in the grand scheme of things, but not anything I'd have expected from her, but it really amazed me. [ http://www.dogforum.com/dog-stories/lab-thinks-shes-lifeguard-338226/ ]\")\n",
      "(\"Lab thinks she's a lifeguard\", \" I love those moments, the one's you'll always remember once they're gone [ http://www.dogforum.com/dog-stories/lab-thinks-shes-lifeguard-338226/ ]\")\n",
      "(\"Lab thinks she's a lifeguard\", \" Sounds like she was retrieving something that was special to her and having a blast doing it. Also sounds like she's naturally inclined to water rescue. If she has the typical lab soft mouth grab it sounds like she would be great at water rescue.  \\nAlso your vacation sounds amazing. I am jealous. [ http://www.dogforum.com/dog-stories/lab-thinks-shes-lifeguard-338226/ ]\")\n"
     ]
    }
   ],
   "source": [
    "for n in articles:\n",
    "    if \"Lab thinks she's a lifeguard\" in n:\n",
    "        print(n)"
   ]
  },
  {
   "cell_type": "markdown",
   "metadata": {
    "collapsed": true
   },
   "source": [
    "# Map-Reduce (key: title_name, value: contents)"
   ]
  },
  {
   "cell_type": "code",
   "execution_count": 283,
   "metadata": {
    "collapsed": true
   },
   "outputs": [],
   "source": [
    "import collections as c"
   ]
  },
  {
   "cell_type": "code",
   "execution_count": 316,
   "metadata": {},
   "outputs": [],
   "source": [
    "agg_title = c.defaultdict(list)\n",
    "for k, v in articles:\n",
    "    agg_title[k].append(v)"
   ]
  },
  {
   "cell_type": "code",
   "execution_count": 320,
   "metadata": {},
   "outputs": [
    {
     "data": {
      "text/plain": [
       "('\"I\\'ll help myself to those treats! Thank you!\"',\n",
       " ['  Today I took Penny with me to Tractor Supply Co.\\nOne of the cashiers came over with with a bag of treats. She opened the bag which caused Penny to do her \"happy dance\". The lady pulled out a few treats and put the open bag on the floor. She gave Penny the first treat and then decided to break the other treat in half. In the meantime, rather than waiting like all of the other well behaved dogs that come into the store, Penny stuck her head completely into the bag and started to gulp down as many treats as possible. I quickly got her out of the treats and apologized. I was a definately little embarrassed. I should have seen that coming! But the cashiers thought it was hilarious, and the one with the treats even gave Penny the treat she had been breaking in half. [ http://www.dogforum.com/dog-stories/ill-help-myself-those-treats-thank-3600/ ]',\n",
       "  ' LOL...Bahaha! I think it is hilarious too!  [ http://www.dogforum.com/dog-stories/ill-help-myself-those-treats-thank-3600/ ]',\n",
       "  ' Thats Awesome!! Mine always snub their noses at treats so then I feel like they are being RUDE! lol. [ http://www.dogforum.com/dog-stories/ill-help-myself-those-treats-thank-3600/ ]',\n",
       "  \" Bahahah  Your dog is just smart-knew it was more rewarding to just help herself then wait and do a trick for 1/2 a cookie! \\nI was in G&E a few weeks ago-it's a huge family run vet pharmacy turned huger petstore  And this old man asked if Mikey could have a cookie-so I said sure. He continues giving mikey little niblets and the woman behind me in line said her dog won't eat treats what are those. So he goes and shows her them on the shelf and grabs more to give Mikey. \\nUmn-thought you either worked here or brought them with you!!! He was taking treats off the shelf and feeding my dog! OMG I was red How embarassing-I felt like accessory to shoplifting! [ http://www.dogforum.com/dog-stories/ill-help-myself-those-treats-thank-3600/ ]\",\n",
       "  ' lol kmes.... at least she knows how to get what she wants  omg  [ http://www.dogforum.com/dog-stories/ill-help-myself-those-treats-thank-3600/ ]'])"
      ]
     },
     "execution_count": 320,
     "metadata": {},
     "output_type": "execute_result"
    }
   ],
   "source": [
    "sorted(agg_title.items())[0]"
   ]
  }
 ],
 "metadata": {
  "kernelspec": {
   "display_name": "Python 3",
   "language": "python",
   "name": "python3"
  },
  "language_info": {
   "codemirror_mode": {
    "name": "ipython",
    "version": 3
   },
   "file_extension": ".py",
   "mimetype": "text/x-python",
   "name": "python",
   "nbconvert_exporter": "python",
   "pygments_lexer": "ipython3",
   "version": "3.6.3"
  }
 },
 "nbformat": 4,
 "nbformat_minor": 2
}
