{
 "cells": [
  {
   "cell_type": "code",
   "execution_count": 85,
   "metadata": {
    "collapsed": true
   },
   "outputs": [],
   "source": [
    "from pymongo import MongoClient\n",
    "from bson.objectid import ObjectId\n",
    "import csv\n",
    "import pandas as pd"
   ]
  },
  {
   "cell_type": "code",
   "execution_count": null,
   "metadata": {
    "collapsed": true
   },
   "outputs": [],
   "source": [
    "df_t = pd.read_csv('member_tag2.csv')"
   ]
  },
  {
   "cell_type": "code",
   "execution_count": null,
   "metadata": {},
   "outputs": [],
   "source": [
    "len(df_t)"
   ]
  },
  {
   "cell_type": "code",
   "execution_count": null,
   "metadata": {
    "scrolled": true
   },
   "outputs": [],
   "source": [
    "df_t[:3]"
   ]
  },
  {
   "cell_type": "code",
   "execution_count": null,
   "metadata": {
    "collapsed": true
   },
   "outputs": [],
   "source": [
    "df_t = df_t[['author_name', 'tag']]"
   ]
  },
  {
   "cell_type": "code",
   "execution_count": null,
   "metadata": {},
   "outputs": [],
   "source": [
    "df_t[:3]"
   ]
  },
  {
   "cell_type": "code",
   "execution_count": 86,
   "metadata": {
    "collapsed": true
   },
   "outputs": [],
   "source": [
    "conn = MongoClient('localhost', 27017)\n",
    "db = conn.forum"
   ]
  },
  {
   "cell_type": "code",
   "execution_count": null,
   "metadata": {
    "collapsed": true
   },
   "outputs": [],
   "source": [
    "cursor = db['memberInfo'].find()"
   ]
  },
  {
   "cell_type": "code",
   "execution_count": null,
   "metadata": {
    "collapsed": true
   },
   "outputs": [],
   "source": [
    "info = [a for a in cursor]"
   ]
  },
  {
   "cell_type": "code",
   "execution_count": null,
   "metadata": {
    "scrolled": true
   },
   "outputs": [],
   "source": [
    "info[0]"
   ]
  },
  {
   "cell_type": "code",
   "execution_count": null,
   "metadata": {
    "collapsed": true
   },
   "outputs": [],
   "source": [
    "df_m = pd.DataFrame.from_dict(info, orient = 'columns')"
   ]
  },
  {
   "cell_type": "code",
   "execution_count": null,
   "metadata": {},
   "outputs": [],
   "source": [
    "df_m[:3]"
   ]
  },
  {
   "cell_type": "code",
   "execution_count": null,
   "metadata": {
    "collapsed": true
   },
   "outputs": [],
   "source": [
    "df_m = pd.merge(df_m, df_t, how='left',\n",
    "        left_on='member_name', right_on='author_name')"
   ]
  },
  {
   "cell_type": "code",
   "execution_count": null,
   "metadata": {
    "scrolled": true
   },
   "outputs": [],
   "source": [
    "df_m[:3]"
   ]
  },
  {
   "cell_type": "code",
   "execution_count": null,
   "metadata": {
    "collapsed": true
   },
   "outputs": [],
   "source": [
    "df_m['pet'] = df_m.pets.astype(str).str.replace('\\[|\\]|\\'', '')"
   ]
  },
  {
   "cell_type": "code",
   "execution_count": null,
   "metadata": {
    "scrolled": true
   },
   "outputs": [],
   "source": [
    "df_m[:3]"
   ]
  },
  {
   "cell_type": "code",
   "execution_count": null,
   "metadata": {
    "collapsed": true,
    "scrolled": false
   },
   "outputs": [],
   "source": [
    "df = df_m.drop(['pets'], axis=1)"
   ]
  },
  {
   "cell_type": "code",
   "execution_count": null,
   "metadata": {},
   "outputs": [],
   "source": [
    "df[:3]"
   ]
  },
  {
   "cell_type": "code",
   "execution_count": null,
   "metadata": {},
   "outputs": [],
   "source": [
    "len(df)"
   ]
  },
  {
   "cell_type": "code",
   "execution_count": null,
   "metadata": {
    "collapsed": true
   },
   "outputs": [],
   "source": [
    "collection = db['author']\n",
    "for jdict in df.to_dict(orient='records'):\n",
    "    collection.insert_one(jdict)"
   ]
  },
  {
   "cell_type": "code",
   "execution_count": null,
   "metadata": {
    "collapsed": true
   },
   "outputs": [],
   "source": [
    "df['tags'] = df['tag'] + ', ' + df['pet']"
   ]
  },
  {
   "cell_type": "code",
   "execution_count": null,
   "metadata": {
    "scrolled": true
   },
   "outputs": [],
   "source": [
    "df[:10]"
   ]
  },
  {
   "cell_type": "code",
   "execution_count": null,
   "metadata": {
    "collapsed": true
   },
   "outputs": [],
   "source": [
    "df2 = df[['_id','member_name', 'tags']]"
   ]
  },
  {
   "cell_type": "code",
   "execution_count": null,
   "metadata": {
    "collapsed": true
   },
   "outputs": [],
   "source": [
    "collection = db['tag']\n",
    "for jdict in df2.to_dict(orient='records'):\n",
    "    collection.insert_one(jdict)"
   ]
  },
  {
   "cell_type": "code",
   "execution_count": null,
   "metadata": {
    "collapsed": true
   },
   "outputs": [],
   "source": []
  },
  {
   "cell_type": "code",
   "execution_count": null,
   "metadata": {},
   "outputs": [],
   "source": [
    "from dateutil import parser"
   ]
  },
  {
   "cell_type": "code",
   "execution_count": null,
   "metadata": {
    "collapsed": true
   },
   "outputs": [],
   "source": [
    "cursor2 = db['posts'].find()"
   ]
  },
  {
   "cell_type": "code",
   "execution_count": null,
   "metadata": {
    "collapsed": true
   },
   "outputs": [],
   "source": [
    "info2 = [b for b in cursor2]"
   ]
  },
  {
   "cell_type": "code",
   "execution_count": null,
   "metadata": {
    "scrolled": true
   },
   "outputs": [],
   "source": [
    "len(info2)"
   ]
  },
  {
   "cell_type": "code",
   "execution_count": null,
   "metadata": {
    "collapsed": true
   },
   "outputs": [],
   "source": [
    "post = {}\n",
    "thread = {}"
   ]
  },
  {
   "cell_type": "code",
   "execution_count": null,
   "metadata": {},
   "outputs": [],
   "source": [
    "post['_id'] = info2[0]['_id']"
   ]
  },
  {
   "cell_type": "code",
   "execution_count": null,
   "metadata": {},
   "outputs": [],
   "source": [
    "post['board'] = info2[0]['board']"
   ]
  },
  {
   "cell_type": "code",
   "execution_count": null,
   "metadata": {},
   "outputs": [],
   "source": [
    "post['title'] = info2[0]['title']"
   ]
  },
  {
   "cell_type": "code",
   "execution_count": null,
   "metadata": {},
   "outputs": [],
   "source": [
    "post['title_url'] = info2[0]['url']"
   ]
  },
  {
   "cell_type": "code",
   "execution_count": null,
   "metadata": {},
   "outputs": [],
   "source": [
    "post['title_id'] = int(info2[0]['title_id'])"
   ]
  },
  {
   "cell_type": "code",
   "execution_count": null,
   "metadata": {
    "scrolled": true
   },
   "outputs": [],
   "source": [
    "thread['content_url'] = info2[0]['threads']['content_url']"
   ]
  },
  {
   "cell_type": "code",
   "execution_count": null,
   "metadata": {},
   "outputs": [],
   "source": [
    "thread['page'] = info2[0]['threads']['page']"
   ]
  },
  {
   "cell_type": "code",
   "execution_count": null,
   "metadata": {},
   "outputs": [],
   "source": [
    "thread['floor'] = info2[0]['threads']['floor']"
   ]
  },
  {
   "cell_type": "code",
   "execution_count": null,
   "metadata": {},
   "outputs": [],
   "source": [
    "thread['author_name'] = info2[0]['threads']['author_name']"
   ]
  },
  {
   "cell_type": "code",
   "execution_count": null,
   "metadata": {},
   "outputs": [],
   "source": [
    "thread['post_date'] = info2[0]['threads']['post_date']"
   ]
  },
  {
   "cell_type": "code",
   "execution_count": null,
   "metadata": {},
   "outputs": [],
   "source": [
    "thread['member_type'] = info2[0]['threads']['member_type']"
   ]
  },
  {
   "cell_type": "code",
   "execution_count": null,
   "metadata": {},
   "outputs": [],
   "source": [
    "thread['location'] = info2[0]['threads']['location']"
   ]
  },
  {
   "cell_type": "code",
   "execution_count": null,
   "metadata": {},
   "outputs": [],
   "source": [
    "thread['quotation'] = info2[0]['threads']['quotation']"
   ]
  },
  {
   "cell_type": "code",
   "execution_count": null,
   "metadata": {},
   "outputs": [],
   "source": [
    "thread['content'] = info2[0]['threads']['content']"
   ]
  },
  {
   "cell_type": "code",
   "execution_count": null,
   "metadata": {},
   "outputs": [],
   "source": [
    "thread['member_id'] = int(info2[0]['key']['_id'])"
   ]
  },
  {
   "cell_type": "code",
   "execution_count": null,
   "metadata": {
    "scrolled": true
   },
   "outputs": [],
   "source": [
    "thread['tags'] = info2[0]['key']['tags']"
   ]
  },
  {
   "cell_type": "code",
   "execution_count": null,
   "metadata": {
    "collapsed": true
   },
   "outputs": [],
   "source": [
    "post['thread'] = thread"
   ]
  },
  {
   "cell_type": "code",
   "execution_count": null,
   "metadata": {},
   "outputs": [],
   "source": [
    "info2[0]['threads']['location']"
   ]
  },
  {
   "cell_type": "code",
   "execution_count": 87,
   "metadata": {
    "scrolled": true
   },
   "outputs": [],
   "source": [
    "collection = db['posts_tag']\n",
    "for num in range(0, len(info2)):\n",
    "    post = {}\n",
    "    thread = {}\n",
    "    post['_id'] = info2[num]['_id']\n",
    "    post['board'] = info2[num]['board']\n",
    "    post['title'] = info2[num]['title']\n",
    "    post['title_url'] = info2[num]['url']\n",
    "    post['title_id'] = int(info2[num]['title_id'])\n",
    "    thread['content_url'] = info2[num]['threads']['content_url']\n",
    "    thread['page'] = info2[num]['threads']['page']\n",
    "    thread['floor'] = info2[num]['threads']['floor']\n",
    "    thread['author_name'] = info2[num]['threads']['author_name']\n",
    "    thread['post_date'] = info2[num]['threads']['post_date']\n",
    "    try:\n",
    "        thread['member_type'] = info2[num]['threads']['member_type']\n",
    "    except (KeyError):\n",
    "        pass\n",
    "    try:\n",
    "        thread['location'] = info2[num]['threads']['location']\n",
    "    except (KeyError):\n",
    "        pass\n",
    "    thread['quotation'] = info2[num]['threads']['quotation']\n",
    "    thread['content'] = info2[num]['threads']['content']\n",
    "    try:\n",
    "        thread['member_id'] = int(info2[num]['key']['_id'])\n",
    "    except (KeyError):\n",
    "        pass\n",
    "    thread['tags'] = info2[num]['key']['tags']\n",
    "    post['thread'] = thread\n",
    "    collection.insert_one(post)"
   ]
  },
  {
   "cell_type": "code",
   "execution_count": null,
   "metadata": {
    "collapsed": true
   },
   "outputs": [],
   "source": []
  },
  {
   "cell_type": "code",
   "execution_count": 89,
   "metadata": {
    "collapsed": true
   },
   "outputs": [],
   "source": [
    "cursor3 = db['articles_tag'].find()"
   ]
  },
  {
   "cell_type": "code",
   "execution_count": 90,
   "metadata": {
    "collapsed": true
   },
   "outputs": [],
   "source": [
    "info3 = [c for c in cursor3]"
   ]
  },
  {
   "cell_type": "code",
   "execution_count": 95,
   "metadata": {},
   "outputs": [
    {
     "data": {
      "text/plain": [
       "['Mouth,Parasite_Infection, ',\n",
       " 'Mixes_Cross,Collar,Behavior_Play_Outside,Bedding,Hereditary_Disease,Others,Fierce_Dog,Food_Brand, Siberian Husky, Golden Retriever',\n",
       " 'Mixes_Cross,Train_Care,Skin_Clean_Allergy,Parasite_Infection,Digestive_System,Breed_Color,Others, ',\n",
       " 'Others,Meet_Memory,Parasite_Infection, ',\n",
       " 'Skin_Clean_Allergy,Outside_Dog,Color,Dog_Challenge,Gear,Parasite_Infection,Others,Food_Brand, Australian Shepherd',\n",
       " 'Others,Parasite_Infection, ',\n",
       " 'Collar,Parasite_Infection,Others,Food_Brand, ',\n",
       " 'Dog_Family,Skin_Clean_Allergy,Dog_Racing,Gear,Others,Digestive_System,Author_Interest,Nutrition, ',\n",
       " 'Mouth,Collar,Accident,Outside_Dog,Dog_Challenge,Parasite_Infection,Hair_Combing,Author_Interest,Emotion,Others,Food_Brand, ',\n",
       " 'Dog_Family,Skin_Clean_Allergy,Collar,Dog_Tracking,Outside_Dog,Color,Food_Brand, ',\n",
       " 'Toy_Poodle,Clothes,Behavior_Play_Outside,Accident,Allergy_Food,Dog_Film,Dog_Challenge,Grooming_Tools,Others,Dog_Giving, German Shepherd Dog, Dogue de Bordeaux',\n",
       " 'Skin_Clean_Allergy,Dog_Racing,Allergy_Food,Others,Fierce_Dog, ',\n",
       " 'Mouth,Skin_Clean_Allergy,Collar,Outside_Dog,Discussion_Question,Parasite_Infection,Others,Food_Ingredient, ',\n",
       " 'Toy_Poodle,Parasite_Infection, ',\n",
       " 'Skin_Clean_Allergy,Collar,Outside_Dog,Others,Dog_Giving, ',\n",
       " 'Skin_Clean_Allergy, ']"
      ]
     },
     "execution_count": 95,
     "metadata": {},
     "output_type": "execute_result"
    }
   ],
   "source": [
    "info3[0]['tag']"
   ]
  },
  {
   "cell_type": "code",
   "execution_count": 96,
   "metadata": {
    "scrolled": true
   },
   "outputs": [
    {
     "data": {
      "text/plain": [
       "'Mouth,Parasite_Infection, Mixes_Cross,Collar,Behavior_Play_Outside,Bedding,Hereditary_Disease,Others,Fierce_Dog,Food_Brand, Siberian Husky, Golden RetrieverMixes_Cross,Train_Care,Skin_Clean_Allergy,Parasite_Infection,Digestive_System,Breed_Color,Others, Others,Meet_Memory,Parasite_Infection, Skin_Clean_Allergy,Outside_Dog,Color,Dog_Challenge,Gear,Parasite_Infection,Others,Food_Brand, Australian ShepherdOthers,Parasite_Infection, Collar,Parasite_Infection,Others,Food_Brand, Dog_Family,Skin_Clean_Allergy,Dog_Racing,Gear,Others,Digestive_System,Author_Interest,Nutrition, Mouth,Collar,Accident,Outside_Dog,Dog_Challenge,Parasite_Infection,Hair_Combing,Author_Interest,Emotion,Others,Food_Brand, Dog_Family,Skin_Clean_Allergy,Collar,Dog_Tracking,Outside_Dog,Color,Food_Brand, Toy_Poodle,Clothes,Behavior_Play_Outside,Accident,Allergy_Food,Dog_Film,Dog_Challenge,Grooming_Tools,Others,Dog_Giving, German Shepherd Dog, Dogue de BordeauxSkin_Clean_Allergy,Dog_Racing,Allergy_Food,Others,Fierce_Dog, Mouth,Skin_Clean_Allergy,Collar,Outside_Dog,Discussion_Question,Parasite_Infection,Others,Food_Ingredient, Toy_Poodle,Parasite_Infection, Skin_Clean_Allergy,Collar,Outside_Dog,Others,Dog_Giving, Skin_Clean_Allergy, '"
      ]
     },
     "execution_count": 96,
     "metadata": {},
     "output_type": "execute_result"
    }
   ],
   "source": [
    "tags = ''.join(x for x in info3[0]['tag'] if x != \"'\")\n",
    "tags"
   ]
  },
  {
   "cell_type": "code",
   "execution_count": 109,
   "metadata": {},
   "outputs": [],
   "source": [
    "t = [k for k in tags.replace(' ','').split(',')]"
   ]
  },
  {
   "cell_type": "code",
   "execution_count": 110,
   "metadata": {
    "scrolled": true
   },
   "outputs": [
    {
     "data": {
      "text/plain": [
       "['Mouth',\n",
       " 'Parasite_Infection',\n",
       " 'Mixes_Cross',\n",
       " 'Collar',\n",
       " 'Behavior_Play_Outside',\n",
       " 'Bedding',\n",
       " 'Hereditary_Disease',\n",
       " 'Others',\n",
       " 'Fierce_Dog',\n",
       " 'Food_Brand',\n",
       " 'SiberianHusky',\n",
       " 'GoldenRetrieverMixes_Cross',\n",
       " 'Train_Care',\n",
       " 'Skin_Clean_Allergy',\n",
       " 'Parasite_Infection',\n",
       " 'Digestive_System',\n",
       " 'Breed_Color',\n",
       " 'Others',\n",
       " 'Others',\n",
       " 'Meet_Memory',\n",
       " 'Parasite_Infection',\n",
       " 'Skin_Clean_Allergy',\n",
       " 'Outside_Dog',\n",
       " 'Color',\n",
       " 'Dog_Challenge',\n",
       " 'Gear',\n",
       " 'Parasite_Infection',\n",
       " 'Others',\n",
       " 'Food_Brand',\n",
       " 'AustralianShepherdOthers',\n",
       " 'Parasite_Infection',\n",
       " 'Collar',\n",
       " 'Parasite_Infection',\n",
       " 'Others',\n",
       " 'Food_Brand',\n",
       " 'Dog_Family',\n",
       " 'Skin_Clean_Allergy',\n",
       " 'Dog_Racing',\n",
       " 'Gear',\n",
       " 'Others',\n",
       " 'Digestive_System',\n",
       " 'Author_Interest',\n",
       " 'Nutrition',\n",
       " 'Mouth',\n",
       " 'Collar',\n",
       " 'Accident',\n",
       " 'Outside_Dog',\n",
       " 'Dog_Challenge',\n",
       " 'Parasite_Infection',\n",
       " 'Hair_Combing',\n",
       " 'Author_Interest',\n",
       " 'Emotion',\n",
       " 'Others',\n",
       " 'Food_Brand',\n",
       " 'Dog_Family',\n",
       " 'Skin_Clean_Allergy',\n",
       " 'Collar',\n",
       " 'Dog_Tracking',\n",
       " 'Outside_Dog',\n",
       " 'Color',\n",
       " 'Food_Brand',\n",
       " 'Toy_Poodle',\n",
       " 'Clothes',\n",
       " 'Behavior_Play_Outside',\n",
       " 'Accident',\n",
       " 'Allergy_Food',\n",
       " 'Dog_Film',\n",
       " 'Dog_Challenge',\n",
       " 'Grooming_Tools',\n",
       " 'Others',\n",
       " 'Dog_Giving',\n",
       " 'GermanShepherdDog',\n",
       " 'DoguedeBordeauxSkin_Clean_Allergy',\n",
       " 'Dog_Racing',\n",
       " 'Allergy_Food',\n",
       " 'Others',\n",
       " 'Fierce_Dog',\n",
       " 'Mouth',\n",
       " 'Skin_Clean_Allergy',\n",
       " 'Collar',\n",
       " 'Outside_Dog',\n",
       " 'Discussion_Question',\n",
       " 'Parasite_Infection',\n",
       " 'Others',\n",
       " 'Food_Ingredient',\n",
       " 'Toy_Poodle',\n",
       " 'Parasite_Infection',\n",
       " 'Skin_Clean_Allergy',\n",
       " 'Collar',\n",
       " 'Outside_Dog',\n",
       " 'Others',\n",
       " 'Dog_Giving',\n",
       " 'Skin_Clean_Allergy',\n",
       " '']"
      ]
     },
     "execution_count": 110,
     "metadata": {},
     "output_type": "execute_result"
    }
   ],
   "source": [
    "t"
   ]
  },
  {
   "cell_type": "code",
   "execution_count": 111,
   "metadata": {},
   "outputs": [
    {
     "data": {
      "text/plain": [
       "{'',\n",
       " 'Accident',\n",
       " 'Allergy_Food',\n",
       " 'AustralianShepherdOthers',\n",
       " 'Author_Interest',\n",
       " 'Bedding',\n",
       " 'Behavior_Play_Outside',\n",
       " 'Breed_Color',\n",
       " 'Clothes',\n",
       " 'Collar',\n",
       " 'Color',\n",
       " 'Digestive_System',\n",
       " 'Discussion_Question',\n",
       " 'Dog_Challenge',\n",
       " 'Dog_Family',\n",
       " 'Dog_Film',\n",
       " 'Dog_Giving',\n",
       " 'Dog_Racing',\n",
       " 'Dog_Tracking',\n",
       " 'DoguedeBordeauxSkin_Clean_Allergy',\n",
       " 'Emotion',\n",
       " 'Fierce_Dog',\n",
       " 'Food_Brand',\n",
       " 'Food_Ingredient',\n",
       " 'Gear',\n",
       " 'GermanShepherdDog',\n",
       " 'GoldenRetrieverMixes_Cross',\n",
       " 'Grooming_Tools',\n",
       " 'Hair_Combing',\n",
       " 'Hereditary_Disease',\n",
       " 'Meet_Memory',\n",
       " 'Mixes_Cross',\n",
       " 'Mouth',\n",
       " 'Nutrition',\n",
       " 'Others',\n",
       " 'Outside_Dog',\n",
       " 'Parasite_Infection',\n",
       " 'SiberianHusky',\n",
       " 'Skin_Clean_Allergy',\n",
       " 'Toy_Poodle',\n",
       " 'Train_Care'}"
      ]
     },
     "execution_count": 111,
     "metadata": {},
     "output_type": "execute_result"
    }
   ],
   "source": [
    "fil_tag = set(t)\n",
    "fil_tag"
   ]
  },
  {
   "cell_type": "code",
   "execution_count": 112,
   "metadata": {
    "scrolled": false
   },
   "outputs": [
    {
     "data": {
      "text/plain": [
       "{'_id': 1,\n",
       " 'board': 'dog-health',\n",
       " 'contents': [\"  After taking care of my parents' dog for two weeks I have noticed fleas on mine. Before I start spending gobs of money on flea products, does anyone have any less expensive alternatives that really work to getting rid of fleas? \",\n",
       "  \" I had a heck of a time getting on here!  I would call your vet and see if they have the CAPSTAR pill.  It's pretty cheap, under $10 I think.  You give the dog the pill and within 20 minutes the fleas are dying and within 4 hours  your dog is completely flea free.  Then you put on your frontline or whatever you use to keep them off.  It does not repell fleas, it just kills the ones that are on them.  Your other option would be to use dawn dish soap (not the kind with bleach in it) leave it on for five minutes and them put the dog in a full bathtub to rinse.... \",\n",
       "  ' The Dawn dish soap really does work I used it on my dog last summer and the fleas were dead in minutes. ',\n",
       "  \" Dawn dishsoap, huh? I'll give that a try. I tried some kind of flea shampoo, but I'm still finding fleas. I called the vet about Capstar and they won't have anymore in until next week. If I'm still having a problem, I'll definitely give those a try.  \\r\\nThanks guys! \",\n",
       "  ' If you have carpet you can put salt on your carpet wait a day and vacumm it up. Or you can just go out and buy a flea bomb those work really well not that expensive kills all fleas eggs and I think lice too.  \\nYou can also get a flea comb or lice comb (same thing) give the dog a bath with the dawn soap and scrape the soap out after waiting a couple mins like 10-15. That way you remove all the fleas...  \\nThey also sell the flea spray you can put that on carpet, furnature, drapes...ect. Thats cheap also.  \\nUmm, Oh I just discovered this flea treatment at walmart its like advantage, but only 5 bucks work really well, and isnt harsh like real advantage or frontline all those can be really harsh and give rashes, burn off skin/hair. Revolution is the only best topical flea product that I would use if you dont want to use the kind at walmart, just use the right dosage.... ',\n",
       "  \" Okay, so I've bombed the house, gave the dogs a dawn flea bath and put on a topical product. I'm still noticing fleas on the dogs! I realized, though, that the topical treatment only kills adult fleas and not the eggs. Does that mean I have to start all over again? \",\n",
       "  \" sadly, yep...if the flea eggs are not gone, then the fleas are not.\\nFirst thing, buy frontline or Advantix from a vet (some pet store's carry frontline though), treat the dog by putting half the dropper on the skin between the shoulder blades, then dots down his back until the base of his tail. \\nThen go out and get a good flea bomb (I suggest Fogger by Zodiac) and bomb the whole house again (make sure you cover all counter tops used for food and make sure ALL pilot lights, and so on are OFF) \\nThen get a spray for it (I'd suggest the Zodiac brand again) and spray underneath furnature...since the Fogger will NOT reach underneath stuff.\\nLet the house sit for a good 5-7 hours (I think it recommends like 3 hours, but I like to have it sit longer). \\nBut warning: If you have any flea medication on your dog now, you MUST wait the period it's supposed to last (normally 30 days) until putting a new flea medication on....or else you risk chemical burns \",\n",
       "  \" Oh this is so frustrating! I've never had to deal with fleas before and I find it all to be very disturbing. LOL! Thanks for the added tips, Sonny! \",\n",
       "  ' fleas have been realllllllly bad this year for some reason ',\n",
       "  ' my house was Bombed last year cuz the dogs got fleas. ick \\nthis year they got them again but as soon as we saw it we bought them flea collars and now there are only a few around. usually when we see one we pick it off and flush it down the sink. ',\n",
       "  \"  My sister got a couple kittens this summer that were covered in fleas, she washed them in Dawn everyother day for 10 days and it got rid of them.    \\nI've been using Bio-Spot (it's like a cheap version of Frontline) for over ten years and have never once had a flea. I treat every four months and it works great. My dogs go to shows, dog parks, hiking, they're around all kinds of dogs and have never brought any home.  \\nGood Luck \",\n",
       "  \" You know, I used to use Bio Spot for several years on our dogs for ticks as we have them bad here in the spring and early summer. I was on another dog forum and everyone gave me heck for using that because it's main ingredient (permethrin?) is so dangerous and dogs have died from this product. So, I let people scare me away from it even though it worked (and that's probably why we never had a flea problem 'til now)! If it ain't broke, don't fix it!  \",\n",
       "  \" also something to try is getting the pills with Breyer's Yeast and Garlic in. A co-worker swears off them, saying they keep fleas and ticks away. It might be worth a try \",\n",
       "  \" do you have a lot of sandy soil?  my soil is really sandy becuase I'm so close to the water and the fleas... LOVE the soil.... \",\n",
       "  \" Nope, no sandy soil. It's my parents' fault we have fleas! I do seem to be getting them under control now. Can't thank you all enough for your help! \",\n",
       "  ' i sell these products for a living so hopefully i can help you out  as farmpony said capstar is great for fast flea control. bear in mind though that if there are fleas on your dogs there is a chance there are fleas in the grass, on their bedding and in the carpet if they are inside dogs. it doesnt take long for them to infiltrate everything. so make sure you treat ther environment as well as the dogs. its essential that you take care of the whole problem properly otherwise you may never be flea free again.  \\ntogether with capstar i would use a spot on/topical treatment as well for now. i dont know if you have the same products over there as us but i think you do to an extent. something like advantage would work well. this will help protect your dogs while you deal with the rest. \\nfor the yard and bedding etc you can buy spray products to treat large areas. i use permoxin which is a highly concentrated insecticide that you mix 10ml to 1L of water. or there is malaban that can be used this way. once again i dont know whether or not you can get these exact products over there but im 100% sure you would have something  ',\n",
       "  \" Thanks Jazzy! Permoxin...I'll have to try to find that because I thought we had them under control, but none of the products I've been using seem to be working. I've bombed the entire house, sprayed every area the dogs go, given flea baths (with Dawn and fleas shampoo), used spot on products and sprayed the cats because now they have them. The spot on stuff is supposed to work for a month, but after two weeks I'm finding fleas on the them again. And I got the kind that kills the eggs too. Do the more expensive Advantage and Frontline really work better? If so, I'll cough up the money, but hate to spend that much and not have that work either. Of course, I've already spent gobs on the other stuff that hasn't worked. I don't know what else to do. \",\n",
       "  \" Do you want a very affective non toxic way to get rid of all the stages of fleas?  Something that won't hurt you or your animals??  Here are the things that I have used in my yard, on and in my dogs.  (works great to get rid of all types of worms and coccidia too!) \\nFood Grade Diatomaceous Earth.  You can feed this to your dog and put it all over your dog, in your carpeting and the dogs bedding.  I have used this to de worm my puppies as soon as they were able to eat.  Plus I de worm my dogs regularly with it.  You cannot overdose your dog with it either.  People take it themselves if they have worms or other parasites in the body! \\nTo search on this just type in: Food Grade Diatomaceous Earth. \\nAlso when I had a horrible infestation of fleas I tried everything, flea bombs, and exterminator, do it yourself sprayed the whole house down with Malathion, left the house for a week with all my dogs, came back and the fleas were still there and had multiplied.  I found a name of a company at my vets called Flea Busters.  They guaranteed it to work for a year.  Well, it worked!  I loved it!  The fleas were gone within 2 days!  It was a powder that the company put all over the house.  I've never had another flea since!  I moved a few years later, and bought a case of that stuff to use wherever I moved to and never had fleas.   \\nI get another product at a Garden center that is a powder to spread in your yard.  It's also Diatomaceous earth.  It's super cheap to buy and easy to spread in a yard spreader.  I didn't have a yard spreader so I just threw it around my yard.  Got rid of all the ticks too!  A 6lb bag costs $10 and goes a long long way.  Don't use this one on (or in) your dog though.  They've added other stuff to this one. \\nWord of warning: Do NOT use the Diatom used for swimming pools!  It is made differently and is poisonous!   \\nWhile waiting to get the FGDE you can also use Borax soap powder for your floors and carpeting.  I have used a flour sifter to spread it around in the house.  Works great!  Don't put this directly on your pets as it is a soap.  But it's safe enough for them to walk on or lay down on.  You can vacuum it up in a few days. \\nGood luck! \",\n",
       "  \" Thank you so much dch! I think we finally have it under control, but I'm printing out your post for future reference.  \",\n",
       "  \" Your quite welcome!  Sorry my posts are so long!  I do get carried away!  LOL!  \\nI'm working on a book this year.  Hopefully it will be out by the middle or end of 2009.  I know, another dog book, but i have so many people that ask me so many of the same things.  And they are all bugging me to write a book.  So i'm working on it.   \\nI really like this forum.   \",\n",
       "  '  Here is a great website to read up on FGDE:  Diatomaceous Earth - Food Grade Diatomaceous Earth Health Benefits \\nhere is a great article to read about the flea spot on treatments: http://www.apnm.org/publications/res...leachemfin.pdf ',\n",
       "  ' Thankfully, I now live in area that does\\'nt get fleas: Utah! But before we moved here, I used \\'Target Spray\" that I bought online here: Dog Fleas - Target Spray Treatment for Canine Fleas \\nI prefer using all natural stuff and this is an herbal remedy that acts as an insect repellant. I worry about using those chemical based stuff becauase of the risks of liver damage. ',\n",
       "  ' Hello, has anyone ever heard of using Borax to rid fleas in your carpet? \\nI have heard it works. Has anyone ever used it and what was the results? \\nThank you, ',\n",
       "  \" I had fleas awful the year before last... I mean you could be walking through the house and feel them jumping on you and see them on your socks. I have never seen anything like this. I tried all the bombs and sprays and finally got tot he point that I didn't even want to be at home. Borox works good on carpets. Sprinkle it and walk it in your couple a couple days. If you do this for a couple weeks it works. Also if you can stand it and you have a carpet cleaner we also ran vinegar through and cleaned the carpets. The spell was ungodly but it worked. I have never experienced anything more frustrating and would not wish that on anyone. I don't know what is worse fleas biting you or seeing a roach or waterbug. Hope this hel \",\n",
       "  \" I've heard advantix is toxic to cats so don't use it in a house with cats.  Also I read garlic is toxic to dogs so don't feed it to them. \",\n",
       "  ' Fleas cant swim. Take dog to beach/river/pond n drown them. ',\n",
       "  ' Capstar and premise spray you can get both at the vets office and the fleas were completely gone within the week... ',\n",
       "  \" Garlic isn't toxic to dogs in small amounts.In fact, it's very beneficial. It would take crazy, huge amounts for a period of time before anything toxic would happen. \"],\n",
       " 'tag': ['Mouth,Parasite_Infection, ',\n",
       "  'Mixes_Cross,Collar,Behavior_Play_Outside,Bedding,Hereditary_Disease,Others,Fierce_Dog,Food_Brand, Siberian Husky, Golden Retriever',\n",
       "  'Mixes_Cross,Train_Care,Skin_Clean_Allergy,Parasite_Infection,Digestive_System,Breed_Color,Others, ',\n",
       "  'Others,Meet_Memory,Parasite_Infection, ',\n",
       "  'Skin_Clean_Allergy,Outside_Dog,Color,Dog_Challenge,Gear,Parasite_Infection,Others,Food_Brand, Australian Shepherd',\n",
       "  'Others,Parasite_Infection, ',\n",
       "  'Collar,Parasite_Infection,Others,Food_Brand, ',\n",
       "  'Dog_Family,Skin_Clean_Allergy,Dog_Racing,Gear,Others,Digestive_System,Author_Interest,Nutrition, ',\n",
       "  'Mouth,Collar,Accident,Outside_Dog,Dog_Challenge,Parasite_Infection,Hair_Combing,Author_Interest,Emotion,Others,Food_Brand, ',\n",
       "  'Dog_Family,Skin_Clean_Allergy,Collar,Dog_Tracking,Outside_Dog,Color,Food_Brand, ',\n",
       "  'Toy_Poodle,Clothes,Behavior_Play_Outside,Accident,Allergy_Food,Dog_Film,Dog_Challenge,Grooming_Tools,Others,Dog_Giving, German Shepherd Dog, Dogue de Bordeaux',\n",
       "  'Skin_Clean_Allergy,Dog_Racing,Allergy_Food,Others,Fierce_Dog, ',\n",
       "  'Mouth,Skin_Clean_Allergy,Collar,Outside_Dog,Discussion_Question,Parasite_Infection,Others,Food_Ingredient, ',\n",
       "  'Toy_Poodle,Parasite_Infection, ',\n",
       "  'Skin_Clean_Allergy,Collar,Outside_Dog,Others,Dog_Giving, ',\n",
       "  'Skin_Clean_Allergy, '],\n",
       " 'title': 'Fleas',\n",
       " 'title_id': 1,\n",
       " 'title_url': 'http://www.dogforum.com/dog-health/fleas-1/'}"
      ]
     },
     "execution_count": 112,
     "metadata": {},
     "output_type": "execute_result"
    }
   ],
   "source": [
    "info3[0]"
   ]
  },
  {
   "cell_type": "code",
   "execution_count": 114,
   "metadata": {},
   "outputs": [
    {
     "data": {
      "text/plain": [
       "1"
      ]
     },
     "execution_count": 114,
     "metadata": {},
     "output_type": "execute_result"
    }
   ],
   "source": [
    "data['_id'] = info3[0]['_id']"
   ]
  },
  {
   "cell_type": "code",
   "execution_count": 115,
   "metadata": {},
   "outputs": [
    {
     "data": {
      "text/plain": [
       "'dog-health'"
      ]
     },
     "execution_count": 115,
     "metadata": {},
     "output_type": "execute_result"
    }
   ],
   "source": [
    "info3[0]['board']"
   ]
  },
  {
   "cell_type": "code",
   "execution_count": 116,
   "metadata": {},
   "outputs": [
    {
     "data": {
      "text/plain": [
       "'Fleas'"
      ]
     },
     "execution_count": 116,
     "metadata": {},
     "output_type": "execute_result"
    }
   ],
   "source": [
    "info3[0]['title']"
   ]
  },
  {
   "cell_type": "code",
   "execution_count": 117,
   "metadata": {},
   "outputs": [
    {
     "data": {
      "text/plain": [
       "1"
      ]
     },
     "execution_count": 117,
     "metadata": {},
     "output_type": "execute_result"
    }
   ],
   "source": [
    "info3[0]['title_id']"
   ]
  },
  {
   "cell_type": "code",
   "execution_count": 118,
   "metadata": {},
   "outputs": [
    {
     "data": {
      "text/plain": [
       "'http://www.dogforum.com/dog-health/fleas-1/'"
      ]
     },
     "execution_count": 118,
     "metadata": {},
     "output_type": "execute_result"
    }
   ],
   "source": [
    "info3[0]['title_url']"
   ]
  },
  {
   "cell_type": "code",
   "execution_count": 121,
   "metadata": {},
   "outputs": [],
   "source": [
    "tags = ''.join(x for x in info3[0]['tag'] if x != \"'\")"
   ]
  },
  {
   "cell_type": "code",
   "execution_count": 122,
   "metadata": {
    "collapsed": true
   },
   "outputs": [],
   "source": [
    "t = [k for k in tags.replace(' ','').split(',')]"
   ]
  },
  {
   "cell_type": "code",
   "execution_count": 123,
   "metadata": {
    "collapsed": true
   },
   "outputs": [],
   "source": [
    "fil_tag = set(t)"
   ]
  },
  {
   "cell_type": "code",
   "execution_count": 139,
   "metadata": {},
   "outputs": [
    {
     "data": {
      "text/plain": [
       "\"'Dog_Challenge', 'Allergy_Food', 'Toy_Poodle', 'Fierce_Dog', 'Accident', 'Food_Brand', 'Shih_Tzu', 'Bedding', 'Dog_Giving', 'Hair_Combing', 'Dog_Family', 'Mouth', 'Collar', 'Parasite_Infection', 'Skin_Clean_Allergy', 'Emotion', 'Others', 'Outside_Dog', 'Discussion_Question', 'Author_Interest'\""
      ]
     },
     "execution_count": 139,
     "metadata": {},
     "output_type": "execute_result"
    }
   ],
   "source": [
    "ttt = str(fil_tag).replace(\"'',\",'').replace(\"\"\"{ \"\"\",'').replace(\"\"\"}\"\"\",'')\n",
    "ttt"
   ]
  },
  {
   "cell_type": "code",
   "execution_count": 119,
   "metadata": {
    "scrolled": false
   },
   "outputs": [
    {
     "data": {
      "text/plain": [
       "[\"  After taking care of my parents' dog for two weeks I have noticed fleas on mine. Before I start spending gobs of money on flea products, does anyone have any less expensive alternatives that really work to getting rid of fleas? \",\n",
       " \" I had a heck of a time getting on here!  I would call your vet and see if they have the CAPSTAR pill.  It's pretty cheap, under $10 I think.  You give the dog the pill and within 20 minutes the fleas are dying and within 4 hours  your dog is completely flea free.  Then you put on your frontline or whatever you use to keep them off.  It does not repell fleas, it just kills the ones that are on them.  Your other option would be to use dawn dish soap (not the kind with bleach in it) leave it on for five minutes and them put the dog in a full bathtub to rinse.... \",\n",
       " ' The Dawn dish soap really does work I used it on my dog last summer and the fleas were dead in minutes. ',\n",
       " \" Dawn dishsoap, huh? I'll give that a try. I tried some kind of flea shampoo, but I'm still finding fleas. I called the vet about Capstar and they won't have anymore in until next week. If I'm still having a problem, I'll definitely give those a try.  \\r\\nThanks guys! \",\n",
       " ' If you have carpet you can put salt on your carpet wait a day and vacumm it up. Or you can just go out and buy a flea bomb those work really well not that expensive kills all fleas eggs and I think lice too.  \\nYou can also get a flea comb or lice comb (same thing) give the dog a bath with the dawn soap and scrape the soap out after waiting a couple mins like 10-15. That way you remove all the fleas...  \\nThey also sell the flea spray you can put that on carpet, furnature, drapes...ect. Thats cheap also.  \\nUmm, Oh I just discovered this flea treatment at walmart its like advantage, but only 5 bucks work really well, and isnt harsh like real advantage or frontline all those can be really harsh and give rashes, burn off skin/hair. Revolution is the only best topical flea product that I would use if you dont want to use the kind at walmart, just use the right dosage.... ',\n",
       " \" Okay, so I've bombed the house, gave the dogs a dawn flea bath and put on a topical product. I'm still noticing fleas on the dogs! I realized, though, that the topical treatment only kills adult fleas and not the eggs. Does that mean I have to start all over again? \",\n",
       " \" sadly, yep...if the flea eggs are not gone, then the fleas are not.\\nFirst thing, buy frontline or Advantix from a vet (some pet store's carry frontline though), treat the dog by putting half the dropper on the skin between the shoulder blades, then dots down his back until the base of his tail. \\nThen go out and get a good flea bomb (I suggest Fogger by Zodiac) and bomb the whole house again (make sure you cover all counter tops used for food and make sure ALL pilot lights, and so on are OFF) \\nThen get a spray for it (I'd suggest the Zodiac brand again) and spray underneath furnature...since the Fogger will NOT reach underneath stuff.\\nLet the house sit for a good 5-7 hours (I think it recommends like 3 hours, but I like to have it sit longer). \\nBut warning: If you have any flea medication on your dog now, you MUST wait the period it's supposed to last (normally 30 days) until putting a new flea medication on....or else you risk chemical burns \",\n",
       " \" Oh this is so frustrating! I've never had to deal with fleas before and I find it all to be very disturbing. LOL! Thanks for the added tips, Sonny! \",\n",
       " ' fleas have been realllllllly bad this year for some reason ',\n",
       " ' my house was Bombed last year cuz the dogs got fleas. ick \\nthis year they got them again but as soon as we saw it we bought them flea collars and now there are only a few around. usually when we see one we pick it off and flush it down the sink. ',\n",
       " \"  My sister got a couple kittens this summer that were covered in fleas, she washed them in Dawn everyother day for 10 days and it got rid of them.    \\nI've been using Bio-Spot (it's like a cheap version of Frontline) for over ten years and have never once had a flea. I treat every four months and it works great. My dogs go to shows, dog parks, hiking, they're around all kinds of dogs and have never brought any home.  \\nGood Luck \",\n",
       " \" You know, I used to use Bio Spot for several years on our dogs for ticks as we have them bad here in the spring and early summer. I was on another dog forum and everyone gave me heck for using that because it's main ingredient (permethrin?) is so dangerous and dogs have died from this product. So, I let people scare me away from it even though it worked (and that's probably why we never had a flea problem 'til now)! If it ain't broke, don't fix it!  \",\n",
       " \" also something to try is getting the pills with Breyer's Yeast and Garlic in. A co-worker swears off them, saying they keep fleas and ticks away. It might be worth a try \",\n",
       " \" do you have a lot of sandy soil?  my soil is really sandy becuase I'm so close to the water and the fleas... LOVE the soil.... \",\n",
       " \" Nope, no sandy soil. It's my parents' fault we have fleas! I do seem to be getting them under control now. Can't thank you all enough for your help! \",\n",
       " ' i sell these products for a living so hopefully i can help you out  as farmpony said capstar is great for fast flea control. bear in mind though that if there are fleas on your dogs there is a chance there are fleas in the grass, on their bedding and in the carpet if they are inside dogs. it doesnt take long for them to infiltrate everything. so make sure you treat ther environment as well as the dogs. its essential that you take care of the whole problem properly otherwise you may never be flea free again.  \\ntogether with capstar i would use a spot on/topical treatment as well for now. i dont know if you have the same products over there as us but i think you do to an extent. something like advantage would work well. this will help protect your dogs while you deal with the rest. \\nfor the yard and bedding etc you can buy spray products to treat large areas. i use permoxin which is a highly concentrated insecticide that you mix 10ml to 1L of water. or there is malaban that can be used this way. once again i dont know whether or not you can get these exact products over there but im 100% sure you would have something  ',\n",
       " \" Thanks Jazzy! Permoxin...I'll have to try to find that because I thought we had them under control, but none of the products I've been using seem to be working. I've bombed the entire house, sprayed every area the dogs go, given flea baths (with Dawn and fleas shampoo), used spot on products and sprayed the cats because now they have them. The spot on stuff is supposed to work for a month, but after two weeks I'm finding fleas on the them again. And I got the kind that kills the eggs too. Do the more expensive Advantage and Frontline really work better? If so, I'll cough up the money, but hate to spend that much and not have that work either. Of course, I've already spent gobs on the other stuff that hasn't worked. I don't know what else to do. \",\n",
       " \" Do you want a very affective non toxic way to get rid of all the stages of fleas?  Something that won't hurt you or your animals??  Here are the things that I have used in my yard, on and in my dogs.  (works great to get rid of all types of worms and coccidia too!) \\nFood Grade Diatomaceous Earth.  You can feed this to your dog and put it all over your dog, in your carpeting and the dogs bedding.  I have used this to de worm my puppies as soon as they were able to eat.  Plus I de worm my dogs regularly with it.  You cannot overdose your dog with it either.  People take it themselves if they have worms or other parasites in the body! \\nTo search on this just type in: Food Grade Diatomaceous Earth. \\nAlso when I had a horrible infestation of fleas I tried everything, flea bombs, and exterminator, do it yourself sprayed the whole house down with Malathion, left the house for a week with all my dogs, came back and the fleas were still there and had multiplied.  I found a name of a company at my vets called Flea Busters.  They guaranteed it to work for a year.  Well, it worked!  I loved it!  The fleas were gone within 2 days!  It was a powder that the company put all over the house.  I've never had another flea since!  I moved a few years later, and bought a case of that stuff to use wherever I moved to and never had fleas.   \\nI get another product at a Garden center that is a powder to spread in your yard.  It's also Diatomaceous earth.  It's super cheap to buy and easy to spread in a yard spreader.  I didn't have a yard spreader so I just threw it around my yard.  Got rid of all the ticks too!  A 6lb bag costs $10 and goes a long long way.  Don't use this one on (or in) your dog though.  They've added other stuff to this one. \\nWord of warning: Do NOT use the Diatom used for swimming pools!  It is made differently and is poisonous!   \\nWhile waiting to get the FGDE you can also use Borax soap powder for your floors and carpeting.  I have used a flour sifter to spread it around in the house.  Works great!  Don't put this directly on your pets as it is a soap.  But it's safe enough for them to walk on or lay down on.  You can vacuum it up in a few days. \\nGood luck! \",\n",
       " \" Thank you so much dch! I think we finally have it under control, but I'm printing out your post for future reference.  \",\n",
       " \" Your quite welcome!  Sorry my posts are so long!  I do get carried away!  LOL!  \\nI'm working on a book this year.  Hopefully it will be out by the middle or end of 2009.  I know, another dog book, but i have so many people that ask me so many of the same things.  And they are all bugging me to write a book.  So i'm working on it.   \\nI really like this forum.   \",\n",
       " '  Here is a great website to read up on FGDE:  Diatomaceous Earth - Food Grade Diatomaceous Earth Health Benefits \\nhere is a great article to read about the flea spot on treatments: http://www.apnm.org/publications/res...leachemfin.pdf ',\n",
       " ' Thankfully, I now live in area that does\\'nt get fleas: Utah! But before we moved here, I used \\'Target Spray\" that I bought online here: Dog Fleas - Target Spray Treatment for Canine Fleas \\nI prefer using all natural stuff and this is an herbal remedy that acts as an insect repellant. I worry about using those chemical based stuff becauase of the risks of liver damage. ',\n",
       " ' Hello, has anyone ever heard of using Borax to rid fleas in your carpet? \\nI have heard it works. Has anyone ever used it and what was the results? \\nThank you, ',\n",
       " \" I had fleas awful the year before last... I mean you could be walking through the house and feel them jumping on you and see them on your socks. I have never seen anything like this. I tried all the bombs and sprays and finally got tot he point that I didn't even want to be at home. Borox works good on carpets. Sprinkle it and walk it in your couple a couple days. If you do this for a couple weeks it works. Also if you can stand it and you have a carpet cleaner we also ran vinegar through and cleaned the carpets. The spell was ungodly but it worked. I have never experienced anything more frustrating and would not wish that on anyone. I don't know what is worse fleas biting you or seeing a roach or waterbug. Hope this hel \",\n",
       " \" I've heard advantix is toxic to cats so don't use it in a house with cats.  Also I read garlic is toxic to dogs so don't feed it to them. \",\n",
       " ' Fleas cant swim. Take dog to beach/river/pond n drown them. ',\n",
       " ' Capstar and premise spray you can get both at the vets office and the fleas were completely gone within the week... ',\n",
       " \" Garlic isn't toxic to dogs in small amounts.In fact, it's very beneficial. It would take crazy, huge amounts for a period of time before anything toxic would happen. \"]"
      ]
     },
     "execution_count": 119,
     "metadata": {},
     "output_type": "execute_result"
    }
   ],
   "source": [
    "info3[0]['contents']"
   ]
  },
  {
   "cell_type": "code",
   "execution_count": null,
   "metadata": {
    "collapsed": true
   },
   "outputs": [],
   "source": []
  },
  {
   "cell_type": "code",
   "execution_count": 141,
   "metadata": {},
   "outputs": [],
   "source": [
    "collection = db['es_article']\n",
    "for num in range(0, len(info3)):\n",
    "    post = {}\n",
    "    post['_id'] = info3[num]['_id']\n",
    "    post['board'] = info3[num]['board']\n",
    "    post['title'] = info3[num]['title']\n",
    "    post['title_url'] = info3[num]['title_url']\n",
    "    post['title_id'] = info3[num]['title_id']\n",
    "    post['content'] = info3[num]['contents']\n",
    "    tags = ''.join(x for x in info3[num]['tag'] if x != \"'\")\n",
    "    t = [k for k in tags.replace(' ','').split(',')]\n",
    "    fil_tag = set(t)\n",
    "    post['tags'] = str(fil_tag).replace(\"'',\",'').replace(\"\"\"{ \"\"\",'').replace(\"\"\"}\"\"\",'')\n",
    "    collection.insert_one(post)"
   ]
  }
 ],
 "metadata": {
  "kernelspec": {
   "display_name": "Python 3",
   "language": "python",
   "name": "python3"
  },
  "language_info": {
   "codemirror_mode": {
    "name": "ipython",
    "version": 3
   },
   "file_extension": ".py",
   "mimetype": "text/x-python",
   "name": "python",
   "nbconvert_exporter": "python",
   "pygments_lexer": "ipython3",
   "version": "3.6.3"
  }
 },
 "nbformat": 4,
 "nbformat_minor": 2
}
