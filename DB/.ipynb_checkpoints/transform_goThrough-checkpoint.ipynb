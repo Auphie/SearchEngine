{
 "cells": [
  {
   "cell_type": "code",
   "execution_count": 155,
   "metadata": {
    "collapsed": true
   },
   "outputs": [],
   "source": [
    "from datetime import datetime\n",
    "from dateutil import parser\n",
    "import re"
   ]
  },
  {
   "cell_type": "code",
   "execution_count": 181,
   "metadata": {
    "collapsed": true,
    "scrolled": true
   },
   "outputs": [],
   "source": [
    "import rethinkdb as r\n",
    "conn_R = r.connect(db='Dogforum')"
   ]
  },
  {
   "cell_type": "code",
   "execution_count": 182,
   "metadata": {},
   "outputs": [
    {
     "data": {
      "text/plain": [
       "['Breeds',\n",
       " 'DogDetail',\n",
       " 'Dog_Health',\n",
       " 'Food',\n",
       " 'Gear_supplies',\n",
       " 'General_Discussion',\n",
       " 'Grooming',\n",
       " 'Introductions',\n",
       " 'Memorials',\n",
       " 'New_Additions',\n",
       " 'Perform_sports',\n",
       " 'Train_Behavior']"
      ]
     },
     "execution_count": 182,
     "metadata": {},
     "output_type": "execute_result"
    }
   ],
   "source": [
    "tables = r.table_list().run(conn_R)\n",
    "tables"
   ]
  },
  {
   "cell_type": "code",
   "execution_count": null,
   "metadata": {
    "collapsed": true
   },
   "outputs": [],
   "source": [
    "# cursor = r.table(tables[table_num]).run(conn)"
   ]
  },
  {
   "cell_type": "code",
   "execution_count": 111,
   "metadata": {
    "scrolled": false
   },
   "outputs": [
    {
     "name": "stdout",
     "output_type": "stream",
     "text": [
      "Breeds\n",
      "Dog_Health\n",
      "Food\n",
      "Gear_supplies\n",
      "General_Discussion\n",
      "Grooming\n",
      "Introductions\n",
      "Memorials\n",
      "New_Additions\n",
      "Perform_sports\n",
      "Train_Behavior\n"
     ]
    }
   ],
   "source": [
    "for board_name in [x for x in tables if x != 'DogDetail']:\n",
    "    print(board_name)"
   ]
  },
  {
   "cell_type": "code",
   "execution_count": 112,
   "metadata": {},
   "outputs": [
    {
     "data": {
      "text/plain": [
       "'Train_Behavior'"
      ]
     },
     "execution_count": 112,
     "metadata": {},
     "output_type": "execute_result"
    }
   ],
   "source": [
    "board_name"
   ]
  },
  {
   "cell_type": "markdown",
   "metadata": {},
   "source": [
    "# Change string format to date or int from rethinkDB & flattern structure"
   ]
  },
  {
   "cell_type": "code",
   "execution_count": 114,
   "metadata": {
    "collapsed": true
   },
   "outputs": [],
   "source": [
    "cursor = r.table(board_name).run(conn)"
   ]
  },
  {
   "cell_type": "code",
   "execution_count": 115,
   "metadata": {
    "collapsed": true
   },
   "outputs": [],
   "source": [
    "info = [i for i in cursor]"
   ]
  },
  {
   "cell_type": "code",
   "execution_count": 184,
   "metadata": {},
   "outputs": [
    {
     "data": {
      "text/plain": [
       "114260"
      ]
     },
     "execution_count": 184,
     "metadata": {},
     "output_type": "execute_result"
    }
   ],
   "source": [
    "len(info)"
   ]
  },
  {
   "cell_type": "code",
   "execution_count": 186,
   "metadata": {
    "scrolled": true
   },
   "outputs": [
    {
     "data": {
      "text/plain": [
       "{'_id': 'Page100Floor993/dog-training-behavior/reactivity-progress-techniques-suggestions-78554/page100/',\n",
       " 'author_info': {'join_date': 'Jan 2014',\n",
       "  'location': 'Jacksonville, NC, USA',\n",
       "  'member_type': 'Senior Member',\n",
       "  'mentioned': '104 Post(s)',\n",
       "  'posts': '1,025',\n",
       "  'tagged': '2 thread(s)'},\n",
       " 'author_name': 'inkii',\n",
       " 'author_url': 'http://www.dogforum.com/members/49442/',\n",
       " 'content': \" Awesome, Kwen!  It sounds like Koda has made so much progress lately =) \\n--- \\nI know I wrote this on my foster thread already, but since we updated here so often, I wanted to make sure everyone saw.  Anette went to her forever home today like a totally normal dog. \\nThey picked her up at noon today.  I've spent the past ten hours trying not to obsessively check my email every thirty seconds, haha.  I finally got an email about an hour ago saying that they LOVE her, that she's WONDERFUL, and could I please email them the photo I took of them when they first picked her up so that they could show people! \\nMy reactive, resource-guarding, zero-to-sixty, wildly impulsive, chaotic, crazy-creature foster is all grown up and moving on to spend the rest of her life as a normal, well-adjusted companion dog! \",\n",
       " 'floor': 993,\n",
       " 'id': 'Page100Floor993/dog-training-behavior/reactivity-progress-techniques-suggestions-78554/page100/',\n",
       " 'page': 'page 100',\n",
       " 'post_date': {'ampm': 'PM', 'date': '05-26-2014', 'time': '10:31'},\n",
       " 'quotation': [],\n",
       " 'title': 'Reactivity; progress, techniques, and suggestions',\n",
       " 'url': 'http://www.dogforum.com/dog-training-behavior/reactivity-progress-techniques-suggestions-78554/page100/'}"
      ]
     },
     "execution_count": 186,
     "metadata": {},
     "output_type": "execute_result"
    }
   ],
   "source": [
    "info[1]"
   ]
  },
  {
   "cell_type": "code",
   "execution_count": 117,
   "metadata": {},
   "outputs": [
    {
     "data": {
      "text/plain": [
       "'Page101Floor1005dog-training-behaviorreactivity-progress-techniques-suggestions-78554page101'"
      ]
     },
     "execution_count": 117,
     "metadata": {},
     "output_type": "execute_result"
    }
   ],
   "source": [
    "info[0].get('_id').replace('/',\"\")"
   ]
  },
  {
   "cell_type": "code",
   "execution_count": 118,
   "metadata": {
    "scrolled": true
   },
   "outputs": [
    {
     "data": {
      "text/plain": [
       "{'join_date': 'Jan 2014',\n",
       " 'location': 'Texas',\n",
       " 'member_type': 'Senior Member',\n",
       " 'mentioned': '51 Post(s)',\n",
       " 'posts': '1,877',\n",
       " 'tagged': '0 thread(s)'}"
      ]
     },
     "execution_count": 118,
     "metadata": {},
     "output_type": "execute_result"
    }
   ],
   "source": [
    "info[0].get('author_info')"
   ]
  },
  {
   "cell_type": "code",
   "execution_count": 119,
   "metadata": {},
   "outputs": [
    {
     "data": {
      "text/plain": [
       "'Jan 2014'"
      ]
     },
     "execution_count": 119,
     "metadata": {},
     "output_type": "execute_result"
    }
   ],
   "source": [
    "info[0].get('author_info').get('join_date')"
   ]
  },
  {
   "cell_type": "code",
   "execution_count": 120,
   "metadata": {
    "scrolled": true
   },
   "outputs": [
    {
     "data": {
      "text/plain": [
       "'2014-01-27'"
      ]
     },
     "execution_count": 120,
     "metadata": {},
     "output_type": "execute_result"
    }
   ],
   "source": [
    "parser.parse(info[0].get('author_info').get('join_date')).strftime(\"%Y-%m-%d\")"
   ]
  },
  {
   "cell_type": "code",
   "execution_count": 121,
   "metadata": {},
   "outputs": [
    {
     "data": {
      "text/plain": [
       "'Texas'"
      ]
     },
     "execution_count": 121,
     "metadata": {},
     "output_type": "execute_result"
    }
   ],
   "source": [
    "info[0].get('author_info').get('location')"
   ]
  },
  {
   "cell_type": "code",
   "execution_count": 122,
   "metadata": {},
   "outputs": [
    {
     "data": {
      "text/plain": [
       "'Senior Member'"
      ]
     },
     "execution_count": 122,
     "metadata": {},
     "output_type": "execute_result"
    }
   ],
   "source": [
    "info[0].get('author_info').get('member_type')"
   ]
  },
  {
   "cell_type": "code",
   "execution_count": 123,
   "metadata": {},
   "outputs": [
    {
     "data": {
      "text/plain": [
       "'CadenceDiscordia'"
      ]
     },
     "execution_count": 123,
     "metadata": {},
     "output_type": "execute_result"
    }
   ],
   "source": [
    "info[0].get('author_name')"
   ]
  },
  {
   "cell_type": "code",
   "execution_count": 124,
   "metadata": {},
   "outputs": [
    {
     "data": {
      "text/plain": [
       "'http://www.dogforum.com/members/50386/'"
      ]
     },
     "execution_count": 124,
     "metadata": {},
     "output_type": "execute_result"
    }
   ],
   "source": [
    "info[0].get('author_url')"
   ]
  },
  {
   "cell_type": "code",
   "execution_count": 125,
   "metadata": {},
   "outputs": [
    {
     "data": {
      "text/plain": [
       "' I definitely will : ) '"
      ]
     },
     "execution_count": 125,
     "metadata": {},
     "output_type": "execute_result"
    }
   ],
   "source": [
    "info[0].get('content')"
   ]
  },
  {
   "cell_type": "code",
   "execution_count": 126,
   "metadata": {
    "scrolled": true
   },
   "outputs": [
    {
     "data": {
      "text/plain": [
       "1005"
      ]
     },
     "execution_count": 126,
     "metadata": {},
     "output_type": "execute_result"
    }
   ],
   "source": [
    "int(info[0].get('floor'))"
   ]
  },
  {
   "cell_type": "code",
   "execution_count": 157,
   "metadata": {},
   "outputs": [
    {
     "data": {
      "text/plain": [
       "'page 101'"
      ]
     },
     "execution_count": 157,
     "metadata": {},
     "output_type": "execute_result"
    }
   ],
   "source": [
    "info[0].get('page')"
   ]
  },
  {
   "cell_type": "code",
   "execution_count": 161,
   "metadata": {},
   "outputs": [
    {
     "data": {
      "text/plain": [
       "101"
      ]
     },
     "execution_count": 161,
     "metadata": {},
     "output_type": "execute_result"
    }
   ],
   "source": [
    "int(re.findall('page (\\d*)',info[0].get('page'))[0])"
   ]
  },
  {
   "cell_type": "code",
   "execution_count": 128,
   "metadata": {
    "scrolled": true
   },
   "outputs": [
    {
     "data": {
      "text/plain": [
       "dict_values(['AM', '06-05-2014', '07:58'])"
      ]
     },
     "execution_count": 128,
     "metadata": {},
     "output_type": "execute_result"
    }
   ],
   "source": [
    "info[0].get('post_date').values()"
   ]
  },
  {
   "cell_type": "code",
   "execution_count": 129,
   "metadata": {
    "scrolled": true
   },
   "outputs": [
    {
     "data": {
      "text/plain": [
       "'AM,06-05-2014,07:58'"
      ]
     },
     "execution_count": 129,
     "metadata": {},
     "output_type": "execute_result"
    }
   ],
   "source": [
    "','.join(str(e) for e in info[0].get('post_date').values())"
   ]
  },
  {
   "cell_type": "code",
   "execution_count": 130,
   "metadata": {
    "scrolled": true
   },
   "outputs": [
    {
     "data": {
      "text/plain": [
       "'2014-06-05 07:58'"
      ]
     },
     "execution_count": 130,
     "metadata": {},
     "output_type": "execute_result"
    }
   ],
   "source": [
    "parser.parse(info[0].get('post_date').get('date') + ', ' +info[0].get('post_date').get('time')+ ', ' +info[0].get('post_date').get('ampm')).strftime(\"%Y-%m-%d %H:%M\")"
   ]
  },
  {
   "cell_type": "code",
   "execution_count": 166,
   "metadata": {},
   "outputs": [
    {
     "data": {
      "text/plain": [
       "'2014-06-05'"
      ]
     },
     "execution_count": 166,
     "metadata": {},
     "output_type": "execute_result"
    }
   ],
   "source": [
    "parser.parse(info[0].get('post_date').get('date')).strftime(\"%Y-%m-%d\")"
   ]
  },
  {
   "cell_type": "code",
   "execution_count": 169,
   "metadata": {},
   "outputs": [
    {
     "data": {
      "text/plain": [
       "'07:58'"
      ]
     },
     "execution_count": 169,
     "metadata": {},
     "output_type": "execute_result"
    }
   ],
   "source": [
    "parser.parse(info[0].get('post_date').get('time')+ ', ' +info[0].get('post_date').get('ampm')).strftime(\"%H:%M\")"
   ]
  },
  {
   "cell_type": "code",
   "execution_count": 131,
   "metadata": {},
   "outputs": [
    {
     "data": {
      "text/plain": [
       "['Originally Posted by Grabby   @CadenceDiscordia, good for you for giving her some info to think about.  Next time you see her tell her to join DF.']"
      ]
     },
     "execution_count": 131,
     "metadata": {},
     "output_type": "execute_result"
    }
   ],
   "source": [
    "info[0].get('quotation')"
   ]
  },
  {
   "cell_type": "code",
   "execution_count": 132,
   "metadata": {},
   "outputs": [
    {
     "data": {
      "text/plain": [
       "'Reactivity; progress, techniques, and suggestions'"
      ]
     },
     "execution_count": 132,
     "metadata": {},
     "output_type": "execute_result"
    }
   ],
   "source": [
    "info[0].get('title')"
   ]
  },
  {
   "cell_type": "code",
   "execution_count": 133,
   "metadata": {},
   "outputs": [
    {
     "data": {
      "text/plain": [
       "'http://www.dogforum.com/dog-training-behavior/reactivity-progress-techniques-suggestions-78554/page101/'"
      ]
     },
     "execution_count": 133,
     "metadata": {},
     "output_type": "execute_result"
    }
   ],
   "source": [
    "info[0].get('url')"
   ]
  },
  {
   "cell_type": "code",
   "execution_count": 134,
   "metadata": {},
   "outputs": [
    {
     "data": {
      "text/plain": [
       "'Train_Behavior'"
      ]
     },
     "execution_count": 134,
     "metadata": {},
     "output_type": "execute_result"
    }
   ],
   "source": [
    "table"
   ]
  },
  {
   "cell_type": "code",
   "execution_count": 142,
   "metadata": {
    "collapsed": true
   },
   "outputs": [],
   "source": [
    "detl = {}"
   ]
  },
  {
   "cell_type": "code",
   "execution_count": 183,
   "metadata": {
    "collapsed": true
   },
   "outputs": [],
   "source": [
    "detl['_id'] = info[0].get('_id').replace('/',\"\")"
   ]
  },
  {
   "cell_type": "code",
   "execution_count": 143,
   "metadata": {
    "collapsed": true
   },
   "outputs": [],
   "source": [
    "detl['board'] = table"
   ]
  },
  {
   "cell_type": "code",
   "execution_count": 144,
   "metadata": {
    "collapsed": true
   },
   "outputs": [],
   "source": [
    "detl['author_join_date'] = parser.parse(info[0].get('author_info').get('join_date')).strftime(\"%Y-%m-%d\")"
   ]
  },
  {
   "cell_type": "code",
   "execution_count": 145,
   "metadata": {
    "collapsed": true
   },
   "outputs": [],
   "source": [
    "detl['author_location'] = info[0].get('author_info').get('location')"
   ]
  },
  {
   "cell_type": "code",
   "execution_count": 146,
   "metadata": {
    "collapsed": true
   },
   "outputs": [],
   "source": [
    "detl['author_type'] = info[0].get('author_info').get('member_type')"
   ]
  },
  {
   "cell_type": "code",
   "execution_count": 147,
   "metadata": {
    "collapsed": true
   },
   "outputs": [],
   "source": [
    "detl['author_name'] = info[0].get('author_name')"
   ]
  },
  {
   "cell_type": "code",
   "execution_count": 148,
   "metadata": {
    "collapsed": true
   },
   "outputs": [],
   "source": [
    "detl['author_url'] = info[0].get('author_url')"
   ]
  },
  {
   "cell_type": "code",
   "execution_count": 149,
   "metadata": {
    "collapsed": true
   },
   "outputs": [],
   "source": [
    "detl['content'] = info[0].get('content')"
   ]
  },
  {
   "cell_type": "code",
   "execution_count": 150,
   "metadata": {
    "collapsed": true
   },
   "outputs": [],
   "source": [
    "detl['floor'] = int(info[0].get('floor'))"
   ]
  },
  {
   "cell_type": "code",
   "execution_count": 162,
   "metadata": {
    "collapsed": true
   },
   "outputs": [],
   "source": [
    "detl['page'] = int(re.findall('page (\\d*)',info[0].get('page'))[0])"
   ]
  },
  {
   "cell_type": "code",
   "execution_count": 167,
   "metadata": {
    "collapsed": true
   },
   "outputs": [],
   "source": [
    "detl['post_date'] = parser.parse(info[0].get('post_date').get('date')).strftime(\"%Y-%m-%d\")"
   ]
  },
  {
   "cell_type": "code",
   "execution_count": 170,
   "metadata": {
    "collapsed": true
   },
   "outputs": [],
   "source": [
    "detl['post_time'] = parser.parse(info[0].get('post_date').get('time')+ ', ' +info[0].get('post_date').get('ampm')).strftime(\"%H:%M\")"
   ]
  },
  {
   "cell_type": "code",
   "execution_count": 171,
   "metadata": {
    "collapsed": true
   },
   "outputs": [],
   "source": [
    "detl['quotation'] = info[0].get('quotation')"
   ]
  },
  {
   "cell_type": "code",
   "execution_count": 172,
   "metadata": {
    "collapsed": true
   },
   "outputs": [],
   "source": [
    "detl['title'] = info[0].get('title')"
   ]
  },
  {
   "cell_type": "code",
   "execution_count": 173,
   "metadata": {
    "collapsed": true
   },
   "outputs": [],
   "source": [
    "detl['url'] = info[0].get('url')"
   ]
  },
  {
   "cell_type": "code",
   "execution_count": 174,
   "metadata": {
    "scrolled": false
   },
   "outputs": [
    {
     "data": {
      "text/plain": [
       "{'author_join_date': '2014-01-27',\n",
       " 'author_location': 'Texas',\n",
       " 'author_name': 'CadenceDiscordia',\n",
       " 'author_type': 'Senior Member',\n",
       " 'author_url': 'http://www.dogforum.com/members/50386/',\n",
       " 'board': 'Train_Behavior',\n",
       " 'content': ' I definitely will : ) ',\n",
       " 'floor': 1005,\n",
       " 'page': 101,\n",
       " 'post_date': '2014-06-05',\n",
       " 'post_time': '07:58',\n",
       " 'quotation': ['Originally Posted by Grabby   @CadenceDiscordia, good for you for giving her some info to think about.  Next time you see her tell her to join DF.'],\n",
       " 'title': 'Reactivity; progress, techniques, and suggestions',\n",
       " 'url': 'http://www.dogforum.com/dog-training-behavior/reactivity-progress-techniques-suggestions-78554/page101/'}"
      ]
     },
     "execution_count": 174,
     "metadata": {},
     "output_type": "execute_result"
    }
   ],
   "source": [
    "detl"
   ]
  },
  {
   "cell_type": "markdown",
   "metadata": {},
   "source": [
    "# Start to transfer"
   ]
  },
  {
   "cell_type": "code",
   "execution_count": 175,
   "metadata": {
    "collapsed": true
   },
   "outputs": [],
   "source": [
    "from pymongo import MongoClient\n",
    "from bson.objectid import ObjectId"
   ]
  },
  {
   "cell_type": "code",
   "execution_count": 180,
   "metadata": {
    "collapsed": true,
    "scrolled": true
   },
   "outputs": [],
   "source": [
    "conn_M = MongoClient('localhost', 27017)\n",
    "db = conn_M.dog\n",
    "collection = db['article']\n",
    "results = collection.insert_one(detl)\n",
    "conn_M.close()"
   ]
  },
  {
   "cell_type": "code",
   "execution_count": null,
   "metadata": {
    "collapsed": true
   },
   "outputs": [],
   "source": []
  }
 ],
 "metadata": {
  "kernelspec": {
   "display_name": "Python 3",
   "language": "python",
   "name": "python3"
  },
  "language_info": {
   "codemirror_mode": {
    "name": "ipython",
    "version": 3
   },
   "file_extension": ".py",
   "mimetype": "text/x-python",
   "name": "python",
   "nbconvert_exporter": "python",
   "pygments_lexer": "ipython3",
   "version": "3.6.3"
  }
 },
 "nbformat": 4,
 "nbformat_minor": 2
}
