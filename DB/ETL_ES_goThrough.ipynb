{
 "cells": [
  {
   "cell_type": "code",
   "execution_count": 355,
   "metadata": {
    "collapsed": true
   },
   "outputs": [],
   "source": [
    "import traceback\n",
    "from pymongo import MongoClient\n",
    "from elasticsearch import Elasticsearch"
   ]
  },
  {
   "cell_type": "code",
   "execution_count": 356,
   "metadata": {
    "collapsed": true
   },
   "outputs": [],
   "source": [
    "db = MongoClient('mongodb://127.0.0.1:27017')['Dogforum']"
   ]
  },
  {
   "cell_type": "code",
   "execution_count": null,
   "metadata": {
    "scrolled": true
   },
   "outputs": [],
   "source": [
    "for type_name in db.collection_names():\n",
    "    print(type_name)"
   ]
  },
  {
   "cell_type": "markdown",
   "metadata": {},
   "source": [
    "# Method 1: combine key, value in a dict_list into tuple "
   ]
  },
  {
   "cell_type": "code",
   "execution_count": 357,
   "metadata": {
    "scrolled": true
   },
   "outputs": [],
   "source": [
    "title_cursor = db[type_name].find({},{'_id':0,'title':1, 'content':1})"
   ]
  },
  {
   "cell_type": "code",
   "execution_count": 358,
   "metadata": {
    "collapsed": true
   },
   "outputs": [],
   "source": [
    "# title = [b.values() for b in title_cursor]\n",
    "# tup_title = [tuple(tup) for tup in title]\n",
    "tup_title = [tuple(tup) for tup in [b.values() for b in title_cursor]]"
   ]
  },
  {
   "cell_type": "code",
   "execution_count": 359,
   "metadata": {
    "scrolled": false
   },
   "outputs": [
    {
     "data": {
      "text/plain": [
       "[(\"Lab thinks she's a lifeguard\",\n",
       "  \" I love those moments, the one's you'll always remember once they're gone \"),\n",
       " (\"Lab thinks she's a lifeguard\",\n",
       "  \" Sounds like she was retrieving something that was special to her and having a blast doing it. Also sounds like she's naturally inclined to water rescue. If she has the typical lab soft mouth grab it sounds like she would be great at water rescue.  \\nAlso your vacation sounds amazing. I am jealous. \")]"
      ]
     },
     "execution_count": 359,
     "metadata": {},
     "output_type": "execute_result"
    }
   ],
   "source": [
    "tup_title[1:3]"
   ]
  },
  {
   "cell_type": "markdown",
   "metadata": {},
   "source": [
    "# Method 2: concatenate values with a key in a dict_list"
   ]
  },
  {
   "cell_type": "code",
   "execution_count": 360,
   "metadata": {
    "collapsed": true
   },
   "outputs": [],
   "source": [
    "cursor = db[type_name].find({},{'_id':0,'title':1, 'content':1, 'url':1})"
   ]
  },
  {
   "cell_type": "code",
   "execution_count": 361,
   "metadata": {
    "scrolled": true
   },
   "outputs": [],
   "source": [
    "data = [c for c in cursor]"
   ]
  },
  {
   "cell_type": "code",
   "execution_count": 362,
   "metadata": {},
   "outputs": [],
   "source": [
    "articles = []\n",
    "for num in range(0, len(data)):\n",
    "    #block = {}\n",
    "    #block[data[num].get('title')] = data[num].get('content')+ '[ ' + data[num].get('url') + ' ]'\n",
    "    #articles.append(tuple(block))\n",
    "    block = (data[num].get('title'), data[num].get('content')+ '[ ' + data[num].get('url') + ' ]')\n",
    "    articles.append(block)\n",
    "    "
   ]
  },
  {
   "cell_type": "code",
   "execution_count": 378,
   "metadata": {},
   "outputs": [
    {
     "data": {
      "text/plain": [
       "list"
      ]
     },
     "execution_count": 378,
     "metadata": {},
     "output_type": "execute_result"
    }
   ],
   "source": [
    "type(articles)"
   ]
  },
  {
   "cell_type": "code",
   "execution_count": 364,
   "metadata": {},
   "outputs": [
    {
     "name": "stdout",
     "output_type": "stream",
     "text": [
      "(\"Lab thinks she's a lifeguard\", \"  So just a little story we think is neat, thought I'd share. \\nMy wifes dog is a black lab, field type, came from good hunting lines, she says, and I believe her\\nAnyway, couple of years ago we went camping on a lake in the mountains. Lake is filled by waterfalls, crystal clear water. Like tap water clear. Just an awesome vacation seeing fall leaf change, hiking, swimming, finding waterfalls by boat etc. \\nI decided to go swimming, and found a nice spot with some sandy bank and a good sized boulder hanging over the lake. Walked to edge of the boulder, and jumped the 10 feet or so into the lake. Still hadnt popped back up when I heard a big kersplash near me. Popped up and theres mad-dog ( what I call the lab, real name maddie ) swimming up to me. Gets to me and starts like trying to scramble up on me like shes trying to drown me lol. So I grabbed her collar to push her away, almost instantly she turns and starts for the sandy part of the bank. So I held on and she pulled me back. Then she ran back up the boulder, stands there looking happy as can be tail wagging. So I went back up, and this time she jumped off alongside me. We hit the water, she swam at me, I grabbed her collar, same thing right back to shore. \\nSo we did this a good dozen times, every time she'd jump with me, swim to me and haul me back to shore. \\nIt was pretty awesome. The dog was in heaven, I couldnt tell if she was just happy having a good time, or proud of herself, or both, or what. \\nSo I still dont know if in her little doggie mind it was all this big grand game, or maybe she thought she was saving me from drowning.  I'll never know. But she was so happy doing it.....exuburently joyful is the best way I can put it. \\nA small thing in the grand scheme of things, but not anything I'd have expected from her, but it really amazed me. [ http://www.dogforum.com/dog-stories/lab-thinks-shes-lifeguard-338226/ ]\")\n",
      "(\"Lab thinks she's a lifeguard\", \" I love those moments, the one's you'll always remember once they're gone [ http://www.dogforum.com/dog-stories/lab-thinks-shes-lifeguard-338226/ ]\")\n",
      "(\"Lab thinks she's a lifeguard\", \" Sounds like she was retrieving something that was special to her and having a blast doing it. Also sounds like she's naturally inclined to water rescue. If she has the typical lab soft mouth grab it sounds like she would be great at water rescue.  \\nAlso your vacation sounds amazing. I am jealous. [ http://www.dogforum.com/dog-stories/lab-thinks-shes-lifeguard-338226/ ]\")\n"
     ]
    }
   ],
   "source": [
    "for n in articles:\n",
    "    if \"Lab thinks she's a lifeguard\" in n:\n",
    "        print(n)"
   ]
  },
  {
   "cell_type": "markdown",
   "metadata": {
    "collapsed": true
   },
   "source": [
    "# Map-Reduce (key: title_name, value: contents)"
   ]
  },
  {
   "cell_type": "code",
   "execution_count": 365,
   "metadata": {
    "collapsed": true
   },
   "outputs": [],
   "source": [
    "import collections as c"
   ]
  },
  {
   "cell_type": "code",
   "execution_count": 366,
   "metadata": {},
   "outputs": [],
   "source": [
    "agg_title = c.defaultdict(list)\n",
    "for k, v in articles:\n",
    "    agg_title[k].append(v)"
   ]
  },
  {
   "cell_type": "code",
   "execution_count": 367,
   "metadata": {
    "scrolled": true
   },
   "outputs": [
    {
     "data": {
      "text/plain": [
       "collections.defaultdict"
      ]
     },
     "execution_count": 367,
     "metadata": {},
     "output_type": "execute_result"
    }
   ],
   "source": [
    "type(agg_title)"
   ]
  },
  {
   "cell_type": "code",
   "execution_count": 368,
   "metadata": {
    "scrolled": true
   },
   "outputs": [
    {
     "data": {
      "text/plain": [
       "('\"I\\'ll help myself to those treats! Thank you!\"',\n",
       " ['  Today I took Penny with me to Tractor Supply Co.\\nOne of the cashiers came over with with a bag of treats. She opened the bag which caused Penny to do her \"happy dance\". The lady pulled out a few treats and put the open bag on the floor. She gave Penny the first treat and then decided to break the other treat in half. In the meantime, rather than waiting like all of the other well behaved dogs that come into the store, Penny stuck her head completely into the bag and started to gulp down as many treats as possible. I quickly got her out of the treats and apologized. I was a definately little embarrassed. I should have seen that coming! But the cashiers thought it was hilarious, and the one with the treats even gave Penny the treat she had been breaking in half. [ http://www.dogforum.com/dog-stories/ill-help-myself-those-treats-thank-3600/ ]',\n",
       "  ' LOL...Bahaha! I think it is hilarious too!  [ http://www.dogforum.com/dog-stories/ill-help-myself-those-treats-thank-3600/ ]',\n",
       "  ' Thats Awesome!! Mine always snub their noses at treats so then I feel like they are being RUDE! lol. [ http://www.dogforum.com/dog-stories/ill-help-myself-those-treats-thank-3600/ ]',\n",
       "  \" Bahahah  Your dog is just smart-knew it was more rewarding to just help herself then wait and do a trick for 1/2 a cookie! \\nI was in G&E a few weeks ago-it's a huge family run vet pharmacy turned huger petstore  And this old man asked if Mikey could have a cookie-so I said sure. He continues giving mikey little niblets and the woman behind me in line said her dog won't eat treats what are those. So he goes and shows her them on the shelf and grabs more to give Mikey. \\nUmn-thought you either worked here or brought them with you!!! He was taking treats off the shelf and feeding my dog! OMG I was red How embarassing-I felt like accessory to shoplifting! [ http://www.dogforum.com/dog-stories/ill-help-myself-those-treats-thank-3600/ ]\",\n",
       "  ' lol kmes.... at least she knows how to get what she wants  omg  [ http://www.dogforum.com/dog-stories/ill-help-myself-those-treats-thank-3600/ ]'])"
      ]
     },
     "execution_count": 368,
     "metadata": {},
     "output_type": "execute_result"
    }
   ],
   "source": [
    "sorted(agg_title.items())[0]"
   ]
  },
  {
   "cell_type": "code",
   "execution_count": 369,
   "metadata": {
    "scrolled": true
   },
   "outputs": [
    {
     "data": {
      "text/plain": [
       "'My barkie dog'"
      ]
     },
     "execution_count": 369,
     "metadata": {},
     "output_type": "execute_result"
    }
   ],
   "source": [
    "list(agg_title.items())[1][0]"
   ]
  },
  {
   "cell_type": "markdown",
   "metadata": {},
   "source": [
    "# New Challenge!!!"
   ]
  },
  {
   "cell_type": "code",
   "execution_count": 370,
   "metadata": {
    "collapsed": true
   },
   "outputs": [],
   "source": [
    "new_cursor = db[type_name].find({},{'_id':0,'title':1, 'content':1, 'url':1, 'board':1})"
   ]
  },
  {
   "cell_type": "code",
   "execution_count": 371,
   "metadata": {
    "collapsed": true
   },
   "outputs": [],
   "source": [
    "data1 = [e for e in new_cursor]"
   ]
  },
  {
   "cell_type": "code",
   "execution_count": 372,
   "metadata": {
    "collapsed": true
   },
   "outputs": [],
   "source": [
    "full_column = {}"
   ]
  },
  {
   "cell_type": "code",
   "execution_count": 376,
   "metadata": {},
   "outputs": [
    {
     "data": {
      "text/plain": [
       "('dog-stories', \"Lab thinks she's a lifeguard\")"
      ]
     },
     "execution_count": 376,
     "metadata": {},
     "output_type": "execute_result"
    }
   ],
   "source": [
    "(data1[0].get('board') , data1[0].get('title'))"
   ]
  },
  {
   "cell_type": "code",
   "execution_count": 420,
   "metadata": {},
   "outputs": [],
   "source": [
    "b_articles = {}\n",
    "for num2 in range(0, len(data1)):\n",
    "    key = (data1[num2].get('board'), data1[num2].get('title'))\n",
    "    b_articles[key] = (data1[num2].get('content')+ '[ ' + data1[num2].get('url') + ' ]')"
   ]
  },
  {
   "cell_type": "code",
   "execution_count": 424,
   "metadata": {
    "scrolled": true
   },
   "outputs": [
    {
     "data": {
      "text/plain": [
       "dict_keys([('dog-stories', \"Lab thinks she's a lifeguard\"), ('dog-stories', 'My barkie dog'), ('dog-stories', 'Last night my dog killed my cat. Advice needed.'), ('dog-stories', 'Is it bad to have a playful dog?'), ('dog-stories', 'Samantha gets loose in the woods...long'), ('dog-stories', 'Chihuahua attack on my dane'), ('dog-stories', 'Ben the ex working dog'), ('dog-stories', 'Goody boy'), ('dog-stories', 'Border Collie Rescue'), ('dog-stories', 'The tale of my dog fluffy'), ('dog-stories', 'Scary Experience Yet Funny Ending!'), ('dog-stories', 'Please help share the story of my almost 5 month old pup'), ('dog-stories', 'Rescue dog won my heart'), ('dog-stories', 'My Dog is too smart'), ('dog-stories', 'I will never judge somebody rehoming their pet again'), ('dog-stories', 'My dog'), ('dog-stories', 'Second Chance for Striker'), ('dog-stories', 'My Journey to Lola'), ('dog-stories', 'Front Yard Trump Dump'), ('dog-stories', 'Moon little puppy, maybe you can help us'), ('dog-stories', 'New here'), ('dog-stories', 'Pet Abuse'), ('dog-stories', 'Face Palm!  (dumb doggy moments)'), ('dog-stories', 'Looking dog lover to write about 10-15 articles'), ('dog-stories', 'just quick funny storys about my dog'), ('dog-stories', 'Local cop saves dog'), ('dog-stories', 'Embarassing, funny, lucky story'), ('dog-stories', 'Thunder Scares My Dog'), ('dog-stories', 'Our Lucky Second Chance - My Story'), ('dog-stories', 'The Saviour Dog'), ('dog-stories', 'Well that was an improvement.'), ('dog-stories', 'Best friends'), ('dog-stories', 'Chloe the Addisonian Pug Fighting on!'), ('dog-stories', 'Fence Jumping Superdog'), ('dog-stories', \"Chase is a serious Mommy's boy!!\"), ('dog-stories', \"Don't Let Your Dog Hump Mine\"), ('dog-stories', 'K9 Olympics'), ('dog-stories', \"I hate people that don't recall their dogs\"), ('dog-stories', '2 years and 1 week, still missing my Shadow'), ('dog-stories', 'My dog started barking, the gate was opened, what do you think happened?'), ('dog-stories', 'how in the world do I deal with this'), ('dog-stories', 'Has Your Pet Influenced Your Choice of Auto?'), ('dog-stories', 'Humans Thought This Puppy Wouldn\\x92t Live To Adulthood. She Proves Them Wrong'), ('dog-stories', 'My dog only likes dogs of his kind !'), ('dog-stories', \"Meet 'Hulk': The Giant 175lb Family Pit Bull\"), ('dog-stories', \"Abused to Adored: Seeley's Story\"), ('dog-stories', 'Help me save my best friend Baxter'), ('dog-stories', 'Mean vet assistant'), ('dog-stories', 'Poor Buddy Pit Bull'), ('dog-stories', 'Guilty things.'), ('dog-stories', 'Justice For Charlotte'), ('dog-stories', 'From garbage can to our hearts'), ('dog-stories', 'Missing a special pup (still alive, just rehomed)'), ('dog-stories', 'Happy 3rd Gotcha/Birthday to ZOE!!'), ('dog-stories', \"A Nerve-racking Journey - Max's Journal\"), ('dog-stories', 'Lonely road'), ('dog-stories', 'Rappelled to save dog'), ('dog-stories', 'To the zoo'), ('dog-stories', 'So Proud!'), ('dog-stories', 'Crazy dogs'), ('dog-stories', 'Really sad Dog PARK incident.'), ('dog-stories', \"I don't know what to do!!! I'm so upset!\"), ('dog-stories', 'Update from the rescue'), ('dog-stories', 'How a dog can help grieving *Pic Heavy* *Long*'), ('dog-stories', 'Bath day!'), ('dog-stories', 'Lily was amazing!!!!'), ('dog-stories', 'Love beyond words'), ('dog-stories', '24 year old Dachshund!'), ('dog-stories', 'A Poem dedicated to Lucy'), ('dog-stories', 'Meeting a Horse'), ('dog-stories', 'Fenrir the pit/lab mix (lots of pictures)'), ('dog-stories', 'My heart dog'), ('dog-stories', \"Point of View, a puppy's eyes.\"), ('dog-stories', 'Tell me about your mutts :)'), ('dog-stories', 'My Big Boy Bandit, and side-kick Foxy!'), ('dog-stories', 'Danny and the Alligator'), ('dog-stories', 'My Life'), ('dog-stories', 'How I got my Puppy :)'), ('dog-stories', 'Wonderful new blog!'), ('dog-stories', 'Therapy Dog online'), ('dog-stories', 'Kira: feral kitten search and rescue'), ('dog-stories', 'Roomba poop'), ('dog-stories', 'My Miracle Brindle'), ('dog-stories', 'The Golden Retrieve Thing With A Twist'), ('dog-stories', 'My dog taught me how to pet dogs'), ('dog-stories', 'Chase'), ('dog-stories', '*WARNING* Sad story about dog and his owner'), ('dog-stories', 'Just for laughs'), ('dog-stories', 'The Story of Onya'), ('dog-stories', \"Cora's story (saved from abuse)\"), ('dog-stories', 'my dog story'), ('dog-stories', 'Happy Ending'), ('dog-stories', 'Bentley and Velvet blog'), ('dog-stories', 'Favorite time of the day'), ('dog-stories', 'Dog Heroes'), ('dog-stories', 'Sheer Terror... Meets Pride and Relief... Still Shaky'), ('dog-stories', 'My smart little dog'), ('dog-stories', 'Scary dog tale from the uk'), ('dog-stories', 'Bella needs a miracle...'), ('dog-stories', 'Getting rabies shots and then....'), ('dog-stories', 'Tell me your stories! :)'), ('dog-stories', 'this is cute!'), ('dog-stories', 'The Pros and Cons living on a pet-friendly campus.'), ('dog-stories', 'Sam the Pit Bull'), ('dog-stories', 'Backyard Protector'), ('dog-stories', 'Buddy and his Adventures (Pic Heavy)'), ('dog-stories', \"I'm so happy to have my dogs. I was so afraid.\"), ('dog-stories', 'An Accident with a Happy Ending'), ('dog-stories', 'The Life and Times of Garp'), ('dog-stories', 'dog photo goes viral...cute story'), ('dog-stories', 'Lily to the rescue!'), ('dog-stories', 'Foxy my Transylvanian stray!'), ('dog-stories', 'Owe Braggo my life'), ('dog-stories', 'Dog/Pet Stories Needed - Real life stories or made up stories'), ('dog-stories', 'Dog Story'), ('dog-stories', 'Thought me best mate had drowned'), ('dog-stories', 'Shadows story'), ('dog-stories', 'Timeout'), ('dog-stories', 'I found it funny . . .'), ('dog-stories', 'Jumbo dog Meets Jumbo Horses'), ('dog-stories', 'My Dog Drowning'), ('dog-stories', 'Pika the Psychic Dog and Paranormal Investigator'), ('dog-stories', 'Make a Schnauzer, CUTEST IN NEW ORLEANS - Meet Jack!'), ('dog-stories', 'Isabella is growing'), ('dog-stories', 'he made it home safe and sound :)'), ('dog-stories', 'Taz and the Clicker.'), ('dog-stories', 'This is what happens when they play with sticks.'), ('dog-stories', 'Story of my princess'), ('dog-stories', 'Funny Jack Russell youtube video'), ('dog-stories', 'I read a story about a Chihuahua today.'), ('dog-stories', 'Lennox under threat of destruction for the way he looks'), ('dog-stories', 'My (ex) amazing, wandering Dobermann.'), ('dog-stories', 'Introducing Tsieina'), ('dog-stories', 'playing fetch with darla'), ('dog-stories', 'Missing or Abandoned ??'), ('dog-stories', 'Good dog books?'), ('dog-stories', 'Something kind of funny..'), ('dog-stories', 'Dang! Pit bulls are big lol'), ('dog-stories', 'Story of a dog we found'), ('dog-stories', 'The only reason why we added \"Electrica\" to Chubby\\'s name'), ('dog-stories', 'The Fire'), ('dog-stories', 'My goofy Elbee hits a hitch!'), ('dog-stories', 'Greedy Dog! LOL'), ('dog-stories', \"Kira's Story\"), ('dog-stories', 'The protective side of Bubby o.O'), ('dog-stories', 'The Mighty Pegasus'), ('dog-stories', 'Boris and the new work schedule'), ('dog-stories', 'Artemis and The Pack'), ('dog-stories', 'Oh Moonpie.. Why did you have to stand there?'), ('dog-stories', 'Very, Very Lucky Boxer!---Long'), ('dog-stories', 'Cute Little Stella.....'), ('dog-stories', 'The dog that eats anything.'), ('dog-stories', 'Tasha & Woody'), ('dog-stories', 'Harley and Angel meet Diesel today.'), ('dog-stories', 'my strange dog'), ('dog-stories', 'I know Vader was meant for us!'), ('dog-stories', \"On Harley's Morning Walk...\"), ('dog-stories', \"Jess - the 'pass her along' dog!\"), ('dog-stories', 'Mima: a poor dog...and a miracle!'), ('dog-stories', \"Tonka's first night camping...\"), ('dog-stories', 'A man and his dog go to Heaven'), ('dog-stories', 'This Big Baby Is Too Much For Me'), ('dog-stories', 'Tonka, Chloe and Dan - our recent stories...'), ('dog-stories', 'Skidboot'), ('dog-stories', '\"I\\'ll help myself to those treats! Thank you!\"'), ('dog-stories', 'My Stories'), ('dog-stories', 'Lots of Doggy Pics/Stories/sentences!'), ('dog-stories', \"I didn't know santa had paws\"), ('dog-stories', 'Ducko arrives in Town'), ('dog-stories', 'One Man and His Dog(s)'), ('dog-stories', 'Sammy Dinks a Scot who never wore a kilt'), ('dog-stories', 'Foxy Lady comes to visit'), ('dog-stories', 'Funny or Heartwarming dog stories-ALL share!!!'), ('dog-stories', 'My Jennadog - a Heinzie 57'), ('dog-stories', 'Rocky smells biscuits'), ('dog-stories', 'A little funny but also a little gross.'), ('dog-stories', 'The Jury'), ('dog-stories', 'my dog makes me smile.....'), ('dog-stories', 'Cute things my dogs do'), ('dog-stories', \"Prince's New Side\"), ('dog-stories', 'Bad To The Bone...'), ('dog-stories', 'Gretel'), ('dog-stories', \"Danika's Ordeal giving birth to 5 pups\"), ('dog-stories', 'Leos story')])"
      ]
     },
     "execution_count": 424,
     "metadata": {},
     "output_type": "execute_result"
    }
   ],
   "source": [
    "b_articles.keys()"
   ]
  },
  {
   "cell_type": "code",
   "execution_count": 418,
   "metadata": {},
   "outputs": [],
   "source": [
    "d = {}\n",
    "for key, value in test:\n",
    "    if key not in d:\n",
    "        d[key] = []\n",
    "        d[key].append(value)"
   ]
  },
  {
   "cell_type": "code",
   "execution_count": 419,
   "metadata": {},
   "outputs": [
    {
     "data": {
      "text/plain": [
       "{'dog-stories': [\"Lab thinks she's a lifeguard\"]}"
      ]
     },
     "execution_count": 419,
     "metadata": {},
     "output_type": "execute_result"
    }
   ],
   "source": [
    "d"
   ]
  }
 ],
 "metadata": {
  "kernelspec": {
   "display_name": "Python 3",
   "language": "python",
   "name": "python3"
  },
  "language_info": {
   "codemirror_mode": {
    "name": "ipython",
    "version": 3
   },
   "file_extension": ".py",
   "mimetype": "text/x-python",
   "name": "python",
   "nbconvert_exporter": "python",
   "pygments_lexer": "ipython3",
   "version": "3.6.3"
  }
 },
 "nbformat": 4,
 "nbformat_minor": 2
}
