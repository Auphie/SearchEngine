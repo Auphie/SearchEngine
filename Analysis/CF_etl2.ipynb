{
 "cells": [
  {
   "cell_type": "code",
   "execution_count": 1,
   "metadata": {
    "collapsed": true
   },
   "outputs": [],
   "source": [
    "from pymongo import MongoClient\n",
    "from bson.objectid import ObjectId"
   ]
  },
  {
   "cell_type": "code",
   "execution_count": 9,
   "metadata": {
    "collapsed": true
   },
   "outputs": [],
   "source": [
    "import csv\n",
    "import pandas as pd"
   ]
  },
  {
   "cell_type": "code",
   "execution_count": 2,
   "metadata": {
    "collapsed": true
   },
   "outputs": [],
   "source": [
    "conn = MongoClient('localhost', 27017)\n",
    "db = conn.forum"
   ]
  },
  {
   "cell_type": "code",
   "execution_count": 3,
   "metadata": {
    "collapsed": true
   },
   "outputs": [],
   "source": [
    "cursor = db['forCF'].find()"
   ]
  },
  {
   "cell_type": "code",
   "execution_count": 4,
   "metadata": {
    "collapsed": true
   },
   "outputs": [],
   "source": [
    "info = [a for a in cursor]"
   ]
  },
  {
   "cell_type": "code",
   "execution_count": 5,
   "metadata": {},
   "outputs": [
    {
     "data": {
      "text/plain": [
       "451430"
      ]
     },
     "execution_count": 5,
     "metadata": {},
     "output_type": "execute_result"
    }
   ],
   "source": [
    "len(info)"
   ]
  },
  {
   "cell_type": "code",
   "execution_count": 6,
   "metadata": {
    "collapsed": true
   },
   "outputs": [],
   "source": [
    "cursor_m = db['member'].find()"
   ]
  },
  {
   "cell_type": "code",
   "execution_count": 7,
   "metadata": {
    "collapsed": true
   },
   "outputs": [],
   "source": [
    "info_m = [b for b in cursor_m]"
   ]
  },
  {
   "cell_type": "code",
   "execution_count": 10,
   "metadata": {},
   "outputs": [],
   "source": [
    "df = pd.DataFrame.from_dict(info, orient = 'columns')"
   ]
  },
  {
   "cell_type": "code",
   "execution_count": 15,
   "metadata": {},
   "outputs": [
    {
     "data": {
      "text/html": [
       "<div>\n",
       "<style>\n",
       "    .dataframe thead tr:only-child th {\n",
       "        text-align: right;\n",
       "    }\n",
       "\n",
       "    .dataframe thead th {\n",
       "        text-align: left;\n",
       "    }\n",
       "\n",
       "    .dataframe tbody tr th {\n",
       "        vertical-align: top;\n",
       "    }\n",
       "</style>\n",
       "<table border=\"1\" class=\"dataframe\">\n",
       "  <thead>\n",
       "    <tr style=\"text-align: right;\">\n",
       "      <th></th>\n",
       "      <th>_id</th>\n",
       "      <th>author_name</th>\n",
       "      <th>board</th>\n",
       "      <th>floor</th>\n",
       "      <th>title</th>\n",
       "      <th>title_id</th>\n",
       "      <th>title_url</th>\n",
       "    </tr>\n",
       "  </thead>\n",
       "  <tbody>\n",
       "    <tr>\n",
       "      <th>0</th>\n",
       "      <td>new-additions.one-loneliest-number-multi-dog-h...</td>\n",
       "      <td>fawkese1</td>\n",
       "      <td>new-additions</td>\n",
       "      <td>1</td>\n",
       "      <td>one is the loneliest number... multi-dog house...</td>\n",
       "      <td>78106</td>\n",
       "      <td>http://www.dogforum.com/new-additions/one-lone...</td>\n",
       "    </tr>\n",
       "    <tr>\n",
       "      <th>1</th>\n",
       "      <td>new-additions.one-loneliest-number-multi-dog-h...</td>\n",
       "      <td>crock</td>\n",
       "      <td>new-additions</td>\n",
       "      <td>2</td>\n",
       "      <td>one is the loneliest number... multi-dog house...</td>\n",
       "      <td>78106</td>\n",
       "      <td>http://www.dogforum.com/new-additions/one-lone...</td>\n",
       "    </tr>\n",
       "    <tr>\n",
       "      <th>2</th>\n",
       "      <td>new-additions.puppy-blues-puppy-depression-171...</td>\n",
       "      <td>ZoesMom</td>\n",
       "      <td>new-additions</td>\n",
       "      <td>1</td>\n",
       "      <td>Puppy Blues / Puppy Depression.</td>\n",
       "      <td>171570</td>\n",
       "      <td>http://www.dogforum.com/new-additions/puppy-bl...</td>\n",
       "    </tr>\n",
       "  </tbody>\n",
       "</table>\n",
       "</div>"
      ],
      "text/plain": [
       "                                                 _id author_name  \\\n",
       "0  new-additions.one-loneliest-number-multi-dog-h...    fawkese1   \n",
       "1  new-additions.one-loneliest-number-multi-dog-h...       crock   \n",
       "2  new-additions.puppy-blues-puppy-depression-171...     ZoesMom   \n",
       "\n",
       "           board  floor                                              title  \\\n",
       "0  new-additions      1  one is the loneliest number... multi-dog house...   \n",
       "1  new-additions      2  one is the loneliest number... multi-dog house...   \n",
       "2  new-additions      1                    Puppy Blues / Puppy Depression.   \n",
       "\n",
       "  title_id                                          title_url  \n",
       "0    78106  http://www.dogforum.com/new-additions/one-lone...  \n",
       "1    78106  http://www.dogforum.com/new-additions/one-lone...  \n",
       "2   171570  http://www.dogforum.com/new-additions/puppy-bl...  "
      ]
     },
     "execution_count": 15,
     "metadata": {},
     "output_type": "execute_result"
    }
   ],
   "source": [
    "df[:3]"
   ]
  },
  {
   "cell_type": "code",
   "execution_count": 16,
   "metadata": {
    "collapsed": true
   },
   "outputs": [],
   "source": [
    "df2 = pd.DataFrame.from_dict(info_m, orient = 'columns')"
   ]
  },
  {
   "cell_type": "code",
   "execution_count": 17,
   "metadata": {},
   "outputs": [
    {
     "data": {
      "text/html": [
       "<div>\n",
       "<style>\n",
       "    .dataframe thead tr:only-child th {\n",
       "        text-align: right;\n",
       "    }\n",
       "\n",
       "    .dataframe thead th {\n",
       "        text-align: left;\n",
       "    }\n",
       "\n",
       "    .dataframe tbody tr th {\n",
       "        vertical-align: top;\n",
       "    }\n",
       "</style>\n",
       "<table border=\"1\" class=\"dataframe\">\n",
       "  <thead>\n",
       "    <tr style=\"text-align: right;\">\n",
       "      <th></th>\n",
       "      <th>_id</th>\n",
       "      <th>member_name</th>\n",
       "    </tr>\n",
       "  </thead>\n",
       "  <tbody>\n",
       "    <tr>\n",
       "      <th>0</th>\n",
       "      <td>10012</td>\n",
       "      <td>lmgibbs4</td>\n",
       "    </tr>\n",
       "    <tr>\n",
       "      <th>1</th>\n",
       "      <td>100090</td>\n",
       "      <td>Taikrys</td>\n",
       "    </tr>\n",
       "    <tr>\n",
       "      <th>2</th>\n",
       "      <td>100122</td>\n",
       "      <td>detkizal</td>\n",
       "    </tr>\n",
       "  </tbody>\n",
       "</table>\n",
       "</div>"
      ],
      "text/plain": [
       "      _id member_name\n",
       "0   10012    lmgibbs4\n",
       "1  100090     Taikrys\n",
       "2  100122    detkizal"
      ]
     },
     "execution_count": 17,
     "metadata": {},
     "output_type": "execute_result"
    }
   ],
   "source": [
    "df2[:3]"
   ]
  },
  {
   "cell_type": "code",
   "execution_count": 19,
   "metadata": {},
   "outputs": [],
   "source": [
    "df = pd.merge(df, df2, how='left',\n",
    "        left_on='author_name', right_on='member_name')"
   ]
  },
  {
   "cell_type": "code",
   "execution_count": 20,
   "metadata": {},
   "outputs": [
    {
     "data": {
      "text/html": [
       "<div>\n",
       "<style>\n",
       "    .dataframe thead tr:only-child th {\n",
       "        text-align: right;\n",
       "    }\n",
       "\n",
       "    .dataframe thead th {\n",
       "        text-align: left;\n",
       "    }\n",
       "\n",
       "    .dataframe tbody tr th {\n",
       "        vertical-align: top;\n",
       "    }\n",
       "</style>\n",
       "<table border=\"1\" class=\"dataframe\">\n",
       "  <thead>\n",
       "    <tr style=\"text-align: right;\">\n",
       "      <th></th>\n",
       "      <th>_id_x</th>\n",
       "      <th>author_name</th>\n",
       "      <th>board</th>\n",
       "      <th>floor</th>\n",
       "      <th>title</th>\n",
       "      <th>title_id</th>\n",
       "      <th>title_url</th>\n",
       "      <th>_id_y</th>\n",
       "      <th>member_name</th>\n",
       "    </tr>\n",
       "  </thead>\n",
       "  <tbody>\n",
       "    <tr>\n",
       "      <th>0</th>\n",
       "      <td>new-additions.one-loneliest-number-multi-dog-h...</td>\n",
       "      <td>fawkese1</td>\n",
       "      <td>new-additions</td>\n",
       "      <td>1</td>\n",
       "      <td>one is the loneliest number... multi-dog house...</td>\n",
       "      <td>78106</td>\n",
       "      <td>http://www.dogforum.com/new-additions/one-lone...</td>\n",
       "      <td>805</td>\n",
       "      <td>fawkese1</td>\n",
       "    </tr>\n",
       "    <tr>\n",
       "      <th>1</th>\n",
       "      <td>new-additions.one-loneliest-number-multi-dog-h...</td>\n",
       "      <td>crock</td>\n",
       "      <td>new-additions</td>\n",
       "      <td>2</td>\n",
       "      <td>one is the loneliest number... multi-dog house...</td>\n",
       "      <td>78106</td>\n",
       "      <td>http://www.dogforum.com/new-additions/one-lone...</td>\n",
       "      <td>3987</td>\n",
       "      <td>crock</td>\n",
       "    </tr>\n",
       "    <tr>\n",
       "      <th>2</th>\n",
       "      <td>new-additions.puppy-blues-puppy-depression-171...</td>\n",
       "      <td>ZoesMom</td>\n",
       "      <td>new-additions</td>\n",
       "      <td>1</td>\n",
       "      <td>Puppy Blues / Puppy Depression.</td>\n",
       "      <td>171570</td>\n",
       "      <td>http://www.dogforum.com/new-additions/puppy-bl...</td>\n",
       "      <td>8599</td>\n",
       "      <td>ZoesMom</td>\n",
       "    </tr>\n",
       "  </tbody>\n",
       "</table>\n",
       "</div>"
      ],
      "text/plain": [
       "                                               _id_x author_name  \\\n",
       "0  new-additions.one-loneliest-number-multi-dog-h...    fawkese1   \n",
       "1  new-additions.one-loneliest-number-multi-dog-h...       crock   \n",
       "2  new-additions.puppy-blues-puppy-depression-171...     ZoesMom   \n",
       "\n",
       "           board  floor                                              title  \\\n",
       "0  new-additions      1  one is the loneliest number... multi-dog house...   \n",
       "1  new-additions      2  one is the loneliest number... multi-dog house...   \n",
       "2  new-additions      1                    Puppy Blues / Puppy Depression.   \n",
       "\n",
       "  title_id                                          title_url _id_y  \\\n",
       "0    78106  http://www.dogforum.com/new-additions/one-lone...   805   \n",
       "1    78106  http://www.dogforum.com/new-additions/one-lone...  3987   \n",
       "2   171570  http://www.dogforum.com/new-additions/puppy-bl...  8599   \n",
       "\n",
       "  member_name  \n",
       "0    fawkese1  \n",
       "1       crock  \n",
       "2     ZoesMom  "
      ]
     },
     "execution_count": 20,
     "metadata": {},
     "output_type": "execute_result"
    }
   ],
   "source": [
    "df[:3]"
   ]
  },
  {
   "cell_type": "code",
   "execution_count": 21,
   "metadata": {
    "collapsed": true
   },
   "outputs": [],
   "source": [
    "df=df.rename(columns = {'_id_y':'member_id'})"
   ]
  },
  {
   "cell_type": "code",
   "execution_count": 23,
   "metadata": {},
   "outputs": [],
   "source": [
    "df=df.rename(columns = {'_id_x':'_id'})"
   ]
  },
  {
   "cell_type": "code",
   "execution_count": 65,
   "metadata": {},
   "outputs": [
    {
     "data": {
      "text/html": [
       "<div>\n",
       "<style>\n",
       "    .dataframe thead tr:only-child th {\n",
       "        text-align: right;\n",
       "    }\n",
       "\n",
       "    .dataframe thead th {\n",
       "        text-align: left;\n",
       "    }\n",
       "\n",
       "    .dataframe tbody tr th {\n",
       "        vertical-align: top;\n",
       "    }\n",
       "</style>\n",
       "<table border=\"1\" class=\"dataframe\">\n",
       "  <thead>\n",
       "    <tr style=\"text-align: right;\">\n",
       "      <th></th>\n",
       "      <th>_id</th>\n",
       "      <th>author_name</th>\n",
       "      <th>board</th>\n",
       "      <th>floor</th>\n",
       "      <th>title</th>\n",
       "      <th>title_id</th>\n",
       "      <th>title_url</th>\n",
       "      <th>member_id</th>\n",
       "    </tr>\n",
       "  </thead>\n",
       "  <tbody>\n",
       "    <tr>\n",
       "      <th>0</th>\n",
       "      <td>new-additions.one-loneliest-number-multi-dog-h...</td>\n",
       "      <td>fawkese1</td>\n",
       "      <td>new-additions</td>\n",
       "      <td>1</td>\n",
       "      <td>one is the loneliest number... multi-dog house...</td>\n",
       "      <td>78106</td>\n",
       "      <td>http://www.dogforum.com/new-additions/one-lone...</td>\n",
       "      <td>805</td>\n",
       "    </tr>\n",
       "    <tr>\n",
       "      <th>1</th>\n",
       "      <td>new-additions.one-loneliest-number-multi-dog-h...</td>\n",
       "      <td>crock</td>\n",
       "      <td>new-additions</td>\n",
       "      <td>2</td>\n",
       "      <td>one is the loneliest number... multi-dog house...</td>\n",
       "      <td>78106</td>\n",
       "      <td>http://www.dogforum.com/new-additions/one-lone...</td>\n",
       "      <td>3987</td>\n",
       "    </tr>\n",
       "    <tr>\n",
       "      <th>2</th>\n",
       "      <td>new-additions.puppy-blues-puppy-depression-171...</td>\n",
       "      <td>ZoesMom</td>\n",
       "      <td>new-additions</td>\n",
       "      <td>1</td>\n",
       "      <td>Puppy Blues / Puppy Depression.</td>\n",
       "      <td>171570</td>\n",
       "      <td>http://www.dogforum.com/new-additions/puppy-bl...</td>\n",
       "      <td>8599</td>\n",
       "    </tr>\n",
       "  </tbody>\n",
       "</table>\n",
       "</div>"
      ],
      "text/plain": [
       "                                                 _id author_name  \\\n",
       "0  new-additions.one-loneliest-number-multi-dog-h...    fawkese1   \n",
       "1  new-additions.one-loneliest-number-multi-dog-h...       crock   \n",
       "2  new-additions.puppy-blues-puppy-depression-171...     ZoesMom   \n",
       "\n",
       "           board  floor                                              title  \\\n",
       "0  new-additions      1  one is the loneliest number... multi-dog house...   \n",
       "1  new-additions      2  one is the loneliest number... multi-dog house...   \n",
       "2  new-additions      1                    Puppy Blues / Puppy Depression.   \n",
       "\n",
       "  title_id                                          title_url member_id  \n",
       "0    78106  http://www.dogforum.com/new-additions/one-lone...       805  \n",
       "1    78106  http://www.dogforum.com/new-additions/one-lone...      3987  \n",
       "2   171570  http://www.dogforum.com/new-additions/puppy-bl...      8599  "
      ]
     },
     "execution_count": 65,
     "metadata": {},
     "output_type": "execute_result"
    }
   ],
   "source": [
    "df[:3]"
   ]
  },
  {
   "cell_type": "code",
   "execution_count": 64,
   "metadata": {},
   "outputs": [
    {
     "ename": "ValueError",
     "evalue": "labels ['member_name'] not contained in axis",
     "output_type": "error",
     "traceback": [
      "\u001b[0;31m---------------------------------------------------------------------------\u001b[0m",
      "\u001b[0;31mValueError\u001b[0m                                Traceback (most recent call last)",
      "\u001b[0;32m<ipython-input-64-828e22d02607>\u001b[0m in \u001b[0;36m<module>\u001b[0;34m()\u001b[0m\n\u001b[0;32m----> 1\u001b[0;31m \u001b[0mdf3\u001b[0m \u001b[0;34m=\u001b[0m \u001b[0mdf\u001b[0m\u001b[0;34m.\u001b[0m\u001b[0mdrop\u001b[0m\u001b[0;34m(\u001b[0m\u001b[0;34m'member_name'\u001b[0m\u001b[0;34m,\u001b[0m \u001b[0maxis\u001b[0m\u001b[0;34m=\u001b[0m\u001b[0;36m1\u001b[0m\u001b[0;34m)\u001b[0m\u001b[0;34m\u001b[0m\u001b[0m\n\u001b[0m",
      "\u001b[0;32m~/.pyenv/versions/anaconda3-5.0.1/lib/python3.6/site-packages/pandas/core/generic.py\u001b[0m in \u001b[0;36mdrop\u001b[0;34m(self, labels, axis, level, inplace, errors)\u001b[0m\n\u001b[1;32m   2159\u001b[0m                 \u001b[0mnew_axis\u001b[0m \u001b[0;34m=\u001b[0m \u001b[0maxis\u001b[0m\u001b[0;34m.\u001b[0m\u001b[0mdrop\u001b[0m\u001b[0;34m(\u001b[0m\u001b[0mlabels\u001b[0m\u001b[0;34m,\u001b[0m \u001b[0mlevel\u001b[0m\u001b[0;34m=\u001b[0m\u001b[0mlevel\u001b[0m\u001b[0;34m,\u001b[0m \u001b[0merrors\u001b[0m\u001b[0;34m=\u001b[0m\u001b[0merrors\u001b[0m\u001b[0;34m)\u001b[0m\u001b[0;34m\u001b[0m\u001b[0m\n\u001b[1;32m   2160\u001b[0m             \u001b[0;32melse\u001b[0m\u001b[0;34m:\u001b[0m\u001b[0;34m\u001b[0m\u001b[0m\n\u001b[0;32m-> 2161\u001b[0;31m                 \u001b[0mnew_axis\u001b[0m \u001b[0;34m=\u001b[0m \u001b[0maxis\u001b[0m\u001b[0;34m.\u001b[0m\u001b[0mdrop\u001b[0m\u001b[0;34m(\u001b[0m\u001b[0mlabels\u001b[0m\u001b[0;34m,\u001b[0m \u001b[0merrors\u001b[0m\u001b[0;34m=\u001b[0m\u001b[0merrors\u001b[0m\u001b[0;34m)\u001b[0m\u001b[0;34m\u001b[0m\u001b[0m\n\u001b[0m\u001b[1;32m   2162\u001b[0m             \u001b[0mdropped\u001b[0m \u001b[0;34m=\u001b[0m \u001b[0mself\u001b[0m\u001b[0;34m.\u001b[0m\u001b[0mreindex\u001b[0m\u001b[0;34m(\u001b[0m\u001b[0;34m**\u001b[0m\u001b[0;34m{\u001b[0m\u001b[0maxis_name\u001b[0m\u001b[0;34m:\u001b[0m \u001b[0mnew_axis\u001b[0m\u001b[0;34m}\u001b[0m\u001b[0;34m)\u001b[0m\u001b[0;34m\u001b[0m\u001b[0m\n\u001b[1;32m   2163\u001b[0m             \u001b[0;32mtry\u001b[0m\u001b[0;34m:\u001b[0m\u001b[0;34m\u001b[0m\u001b[0m\n",
      "\u001b[0;32m~/.pyenv/versions/anaconda3-5.0.1/lib/python3.6/site-packages/pandas/core/indexes/base.py\u001b[0m in \u001b[0;36mdrop\u001b[0;34m(self, labels, errors)\u001b[0m\n\u001b[1;32m   3622\u001b[0m             \u001b[0;32mif\u001b[0m \u001b[0merrors\u001b[0m \u001b[0;34m!=\u001b[0m \u001b[0;34m'ignore'\u001b[0m\u001b[0;34m:\u001b[0m\u001b[0;34m\u001b[0m\u001b[0m\n\u001b[1;32m   3623\u001b[0m                 raise ValueError('labels %s not contained in axis' %\n\u001b[0;32m-> 3624\u001b[0;31m                                  labels[mask])\n\u001b[0m\u001b[1;32m   3625\u001b[0m             \u001b[0mindexer\u001b[0m \u001b[0;34m=\u001b[0m \u001b[0mindexer\u001b[0m\u001b[0;34m[\u001b[0m\u001b[0;34m~\u001b[0m\u001b[0mmask\u001b[0m\u001b[0;34m]\u001b[0m\u001b[0;34m\u001b[0m\u001b[0m\n\u001b[1;32m   3626\u001b[0m         \u001b[0;32mreturn\u001b[0m \u001b[0mself\u001b[0m\u001b[0;34m.\u001b[0m\u001b[0mdelete\u001b[0m\u001b[0;34m(\u001b[0m\u001b[0mindexer\u001b[0m\u001b[0;34m)\u001b[0m\u001b[0;34m\u001b[0m\u001b[0m\n",
      "\u001b[0;31mValueError\u001b[0m: labels ['member_name'] not contained in axis"
     ]
    }
   ],
   "source": [
    "df3 = df.drop('author_name', axis=1)"
   ]
  },
  {
   "cell_type": "code",
   "execution_count": 59,
   "metadata": {
    "scrolled": true
   },
   "outputs": [
    {
     "data": {
      "text/plain": [
       "451430"
      ]
     },
     "execution_count": 59,
     "metadata": {},
     "output_type": "execute_result"
    }
   ],
   "source": [
    "len(df3)"
   ]
  },
  {
   "cell_type": "code",
   "execution_count": 62,
   "metadata": {},
   "outputs": [
    {
     "data": {
      "text/plain": [
       "0    fawkese1\n",
       "1       crock\n",
       "2     ZoesMom\n",
       "Name: member_name, dtype: object"
      ]
     },
     "execution_count": 62,
     "metadata": {},
     "output_type": "execute_result"
    }
   ],
   "source": [
    "df3[:3]"
   ]
  },
  {
   "cell_type": "code",
   "execution_count": 36,
   "metadata": {
    "scrolled": false
   },
   "outputs": [
    {
     "name": "stdout",
     "output_type": "stream",
     "text": [
      "{'_id': 'new-additions.one-loneliest-number-multi-dog-households-78106.F1', 'author_name': 'fawkese1', 'board': 'new-additions', 'floor': 1, 'title': 'one is the loneliest number... multi-dog households', 'title_id': '78106', 'title_url': 'http://www.dogforum.com/new-additions/one-loneliest-number-multi-dog-households-78106/', 'member_id': '805', 'member_name': 'fawkese1'}\n",
      "{'_id': 'new-additions.one-loneliest-number-multi-dog-households-78106.F2', 'author_name': 'crock', 'board': 'new-additions', 'floor': 2, 'title': 'one is the loneliest number... multi-dog households', 'title_id': '78106', 'title_url': 'http://www.dogforum.com/new-additions/one-loneliest-number-multi-dog-households-78106/', 'member_id': '3987', 'member_name': 'crock'}\n",
      "{'_id': 'new-additions.puppy-blues-puppy-depression-171570.F1', 'author_name': 'ZoesMom', 'board': 'new-additions', 'floor': 1, 'title': 'Puppy Blues / Puppy Depression.', 'title_id': '171570', 'title_url': 'http://www.dogforum.com/new-additions/puppy-blues-puppy-depression-171570/', 'member_id': '8599', 'member_name': 'ZoesMom'}\n",
      "{'_id': 'new-additions.puppy-blues-puppy-depression-171570.F2', 'author_name': 'JessJess', 'board': 'new-additions', 'floor': 2, 'title': 'Puppy Blues / Puppy Depression.', 'title_id': '171570', 'title_url': 'http://www.dogforum.com/new-additions/puppy-blues-puppy-depression-171570/', 'member_id': '81506', 'member_name': 'JessJess'}\n",
      "{'_id': 'new-additions.puppy-blues-puppy-depression-171570.F3', 'author_name': 'austinsmom', 'board': 'new-additions', 'floor': 3, 'title': 'Puppy Blues / Puppy Depression.', 'title_id': '171570', 'title_url': 'http://www.dogforum.com/new-additions/puppy-blues-puppy-depression-171570/', 'member_id': '92394', 'member_name': 'austinsmom'}\n"
     ]
    }
   ],
   "source": [
    "for jdict in df.to_dict(orient='records')[:5]:\n",
    "    print(jdict)"
   ]
  },
  {
   "cell_type": "code",
   "execution_count": 38,
   "metadata": {
    "collapsed": true
   },
   "outputs": [],
   "source": [
    "collection = db['cf_table']\n",
    "for jdict in df.to_dict(orient='records'):\n",
    "    collection.insert_one(jdict)"
   ]
  },
  {
   "cell_type": "markdown",
   "metadata": {},
   "source": [
    "# 成功了!!!!!!!!!!!!!!!!!!!!!!!!!!!!!!!!!!!!!!!!!!!!!!!!!!!!!!!!!!!!!!"
   ]
  },
  {
   "cell_type": "code",
   "execution_count": 66,
   "metadata": {
    "collapsed": true
   },
   "outputs": [],
   "source": [
    "cursor4 = db['cf_score'].find({},{'_id':0})"
   ]
  },
  {
   "cell_type": "code",
   "execution_count": 67,
   "metadata": {
    "collapsed": true
   },
   "outputs": [],
   "source": [
    "info4 = [d for d in cursor4]"
   ]
  },
  {
   "cell_type": "code",
   "execution_count": 68,
   "metadata": {},
   "outputs": [
    {
     "data": {
      "text/plain": [
       "{'board': 'dog-breeds',\n",
       " 'member_id': '4337',\n",
       " 'member_name': 'Dakota',\n",
       " 'scores': 2.0,\n",
       " 'title': '“Alaska, where women win the Iditarod and men mush poodles!”',\n",
       " 'title_id': '2845'}"
      ]
     },
     "execution_count": 68,
     "metadata": {},
     "output_type": "execute_result"
    }
   ],
   "source": [
    "info4[0]"
   ]
  },
  {
   "cell_type": "code",
   "execution_count": 71,
   "metadata": {
    "collapsed": true
   },
   "outputs": [],
   "source": [
    "data4 = []\n",
    "for num in range(0, len(info4)):\n",
    "    dic = {}\n",
    "    dic['member_id'] = info4[num].get('member_id')\n",
    "    dic['title_id'] = info4[num].get('title_id')\n",
    "    dic['score'] = 1\n",
    "    data4.append(dic)"
   ]
  },
  {
   "cell_type": "code",
   "execution_count": 72,
   "metadata": {},
   "outputs": [
    {
     "data": {
      "text/html": [
       "<div>\n",
       "<style>\n",
       "    .dataframe thead tr:only-child th {\n",
       "        text-align: right;\n",
       "    }\n",
       "\n",
       "    .dataframe thead th {\n",
       "        text-align: left;\n",
       "    }\n",
       "\n",
       "    .dataframe tbody tr th {\n",
       "        vertical-align: top;\n",
       "    }\n",
       "</style>\n",
       "<table border=\"1\" class=\"dataframe\">\n",
       "  <thead>\n",
       "    <tr style=\"text-align: right;\">\n",
       "      <th></th>\n",
       "      <th>member_id</th>\n",
       "      <th>score</th>\n",
       "      <th>title_id</th>\n",
       "    </tr>\n",
       "  </thead>\n",
       "  <tbody>\n",
       "    <tr>\n",
       "      <th>0</th>\n",
       "      <td>4337</td>\n",
       "      <td>1</td>\n",
       "      <td>2845</td>\n",
       "    </tr>\n",
       "    <tr>\n",
       "      <th>1</th>\n",
       "      <td>1674</td>\n",
       "      <td>1</td>\n",
       "      <td>2845</td>\n",
       "    </tr>\n",
       "    <tr>\n",
       "      <th>2</th>\n",
       "      <td>1198</td>\n",
       "      <td>1</td>\n",
       "      <td>2845</td>\n",
       "    </tr>\n",
       "  </tbody>\n",
       "</table>\n",
       "</div>"
      ],
      "text/plain": [
       "  member_id  score title_id\n",
       "0      4337      1     2845\n",
       "1      1674      1     2845\n",
       "2      1198      1     2845"
      ]
     },
     "execution_count": 72,
     "metadata": {},
     "output_type": "execute_result"
    }
   ],
   "source": [
    "df4 = pd.DataFrame.from_dict(data4, orient = 'columns')\n",
    "df4[:3]"
   ]
  },
  {
   "cell_type": "code",
   "execution_count": 73,
   "metadata": {
    "collapsed": true
   },
   "outputs": [],
   "source": [
    "df4 = df4[['member_id','title_id','score']]"
   ]
  },
  {
   "cell_type": "code",
   "execution_count": 74,
   "metadata": {
    "collapsed": true
   },
   "outputs": [],
   "source": [
    "df4.to_csv('score_1.csv', index=False, header=False)"
   ]
  }
 ],
 "metadata": {
  "kernelspec": {
   "display_name": "Python 3",
   "language": "python",
   "name": "python3"
  },
  "language_info": {
   "codemirror_mode": {
    "name": "ipython",
    "version": 3
   },
   "file_extension": ".py",
   "mimetype": "text/x-python",
   "name": "python",
   "nbconvert_exporter": "python",
   "pygments_lexer": "ipython3",
   "version": "3.6.3"
  }
 },
 "nbformat": 4,
 "nbformat_minor": 2
}
